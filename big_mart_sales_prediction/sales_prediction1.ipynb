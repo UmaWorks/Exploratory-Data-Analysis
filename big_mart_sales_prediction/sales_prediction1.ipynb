{
 "cells": [
  {
   "cell_type": "code",
   "execution_count": 1,
   "id": "87ada86e-511b-4c57-a803-361affc8e7af",
   "metadata": {},
   "outputs": [],
   "source": [
    "import numpy as np\n",
    "import pandas as pd\n",
    "\n",
    "import matplotlib.pyplot as plt\n",
    "import seaborn as sns\n"
   ]
  },
  {
   "cell_type": "code",
   "execution_count": 2,
   "id": "087688cd-90d6-4437-b441-9bcc980edc0d",
   "metadata": {},
   "outputs": [
    {
     "data": {
      "text/html": [
       "<div>\n",
       "<style scoped>\n",
       "    .dataframe tbody tr th:only-of-type {\n",
       "        vertical-align: middle;\n",
       "    }\n",
       "\n",
       "    .dataframe tbody tr th {\n",
       "        vertical-align: top;\n",
       "    }\n",
       "\n",
       "    .dataframe thead th {\n",
       "        text-align: right;\n",
       "    }\n",
       "</style>\n",
       "<table border=\"1\" class=\"dataframe\">\n",
       "  <thead>\n",
       "    <tr style=\"text-align: right;\">\n",
       "      <th></th>\n",
       "      <th>Item_Identifier</th>\n",
       "      <th>Item_Weight</th>\n",
       "      <th>Item_Fat_Content</th>\n",
       "      <th>Item_Visibility</th>\n",
       "      <th>Item_Type</th>\n",
       "      <th>Item_MRP</th>\n",
       "      <th>Outlet_Identifier</th>\n",
       "      <th>Outlet_Establishment_Year</th>\n",
       "      <th>Outlet_Size</th>\n",
       "      <th>Outlet_Location_Type</th>\n",
       "      <th>Outlet_Type</th>\n",
       "      <th>Item_Outlet_Sales</th>\n",
       "    </tr>\n",
       "  </thead>\n",
       "  <tbody>\n",
       "    <tr>\n",
       "      <th>0</th>\n",
       "      <td>FDA15</td>\n",
       "      <td>9.30</td>\n",
       "      <td>Low Fat</td>\n",
       "      <td>0.016047</td>\n",
       "      <td>Dairy</td>\n",
       "      <td>249.8092</td>\n",
       "      <td>OUT049</td>\n",
       "      <td>1999</td>\n",
       "      <td>Medium</td>\n",
       "      <td>Tier 1</td>\n",
       "      <td>Supermarket Type1</td>\n",
       "      <td>3735.1380</td>\n",
       "    </tr>\n",
       "    <tr>\n",
       "      <th>1</th>\n",
       "      <td>DRC01</td>\n",
       "      <td>5.92</td>\n",
       "      <td>Regular</td>\n",
       "      <td>0.019278</td>\n",
       "      <td>Soft Drinks</td>\n",
       "      <td>48.2692</td>\n",
       "      <td>OUT018</td>\n",
       "      <td>2009</td>\n",
       "      <td>Medium</td>\n",
       "      <td>Tier 3</td>\n",
       "      <td>Supermarket Type2</td>\n",
       "      <td>443.4228</td>\n",
       "    </tr>\n",
       "    <tr>\n",
       "      <th>2</th>\n",
       "      <td>FDN15</td>\n",
       "      <td>17.50</td>\n",
       "      <td>Low Fat</td>\n",
       "      <td>0.016760</td>\n",
       "      <td>Meat</td>\n",
       "      <td>141.6180</td>\n",
       "      <td>OUT049</td>\n",
       "      <td>1999</td>\n",
       "      <td>Medium</td>\n",
       "      <td>Tier 1</td>\n",
       "      <td>Supermarket Type1</td>\n",
       "      <td>2097.2700</td>\n",
       "    </tr>\n",
       "    <tr>\n",
       "      <th>3</th>\n",
       "      <td>FDX07</td>\n",
       "      <td>19.20</td>\n",
       "      <td>Regular</td>\n",
       "      <td>0.000000</td>\n",
       "      <td>Fruits and Vegetables</td>\n",
       "      <td>182.0950</td>\n",
       "      <td>OUT010</td>\n",
       "      <td>1998</td>\n",
       "      <td>NaN</td>\n",
       "      <td>Tier 3</td>\n",
       "      <td>Grocery Store</td>\n",
       "      <td>732.3800</td>\n",
       "    </tr>\n",
       "    <tr>\n",
       "      <th>4</th>\n",
       "      <td>NCD19</td>\n",
       "      <td>8.93</td>\n",
       "      <td>Low Fat</td>\n",
       "      <td>0.000000</td>\n",
       "      <td>Household</td>\n",
       "      <td>53.8614</td>\n",
       "      <td>OUT013</td>\n",
       "      <td>1987</td>\n",
       "      <td>High</td>\n",
       "      <td>Tier 3</td>\n",
       "      <td>Supermarket Type1</td>\n",
       "      <td>994.7052</td>\n",
       "    </tr>\n",
       "  </tbody>\n",
       "</table>\n",
       "</div>"
      ],
      "text/plain": [
       "  Item_Identifier  Item_Weight Item_Fat_Content  Item_Visibility  \\\n",
       "0           FDA15         9.30          Low Fat         0.016047   \n",
       "1           DRC01         5.92          Regular         0.019278   \n",
       "2           FDN15        17.50          Low Fat         0.016760   \n",
       "3           FDX07        19.20          Regular         0.000000   \n",
       "4           NCD19         8.93          Low Fat         0.000000   \n",
       "\n",
       "               Item_Type  Item_MRP Outlet_Identifier  \\\n",
       "0                  Dairy  249.8092            OUT049   \n",
       "1            Soft Drinks   48.2692            OUT018   \n",
       "2                   Meat  141.6180            OUT049   \n",
       "3  Fruits and Vegetables  182.0950            OUT010   \n",
       "4              Household   53.8614            OUT013   \n",
       "\n",
       "   Outlet_Establishment_Year Outlet_Size Outlet_Location_Type  \\\n",
       "0                       1999      Medium               Tier 1   \n",
       "1                       2009      Medium               Tier 3   \n",
       "2                       1999      Medium               Tier 1   \n",
       "3                       1998         NaN               Tier 3   \n",
       "4                       1987        High               Tier 3   \n",
       "\n",
       "         Outlet_Type  Item_Outlet_Sales  \n",
       "0  Supermarket Type1          3735.1380  \n",
       "1  Supermarket Type2           443.4228  \n",
       "2  Supermarket Type1          2097.2700  \n",
       "3      Grocery Store           732.3800  \n",
       "4  Supermarket Type1           994.7052  "
      ]
     },
     "execution_count": 2,
     "metadata": {},
     "output_type": "execute_result"
    }
   ],
   "source": [
    "train = pd.read_csv(\"train_v9rqX0R.csv\")\n",
    "\n",
    "test = pd.read_csv(\"test_AbJTz2l.csv\")\n",
    "\n",
    "\n",
    "train = train.copy()\n",
    "test = test.copy()\n",
    "\n",
    "train.head()\n"
   ]
  },
  {
   "cell_type": "code",
   "execution_count": 3,
   "id": "6878360d",
   "metadata": {},
   "outputs": [
    {
     "data": {
      "text/plain": [
       "Index(['Item_Identifier', 'Item_Weight', 'Item_Fat_Content', 'Item_Visibility',\n",
       "       'Item_Type', 'Item_MRP', 'Outlet_Identifier',\n",
       "       'Outlet_Establishment_Year', 'Outlet_Size', 'Outlet_Location_Type',\n",
       "       'Outlet_Type', 'Item_Outlet_Sales'],\n",
       "      dtype='object')"
      ]
     },
     "execution_count": 3,
     "metadata": {},
     "output_type": "execute_result"
    }
   ],
   "source": [
    "train.columns"
   ]
  },
  {
   "cell_type": "markdown",
   "id": "d08f8b96",
   "metadata": {},
   "source": [
    "## Item_Weight and Outlet_Size are missing in both train and test. it must  be imputed before modeling"
   ]
  },
  {
   "cell_type": "code",
   "execution_count": 4,
   "id": "c58bca77",
   "metadata": {},
   "outputs": [
    {
     "data": {
      "image/png": "[encoded data removed]",
      "text/plain": [
       "<Figure size 1152x432 with 2 Axes>"
      ]
     },
     "metadata": {
      "needs_background": "light"
     },
     "output_type": "display_data"
    }
   ],
   "source": [
    "\n",
    "missing_train = train.isnull().sum()\n",
    "missing_train = missing_train[missing_train > 0].sort_values(ascending=False)\n",
    "\n",
    "missing_test = test.isnull().sum()\n",
    "missing_test = missing_test[missing_test > 0].sort_values(ascending=False)\n",
    "\n",
    "\n",
    "fig, axes = plt.subplots(1, 2, figsize=(16, 6), sharey=True)\n",
    "\n",
    "# Train\n",
    "axes[0].bar(missing_train.index, missing_train.values, color='tomato')\n",
    "axes[0].set_title('Missing Values in Train Set')\n",
    "axes[0].set_xlabel('Columns')\n",
    "axes[0].set_ylabel('Number of Missing Values')\n",
    "axes[0].tick_params(axis='x', rotation=90)\n",
    "\n",
    "# Test\n",
    "axes[1].bar(missing_test.index, missing_test.values, color='skyblue')\n",
    "axes[1].set_title('Missing Values in Test Set')\n",
    "axes[1].set_xlabel('Columns')\n",
    "axes[1].tick_params(axis='x', rotation=90)\n",
    "\n",
    "plt.tight_layout()\n",
    "plt.show()\n"
   ]
  },
  {
   "cell_type": "markdown",
   "id": "c89cc4a5",
   "metadata": {},
   "source": [
    "## Distribution is right-skewed (long tail): Most items sell below ₹4000, few go beyond ₹10,000."
   ]
  },
  {
   "cell_type": "code",
   "execution_count": 5,
   "id": "f167b017-73cf-4ef3-8a6e-65874c73cd5a",
   "metadata": {},
   "outputs": [
    {
     "data": {
      "image/png": "[encoded data removed]",
      "text/plain": [
       "<Figure size 432x288 with 1 Axes>"
      ]
     },
     "metadata": {
      "needs_background": "light"
     },
     "output_type": "display_data"
    }
   ],
   "source": [
    "plt.hist(train['Item_Outlet_Sales'], bins = 20)\n",
    "plt.title('Target Variable')\n",
    "plt.xlabel('Item Outlet Sales')\n",
    "plt.ylabel('count')\n",
    "plt.show()"
   ]
  },
  {
   "cell_type": "code",
   "execution_count": 6,
   "id": "95c0e7e3",
   "metadata": {},
   "outputs": [
    {
     "data": {
      "image/png": "[encoded data removed]",
      "text/plain": [
       "<Figure size 864x360 with 2 Axes>"
      ]
     },
     "metadata": {
      "needs_background": "light"
     },
     "output_type": "display_data"
    }
   ],
   "source": [
    "import matplotlib.pyplot as plt\n",
    "import numpy as np\n",
    "\n",
    "plt.figure(figsize=(12, 5))\n",
    "\n",
    "\n",
    "plt.subplot(1, 2, 1)\n",
    "plt.hist(train['Item_Outlet_Sales'], bins=30, color='skyblue')\n",
    "plt.title('Original Distribution of Item_Outlet_Sales(target)')\n",
    "plt.xlabel('Sales')\n",
    "plt.ylabel('Frequency')\n",
    "\n",
    "\n",
    "plt.subplot(1, 2, 2)\n",
    "plt.hist(np.log1p(train['Item_Outlet_Sales']), bins=30, color='salmon')\n",
    "plt.title('Log-Transformed Distribution of Item_Outlet_Sales(target)')\n",
    "plt.xlabel('log(1 + Sales)')\n",
    "plt.ylabel('Frequency')\n",
    "\n",
    "plt.tight_layout()\n",
    "plt.show()\n"
   ]
  },
  {
   "cell_type": "markdown",
   "id": "10a2734f",
   "metadata": {},
   "source": [
    "## Histogram and frequency chart shows uniform representation for Item_Identifier.(Very little variation as most items occur with similar frequency.)\n",
    "\n",
    "## It Might indicate product diversity is balanced in data"
   ]
  },
  {
   "cell_type": "code",
   "execution_count": 7,
   "id": "a1289559",
   "metadata": {},
   "outputs": [
    {
     "data": {
      "image/png": "[encoded data removed]",
      "text/plain": [
       "<Figure size 432x288 with 1 Axes>"
      ]
     },
     "metadata": {
      "needs_background": "light"
     },
     "output_type": "display_data"
    }
   ],
   "source": [
    "top_items = train['Item_Identifier'].value_counts().head(10)\n",
    "\n",
    "top_items.plot(kind='bar', color='skyblue')\n",
    "plt.title('Top 10 Most Frequent Items')\n",
    "plt.xlabel('Item Identifier')\n",
    "plt.ylabel('Frequency')\n",
    "plt.xticks(rotation=45)\n",
    "plt.tight_layout()\n",
    "plt.show()\n"
   ]
  },
  {
   "cell_type": "code",
   "execution_count": 8,
   "id": "f3fa4ea7-4c25-437d-9fd2-a7f400b7b2e0",
   "metadata": {},
   "outputs": [
    {
     "data": {
      "image/png": "[encoded data removed]",
      "text/plain": [
       "<Figure size 432x288 with 1 Axes>"
      ]
     },
     "metadata": {
      "needs_background": "light"
     },
     "output_type": "display_data"
    }
   ],
   "source": [
    "train['Item_Identifier'].value_counts().plot.hist()\n",
    "plt.title('Different types of item available in the store')\n",
    "plt.xlabel('Item Identifier')\n",
    "plt.ylabel('Number of Items')\n",
    "plt.legend()\n",
    "plt.show()"
   ]
  },
  {
   "cell_type": "markdown",
   "id": "0333c1eb",
   "metadata": {},
   "source": [
    "## Duplicate categories (LF, low fat, reg etc.). it must be cleaned into 'Low Fat' and 'Regular'"
   ]
  },
  {
   "cell_type": "code",
   "execution_count": 9,
   "id": "2cc98fb5",
   "metadata": {},
   "outputs": [
    {
     "data": {
      "image/png": "[encoded data removed]",
      "text/plain": [
       "<Figure size 864x360 with 2 Axes>"
      ]
     },
     "metadata": {
      "needs_background": "light"
     },
     "output_type": "display_data"
    }
   ],
   "source": [
    "fat_counts = train['Item_Fat_Content'].value_counts()\n",
    "\n",
    "plt.figure(figsize=(12, 5))\n",
    "\n",
    "plt.subplot(1, 2, 1)\n",
    "fat_counts.plot(kind='bar', color='skyblue')\n",
    "plt.title('Bar Chart: Different varieties of fats')\n",
    "plt.xlabel('Fat')\n",
    "plt.ylabel('Number of Items')\n",
    "\n",
    "\n",
    "plt.subplot(1, 2, 2)\n",
    "fat_counts.plot.pie(autopct='%1.1f%%', startangle=140, shadow=True)\n",
    "plt.title('Pie Chart: Fat Content Proportion')\n",
    "plt.ylabel('')  \n",
    "\n",
    "plt.tight_layout()\n",
    "plt.show()\n"
   ]
  },
  {
   "cell_type": "markdown",
   "id": "484cc8c1",
   "metadata": {},
   "source": [
    "## Fruits and Vegetables, Snack Foods, and Household items are most frequent.These could indicate high-demand categories and affect sales patterns.\n",
    "\n"
   ]
  },
  {
   "cell_type": "code",
   "execution_count": 10,
   "id": "bc81b234",
   "metadata": {},
   "outputs": [
    {
     "data": {
      "image/png": "[encoded data removed]",
      "text/plain": [
       "<Figure size 432x288 with 1 Axes>"
      ]
     },
     "metadata": {
      "needs_background": "light"
     },
     "output_type": "display_data"
    }
   ],
   "source": [
    "item_type_counts = train['Item_Type'].value_counts()\n",
    "\n",
    "\n",
    "item_type_counts.sort_values(ascending=True).plot(kind='barh', color='coral')\n",
    "plt.title('Different Types of Items in Store')\n",
    "plt.xlabel('Number of Items')\n",
    "plt.ylabel('Item Type')\n",
    "plt.tight_layout()\n",
    "plt.show()\n"
   ]
  },
  {
   "cell_type": "markdown",
   "id": "6ec7bbff",
   "metadata": {},
   "source": [
    "## Consistent item count across most outlets, except OUT017 and OUT019 (lower counts)"
   ]
  },
  {
   "cell_type": "code",
   "execution_count": 11,
   "id": "2c71633b",
   "metadata": {},
   "outputs": [
    {
     "data": {
      "image/png": "[encoded data removed]",
      "text/plain": [
       "<Figure size 432x288 with 1 Axes>"
      ]
     },
     "metadata": {
      "needs_background": "light"
     },
     "output_type": "display_data"
    }
   ],
   "source": [
    "train['Outlet_Identifier'].value_counts().sort_values().plot(kind='barh', color='lightgreen')\n",
    "plt.title('Number of Items per Outlet Identifier')\n",
    "plt.xlabel('Number of Items')\n",
    "plt.ylabel('Outlet ID')\n",
    "plt.tight_layout()\n",
    "plt.show()\n"
   ]
  },
  {
   "cell_type": "markdown",
   "id": "2c621039",
   "metadata": {},
   "source": [
    "## Outlet_Size: Many are Medium or Small and some missing."
   ]
  },
  {
   "cell_type": "code",
   "execution_count": 12,
   "id": "13a559a6-c1a6-4ec6-920d-f3ea9d1c78cd",
   "metadata": {},
   "outputs": [
    {
     "data": {
      "image/png": "[encoded data removed]",
      "text/plain": [
       "<Figure size 432x288 with 1 Axes>"
      ]
     },
     "metadata": {
      "needs_background": "light"
     },
     "output_type": "display_data"
    }
   ],
   "source": [
    "train['Outlet_Size'].value_counts(normalize = True)\n",
    "train['Outlet_Size'].value_counts().plot.bar()\n",
    "plt.title('Different types of outlet sizes in the store')\n",
    "plt.xlabel('Item')\n",
    "plt.ylabel('Number of Items')\n",
    "plt.show()"
   ]
  },
  {
   "cell_type": "code",
   "execution_count": 13,
   "id": "3723fcc5",
   "metadata": {},
   "outputs": [
    {
     "name": "stdout",
     "output_type": "stream",
     "text": [
      "no of missing outlets 2410\n"
     ]
    }
   ],
   "source": [
    "print(\"no of missing outlets\",train['Outlet_Size'].isnull().sum())"
   ]
  },
  {
   "cell_type": "code",
   "execution_count": 14,
   "id": "a6c6c314",
   "metadata": {},
   "outputs": [
    {
     "name": "stdout",
     "output_type": "stream",
     "text": [
      "['OUT010' 'OUT045' 'OUT017']\n"
     ]
    }
   ],
   "source": [
    "missing_outlets = train[train['Outlet_Size'].isnull()]['Outlet_Identifier'].unique()\n",
    "print(missing_outlets)"
   ]
  },
  {
   "cell_type": "code",
   "execution_count": 15,
   "id": "0234f6fd",
   "metadata": {},
   "outputs": [
    {
     "data": {
      "text/html": [
       "<div>\n",
       "<style scoped>\n",
       "    .dataframe tbody tr th:only-of-type {\n",
       "        vertical-align: middle;\n",
       "    }\n",
       "\n",
       "    .dataframe tbody tr th {\n",
       "        vertical-align: top;\n",
       "    }\n",
       "\n",
       "    .dataframe thead th {\n",
       "        text-align: right;\n",
       "    }\n",
       "</style>\n",
       "<table border=\"1\" class=\"dataframe\">\n",
       "  <thead>\n",
       "    <tr style=\"text-align: right;\">\n",
       "      <th></th>\n",
       "      <th>Outlet_Identifier</th>\n",
       "      <th>Outlet_Type</th>\n",
       "      <th>Outlet_Location_Type</th>\n",
       "    </tr>\n",
       "  </thead>\n",
       "  <tbody>\n",
       "    <tr>\n",
       "      <th>3</th>\n",
       "      <td>OUT010</td>\n",
       "      <td>Grocery Store</td>\n",
       "      <td>Tier 3</td>\n",
       "    </tr>\n",
       "    <tr>\n",
       "      <th>8</th>\n",
       "      <td>OUT045</td>\n",
       "      <td>Supermarket Type1</td>\n",
       "      <td>Tier 2</td>\n",
       "    </tr>\n",
       "    <tr>\n",
       "      <th>9</th>\n",
       "      <td>OUT017</td>\n",
       "      <td>Supermarket Type1</td>\n",
       "      <td>Tier 2</td>\n",
       "    </tr>\n",
       "  </tbody>\n",
       "</table>\n",
       "</div>"
      ],
      "text/plain": [
       "  Outlet_Identifier        Outlet_Type Outlet_Location_Type\n",
       "3            OUT010      Grocery Store               Tier 3\n",
       "8            OUT045  Supermarket Type1               Tier 2\n",
       "9            OUT017  Supermarket Type1               Tier 2"
      ]
     },
     "execution_count": 15,
     "metadata": {},
     "output_type": "execute_result"
    }
   ],
   "source": [
    "train[train['Outlet_Identifier'].isin(missing_outlets)][['Outlet_Identifier', 'Outlet_Type', 'Outlet_Location_Type']].drop_duplicates()"
   ]
  },
  {
   "cell_type": "markdown",
   "id": "a20486ab",
   "metadata": {},
   "source": [
    "## out of three ids missing, OUT010 is a Grocery Store in Tier 3 and OUT045 and OUT017 are both Supermarket Type1 in Tier 2"
   ]
  },
  {
   "cell_type": "markdown",
   "id": "96349f63",
   "metadata": {},
   "source": [
    "## OUT045, OUT017: Supermarket Type1 + Tier 2 :Impute as Small (matches mode).\n",
    "## OUT010: Grocery Store + Tier 3:  Not in summary, but Grocery Store mode is Small. so we can, Impute as Small."
   ]
  },
  {
   "cell_type": "code",
   "execution_count": 16,
   "id": "98512780",
   "metadata": {},
   "outputs": [
    {
     "data": {
      "text/html": [
       "<div>\n",
       "<style scoped>\n",
       "    .dataframe tbody tr th:only-of-type {\n",
       "        vertical-align: middle;\n",
       "    }\n",
       "\n",
       "    .dataframe tbody tr th {\n",
       "        vertical-align: top;\n",
       "    }\n",
       "\n",
       "    .dataframe thead th {\n",
       "        text-align: right;\n",
       "    }\n",
       "</style>\n",
       "<table border=\"1\" class=\"dataframe\">\n",
       "  <thead>\n",
       "    <tr style=\"text-align: right;\">\n",
       "      <th></th>\n",
       "      <th>Outlet_Type</th>\n",
       "      <th>Outlet_Location_Type</th>\n",
       "      <th>Outlet_Size</th>\n",
       "    </tr>\n",
       "  </thead>\n",
       "  <tbody>\n",
       "    <tr>\n",
       "      <th>0</th>\n",
       "      <td>Grocery Store</td>\n",
       "      <td>Tier 1</td>\n",
       "      <td>Small</td>\n",
       "    </tr>\n",
       "    <tr>\n",
       "      <th>1</th>\n",
       "      <td>Supermarket Type1</td>\n",
       "      <td>Tier 1</td>\n",
       "      <td>Medium</td>\n",
       "    </tr>\n",
       "    <tr>\n",
       "      <th>2</th>\n",
       "      <td>Supermarket Type1</td>\n",
       "      <td>Tier 2</td>\n",
       "      <td>Small</td>\n",
       "    </tr>\n",
       "    <tr>\n",
       "      <th>3</th>\n",
       "      <td>Supermarket Type1</td>\n",
       "      <td>Tier 3</td>\n",
       "      <td>High</td>\n",
       "    </tr>\n",
       "    <tr>\n",
       "      <th>4</th>\n",
       "      <td>Supermarket Type2</td>\n",
       "      <td>Tier 3</td>\n",
       "      <td>Medium</td>\n",
       "    </tr>\n",
       "    <tr>\n",
       "      <th>5</th>\n",
       "      <td>Supermarket Type3</td>\n",
       "      <td>Tier 3</td>\n",
       "      <td>Medium</td>\n",
       "    </tr>\n",
       "  </tbody>\n",
       "</table>\n",
       "</div>"
      ],
      "text/plain": [
       "         Outlet_Type Outlet_Location_Type Outlet_Size\n",
       "0      Grocery Store               Tier 1       Small\n",
       "1  Supermarket Type1               Tier 1      Medium\n",
       "2  Supermarket Type1               Tier 2       Small\n",
       "3  Supermarket Type1               Tier 3        High\n",
       "4  Supermarket Type2               Tier 3      Medium\n",
       "5  Supermarket Type3               Tier 3      Medium"
      ]
     },
     "execution_count": 16,
     "metadata": {},
     "output_type": "execute_result"
    }
   ],
   "source": [
    "ref_outlets = train[train['Outlet_Size'].notnull()]\n",
    "\n",
    "group_summary = (\n",
    "    ref_outlets\n",
    "    .groupby(['Outlet_Type', 'Outlet_Location_Type'])['Outlet_Size']\n",
    "    .agg(lambda x: x.mode().iloc[0])\n",
    "    .reset_index()\n",
    ")\n",
    "\n",
    "group_summary"
   ]
  },
  {
   "cell_type": "code",
   "execution_count": 17,
   "id": "df9eb685",
   "metadata": {},
   "outputs": [
    {
     "data": {
      "image/png": "[encoded data removed]",
      "text/plain": [
       "<Figure size 432x288 with 1 Axes>"
      ]
     },
     "metadata": {
      "needs_background": "light"
     },
     "output_type": "display_data"
    }
   ],
   "source": [
    "plt.hist(train['Item_Weight'], bins=30, color='skyblue')\n",
    "plt.title('Distribution of Item Weight')\n",
    "plt.xlabel('Item Weight')\n",
    "plt.ylabel('Frequency')\n",
    "plt.show()"
   ]
  },
  {
   "cell_type": "code",
   "execution_count": 18,
   "id": "5bbf4e10",
   "metadata": {},
   "outputs": [
    {
     "data": {
      "image/png": "[encoded data removed]",
      "text/plain": [
       "<Figure size 864x432 with 1 Axes>"
      ]
     },
     "metadata": {
      "needs_background": "light"
     },
     "output_type": "display_data"
    }
   ],
   "source": [
    "plt.figure(figsize=(12, 6))\n",
    "sns.boxplot(x='Item_Type', y='Item_Weight', data=train)\n",
    "plt.xticks(rotation=90)\n",
    "plt.title('Item Weight Distribution by Item Type')\n",
    "plt.show()\n"
   ]
  },
  {
   "cell_type": "code",
   "execution_count": 19,
   "id": "c77bea9b-07c8-4486-b78d-240aeac23bbe",
   "metadata": {},
   "outputs": [
    {
     "data": {
      "image/png": "[encoded data removed]",
      "text/plain": [
       "<Figure size 432x288 with 1 Axes>"
      ]
     },
     "metadata": {
      "needs_background": "light"
     },
     "output_type": "display_data"
    }
   ],
   "source": [
    "train['Outlet_Location_Type'].value_counts(normalize = True)\n",
    "train['Outlet_Location_Type'].value_counts().plot.bar()\n",
    "plt.title('Different types of outlet location types in the store')\n",
    "plt.xlabel('Item')\n",
    "plt.ylabel('Number of Items')\n",
    "plt.show()"
   ]
  },
  {
   "cell_type": "code",
   "execution_count": 20,
   "id": "e37405cd-55a4-4964-8573-4be96ae95cd3",
   "metadata": {},
   "outputs": [
    {
     "data": {
      "image/png": "[encoded data removed]",
      "text/plain": [
       "<Figure size 432x288 with 1 Axes>"
      ]
     },
     "metadata": {
      "needs_background": "light"
     },
     "output_type": "display_data"
    }
   ],
   "source": [
    "train['Outlet_Type'].value_counts(normalize = True)\n",
    "train['Outlet_Type'].value_counts().plot.bar()\n",
    "plt.title('Different types of outlet types in the store')\n",
    "plt.xlabel('Item')\n",
    "plt.ylabel('Number of Items')\n",
    "plt.show()"
   ]
  },
  {
   "cell_type": "code",
   "execution_count": 21,
   "id": "e12f7576",
   "metadata": {},
   "outputs": [
    {
     "data": {
      "image/png": "[encoded data removed]",
      "text/plain": [
       "<Figure size 864x432 with 1 Axes>"
      ]
     },
     "metadata": {
      "needs_background": "light"
     },
     "output_type": "display_data"
    }
   ],
   "source": [
    "train['Item_Fat_Content'] = train['Item_Fat_Content'].replace({'LF': 'Low Fat', 'reg': 'Regular', 'low fat': 'Low Fat'})\n",
    "Item_Fat_Content = pd.crosstab(train['Item_Fat_Content'], train['Outlet_Identifier'])\n",
    "Item_Fat_Content.plot(kind='bar', figsize=(12, 6))\n",
    "plt.title('Outlet-wise distribution by Fat Content')\n",
    "plt.xlabel('Item Fat Content')\n",
    "plt.ylabel('Number of Items')\n",
    "plt.xticks(rotation=0)\n",
    "plt.legend(title='Outlet')\n",
    "plt.tight_layout()\n",
    "plt.show()\n"
   ]
  },
  {
   "cell_type": "code",
   "execution_count": 22,
   "id": "c9fbdb2b",
   "metadata": {},
   "outputs": [
    {
     "data": {
      "image/png": "[encoded data removed]",
      "text/plain": [
       "<Figure size 1008x432 with 1 Axes>"
      ]
     },
     "metadata": {
      "needs_background": "light"
     },
     "output_type": "display_data"
    }
   ],
   "source": [
    "Item_Fat_Content = pd.crosstab(train['Item_Type'], train['Item_Fat_Content'])\n",
    "\n",
    "Item_Fat_Content.plot(kind='bar', figsize=(14, 6), color=['#FFA07A', '#90EE90']) \n",
    "plt.title('Item Type Distribution by Fat Content')\n",
    "plt.xlabel('Item Type')\n",
    "plt.ylabel('Count')\n",
    "plt.xticks(rotation=45, ha='right')\n",
    "plt.legend(title='Fat Content')\n",
    "plt.tight_layout()\n",
    "plt.show()\n"
   ]
  },
  {
   "cell_type": "code",
   "execution_count": 23,
   "id": "c6c1c65b-a9c7-423b-b92f-12a7530cebdf",
   "metadata": {},
   "outputs": [
    {
     "name": "stdout",
     "output_type": "stream",
     "text": [
      "(14204, 12)\n"
     ]
    }
   ],
   "source": [
    "data = pd.concat([train, test])\n",
    "\n",
    "print(data.shape)"
   ]
  },
  {
   "cell_type": "code",
   "execution_count": 24,
   "id": "68f099dc-117e-475d-8b6e-f557c5b08781",
   "metadata": {},
   "outputs": [
    {
     "data": {
      "text/plain": [
       "Item_Identifier               1559\n",
       "Item_Weight                    416\n",
       "Item_Fat_Content                 5\n",
       "Item_Visibility              13006\n",
       "Item_Type                       16\n",
       "Item_MRP                      8052\n",
       "Outlet_Identifier               10\n",
       "Outlet_Establishment_Year        9\n",
       "Outlet_Size                      4\n",
       "Outlet_Location_Type             3\n",
       "Outlet_Type                      4\n",
       "Item_Outlet_Sales             3494\n",
       "dtype: int64"
      ]
     },
     "execution_count": 24,
     "metadata": {},
     "output_type": "execute_result"
    }
   ],
   "source": [
    "data.apply(lambda x: len(x.unique()))"
   ]
  },
  {
   "cell_type": "code",
   "execution_count": 25,
   "id": "6e44d865-e969-4a28-89fd-df69d129cfb1",
   "metadata": {},
   "outputs": [
    {
     "data": {
      "text/plain": [
       "Item_Identifier                 0\n",
       "Item_Weight                  2439\n",
       "Item_Fat_Content                0\n",
       "Item_Visibility                 0\n",
       "Item_Type                       0\n",
       "Item_MRP                        0\n",
       "Outlet_Identifier               0\n",
       "Outlet_Establishment_Year       0\n",
       "Outlet_Size                  4016\n",
       "Outlet_Location_Type            0\n",
       "Outlet_Type                     0\n",
       "Item_Outlet_Sales            5681\n",
       "dtype: int64"
      ]
     },
     "execution_count": 25,
     "metadata": {},
     "output_type": "execute_result"
    }
   ],
   "source": [
    "data.isnull().sum()"
   ]
  },
  {
   "cell_type": "code",
   "execution_count": 26,
   "id": "b46763a2-9f59-40e8-9dc1-284788919e76",
   "metadata": {},
   "outputs": [
    {
     "data": {
      "text/plain": [
       "Item_Identifier                 0\n",
       "Item_Weight                     0\n",
       "Item_Fat_Content                0\n",
       "Item_Visibility                 0\n",
       "Item_Type                       0\n",
       "Item_MRP                        0\n",
       "Outlet_Identifier               0\n",
       "Outlet_Establishment_Year       0\n",
       "Outlet_Size                  4016\n",
       "Outlet_Location_Type            0\n",
       "Outlet_Type                     0\n",
       "Item_Outlet_Sales               0\n",
       "dtype: int64"
      ]
     },
     "execution_count": 26,
     "metadata": {},
     "output_type": "execute_result"
    }
   ],
   "source": [
    "data['Item_Weight'] = data['Item_Weight'].replace(0, np.NaN)\n",
    "item_avg_weight = data.groupby('Item_Identifier')['Item_Weight'].transform('mean')\n",
    "data['Item_Weight'].fillna(item_avg_weight, inplace=True)\n",
    "\n",
    "\n",
    "data['Item_Outlet_Sales'] = data['Item_Outlet_Sales'].replace(0, np.NaN)\n",
    "data['Item_Outlet_Sales'].fillna(data['Item_Outlet_Sales'].mode()[0], inplace = True)\n",
    "\n",
    "data.isnull().sum()"
   ]
  },
  {
   "cell_type": "code",
   "execution_count": 27,
   "id": "f599d93a-57bd-4da6-883b-4647cb713e9a",
   "metadata": {},
   "outputs": [
    {
     "data": {
      "text/plain": [
       "Low Fat    9185\n",
       "Regular    5019\n",
       "Name: Item_Fat_Content, dtype: int64"
      ]
     },
     "execution_count": 27,
     "metadata": {},
     "output_type": "execute_result"
    }
   ],
   "source": [
    "data['Item_Fat_Content'] = data['Item_Fat_Content'].replace({'LF': 'Low Fat', 'reg': 'Regular', 'low fat': 'Low Fat'})\n",
    "data['Item_Fat_Content'].value_counts()"
   ]
  },
  {
   "cell_type": "code",
   "execution_count": 28,
   "id": "1d3c770c-531b-4726-8760-aa5412ab4f98",
   "metadata": {},
   "outputs": [
    {
     "data": {
      "text/plain": [
       "Food              10201\n",
       "Non_Consumable     2686\n",
       "Drinks             1317\n",
       "Name: Item_Identifier, dtype: int64"
      ]
     },
     "execution_count": 28,
     "metadata": {},
     "output_type": "execute_result"
    }
   ],
   "source": [
    "data['Item_Identifier'] = data['Item_Identifier'].apply(lambda x: x[0:2])\n",
    "\n",
    "data['Item_Identifier'] = data['Item_Identifier'].map({'FD':'Food', 'NC':'Non_Consumable', 'DR':'Drinks'})\n",
    "\n",
    "data['Item_Identifier'].value_counts()"
   ]
  },
  {
   "cell_type": "code",
   "execution_count": 29,
   "id": "db41dd75",
   "metadata": {},
   "outputs": [],
   "source": [
    "data.loc[data['Outlet_Identifier'] == 'OUT010', 'Outlet_Size'] = 'Small'\n",
    "data.loc[data['Outlet_Identifier'] == 'OUT045', 'Outlet_Size'] = 'Small'\n",
    "data.loc[data['Outlet_Identifier'] == 'OUT017', 'Outlet_Size'] = 'Small'"
   ]
  },
  {
   "cell_type": "code",
   "execution_count": 30,
   "id": "1cee58c7",
   "metadata": {},
   "outputs": [
    {
     "data": {
      "text/plain": [
       "array([1999, 2009, 1998, 1987, 1985, 2002, 2007, 1997, 2004], dtype=int64)"
      ]
     },
     "execution_count": 30,
     "metadata": {},
     "output_type": "execute_result"
    }
   ],
   "source": [
    "data['Outlet_Establishment_Year'].unique()"
   ]
  },
  {
   "cell_type": "markdown",
   "id": "9d741d06",
   "metadata": {},
   "source": [
    "## Older outlets (especially 28 years) tend to have higher average sales, while some mid-aged outlets (like 15 years) perform poorly. This suggests that store age influences performance, possibly due to factors like customer trust or operational maturity."
   ]
  },
  {
   "cell_type": "code",
   "execution_count": 31,
   "id": "8c500868",
   "metadata": {},
   "outputs": [
    {
     "data": {
      "image/png": "[encoded data removed]",
      "text/plain": [
       "<Figure size 720x432 with 1 Axes>"
      ]
     },
     "metadata": {
      "needs_background": "light"
     },
     "output_type": "display_data"
    }
   ],
   "source": [
    "data['Outlet_Years'] = 2013 - data['Outlet_Establishment_Year']\n",
    "\n",
    "\n",
    "plt.figure(figsize=(10, 6))\n",
    "data['Outlet_Years'].value_counts().sort_index().plot(kind='bar', color='orchid')\n",
    "plt.title('Distribution of Outlet Age (Years since Establishment)')\n",
    "plt.xlabel('Outlet Age (Years)')\n",
    "plt.ylabel('Number of Outlets')\n",
    "plt.xticks(rotation=0)\n",
    "plt.tight_layout()\n",
    "plt.show()"
   ]
  },
  {
   "cell_type": "markdown",
   "id": "73d31a18",
   "metadata": {},
   "source": [
    "## Most outlets show stable average sales regardless of age, except those aged 15 years, which perform notably worse. "
   ]
  },
  {
   "cell_type": "code",
   "execution_count": 32,
   "id": "059ff333",
   "metadata": {},
   "outputs": [
    {
     "data": {
      "image/png": "[encoded data removed]",
      "text/plain": [
       "<Figure size 720x432 with 1 Axes>"
      ]
     },
     "metadata": {
      "needs_background": "light"
     },
     "output_type": "display_data"
    }
   ],
   "source": [
    "avg_sales_by_age = data.groupby('Outlet_Years')['Item_Outlet_Sales'].mean().reset_index()\n",
    "\n",
    "\n",
    "plt.figure(figsize=(10, 6))\n",
    "sns.barplot(data=avg_sales_by_age, x='Outlet_Years', y='Item_Outlet_Sales', color='mediumpurple')\n",
    "plt.title('Average Sales vs. Outlet Age')\n",
    "plt.xlabel('Outlet Age (Years)')\n",
    "plt.ylabel('Average Item Outlet Sales')\n",
    "plt.xticks(rotation=0)\n",
    "plt.tight_layout()\n",
    "plt.show()\n"
   ]
  },
  {
   "cell_type": "code",
   "execution_count": 33,
   "id": "76d489eb-a948-4298-8498-8707da82fe95",
   "metadata": {},
   "outputs": [
    {
     "name": "stdout",
     "output_type": "stream",
     "text": [
      "(14204, 11)\n"
     ]
    }
   ],
   "source": [
    "data = data.drop(['Item_Identifier','Outlet_Establishment_Year'], axis = 1)\n",
    "print(data.shape)"
   ]
  },
  {
   "cell_type": "code",
   "execution_count": 34,
   "id": "919d9be8",
   "metadata": {},
   "outputs": [
    {
     "data": {
      "text/plain": [
       "Index(['Item_Weight', 'Item_Fat_Content', 'Item_Visibility', 'Item_Type',\n",
       "       'Item_MRP', 'Outlet_Identifier', 'Outlet_Size', 'Outlet_Location_Type',\n",
       "       'Outlet_Type', 'Item_Outlet_Sales', 'Outlet_Years'],\n",
       "      dtype='object')"
      ]
     },
     "execution_count": 34,
     "metadata": {},
     "output_type": "execute_result"
    }
   ],
   "source": [
    "data.columns"
   ]
  },
  {
   "cell_type": "code",
   "execution_count": 35,
   "id": "690092d4-4975-4c37-97a7-d4b500383a5c",
   "metadata": {},
   "outputs": [
    {
     "data": {
      "text/html": [
       "<div>\n",
       "<style scoped>\n",
       "    .dataframe tbody tr th:only-of-type {\n",
       "        vertical-align: middle;\n",
       "    }\n",
       "\n",
       "    .dataframe tbody tr th {\n",
       "        vertical-align: top;\n",
       "    }\n",
       "\n",
       "    .dataframe thead th {\n",
       "        text-align: right;\n",
       "    }\n",
       "</style>\n",
       "<table border=\"1\" class=\"dataframe\">\n",
       "  <thead>\n",
       "    <tr style=\"text-align: right;\">\n",
       "      <th></th>\n",
       "      <th>Item_Weight</th>\n",
       "      <th>Item_Fat_Content</th>\n",
       "      <th>Item_Visibility</th>\n",
       "      <th>Item_Type</th>\n",
       "      <th>Item_MRP</th>\n",
       "      <th>Outlet_Identifier</th>\n",
       "      <th>Outlet_Size</th>\n",
       "      <th>Outlet_Location_Type</th>\n",
       "      <th>Outlet_Type</th>\n",
       "      <th>Item_Outlet_Sales</th>\n",
       "      <th>Outlet_Years</th>\n",
       "    </tr>\n",
       "  </thead>\n",
       "  <tbody>\n",
       "    <tr>\n",
       "      <th>0</th>\n",
       "      <td>299</td>\n",
       "      <td>0</td>\n",
       "      <td>1097</td>\n",
       "      <td>4</td>\n",
       "      <td>7567</td>\n",
       "      <td>9</td>\n",
       "      <td>1</td>\n",
       "      <td>0</td>\n",
       "      <td>1</td>\n",
       "      <td>2540</td>\n",
       "      <td>4</td>\n",
       "    </tr>\n",
       "    <tr>\n",
       "      <th>1</th>\n",
       "      <td>60</td>\n",
       "      <td>1</td>\n",
       "      <td>1436</td>\n",
       "      <td>14</td>\n",
       "      <td>632</td>\n",
       "      <td>3</td>\n",
       "      <td>1</td>\n",
       "      <td>2</td>\n",
       "      <td>2</td>\n",
       "      <td>422</td>\n",
       "      <td>0</td>\n",
       "    </tr>\n",
       "    <tr>\n",
       "      <th>2</th>\n",
       "      <td>394</td>\n",
       "      <td>0</td>\n",
       "      <td>1172</td>\n",
       "      <td>10</td>\n",
       "      <td>3897</td>\n",
       "      <td>9</td>\n",
       "      <td>1</td>\n",
       "      <td>0</td>\n",
       "      <td>1</td>\n",
       "      <td>1639</td>\n",
       "      <td>4</td>\n",
       "    </tr>\n",
       "    <tr>\n",
       "      <th>3</th>\n",
       "      <td>411</td>\n",
       "      <td>1</td>\n",
       "      <td>0</td>\n",
       "      <td>6</td>\n",
       "      <td>5626</td>\n",
       "      <td>0</td>\n",
       "      <td>2</td>\n",
       "      <td>2</td>\n",
       "      <td>0</td>\n",
       "      <td>670</td>\n",
       "      <td>5</td>\n",
       "    </tr>\n",
       "    <tr>\n",
       "      <th>4</th>\n",
       "      <td>279</td>\n",
       "      <td>0</td>\n",
       "      <td>0</td>\n",
       "      <td>9</td>\n",
       "      <td>848</td>\n",
       "      <td>1</td>\n",
       "      <td>0</td>\n",
       "      <td>2</td>\n",
       "      <td>1</td>\n",
       "      <td>865</td>\n",
       "      <td>7</td>\n",
       "    </tr>\n",
       "    <tr>\n",
       "      <th>...</th>\n",
       "      <td>...</td>\n",
       "      <td>...</td>\n",
       "      <td>...</td>\n",
       "      <td>...</td>\n",
       "      <td>...</td>\n",
       "      <td>...</td>\n",
       "      <td>...</td>\n",
       "      <td>...</td>\n",
       "      <td>...</td>\n",
       "      <td>...</td>\n",
       "      <td>...</td>\n",
       "    </tr>\n",
       "    <tr>\n",
       "      <th>5676</th>\n",
       "      <td>315</td>\n",
       "      <td>1</td>\n",
       "      <td>718</td>\n",
       "      <td>13</td>\n",
       "      <td>3881</td>\n",
       "      <td>8</td>\n",
       "      <td>2</td>\n",
       "      <td>0</td>\n",
       "      <td>1</td>\n",
       "      <td>835</td>\n",
       "      <td>6</td>\n",
       "    </tr>\n",
       "    <tr>\n",
       "      <th>5677</th>\n",
       "      <td>190</td>\n",
       "      <td>1</td>\n",
       "      <td>11820</td>\n",
       "      <td>15</td>\n",
       "      <td>5069</td>\n",
       "      <td>3</td>\n",
       "      <td>1</td>\n",
       "      <td>2</td>\n",
       "      <td>2</td>\n",
       "      <td>835</td>\n",
       "      <td>0</td>\n",
       "    </tr>\n",
       "    <tr>\n",
       "      <th>5678</th>\n",
       "      <td>309</td>\n",
       "      <td>0</td>\n",
       "      <td>8009</td>\n",
       "      <td>8</td>\n",
       "      <td>3196</td>\n",
       "      <td>7</td>\n",
       "      <td>2</td>\n",
       "      <td>1</td>\n",
       "      <td>1</td>\n",
       "      <td>835</td>\n",
       "      <td>3</td>\n",
       "    </tr>\n",
       "    <tr>\n",
       "      <th>5679</th>\n",
       "      <td>372</td>\n",
       "      <td>1</td>\n",
       "      <td>0</td>\n",
       "      <td>3</td>\n",
       "      <td>6626</td>\n",
       "      <td>2</td>\n",
       "      <td>2</td>\n",
       "      <td>1</td>\n",
       "      <td>1</td>\n",
       "      <td>835</td>\n",
       "      <td>1</td>\n",
       "    </tr>\n",
       "    <tr>\n",
       "      <th>5680</th>\n",
       "      <td>303</td>\n",
       "      <td>1</td>\n",
       "      <td>10187</td>\n",
       "      <td>3</td>\n",
       "      <td>1523</td>\n",
       "      <td>7</td>\n",
       "      <td>2</td>\n",
       "      <td>1</td>\n",
       "      <td>1</td>\n",
       "      <td>835</td>\n",
       "      <td>3</td>\n",
       "    </tr>\n",
       "  </tbody>\n",
       "</table>\n",
       "<p>14204 rows × 11 columns</p>\n",
       "</div>"
      ],
      "text/plain": [
       "      Item_Weight  Item_Fat_Content  Item_Visibility  Item_Type  Item_MRP  \\\n",
       "0             299                 0             1097          4      7567   \n",
       "1              60                 1             1436         14       632   \n",
       "2             394                 0             1172         10      3897   \n",
       "3             411                 1                0          6      5626   \n",
       "4             279                 0                0          9       848   \n",
       "...           ...               ...              ...        ...       ...   \n",
       "5676          315                 1              718         13      3881   \n",
       "5677          190                 1            11820         15      5069   \n",
       "5678          309                 0             8009          8      3196   \n",
       "5679          372                 1                0          3      6626   \n",
       "5680          303                 1            10187          3      1523   \n",
       "\n",
       "      Outlet_Identifier  Outlet_Size  Outlet_Location_Type  Outlet_Type  \\\n",
       "0                     9            1                     0            1   \n",
       "1                     3            1                     2            2   \n",
       "2                     9            1                     0            1   \n",
       "3                     0            2                     2            0   \n",
       "4                     1            0                     2            1   \n",
       "...                 ...          ...                   ...          ...   \n",
       "5676                  8            2                     0            1   \n",
       "5677                  3            1                     2            2   \n",
       "5678                  7            2                     1            1   \n",
       "5679                  2            2                     1            1   \n",
       "5680                  7            2                     1            1   \n",
       "\n",
       "      Item_Outlet_Sales  Outlet_Years  \n",
       "0                  2540             4  \n",
       "1                   422             0  \n",
       "2                  1639             4  \n",
       "3                   670             5  \n",
       "4                   865             7  \n",
       "...                 ...           ...  \n",
       "5676                835             6  \n",
       "5677                835             0  \n",
       "5678                835             3  \n",
       "5679                835             1  \n",
       "5680                835             3  \n",
       "\n",
       "[14204 rows x 11 columns]"
      ]
     },
     "execution_count": 35,
     "metadata": {},
     "output_type": "execute_result"
    }
   ],
   "source": [
    "from sklearn.preprocessing import LabelEncoder\n",
    "data.apply(LabelEncoder().fit_transform)"
   ]
  },
  {
   "cell_type": "code",
   "execution_count": 36,
   "id": "5e4f816f-ee1e-4077-a1c1-c4cf559e5875",
   "metadata": {},
   "outputs": [
    {
     "name": "stdout",
     "output_type": "stream",
     "text": [
      "(14204, 43)\n"
     ]
    }
   ],
   "source": [
    "data = pd.get_dummies(data)\n",
    "\n",
    "print(data.shape)"
   ]
  },
  {
   "cell_type": "code",
   "execution_count": 37,
   "id": "3ae97a52-c12c-4875-89bc-c48ef9d174a3",
   "metadata": {},
   "outputs": [
    {
     "name": "stdout",
     "output_type": "stream",
     "text": [
      "(14204, 42)\n",
      "(14204,)\n"
     ]
    }
   ],
   "source": [
    "x = data.drop('Item_Outlet_Sales', axis = 1)\n",
    "y = data.Item_Outlet_Sales\n",
    "\n",
    "print(x.shape)\n",
    "print(y.shape)"
   ]
  },
  {
   "cell_type": "code",
   "execution_count": 38,
   "id": "54eb9343-2807-4349-bf8d-79f412cffb05",
   "metadata": {},
   "outputs": [
    {
     "name": "stdout",
     "output_type": "stream",
     "text": [
      "(8523, 43)\n",
      "(5681, 43)\n"
     ]
    }
   ],
   "source": [
    "train = data.iloc[:8523,:]\n",
    "test = data.iloc[8523:,:]\n",
    "\n",
    "print(train.shape)\n",
    "print(test.shape)"
   ]
  },
  {
   "cell_type": "code",
   "execution_count": 63,
   "id": "937ee223-ccdb-45a9-b23a-c3131866dd2f",
   "metadata": {},
   "outputs": [
    {
     "name": "stdout",
     "output_type": "stream",
     "text": [
      "(9942, 42)\n",
      "(9942,)\n",
      "(4262, 42)\n",
      "(4262,)\n"
     ]
    }
   ],
   "source": [
    "from sklearn.model_selection import train_test_split\n",
    "\n",
    "x_train, x_test, y_train, y_test = train_test_split(x, y, test_size = 0.3)\n",
    "\n",
    "print(x_train.shape)\n",
    "print(y_train.shape)\n",
    "print(x_test.shape)\n",
    "print(y_test.shape)"
   ]
  },
  {
   "cell_type": "code",
   "execution_count": 64,
   "id": "9b846ebf-aa9f-45b3-b22c-2038397e784a",
   "metadata": {},
   "outputs": [
    {
     "name": "stdout",
     "output_type": "stream",
     "text": [
      "predictions [1131.82410006 2807.98126776 2535.59275207 ... 2777.32809583 2270.97766202\n",
      " 1625.61859448]\n",
      "RMSE : 1215.4111980856794\n",
      "Variance score: 0.28\n"
     ]
    }
   ],
   "source": [
    "from sklearn.linear_model import LinearRegression\n",
    "from sklearn.metrics import mean_squared_error\n",
    "from sklearn.metrics import r2_score\n",
    "\n",
    "model = LinearRegression()\n",
    "model.fit(x_train, y_train)\n",
    "\n",
    "y_pred = model.predict(x_test)\n",
    "print(\"predictions\",y_pred)\n",
    "\n",
    "mse = mean_squared_error(y_test, y_pred)\n",
    "print('RMSE :', np.sqrt(mse))\n",
    "print('Variance score: %.2f' % r2_score(y_test, y_pred))\n"
   ]
  },
  {
   "cell_type": "code",
   "execution_count": 65,
   "id": "154bb0a1",
   "metadata": {},
   "outputs": [
    {
     "name": "stdout",
     "output_type": "stream",
     "text": [
      "predictions [ 984.53883625 2360.10444219 2129.39579538 ... 2411.94419618 1686.7808438\n",
      " 1154.52220772]\n",
      "RMSE: 1246.9872798908889\n",
      "Variance score (R²): 0.24\n"
     ]
    }
   ],
   "source": [
    "import numpy as np\n",
    "from sklearn.linear_model import LinearRegression\n",
    "from sklearn.metrics import mean_squared_error, r2_score\n",
    "\n",
    "y_train_log = np.log1p(np.ravel(y_train))\n",
    "\n",
    "model = LinearRegression()\n",
    "model.fit(x_train, y_train_log)\n",
    "\n",
    "y_pred_log = model.predict(x_test)\n",
    "\n",
    "y_pred = np.expm1(y_pred_log)\n",
    "\n",
    "y_test = np.ravel(y_test)\n",
    "\n",
    "\n",
    "mse = mean_squared_error(y_test, y_pred)\n",
    "print(\"predictions\",y_pred)\n",
    "print('RMSE:', np.sqrt(mse))\n",
    "print('Variance score (R²): %.2f' % r2_score(y_test, y_pred))\n"
   ]
  },
  {
   "cell_type": "code",
   "execution_count": 66,
   "id": "b93ac384-47a7-493f-8cac-b72b145af227",
   "metadata": {},
   "outputs": [
    {
     "name": "stdout",
     "output_type": "stream",
     "text": [
      "RMSE : 1277.8417923876063\n"
     ]
    }
   ],
   "source": [
    "from sklearn.ensemble import AdaBoostRegressor\n",
    "\n",
    "model= AdaBoostRegressor(n_estimators = 100)\n",
    "model.fit(x_train, y_train)\n",
    "\n",
    "y_pred = model.predict(x_test)\n",
    "\n",
    "\n",
    "mse = mean_squared_error(y_test, y_pred)\n",
    "print(\"RMSE :\", np.sqrt(mse))\n"
   ]
  },
  {
   "cell_type": "code",
   "execution_count": 67,
   "id": "d4acacf3-09a3-48ce-8731-d0d4bae71171",
   "metadata": {},
   "outputs": [
    {
     "name": "stdout",
     "output_type": "stream",
     "text": [
      "[1157.18418543 3374.55093382 2580.08298837 ... 3233.42385497 2368.64418286\n",
      " 1099.09823041]\n",
      "RMSE : 1205.1749453656307\n"
     ]
    }
   ],
   "source": [
    "from sklearn.ensemble import GradientBoostingRegressor\n",
    "\n",
    "model = GradientBoostingRegressor()\n",
    "model.fit(x_train, y_train)\n",
    "\n",
    "\n",
    "y_pred = model.predict(x_test)\n",
    "print(y_pred)\n",
    "\n",
    "print(\"RMSE :\", np.sqrt(((y_test - y_pred)**2).sum()/len(y_test)))"
   ]
  },
  {
   "cell_type": "code",
   "execution_count": 68,
   "id": "58919347-39ac-472d-9115-8c57d543c1a7",
   "metadata": {},
   "outputs": [
    {
     "name": "stdout",
     "output_type": "stream",
     "text": [
      "[ 991.882208 3265.788948 3070.057064 ... 2445.463426 3965.717856\n",
      "  964.71091 ]\n",
      "RMSE : 1272.9053938954487\n",
      "Variance score: 0.21\n",
      "Result : 0.890265813662402\n"
     ]
    }
   ],
   "source": [
    "from sklearn.ensemble import RandomForestRegressor\n",
    "\n",
    "model = RandomForestRegressor(n_estimators = 100 , n_jobs = -1)\n",
    "model.fit(x_train, y_train)\n",
    "\n",
    "y_pred = model.predict(x_test)\n",
    "print(y_pred)\n",
    "\n",
    "mse = mean_squared_error(y_test, y_pred)\n",
    "print(\"RMSE :\",np.sqrt(mse))\n",
    "print('Variance score: %.2f' % r2_score(y_test, y_pred))\n",
    "\n",
    "print(\"Result :\",model.score(x_train, y_train))\n"
   ]
  },
  {
   "cell_type": "code",
   "execution_count": 69,
   "id": "88cfbca4-a62d-41bf-8f88-75cc4579d000",
   "metadata": {},
   "outputs": [
    {
     "name": "stdout",
     "output_type": "stream",
     "text": [
      "[ 739.038  6795.1548  958.752  ...  958.752  6385.022   958.752 ]\n",
      " RMSE :  1698.5792443617124\n"
     ]
    }
   ],
   "source": [
    "from sklearn.tree import DecisionTreeRegressor\n",
    "\n",
    "model = DecisionTreeRegressor()\n",
    "model.fit(x_train, y_train)\n",
    "\n",
    "# predicting the test set results\n",
    "y_pred = model.predict(x_test)\n",
    "print(y_pred)\n",
    "\n",
    "print(\" RMSE : \" , np.sqrt(((y_test - y_pred)**2).sum()/len(y_test)))"
   ]
  },
  {
   "cell_type": "code",
   "execution_count": 70,
   "id": "aea39193-60c8-4287-97ef-d57cdd4b9cb3",
   "metadata": {},
   "outputs": [
    {
     "name": "stdout",
     "output_type": "stream",
     "text": [
      "RMSE : 1583.3814967927972\n"
     ]
    }
   ],
   "source": [
    "from sklearn.svm import SVR\n",
    "\n",
    "model = SVR()\n",
    "model.fit(x_train, y_train)\n",
    "\n",
    "y_pred = model.predict(x_test)\n",
    "\n",
    "mse = mean_squared_error(y_test, y_pred)\n",
    "print(\"RMSE :\", np.sqrt(mse))\n"
   ]
  },
  {
   "cell_type": "code",
   "execution_count": 71,
   "id": "82430fca-7acb-4647-a1de-794c5e85207e",
   "metadata": {},
   "outputs": [
    {
     "name": "stdout",
     "output_type": "stream",
     "text": [
      "(9942, 42)\n",
      "(4262, 42)\n",
      "(1, 9942)\n",
      "(1, 4262)\n"
     ]
    }
   ],
   "source": [
    "import numpy as np\n",
    "\n",
    "x_train = np.asmatrix(x_train)\n",
    "x_test = np.asmatrix(x_test)\n",
    "y_train = np.asmatrix(y_train.T)\n",
    "y_test = np.asmatrix(y_test.T)\n",
    "\n",
    "print(x_train.shape)\n",
    "print(x_test.shape)\n",
    "print(y_train.shape)\n",
    "print(y_test.shape)"
   ]
  },
  {
   "cell_type": "code",
   "execution_count": 72,
   "id": "57d75567",
   "metadata": {},
   "outputs": [
    {
     "name": "stdout",
     "output_type": "stream",
     "text": [
      "TensorFlow version: 2.8.0\n"
     ]
    }
   ],
   "source": [
    "import tensorflow as tf\n",
    "print(\"TensorFlow version:\", tf.__version__)\n"
   ]
  },
  {
   "cell_type": "code",
   "execution_count": 84,
   "id": "369a683d-d761-476f-9a61-9535a4bc956e",
   "metadata": {},
   "outputs": [
    {
     "name": "stdout",
     "output_type": "stream",
     "text": [
      "Model: \"sequential_5\"\n",
      "_________________________________________________________________\n",
      " Layer (type)                Output Shape              Param #   \n",
      "=================================================================\n",
      " dense_20 (Dense)            (None, 20)                860       \n",
      "                                                                 \n",
      " dense_21 (Dense)            (None, 15)                315       \n",
      "                                                                 \n",
      " dense_22 (Dense)            (None, 10)                160       \n",
      "                                                                 \n",
      " dense_23 (Dense)            (None, 1)                 11        \n",
      "                                                                 \n",
      "=================================================================\n",
      "Total params: 1,346\n",
      "Trainable params: 1,346\n",
      "Non-trainable params: 0\n",
      "_________________________________________________________________\n",
      "x_train shape: (9942, 42)\n",
      "y_train shape after reshaping: (9942,)\n",
      "Epoch 1/600\n",
      "311/311 [==============================] - 1s 1ms/step - loss: 4957644.0000 - mae: 1684.4290 - rmse: 2196.9839 - val_loss: 4689830.0000 - val_mae: 1629.2657 - val_rmse: 2132.1104\n",
      "Epoch 2/600\n",
      "311/311 [==============================] - 0s 920us/step - loss: 4799401.5000 - mae: 1642.8414 - rmse: 2158.4517 - val_loss: 4494719.5000 - val_mae: 1575.9099 - val_rmse: 2086.0635\n",
      "Epoch 3/600\n",
      "311/311 [==============================] - 0s 982us/step - loss: 4497651.0000 - mae: 1560.1201 - rmse: 2088.9619 - val_loss: 4094369.5000 - val_mae: 1462.8118 - val_rmse: 1988.2985\n",
      "Epoch 4/600\n",
      "311/311 [==============================] - 0s 922us/step - loss: 3962551.2500 - mae: 1407.8706 - rmse: 1959.0687 - val_loss: 3463233.2500 - val_mae: 1274.4226 - val_rmse: 1823.8647\n",
      "Epoch 5/600\n",
      "311/311 [==============================] - 0s 938us/step - loss: 3205325.0000 - mae: 1180.0336 - rmse: 1752.4919 - val_loss: 2674747.7500 - val_mae: 1034.3157 - val_rmse: 1596.3529\n",
      "Epoch 6/600\n",
      "311/311 [==============================] - 0s 926us/step - loss: 2440321.7500 - mae: 999.3201 - rmse: 1520.8853 - val_loss: 2052080.6250 - val_mae: 924.7046 - val_rmse: 1395.3220\n",
      "Epoch 7/600\n",
      "311/311 [==============================] - 0s 924us/step - loss: 1970374.1250 - mae: 945.1848 - rmse: 1368.2010 - val_loss: 1782006.2500 - val_mae: 920.2712 - val_rmse: 1304.2548\n",
      "Epoch 8/600\n",
      "311/311 [==============================] - 0s 926us/step - loss: 1810920.3750 - mae: 957.2350 - rmse: 1321.7634 - val_loss: 1722078.6250 - val_mae: 941.1628 - val_rmse: 1286.6874\n",
      "Epoch 9/600\n",
      "311/311 [==============================] - 0s 932us/step - loss: 1783718.7500 - mae: 973.2067 - rmse: 1312.6493 - val_loss: 1716729.0000 - val_mae: 949.1808 - val_rmse: 1286.1509\n",
      "Epoch 10/600\n",
      "311/311 [==============================] - 0s 933us/step - loss: 1779981.2500 - mae: 976.7693 - rmse: 1310.0482 - val_loss: 1715781.3750 - val_mae: 953.8016 - val_rmse: 1286.5820\n",
      "Epoch 11/600\n",
      "311/311 [==============================] - 0s 939us/step - loss: 1778945.7500 - mae: 979.9254 - rmse: 1311.9591 - val_loss: 1714667.5000 - val_mae: 951.9425 - val_rmse: 1285.9023\n",
      "Epoch 12/600\n",
      "311/311 [==============================] - 0s 927us/step - loss: 1778093.1250 - mae: 978.1932 - rmse: 1312.4169 - val_loss: 1714050.3750 - val_mae: 953.8736 - val_rmse: 1286.0087\n",
      "Epoch 13/600\n",
      "311/311 [==============================] - 0s 946us/step - loss: 1777067.6250 - mae: 978.9376 - rmse: 1309.4167 - val_loss: 1713088.7500 - val_mae: 953.2159 - val_rmse: 1285.5751\n",
      "Epoch 14/600\n",
      "311/311 [==============================] - 0s 952us/step - loss: 1776062.7500 - mae: 979.3588 - rmse: 1308.5464 - val_loss: 1712131.0000 - val_mae: 952.3821 - val_rmse: 1285.1154\n",
      "Epoch 15/600\n",
      "311/311 [==============================] - 0s 932us/step - loss: 1775316.5000 - mae: 976.9653 - rmse: 1309.1492 - val_loss: 1711305.0000 - val_mae: 952.3778 - val_rmse: 1284.8333\n",
      "Epoch 16/600\n",
      "311/311 [==============================] - 0s 934us/step - loss: 1774326.5000 - mae: 979.0746 - rmse: 1310.2629 - val_loss: 1710538.0000 - val_mae: 952.6931 - val_rmse: 1284.6252\n",
      "Epoch 17/600\n",
      "311/311 [==============================] - 0s 930us/step - loss: 1773477.0000 - mae: 977.9146 - rmse: 1308.8014 - val_loss: 1709608.5000 - val_mae: 952.0671 - val_rmse: 1284.2076\n",
      "Epoch 18/600\n",
      "311/311 [==============================] - 0s 965us/step - loss: 1772812.2500 - mae: 977.3240 - rmse: 1308.9871 - val_loss: 1708892.1250 - val_mae: 952.5649 - val_rmse: 1284.0448\n",
      "Epoch 19/600\n",
      "311/311 [==============================] - 0s 937us/step - loss: 1771804.8750 - mae: 977.1819 - rmse: 1304.0518 - val_loss: 1708282.3750 - val_mae: 953.3878 - val_rmse: 1283.9698\n",
      "Epoch 20/600\n",
      "311/311 [==============================] - 0s 1ms/step - loss: 1771129.8750 - mae: 978.3738 - rmse: 1309.3787 - val_loss: 1707098.6250 - val_mae: 951.5614 - val_rmse: 1283.2716\n",
      "Epoch 21/600\n",
      "311/311 [==============================] - 0s 928us/step - loss: 1770088.7500 - mae: 976.7319 - rmse: 1305.6550 - val_loss: 1706390.7500 - val_mae: 952.0554 - val_rmse: 1283.1102\n",
      "Epoch 22/600\n",
      "311/311 [==============================] - 0s 991us/step - loss: 1769213.5000 - mae: 977.4445 - rmse: 1306.9958 - val_loss: 1705318.8750 - val_mae: 950.4212 - val_rmse: 1282.4813\n",
      "Epoch 23/600\n",
      "311/311 [==============================] - 0s 949us/step - loss: 1768290.0000 - mae: 975.9624 - rmse: 1308.9689 - val_loss: 1704558.0000 - val_mae: 950.7573 - val_rmse: 1282.2758\n",
      "Epoch 24/600\n",
      "311/311 [==============================] - 0s 926us/step - loss: 1767568.3750 - mae: 976.0444 - rmse: 1308.2994 - val_loss: 1703819.0000 - val_mae: 951.1537 - val_rmse: 1282.0881\n",
      "Epoch 25/600\n",
      "311/311 [==============================] - 0s 938us/step - loss: 1766181.8750 - mae: 977.9561 - rmse: 1307.3513 - val_loss: 1702678.8750 - val_mae: 947.5135 - val_rmse: 1281.1163\n",
      "Epoch 26/600\n",
      "311/311 [==============================] - 0s 924us/step - loss: 1765752.0000 - mae: 975.3882 - rmse: 1307.0100 - val_loss: 1701874.1250 - val_mae: 948.5916 - val_rmse: 1281.0139\n",
      "Epoch 27/600\n",
      "311/311 [==============================] - 0s 930us/step - loss: 1764913.5000 - mae: 975.5733 - rmse: 1303.9677 - val_loss: 1701011.1250 - val_mae: 947.9486 - val_rmse: 1280.6168\n",
      "Epoch 28/600\n",
      "311/311 [==============================] - 0s 938us/step - loss: 1764213.1250 - mae: 974.6470 - rmse: 1307.2880 - val_loss: 1700220.8750 - val_mae: 948.5612 - val_rmse: 1280.4447\n",
      "Epoch 29/600\n",
      "311/311 [==============================] - 0s 956us/step - loss: 1763075.6250 - mae: 974.3672 - rmse: 1305.4264 - val_loss: 1699912.5000 - val_mae: 951.3660 - val_rmse: 1280.7920\n",
      "Epoch 30/600\n",
      "311/311 [==============================] - 0s 935us/step - loss: 1762267.5000 - mae: 976.4589 - rmse: 1304.2869 - val_loss: 1698533.5000 - val_mae: 948.1720 - val_rmse: 1279.8068\n",
      "Epoch 31/600\n",
      "311/311 [==============================] - 0s 972us/step - loss: 1761536.8750 - mae: 975.5017 - rmse: 1303.8149 - val_loss: 1697657.2500 - val_mae: 947.4155 - val_rmse: 1279.3867\n",
      "Epoch 32/600\n",
      "311/311 [==============================] - 0s 953us/step - loss: 1760654.0000 - mae: 973.8735 - rmse: 1301.6245 - val_loss: 1696816.1250 - val_mae: 947.1952 - val_rmse: 1279.0648\n",
      "Epoch 33/600\n",
      "311/311 [==============================] - 0s 945us/step - loss: 1759276.5000 - mae: 972.2050 - rmse: 1301.7946 - val_loss: 1696917.7500 - val_mae: 951.7297 - val_rmse: 1279.8302\n",
      "Epoch 34/600\n",
      "311/311 [==============================] - 0s 927us/step - loss: 1758817.5000 - mae: 975.7109 - rmse: 1304.6941 - val_loss: 1695399.2500 - val_mae: 948.9405 - val_rmse: 1278.8628\n",
      "Epoch 35/600\n",
      "311/311 [==============================] - 0s 928us/step - loss: 1757973.3750 - mae: 974.4736 - rmse: 1303.5304 - val_loss: 1694386.7500 - val_mae: 947.7311 - val_rmse: 1278.3214\n",
      "Epoch 36/600\n",
      "311/311 [==============================] - 0s 921us/step - loss: 1756980.5000 - mae: 974.0616 - rmse: 1301.7378 - val_loss: 1693429.3750 - val_mae: 946.3693 - val_rmse: 1277.7775\n",
      "Epoch 37/600\n",
      "311/311 [==============================] - 0s 928us/step - loss: 1756284.8750 - mae: 972.1545 - rmse: 1301.1003 - val_loss: 1692832.6250 - val_mae: 948.2005 - val_rmse: 1277.8679\n",
      "Epoch 38/600\n"
     ]
    },
    {
     "name": "stdout",
     "output_type": "stream",
     "text": [
      "311/311 [==============================] - 0s 943us/step - loss: 1755104.2500 - mae: 974.5009 - rmse: 1301.5332 - val_loss: 1691761.0000 - val_mae: 946.4623 - val_rmse: 1277.2225\n",
      "Epoch 39/600\n",
      "311/311 [==============================] - 0s 924us/step - loss: 1754663.0000 - mae: 972.5464 - rmse: 1300.2362 - val_loss: 1690907.3750 - val_mae: 946.2101 - val_rmse: 1276.8900\n",
      "Epoch 40/600\n",
      "311/311 [==============================] - 0s 926us/step - loss: 1753441.2500 - mae: 971.6649 - rmse: 1302.9132 - val_loss: 1690076.7500 - val_mae: 946.2016 - val_rmse: 1276.6053\n",
      "Epoch 41/600\n",
      "311/311 [==============================] - 0s 935us/step - loss: 1752708.1250 - mae: 972.7531 - rmse: 1301.8088 - val_loss: 1689261.5000 - val_mae: 946.3514 - val_rmse: 1276.3517\n",
      "Epoch 42/600\n",
      "311/311 [==============================] - 0s 932us/step - loss: 1751561.6250 - mae: 972.7241 - rmse: 1300.4567 - val_loss: 1688352.5000 - val_mae: 945.7457 - val_rmse: 1275.9451\n",
      "Epoch 43/600\n",
      "311/311 [==============================] - 0s 936us/step - loss: 1750189.0000 - mae: 974.3013 - rmse: 1302.6320 - val_loss: 1687447.7500 - val_mae: 942.1996 - val_rmse: 1275.0736\n",
      "Epoch 44/600\n",
      "311/311 [==============================] - 0s 938us/step - loss: 1750164.1250 - mae: 968.4944 - rmse: 1299.5933 - val_loss: 1686615.8750 - val_mae: 945.3853 - val_rmse: 1275.2937\n",
      "Epoch 45/600\n",
      "311/311 [==============================] - 0s 930us/step - loss: 1748886.7500 - mae: 970.3615 - rmse: 1300.1212 - val_loss: 1686199.5000 - val_mae: 947.6288 - val_rmse: 1275.5120\n",
      "Epoch 46/600\n",
      "311/311 [==============================] - 0s 922us/step - loss: 1748329.3750 - mae: 971.4345 - rmse: 1300.5741 - val_loss: 1685323.7500 - val_mae: 947.4290 - val_rmse: 1275.1809\n",
      "Epoch 47/600\n",
      "311/311 [==============================] - 0s 929us/step - loss: 1747367.3750 - mae: 972.2237 - rmse: 1295.9568 - val_loss: 1683917.7500 - val_mae: 944.1327 - val_rmse: 1274.1731\n",
      "Epoch 48/600\n",
      "311/311 [==============================] - 0s 944us/step - loss: 1746294.8750 - mae: 970.3978 - rmse: 1300.9862 - val_loss: 1683122.5000 - val_mae: 944.8287 - val_rmse: 1274.0121\n",
      "Epoch 49/600\n",
      "311/311 [==============================] - 0s 952us/step - loss: 1745226.0000 - mae: 970.2648 - rmse: 1296.5896 - val_loss: 1682440.3750 - val_mae: 945.8200 - val_rmse: 1273.9386\n",
      "Epoch 50/600\n",
      "311/311 [==============================] - 0s 947us/step - loss: 1744346.0000 - mae: 971.3057 - rmse: 1297.0144 - val_loss: 1681215.7500 - val_mae: 943.2631 - val_rmse: 1273.1105\n",
      "Epoch 51/600\n",
      "311/311 [==============================] - 0s 931us/step - loss: 1743549.8750 - mae: 970.5975 - rmse: 1297.7925 - val_loss: 1680389.2500 - val_mae: 943.8637 - val_rmse: 1272.9236\n",
      "Epoch 52/600\n",
      "311/311 [==============================] - 0s 929us/step - loss: 1742615.0000 - mae: 969.1400 - rmse: 1297.0104 - val_loss: 1679617.3750 - val_mae: 944.4966 - val_rmse: 1272.7617\n",
      "Epoch 53/600\n",
      "311/311 [==============================] - 0s 927us/step - loss: 1741634.7500 - mae: 969.1129 - rmse: 1295.6609 - val_loss: 1678549.5000 - val_mae: 943.1109 - val_rmse: 1272.1741\n",
      "Epoch 54/600\n",
      "311/311 [==============================] - 0s 928us/step - loss: 1740719.5000 - mae: 968.9969 - rmse: 1295.5071 - val_loss: 1677879.6250 - val_mae: 944.4560 - val_rmse: 1272.1598\n",
      "Epoch 55/600\n",
      "311/311 [==============================] - 0s 983us/step - loss: 1739783.8750 - mae: 969.3806 - rmse: 1296.9213 - val_loss: 1676922.5000 - val_mae: 943.9688 - val_rmse: 1271.7555\n",
      "Epoch 56/600\n",
      "311/311 [==============================] - 0s 941us/step - loss: 1738728.1250 - mae: 968.5436 - rmse: 1295.2577 - val_loss: 1675808.3750 - val_mae: 942.4497 - val_rmse: 1271.1311\n",
      "Epoch 57/600\n",
      "311/311 [==============================] - 0s 987us/step - loss: 1737950.0000 - mae: 968.8133 - rmse: 1297.1558 - val_loss: 1674902.3750 - val_mae: 942.3503 - val_rmse: 1270.8055\n",
      "Epoch 58/600\n",
      "311/311 [==============================] - 0s 923us/step - loss: 1736805.1250 - mae: 968.9886 - rmse: 1294.1450 - val_loss: 1673884.0000 - val_mae: 941.1390 - val_rmse: 1270.2632\n",
      "Epoch 59/600\n",
      "311/311 [==============================] - 0s 934us/step - loss: 1735844.1250 - mae: 966.3773 - rmse: 1293.8611 - val_loss: 1673343.2500 - val_mae: 943.6204 - val_rmse: 1270.4757\n",
      "Epoch 60/600\n",
      "311/311 [==============================] - 0s 930us/step - loss: 1735117.2500 - mae: 969.2816 - rmse: 1294.1771 - val_loss: 1672050.3750 - val_mae: 941.2903 - val_rmse: 1269.6602\n",
      "Epoch 61/600\n",
      "311/311 [==============================] - 0s 928us/step - loss: 1734101.5000 - mae: 967.2257 - rmse: 1293.0918 - val_loss: 1671131.3750 - val_mae: 941.2195 - val_rmse: 1269.3348\n",
      "Epoch 62/600\n",
      "311/311 [==============================] - 0s 920us/step - loss: 1733079.3750 - mae: 966.6450 - rmse: 1295.5114 - val_loss: 1670221.6250 - val_mae: 941.2643 - val_rmse: 1269.0308\n",
      "Epoch 63/600\n",
      "311/311 [==============================] - 0s 914us/step - loss: 1731944.1250 - mae: 965.2946 - rmse: 1291.2814 - val_loss: 1669886.8750 - val_mae: 943.8812 - val_rmse: 1269.3353\n",
      "Epoch 64/600\n",
      "311/311 [==============================] - 0s 967us/step - loss: 1731005.6250 - mae: 967.3835 - rmse: 1292.2535 - val_loss: 1668528.1250 - val_mae: 942.0335 - val_rmse: 1268.5741\n",
      "Epoch 65/600\n",
      "311/311 [==============================] - 0s 964us/step - loss: 1730025.5000 - mae: 966.6494 - rmse: 1292.5363 - val_loss: 1667418.2500 - val_mae: 941.0984 - val_rmse: 1268.0450\n",
      "Epoch 66/600\n",
      "311/311 [==============================] - 0s 955us/step - loss: 1728859.2500 - mae: 967.1127 - rmse: 1292.6913 - val_loss: 1666194.8750 - val_mae: 938.3910 - val_rmse: 1267.1951\n",
      "Epoch 67/600\n",
      "311/311 [==============================] - 0s 925us/step - loss: 1728209.3750 - mae: 964.3455 - rmse: 1287.8585 - val_loss: 1665504.7500 - val_mae: 940.7436 - val_rmse: 1267.3341\n",
      "Epoch 68/600\n",
      "311/311 [==============================] - 0s 929us/step - loss: 1726827.0000 - mae: 964.7029 - rmse: 1294.0114 - val_loss: 1664943.6250 - val_mae: 942.2952 - val_rmse: 1267.3906\n",
      "Epoch 69/600\n",
      "311/311 [==============================] - 0s 924us/step - loss: 1726058.6250 - mae: 965.6705 - rmse: 1290.3514 - val_loss: 1663493.8750 - val_mae: 939.9692 - val_rmse: 1266.5221\n",
      "Epoch 70/600\n",
      "311/311 [==============================] - 0s 925us/step - loss: 1724867.1250 - mae: 964.2133 - rmse: 1289.8395 - val_loss: 1662791.3750 - val_mae: 941.0881 - val_rmse: 1266.4617\n",
      "Epoch 71/600\n",
      "311/311 [==============================] - 0s 913us/step - loss: 1723966.3750 - mae: 966.3808 - rmse: 1287.6331 - val_loss: 1661328.8750 - val_mae: 938.1889 - val_rmse: 1265.4971\n",
      "Epoch 72/600\n",
      "311/311 [==============================] - 0s 926us/step - loss: 1722796.3750 - mae: 963.0073 - rmse: 1294.4025 - val_loss: 1660408.8750 - val_mae: 938.6186 - val_rmse: 1265.2500\n",
      "Epoch 73/600\n",
      "311/311 [==============================] - 0s 926us/step - loss: 1721790.7500 - mae: 965.3684 - rmse: 1288.5077 - val_loss: 1659321.8750 - val_mae: 937.9330 - val_rmse: 1264.7687\n",
      "Epoch 74/600\n",
      "311/311 [==============================] - 0s 929us/step - loss: 1720773.6250 - mae: 962.2588 - rmse: 1287.9131 - val_loss: 1658509.6250 - val_mae: 938.8582 - val_rmse: 1264.6382\n",
      "Epoch 75/600\n",
      "311/311 [==============================] - 0s 920us/step - loss: 1719732.0000 - mae: 963.2589 - rmse: 1291.4315 - val_loss: 1657414.7500 - val_mae: 938.3388 - val_rmse: 1264.1794\n",
      "Epoch 76/600\n",
      "311/311 [==============================] - 0s 921us/step - loss: 1718556.2500 - mae: 962.8764 - rmse: 1287.4794 - val_loss: 1656591.6250 - val_mae: 939.0840 - val_rmse: 1264.0171\n",
      "Epoch 77/600\n",
      "311/311 [==============================] - 0s 921us/step - loss: 1717442.5000 - mae: 965.0359 - rmse: 1291.6487 - val_loss: 1655175.2500 - val_mae: 936.7839 - val_rmse: 1263.1643\n",
      "Epoch 78/600\n",
      "311/311 [==============================] - 0s 930us/step - loss: 1716410.1250 - mae: 961.3403 - rmse: 1289.6964 - val_loss: 1654102.0000 - val_mae: 936.2551 - val_rmse: 1262.7120\n",
      "Epoch 79/600\n",
      "311/311 [==============================] - 0s 945us/step - loss: 1715259.1250 - mae: 962.7139 - rmse: 1286.7848 - val_loss: 1652973.3750 - val_mae: 935.4428 - val_rmse: 1262.1946\n",
      "Epoch 80/600\n",
      "311/311 [==============================] - 0s 922us/step - loss: 1714218.6250 - mae: 962.4163 - rmse: 1287.4236 - val_loss: 1651863.7500 - val_mae: 934.7178 - val_rmse: 1261.6993\n"
     ]
    },
    {
     "name": "stdout",
     "output_type": "stream",
     "text": [
      "Epoch 81/600\n",
      "311/311 [==============================] - 0s 926us/step - loss: 1713167.6250 - mae: 960.6880 - rmse: 1284.9326 - val_loss: 1650816.6250 - val_mae: 934.9596 - val_rmse: 1261.3789\n",
      "Epoch 82/600\n",
      "311/311 [==============================] - 0s 943us/step - loss: 1711787.1250 - mae: 960.4366 - rmse: 1287.3134 - val_loss: 1649984.3750 - val_mae: 936.5682 - val_rmse: 1261.3517\n",
      "Epoch 83/600\n",
      "311/311 [==============================] - 0s 935us/step - loss: 1710696.0000 - mae: 961.6733 - rmse: 1284.7457 - val_loss: 1648589.1250 - val_mae: 934.1705 - val_rmse: 1260.4904\n",
      "Epoch 84/600\n",
      "311/311 [==============================] - 0s 919us/step - loss: 1709648.7500 - mae: 960.0339 - rmse: 1282.8937 - val_loss: 1647664.5000 - val_mae: 935.4459 - val_rmse: 1260.3782\n",
      "Epoch 85/600\n",
      "311/311 [==============================] - 0s 936us/step - loss: 1708345.7500 - mae: 961.6712 - rmse: 1285.9242 - val_loss: 1646258.3750 - val_mae: 932.4205 - val_rmse: 1259.4126\n",
      "Epoch 86/600\n",
      "311/311 [==============================] - 0s 925us/step - loss: 1707337.1250 - mae: 957.8885 - rmse: 1281.8700 - val_loss: 1645608.5000 - val_mae: 935.9249 - val_rmse: 1259.7493\n",
      "Epoch 87/600\n",
      "311/311 [==============================] - 0s 932us/step - loss: 1706275.0000 - mae: 959.1426 - rmse: 1282.7122 - val_loss: 1644441.1250 - val_mae: 935.4901 - val_rmse: 1259.2803\n",
      "Epoch 88/600\n",
      "311/311 [==============================] - 0s 930us/step - loss: 1704958.1250 - mae: 959.6674 - rmse: 1280.4111 - val_loss: 1643145.2500 - val_mae: 934.4748 - val_rmse: 1258.6744\n",
      "Epoch 89/600\n",
      "311/311 [==============================] - 0s 988us/step - loss: 1703725.7500 - mae: 959.1388 - rmse: 1280.8090 - val_loss: 1641755.3750 - val_mae: 932.6810 - val_rmse: 1257.9116\n",
      "Epoch 90/600\n",
      "311/311 [==============================] - 0s 925us/step - loss: 1702534.6250 - mae: 957.5969 - rmse: 1281.4589 - val_loss: 1641186.1250 - val_mae: 935.4251 - val_rmse: 1258.1565\n",
      "Epoch 91/600\n",
      "311/311 [==============================] - 0s 987us/step - loss: 1701349.0000 - mae: 958.3519 - rmse: 1280.9678 - val_loss: 1639696.8750 - val_mae: 933.9277 - val_rmse: 1257.4067\n",
      "Epoch 92/600\n",
      "311/311 [==============================] - 0s 925us/step - loss: 1700029.2500 - mae: 956.5565 - rmse: 1280.2185 - val_loss: 1638940.0000 - val_mae: 935.2471 - val_rmse: 1257.3582\n",
      "Epoch 93/600\n",
      "311/311 [==============================] - 0s 938us/step - loss: 1699130.7500 - mae: 958.0196 - rmse: 1277.7538 - val_loss: 1637377.0000 - val_mae: 933.6583 - val_rmse: 1256.5662\n",
      "Epoch 94/600\n",
      "311/311 [==============================] - 0s 921us/step - loss: 1697695.2500 - mae: 957.9700 - rmse: 1280.3529 - val_loss: 1635731.1250 - val_mae: 930.8544 - val_rmse: 1255.5533\n",
      "Epoch 95/600\n",
      "311/311 [==============================] - 0s 926us/step - loss: 1696129.6250 - mae: 957.8510 - rmse: 1280.3271 - val_loss: 1634382.3750 - val_mae: 928.7085 - val_rmse: 1254.7476\n",
      "Epoch 96/600\n",
      "311/311 [==============================] - 0s 931us/step - loss: 1694815.5000 - mae: 956.3521 - rmse: 1279.7717 - val_loss: 1633196.8750 - val_mae: 929.7246 - val_rmse: 1254.5013\n",
      "Epoch 97/600\n",
      "311/311 [==============================] - 0s 929us/step - loss: 1693680.3750 - mae: 954.3407 - rmse: 1276.9574 - val_loss: 1632185.7500 - val_mae: 931.0290 - val_rmse: 1254.3610\n",
      "Epoch 98/600\n",
      "311/311 [==============================] - 0s 959us/step - loss: 1692332.3750 - mae: 955.3445 - rmse: 1280.2913 - val_loss: 1630953.8750 - val_mae: 930.9627 - val_rmse: 1253.9257\n",
      "Epoch 99/600\n",
      "311/311 [==============================] - 0s 970us/step - loss: 1691233.8750 - mae: 956.1241 - rmse: 1276.4454 - val_loss: 1629364.5000 - val_mae: 928.3649 - val_rmse: 1252.9659\n",
      "Epoch 100/600\n",
      "311/311 [==============================] - 0s 929us/step - loss: 1689588.2500 - mae: 953.4193 - rmse: 1275.5764 - val_loss: 1628302.1250 - val_mae: 929.7596 - val_rmse: 1252.8208\n",
      "Epoch 101/600\n",
      "311/311 [==============================] - 0s 933us/step - loss: 1688325.8750 - mae: 955.1229 - rmse: 1278.3243 - val_loss: 1626937.8750 - val_mae: 929.0239 - val_rmse: 1252.2356\n",
      "Epoch 102/600\n",
      "311/311 [==============================] - 0s 934us/step - loss: 1687137.8750 - mae: 953.7145 - rmse: 1275.1156 - val_loss: 1625495.7500 - val_mae: 927.7312 - val_rmse: 1251.5334\n",
      "Epoch 103/600\n",
      "311/311 [==============================] - 0s 929us/step - loss: 1685510.5000 - mae: 954.0123 - rmse: 1275.7158 - val_loss: 1624110.8750 - val_mae: 926.7991 - val_rmse: 1250.9092\n",
      "Epoch 104/600\n",
      "311/311 [==============================] - 0s 923us/step - loss: 1684114.3750 - mae: 953.4208 - rmse: 1273.8149 - val_loss: 1622726.5000 - val_mae: 925.9597 - val_rmse: 1250.3022\n",
      "Epoch 105/600\n",
      "311/311 [==============================] - 0s 932us/step - loss: 1683047.6250 - mae: 951.0847 - rmse: 1272.4968 - val_loss: 1621609.3750 - val_mae: 927.6555 - val_rmse: 1250.1823\n",
      "Epoch 106/600\n",
      "311/311 [==============================] - 0s 910us/step - loss: 1681377.5000 - mae: 953.0371 - rmse: 1277.4264 - val_loss: 1619997.2500 - val_mae: 925.3594 - val_rmse: 1249.2660\n",
      "Epoch 107/600\n",
      "311/311 [==============================] - 0s 941us/step - loss: 1679999.6250 - mae: 951.7239 - rmse: 1273.4716 - val_loss: 1618670.1250 - val_mae: 925.6481 - val_rmse: 1248.8538\n",
      "Epoch 108/600\n",
      "311/311 [==============================] - 0s 917us/step - loss: 1678279.0000 - mae: 952.6672 - rmse: 1273.3088 - val_loss: 1617167.2500 - val_mae: 923.2937 - val_rmse: 1247.9680\n",
      "Epoch 109/600\n",
      "311/311 [==============================] - 0s 932us/step - loss: 1676920.1250 - mae: 947.9290 - rmse: 1271.1996 - val_loss: 1616459.2500 - val_mae: 928.0231 - val_rmse: 1248.4647\n",
      "Epoch 110/600\n",
      "311/311 [==============================] - 0s 939us/step - loss: 1675668.7500 - mae: 950.8464 - rmse: 1274.0046 - val_loss: 1614663.3750 - val_mae: 926.2563 - val_rmse: 1247.5688\n",
      "Epoch 111/600\n",
      "311/311 [==============================] - 0s 916us/step - loss: 1674190.0000 - mae: 950.9244 - rmse: 1270.7401 - val_loss: 1612887.6250 - val_mae: 923.8951 - val_rmse: 1246.5867\n",
      "Epoch 112/600\n",
      "311/311 [==============================] - 0s 1ms/step - loss: 1672332.7500 - mae: 948.8430 - rmse: 1268.8682 - val_loss: 1611692.2500 - val_mae: 925.2727 - val_rmse: 1246.3933\n",
      "Epoch 113/600\n",
      "311/311 [==============================] - 0s 932us/step - loss: 1671011.1250 - mae: 949.7313 - rmse: 1270.5475 - val_loss: 1610018.8750 - val_mae: 923.9020 - val_rmse: 1245.5999\n",
      "Epoch 114/600\n",
      "311/311 [==============================] - 0s 976us/step - loss: 1669382.2500 - mae: 948.4787 - rmse: 1269.8770 - val_loss: 1608305.2500 - val_mae: 922.1634 - val_rmse: 1244.7340\n",
      "Epoch 115/600\n",
      "311/311 [==============================] - 0s 936us/step - loss: 1667801.1250 - mae: 948.3235 - rmse: 1267.4431 - val_loss: 1606750.1250 - val_mae: 921.8321 - val_rmse: 1244.1464\n",
      "Epoch 116/600\n",
      "311/311 [==============================] - 0s 1ms/step - loss: 1665925.1250 - mae: 945.7336 - rmse: 1269.6825 - val_loss: 1605508.7500 - val_mae: 923.5569 - val_rmse: 1243.9875\n",
      "Epoch 117/600\n",
      "311/311 [==============================] - 0s 1ms/step - loss: 1664325.5000 - mae: 948.4660 - rmse: 1269.5260 - val_loss: 1603638.1250 - val_mae: 921.7993 - val_rmse: 1243.0653\n",
      "Epoch 118/600\n",
      "311/311 [==============================] - 0s 1ms/step - loss: 1662679.7500 - mae: 946.3429 - rmse: 1266.9099 - val_loss: 1601955.8750 - val_mae: 921.0594 - val_rmse: 1242.3676\n",
      "Epoch 119/600\n",
      "311/311 [==============================] - 0s 1ms/step - loss: 1660881.7500 - mae: 945.9675 - rmse: 1263.9922 - val_loss: 1600519.6250 - val_mae: 921.7590 - val_rmse: 1241.9803\n",
      "Epoch 120/600\n",
      "311/311 [==============================] - 0s 972us/step - loss: 1658971.2500 - mae: 946.5961 - rmse: 1264.7457 - val_loss: 1598460.1250 - val_mae: 918.4456 - val_rmse: 1240.7495\n",
      "Epoch 121/600\n",
      "311/311 [==============================] - 0s 918us/step - loss: 1657369.6250 - mae: 945.5697 - rmse: 1265.4658 - val_loss: 1596722.1250 - val_mae: 917.0041 - val_rmse: 1239.9244\n",
      "Epoch 122/600\n",
      "311/311 [==============================] - 0s 938us/step - loss: 1655716.3750 - mae: 942.8637 - rmse: 1265.7010 - val_loss: 1595074.0000 - val_mae: 917.8256 - val_rmse: 1239.4790\n",
      "Epoch 123/600\n"
     ]
    },
    {
     "name": "stdout",
     "output_type": "stream",
     "text": [
      "311/311 [==============================] - 0s 1ms/step - loss: 1653844.2500 - mae: 943.6047 - rmse: 1265.4905 - val_loss: 1593454.7500 - val_mae: 918.4067 - val_rmse: 1239.0094\n",
      "Epoch 124/600\n",
      "311/311 [==============================] - 0s 993us/step - loss: 1652126.6250 - mae: 943.6154 - rmse: 1263.2915 - val_loss: 1591609.0000 - val_mae: 917.0615 - val_rmse: 1238.1598\n",
      "Epoch 125/600\n",
      "311/311 [==============================] - 0s 1ms/step - loss: 1650171.2500 - mae: 942.5339 - rmse: 1263.3645 - val_loss: 1590008.5000 - val_mae: 917.7412 - val_rmse: 1237.7123\n",
      "Epoch 126/600\n",
      "311/311 [==============================] - 0s 931us/step - loss: 1648264.6250 - mae: 941.0203 - rmse: 1262.6691 - val_loss: 1588532.7500 - val_mae: 918.7902 - val_rmse: 1237.3669\n",
      "Epoch 127/600\n",
      "311/311 [==============================] - 0s 924us/step - loss: 1646591.5000 - mae: 942.3688 - rmse: 1257.8517 - val_loss: 1586469.8750 - val_mae: 916.9902 - val_rmse: 1236.3702\n",
      "Epoch 128/600\n",
      "311/311 [==============================] - 0s 917us/step - loss: 1644462.3750 - mae: 942.7625 - rmse: 1259.0906 - val_loss: 1584314.5000 - val_mae: 912.8953 - val_rmse: 1234.9838\n",
      "Epoch 129/600\n",
      "311/311 [==============================] - 0s 939us/step - loss: 1642684.1250 - mae: 938.3067 - rmse: 1257.7915 - val_loss: 1582608.8750 - val_mae: 914.2744 - val_rmse: 1234.6074\n",
      "Epoch 130/600\n",
      "311/311 [==============================] - 0s 940us/step - loss: 1640862.6250 - mae: 939.8918 - rmse: 1258.3340 - val_loss: 1580965.0000 - val_mae: 915.0874 - val_rmse: 1234.1670\n",
      "Epoch 131/600\n",
      "311/311 [==============================] - 0s 928us/step - loss: 1638837.3750 - mae: 938.7839 - rmse: 1257.9420 - val_loss: 1578972.2500 - val_mae: 913.2908 - val_rmse: 1233.1949\n",
      "Epoch 132/600\n",
      "311/311 [==============================] - 0s 972us/step - loss: 1637127.6250 - mae: 938.8525 - rmse: 1258.5703 - val_loss: 1577036.7500 - val_mae: 912.2952 - val_rmse: 1232.3694\n",
      "Epoch 133/600\n",
      "311/311 [==============================] - 0s 965us/step - loss: 1634961.7500 - mae: 939.3383 - rmse: 1256.4741 - val_loss: 1575080.3750 - val_mae: 909.6430 - val_rmse: 1231.2776\n",
      "Epoch 134/600\n",
      "311/311 [==============================] - 0s 955us/step - loss: 1633027.3750 - mae: 936.8998 - rmse: 1256.3688 - val_loss: 1573171.8750 - val_mae: 909.5907 - val_rmse: 1230.6056\n",
      "Epoch 135/600\n",
      "311/311 [==============================] - 0s 948us/step - loss: 1631142.6250 - mae: 935.7161 - rmse: 1255.1063 - val_loss: 1571384.5000 - val_mae: 910.7990 - val_rmse: 1230.1729\n",
      "Epoch 136/600\n",
      "311/311 [==============================] - 0s 955us/step - loss: 1629116.3750 - mae: 935.5388 - rmse: 1254.8895 - val_loss: 1569406.5000 - val_mae: 909.2446 - val_rmse: 1229.2416\n",
      "Epoch 137/600\n",
      "311/311 [==============================] - 0s 940us/step - loss: 1626962.3750 - mae: 936.3121 - rmse: 1253.8396 - val_loss: 1567462.7500 - val_mae: 908.1273 - val_rmse: 1228.3900\n",
      "Epoch 138/600\n",
      "311/311 [==============================] - 0s 920us/step - loss: 1625138.0000 - mae: 932.9309 - rmse: 1250.9629 - val_loss: 1565658.5000 - val_mae: 909.1932 - val_rmse: 1227.9301\n",
      "Epoch 139/600\n",
      "311/311 [==============================] - 0s 928us/step - loss: 1622896.8750 - mae: 935.1610 - rmse: 1252.3247 - val_loss: 1563620.3750 - val_mae: 907.6373 - val_rmse: 1226.9755\n",
      "Epoch 140/600\n",
      "311/311 [==============================] - 0s 930us/step - loss: 1620792.5000 - mae: 932.9045 - rmse: 1248.8115 - val_loss: 1561624.8750 - val_mae: 905.9940 - val_rmse: 1226.0223\n",
      "Epoch 141/600\n",
      "311/311 [==============================] - 0s 924us/step - loss: 1618738.6250 - mae: 932.4431 - rmse: 1249.2047 - val_loss: 1559940.7500 - val_mae: 908.0555 - val_rmse: 1225.7656\n",
      "Epoch 142/600\n",
      "311/311 [==============================] - 0s 942us/step - loss: 1616632.7500 - mae: 932.6027 - rmse: 1247.4943 - val_loss: 1557705.7500 - val_mae: 903.8937 - val_rmse: 1224.3317\n",
      "Epoch 143/600\n",
      "311/311 [==============================] - 0s 922us/step - loss: 1614815.2500 - mae: 930.0796 - rmse: 1248.6787 - val_loss: 1556000.7500 - val_mae: 906.4587 - val_rmse: 1224.1462\n",
      "Epoch 144/600\n",
      "311/311 [==============================] - 0s 918us/step - loss: 1612856.7500 - mae: 929.0662 - rmse: 1248.2292 - val_loss: 1554146.6250 - val_mae: 906.3026 - val_rmse: 1223.4810\n",
      "Epoch 145/600\n",
      "311/311 [==============================] - 0s 929us/step - loss: 1610713.5000 - mae: 930.5919 - rmse: 1247.7827 - val_loss: 1552179.7500 - val_mae: 905.5573 - val_rmse: 1222.6816\n",
      "Epoch 146/600\n",
      "311/311 [==============================] - 0s 922us/step - loss: 1608588.3750 - mae: 929.1461 - rmse: 1243.3730 - val_loss: 1550239.0000 - val_mae: 904.8765 - val_rmse: 1221.9022\n",
      "Epoch 147/600\n",
      "311/311 [==============================] - 0s 938us/step - loss: 1606529.7500 - mae: 929.7097 - rmse: 1244.2356 - val_loss: 1548048.1250 - val_mae: 901.8018 - val_rmse: 1220.6597\n",
      "Epoch 148/600\n",
      "311/311 [==============================] - 0s 913us/step - loss: 1604730.5000 - mae: 926.7766 - rmse: 1243.9705 - val_loss: 1546176.0000 - val_mae: 902.0503 - val_rmse: 1220.0486\n",
      "Epoch 149/600\n",
      "311/311 [==============================] - 0s 932us/step - loss: 1602836.5000 - mae: 927.2510 - rmse: 1242.0996 - val_loss: 1544225.5000 - val_mae: 900.1797 - val_rmse: 1219.0812\n",
      "Epoch 150/600\n",
      "311/311 [==============================] - 0s 958us/step - loss: 1600707.3750 - mae: 925.7833 - rmse: 1240.0441 - val_loss: 1542570.5000 - val_mae: 901.8905 - val_rmse: 1218.7795\n",
      "Epoch 151/600\n",
      "311/311 [==============================] - 0s 931us/step - loss: 1598490.6250 - mae: 926.1476 - rmse: 1243.3783 - val_loss: 1540538.7500 - val_mae: 900.0989 - val_rmse: 1217.7965\n",
      "Epoch 152/600\n",
      "311/311 [==============================] - 0s 921us/step - loss: 1596554.8750 - mae: 924.4744 - rmse: 1242.2606 - val_loss: 1538760.1250 - val_mae: 900.3011 - val_rmse: 1217.2158\n",
      "Epoch 153/600\n",
      "311/311 [==============================] - 0s 928us/step - loss: 1594500.5000 - mae: 924.2361 - rmse: 1241.5155 - val_loss: 1536828.5000 - val_mae: 899.0765 - val_rmse: 1216.3544\n",
      "Epoch 154/600\n",
      "311/311 [==============================] - 0s 929us/step - loss: 1592656.7500 - mae: 923.3607 - rmse: 1238.4478 - val_loss: 1535051.8750 - val_mae: 899.2771 - val_rmse: 1215.7759\n",
      "Epoch 155/600\n",
      "311/311 [==============================] - 0s 911us/step - loss: 1590446.7500 - mae: 922.1469 - rmse: 1239.6234 - val_loss: 1533794.2500 - val_mae: 901.1454 - val_rmse: 1215.6512\n",
      "Epoch 156/600\n",
      "311/311 [==============================] - 0s 921us/step - loss: 1588510.5000 - mae: 923.8784 - rmse: 1238.3234 - val_loss: 1531157.6250 - val_mae: 895.5216 - val_rmse: 1213.8376\n",
      "Epoch 157/600\n",
      "311/311 [==============================] - 0s 1ms/step - loss: 1586603.6250 - mae: 919.9087 - rmse: 1234.4259 - val_loss: 1529634.0000 - val_mae: 897.6655 - val_rmse: 1213.6603\n",
      "Epoch 158/600\n",
      "311/311 [==============================] - 0s 923us/step - loss: 1585021.5000 - mae: 922.3127 - rmse: 1236.3048 - val_loss: 1527662.6250 - val_mae: 896.1954 - val_rmse: 1212.7463\n",
      "Epoch 159/600\n",
      "311/311 [==============================] - 0s 991us/step - loss: 1582864.6250 - mae: 918.5649 - rmse: 1238.5941 - val_loss: 1526431.0000 - val_mae: 898.2072 - val_rmse: 1212.6572\n",
      "Epoch 160/600\n",
      "311/311 [==============================] - 0s 929us/step - loss: 1580938.8750 - mae: 919.9623 - rmse: 1235.6445 - val_loss: 1524264.7500 - val_mae: 895.8655 - val_rmse: 1211.5383\n",
      "Epoch 161/600\n",
      "311/311 [==============================] - 0s 945us/step - loss: 1578975.7500 - mae: 918.8136 - rmse: 1236.2030 - val_loss: 1522380.6250 - val_mae: 894.6661 - val_rmse: 1210.7010\n",
      "Epoch 162/600\n",
      "311/311 [==============================] - 0s 931us/step - loss: 1576929.8750 - mae: 917.3201 - rmse: 1233.0769 - val_loss: 1521446.0000 - val_mae: 897.2358 - val_rmse: 1210.8093\n",
      "Epoch 163/600\n",
      "311/311 [==============================] - 0s 957us/step - loss: 1575142.6250 - mae: 918.9470 - rmse: 1233.1615 - val_loss: 1518642.8750 - val_mae: 890.9534 - val_rmse: 1208.8341\n",
      "Epoch 164/600\n",
      "311/311 [==============================] - 0s 937us/step - loss: 1573066.6250 - mae: 914.6782 - rmse: 1232.1483 - val_loss: 1517943.8750 - val_mae: 895.7615 - val_rmse: 1209.3845\n",
      "Epoch 165/600\n"
     ]
    },
    {
     "name": "stdout",
     "output_type": "stream",
     "text": [
      "311/311 [==============================] - 0s 920us/step - loss: 1571624.1250 - mae: 917.3395 - rmse: 1231.2256 - val_loss: 1515317.6250 - val_mae: 890.9792 - val_rmse: 1207.7114\n",
      "Epoch 166/600\n",
      "311/311 [==============================] - 0s 949us/step - loss: 1569959.0000 - mae: 914.3934 - rmse: 1229.4482 - val_loss: 1514352.7500 - val_mae: 893.5446 - val_rmse: 1207.8120\n",
      "Epoch 167/600\n",
      "311/311 [==============================] - 0s 955us/step - loss: 1568269.6250 - mae: 914.5295 - rmse: 1225.5760 - val_loss: 1512304.7500 - val_mae: 891.1570 - val_rmse: 1206.7228\n",
      "Epoch 168/600\n",
      "311/311 [==============================] - 0s 922us/step - loss: 1566412.2500 - mae: 914.8561 - rmse: 1230.7515 - val_loss: 1510380.6250 - val_mae: 887.0525 - val_rmse: 1205.4141\n",
      "Epoch 169/600\n",
      "311/311 [==============================] - 0s 930us/step - loss: 1564613.2500 - mae: 913.6967 - rmse: 1230.1298 - val_loss: 1508849.5000 - val_mae: 887.8275 - val_rmse: 1205.0221\n",
      "Epoch 170/600\n",
      "311/311 [==============================] - 0s 928us/step - loss: 1562826.8750 - mae: 910.9553 - rmse: 1228.0077 - val_loss: 1507846.3750 - val_mae: 890.3590 - val_rmse: 1205.1050\n",
      "Epoch 171/600\n",
      "311/311 [==============================] - 0s 928us/step - loss: 1561369.3750 - mae: 913.4296 - rmse: 1225.8379 - val_loss: 1505786.2500 - val_mae: 886.9992 - val_rmse: 1203.8622\n",
      "Epoch 172/600\n",
      "311/311 [==============================] - 0s 926us/step - loss: 1559628.3750 - mae: 911.2769 - rmse: 1229.2036 - val_loss: 1504227.2500 - val_mae: 885.2073 - val_rmse: 1203.0544\n",
      "Epoch 173/600\n",
      "311/311 [==============================] - 0s 918us/step - loss: 1558252.1250 - mae: 909.2627 - rmse: 1225.5800 - val_loss: 1502864.5000 - val_mae: 886.0167 - val_rmse: 1202.7305\n",
      "Epoch 174/600\n",
      "311/311 [==============================] - 0s 923us/step - loss: 1556530.6250 - mae: 910.7536 - rmse: 1224.5950 - val_loss: 1501502.5000 - val_mae: 885.9865 - val_rmse: 1202.2799\n",
      "Epoch 175/600\n",
      "311/311 [==============================] - 0s 932us/step - loss: 1554844.1250 - mae: 907.5177 - rmse: 1224.4846 - val_loss: 1500603.6250 - val_mae: 887.6248 - val_rmse: 1202.2632\n",
      "Epoch 176/600\n",
      "311/311 [==============================] - 0s 917us/step - loss: 1553930.6250 - mae: 909.2736 - rmse: 1226.5958 - val_loss: 1498949.1250 - val_mae: 885.9363 - val_rmse: 1201.4396\n",
      "Epoch 177/600\n",
      "311/311 [==============================] - 0s 933us/step - loss: 1552079.1250 - mae: 908.1232 - rmse: 1221.5153 - val_loss: 1497732.1250 - val_mae: 885.7980 - val_rmse: 1201.0226\n",
      "Epoch 178/600\n",
      "311/311 [==============================] - 0s 926us/step - loss: 1550577.3750 - mae: 908.8818 - rmse: 1223.4680 - val_loss: 1495971.8750 - val_mae: 882.5076 - val_rmse: 1199.9014\n",
      "Epoch 179/600\n",
      "311/311 [==============================] - 0s 927us/step - loss: 1549144.1250 - mae: 905.9427 - rmse: 1219.8157 - val_loss: 1494882.6250 - val_mae: 883.3827 - val_rmse: 1199.6921\n",
      "Epoch 180/600\n",
      "311/311 [==============================] - 0s 936us/step - loss: 1547838.5000 - mae: 905.1956 - rmse: 1221.0898 - val_loss: 1494483.2500 - val_mae: 885.8703 - val_rmse: 1199.9945\n",
      "Epoch 181/600\n",
      "311/311 [==============================] - 0s 931us/step - loss: 1546349.0000 - mae: 907.4167 - rmse: 1221.2639 - val_loss: 1492251.2500 - val_mae: 879.6921 - val_rmse: 1198.2343\n",
      "Epoch 182/600\n",
      "311/311 [==============================] - 0s 964us/step - loss: 1545285.3750 - mae: 904.5321 - rmse: 1220.1672 - val_loss: 1491294.2500 - val_mae: 881.3672 - val_rmse: 1198.1990\n",
      "Epoch 183/600\n",
      "311/311 [==============================] - 0s 932us/step - loss: 1543828.0000 - mae: 904.2732 - rmse: 1221.3428 - val_loss: 1490375.2500 - val_mae: 881.9958 - val_rmse: 1198.0109\n",
      "Epoch 184/600\n",
      "311/311 [==============================] - 0s 953us/step - loss: 1542760.7500 - mae: 904.8694 - rmse: 1220.1469 - val_loss: 1488905.3750 - val_mae: 878.1566 - val_rmse: 1196.9017\n",
      "Epoch 185/600\n",
      "311/311 [==============================] - 0s 961us/step - loss: 1541624.3750 - mae: 902.9948 - rmse: 1219.5459 - val_loss: 1487913.5000 - val_mae: 878.9669 - val_rmse: 1196.7144\n",
      "Epoch 186/600\n",
      "311/311 [==============================] - 0s 987us/step - loss: 1540434.6250 - mae: 902.5566 - rmse: 1217.1536 - val_loss: 1487220.0000 - val_mae: 880.5944 - val_rmse: 1196.7668\n",
      "Epoch 187/600\n",
      "311/311 [==============================] - 0s 940us/step - loss: 1539293.5000 - mae: 902.2612 - rmse: 1220.7709 - val_loss: 1486251.1250 - val_mae: 880.1294 - val_rmse: 1196.3815\n",
      "Epoch 188/600\n",
      "311/311 [==============================] - 0s 941us/step - loss: 1538159.5000 - mae: 903.3055 - rmse: 1216.4459 - val_loss: 1484962.8750 - val_mae: 875.9412 - val_rmse: 1195.2773\n",
      "Epoch 189/600\n",
      "311/311 [==============================] - 0s 1ms/step - loss: 1537108.8750 - mae: 901.1681 - rmse: 1218.5554 - val_loss: 1484174.6250 - val_mae: 877.8923 - val_rmse: 1195.3478\n",
      "Epoch 190/600\n",
      "311/311 [==============================] - 0s 941us/step - loss: 1536289.2500 - mae: 901.6796 - rmse: 1218.8344 - val_loss: 1483297.7500 - val_mae: 877.4113 - val_rmse: 1194.9935\n",
      "Epoch 191/600\n",
      "311/311 [==============================] - 0s 975us/step - loss: 1535209.7500 - mae: 899.9946 - rmse: 1218.5712 - val_loss: 1482744.6250 - val_mae: 878.5722 - val_rmse: 1195.0201\n",
      "Epoch 192/600\n",
      "311/311 [==============================] - 0s 968us/step - loss: 1534175.0000 - mae: 900.1927 - rmse: 1215.1287 - val_loss: 1481762.0000 - val_mae: 877.3527 - val_rmse: 1194.5084\n",
      "Epoch 193/600\n",
      "311/311 [==============================] - 0s 1ms/step - loss: 1533420.3750 - mae: 899.7379 - rmse: 1216.6903 - val_loss: 1480926.8750 - val_mae: 876.7126 - val_rmse: 1194.1399\n",
      "Epoch 194/600\n",
      "311/311 [==============================] - 0s 940us/step - loss: 1532404.0000 - mae: 899.8176 - rmse: 1216.1405 - val_loss: 1479998.5000 - val_mae: 875.1013 - val_rmse: 1193.5823\n",
      "Epoch 195/600\n",
      "311/311 [==============================] - 0s 937us/step - loss: 1531698.5000 - mae: 898.8275 - rmse: 1215.3350 - val_loss: 1479304.0000 - val_mae: 875.2856 - val_rmse: 1193.4005\n",
      "Epoch 196/600\n",
      "311/311 [==============================] - 0s 929us/step - loss: 1530900.3750 - mae: 899.3471 - rmse: 1214.0370 - val_loss: 1478513.7500 - val_mae: 874.0209 - val_rmse: 1192.9481\n",
      "Epoch 197/600\n",
      "311/311 [==============================] - 0s 956us/step - loss: 1530079.8750 - mae: 897.7482 - rmse: 1217.1783 - val_loss: 1477848.3750 - val_mae: 874.3315 - val_rmse: 1192.7994\n",
      "Epoch 198/600\n",
      "311/311 [==============================] - 0s 928us/step - loss: 1529665.2500 - mae: 898.1863 - rmse: 1215.2771 - val_loss: 1477269.0000 - val_mae: 874.7468 - val_rmse: 1192.6979\n",
      "Epoch 199/600\n",
      "311/311 [==============================] - 0s 931us/step - loss: 1528252.2500 - mae: 897.8090 - rmse: 1213.0298 - val_loss: 1476464.2500 - val_mae: 872.0850 - val_rmse: 1192.0114\n",
      "Epoch 200/600\n",
      "311/311 [==============================] - 0s 987us/step - loss: 1527900.8750 - mae: 897.2282 - rmse: 1212.0276 - val_loss: 1475837.2500 - val_mae: 872.5073 - val_rmse: 1191.8900\n",
      "Epoch 201/600\n",
      "311/311 [==============================] - 0s 963us/step - loss: 1527009.6250 - mae: 896.4744 - rmse: 1211.6556 - val_loss: 1475218.1250 - val_mae: 871.9213 - val_rmse: 1191.6116\n",
      "Epoch 202/600\n",
      "311/311 [==============================] - 0s 936us/step - loss: 1526332.8750 - mae: 895.7095 - rmse: 1212.3241 - val_loss: 1474785.5000 - val_mae: 873.5348 - val_rmse: 1191.7554\n",
      "Epoch 203/600\n",
      "311/311 [==============================] - 0s 948us/step - loss: 1525505.5000 - mae: 896.9125 - rmse: 1213.2889 - val_loss: 1474088.8750 - val_mae: 871.6414 - val_rmse: 1191.2339\n",
      "Epoch 204/600\n",
      "311/311 [==============================] - 0s 947us/step - loss: 1525131.7500 - mae: 895.5264 - rmse: 1213.6497 - val_loss: 1473576.2500 - val_mae: 872.2039 - val_rmse: 1191.1799\n",
      "Epoch 205/600\n",
      "311/311 [==============================] - 0s 931us/step - loss: 1524328.3750 - mae: 895.6851 - rmse: 1213.8048 - val_loss: 1473058.0000 - val_mae: 871.9742 - val_rmse: 1190.9937\n",
      "Epoch 206/600\n",
      "311/311 [==============================] - 0s 908us/step - loss: 1523718.5000 - mae: 893.6833 - rmse: 1212.3416 - val_loss: 1473089.7500 - val_mae: 874.4773 - val_rmse: 1191.4498\n",
      "Epoch 207/600\n"
     ]
    },
    {
     "name": "stdout",
     "output_type": "stream",
     "text": [
      "311/311 [==============================] - 0s 932us/step - loss: 1522957.7500 - mae: 894.5020 - rmse: 1213.1693 - val_loss: 1473276.7500 - val_mae: 876.1731 - val_rmse: 1191.8298\n",
      "Epoch 208/600\n",
      "311/311 [==============================] - 0s 955us/step - loss: 1522767.1250 - mae: 895.5874 - rmse: 1211.7964 - val_loss: 1471576.3750 - val_mae: 871.3342 - val_rmse: 1190.4661\n",
      "Epoch 209/600\n",
      "311/311 [==============================] - 0s 923us/step - loss: 1522306.0000 - mae: 894.6951 - rmse: 1210.4219 - val_loss: 1471031.3750 - val_mae: 870.1063 - val_rmse: 1190.1064\n",
      "Epoch 210/600\n",
      "311/311 [==============================] - 0s 926us/step - loss: 1522093.6250 - mae: 894.1310 - rmse: 1209.2654 - val_loss: 1470769.7500 - val_mae: 871.4857 - val_rmse: 1190.2716\n",
      "Epoch 211/600\n",
      "311/311 [==============================] - 0s 933us/step - loss: 1521090.1250 - mae: 893.6462 - rmse: 1210.7712 - val_loss: 1470204.2500 - val_mae: 870.2213 - val_rmse: 1189.8923\n",
      "Epoch 212/600\n",
      "311/311 [==============================] - 0s 933us/step - loss: 1520575.7500 - mae: 893.8057 - rmse: 1208.7728 - val_loss: 1469757.2500 - val_mae: 868.8408 - val_rmse: 1189.5406\n",
      "Epoch 213/600\n",
      "311/311 [==============================] - 0s 927us/step - loss: 1520430.2500 - mae: 892.0458 - rmse: 1210.8063 - val_loss: 1469749.5000 - val_mae: 871.7729 - val_rmse: 1190.0479\n",
      "Epoch 214/600\n",
      "311/311 [==============================] - 0s 923us/step - loss: 1519969.7500 - mae: 893.6479 - rmse: 1210.6053 - val_loss: 1469126.3750 - val_mae: 870.2686 - val_rmse: 1189.6110\n",
      "Epoch 215/600\n",
      "311/311 [==============================] - 0s 960us/step - loss: 1519018.1250 - mae: 891.5259 - rmse: 1209.9863 - val_loss: 1469062.7500 - val_mae: 871.5562 - val_rmse: 1189.8286\n",
      "Epoch 216/600\n",
      "311/311 [==============================] - 0s 996us/step - loss: 1518672.8750 - mae: 893.8074 - rmse: 1211.0718 - val_loss: 1468273.3750 - val_mae: 868.6724 - val_rmse: 1189.1021\n",
      "Epoch 217/600\n",
      "311/311 [==============================] - 0s 931us/step - loss: 1518737.7500 - mae: 892.9948 - rmse: 1210.1366 - val_loss: 1468039.2500 - val_mae: 865.6616 - val_rmse: 1188.5583\n",
      "Epoch 218/600\n",
      "311/311 [==============================] - 0s 962us/step - loss: 1518322.0000 - mae: 890.9897 - rmse: 1210.6436 - val_loss: 1467587.0000 - val_mae: 868.1671 - val_rmse: 1188.8276\n",
      "Epoch 219/600\n",
      "311/311 [==============================] - 0s 919us/step - loss: 1517651.8750 - mae: 891.5705 - rmse: 1210.7802 - val_loss: 1467256.7500 - val_mae: 867.2457 - val_rmse: 1188.5862\n",
      "Epoch 220/600\n",
      "311/311 [==============================] - 0s 926us/step - loss: 1517490.1250 - mae: 891.9521 - rmse: 1211.8757 - val_loss: 1467056.3750 - val_mae: 868.5080 - val_rmse: 1188.7495\n",
      "Epoch 221/600\n",
      "311/311 [==============================] - 0s 922us/step - loss: 1516979.6250 - mae: 891.3157 - rmse: 1210.6855 - val_loss: 1467157.5000 - val_mae: 870.4611 - val_rmse: 1189.1362\n",
      "Epoch 222/600\n",
      "311/311 [==============================] - 0s 916us/step - loss: 1516706.6250 - mae: 891.3131 - rmse: 1209.3528 - val_loss: 1466429.7500 - val_mae: 867.8225 - val_rmse: 1188.4645\n",
      "Epoch 223/600\n",
      "311/311 [==============================] - 0s 919us/step - loss: 1516310.6250 - mae: 891.5435 - rmse: 1211.4358 - val_loss: 1466119.7500 - val_mae: 866.0894 - val_rmse: 1188.0959\n",
      "Epoch 224/600\n",
      "311/311 [==============================] - 0s 976us/step - loss: 1515735.1250 - mae: 890.0610 - rmse: 1207.9958 - val_loss: 1466104.2500 - val_mae: 869.0566 - val_rmse: 1188.6031\n",
      "Epoch 225/600\n",
      "311/311 [==============================] - 0s 918us/step - loss: 1515881.6250 - mae: 890.5385 - rmse: 1208.9956 - val_loss: 1466163.0000 - val_mae: 870.1929 - val_rmse: 1188.8380\n",
      "Epoch 226/600\n",
      "311/311 [==============================] - 0s 985us/step - loss: 1515488.8750 - mae: 891.7632 - rmse: 1208.7179 - val_loss: 1465501.0000 - val_mae: 868.2731 - val_rmse: 1188.3086\n",
      "Epoch 227/600\n",
      "311/311 [==============================] - 0s 985us/step - loss: 1515494.6250 - mae: 889.8558 - rmse: 1209.8433 - val_loss: 1465198.2500 - val_mae: 867.8571 - val_rmse: 1188.1508\n",
      "Epoch 228/600\n",
      "311/311 [==============================] - 0s 931us/step - loss: 1514908.6250 - mae: 890.3879 - rmse: 1208.8307 - val_loss: 1465104.2500 - val_mae: 868.5308 - val_rmse: 1188.2532\n"
     ]
    }
   ],
   "source": [
    "from tensorflow.keras.models import Sequential\n",
    "from tensorflow.keras.layers import Dense\n",
    "from tensorflow.keras.optimizers import Adam\n",
    "from tensorflow.keras.callbacks import TensorBoard\n",
    "from tensorflow.keras.callbacks import EarlyStopping\n",
    "import datetime\n",
    "\n",
    "import tensorflow.keras.backend as K\n",
    "\n",
    "def rmse(y_true, y_pred):\n",
    "    return K.sqrt(K.mean(K.square(y_pred - y_true)))\n",
    "\n",
    "input_dim = x_train.shape[1]\n",
    "\n",
    "\n",
    "early_stopping = EarlyStopping(\n",
    "    monitor='val_rmse',\n",
    "    patience=5,\n",
    "    restore_best_weights=True,\n",
    "    mode='min'  #minimize RMSE\n",
    ")\n",
    "model = Sequential([\n",
    "    Dense(20, activation='relu', input_shape=(input_dim,)),\n",
    "    Dense(15, activation='relu'),\n",
    "    Dense(10, activation='relu'),\n",
    "    Dense(1)\n",
    "])\n",
    "\n",
    "model.compile(optimizer=Adam(learning_rate=0.0001),\n",
    "              loss='mse',\n",
    "              metrics=['mae', rmse])\n",
    "\n",
    "model.summary()\n",
    "\n",
    "\n",
    "log_dir = \"logs/fit/\" + datetime.datetime.now().strftime(\"%Y%m%d-%H%M%S\")\n",
    "tensorboard_callback = TensorBoard(log_dir=log_dir, histogram_freq=1)\n",
    "\n",
    "y_train_array = np.array(y_train).reshape(-1)  \n",
    "y_test_array = np.array(y_test).reshape(-1)   \n",
    "\n",
    "\n",
    "print(\"x_train shape:\", x_train.shape)\n",
    "print(\"y_train shape after reshaping:\", y_train_array.shape)\n",
    "\n",
    "history = model.fit(\n",
    "    x_train, y_train_array,\n",
    "    epochs=600,\n",
    "    batch_size=32,\n",
    "    validation_data=(x_test, y_test_array),\n",
    "    callbacks=[tensorboard_callback, early_stopping],\n",
    "    verbose=1\n",
    ")"
   ]
  },
  {
   "cell_type": "code",
   "execution_count": 85,
   "id": "a8d86437-1cdc-4a13-8d5a-44e5b310af6a",
   "metadata": {},
   "outputs": [
    {
     "name": "stdout",
     "output_type": "stream",
     "text": [
      "TensorFlow Model RMSE: 1210.8343339412017\n",
      "TensorFlow Model R² Score: 0.28560236701662745\n"
     ]
    }
   ],
   "source": [
    "from sklearn.metrics import mean_squared_error, r2_score\n",
    "import numpy as np\n",
    "\n",
    "y_pred = model.predict(x_test, verbose=0)\n",
    "\n",
    "\n",
    "y_pred = y_pred.flatten()\n",
    "\n",
    "y_true = y_test_array.flatten()\n",
    "\n",
    "rmse = np.sqrt(mean_squared_error(y_true, y_pred))\n",
    "r2 = r2_score(y_true, y_pred)\n",
    "\n",
    "print(\"TensorFlow Model RMSE:\", rmse)\n",
    "print(\"TensorFlow Model R² Score:\", r2)\n"
   ]
  },
  {
   "cell_type": "code",
   "execution_count": 86,
   "id": "474593e6-cc83-45fe-bd32-6758287e2a15",
   "metadata": {},
   "outputs": [
    {
     "data": {
      "image/png": "[encoded data removed]",
      "text/plain": [
       "<Figure size 864x360 with 2 Axes>"
      ]
     },
     "metadata": {
      "needs_background": "light"
     },
     "output_type": "display_data"
    }
   ],
   "source": [
    "plt.figure(figsize=(12, 5))\n",
    "\n",
    "\n",
    "plt.subplot(1, 2, 1)\n",
    "plt.plot(history.history['loss'])\n",
    "plt.plot(history.history['val_loss'])\n",
    "plt.title('Model Loss')\n",
    "plt.ylabel('Loss')\n",
    "plt.xlabel('Epoch')\n",
    "plt.legend(['Train', 'Validation'], loc='upper right')\n",
    "\n",
    "# training & validation mean absolute error\n",
    "plt.subplot(1, 2, 2)\n",
    "plt.plot(history.history['mae'])\n",
    "plt.plot(history.history['val_mae'])\n",
    "plt.title('Model Mean Absolute Error')\n",
    "plt.ylabel('MAE')\n",
    "plt.xlabel('Epoch')\n",
    "plt.legend(['Train', 'Validation'], loc='upper right')\n",
    "\n",
    "plt.tight_layout()\n",
    "plt.show()\n"
   ]
  },
  {
   "cell_type": "code",
   "execution_count": 87,
   "id": "e760e092",
   "metadata": {},
   "outputs": [
    {
     "name": "stdout",
     "output_type": "stream",
     "text": [
      "For model comparison:\n",
      "x_train shape: (9942, 42)\n",
      "y_train shape: (9942,)\n",
      "x_test shape: (4262, 42)\n",
      "y_test shape: (4262,)\n",
      "                             RMSE        R²\n",
      "Linear Regression     1215.411198  0.280191\n",
      "Decision Tree         1716.345873 -0.435424\n",
      "Random Forest         1269.800976  0.214327\n",
      "Gradient Boosting     1204.621859  0.292914\n",
      "AdaBoost              1303.043310  0.172652\n",
      "SVR                   1583.381497 -0.221636\n",
      "Neural Network (TF2)  1210.834334  0.285602\n"
     ]
    },
    {
     "data": {
      "image/png": "[encoded data removed]",
      "text/plain": [
       "<Figure size 864x432 with 1 Axes>"
      ]
     },
     "metadata": {
      "needs_background": "light"
     },
     "output_type": "display_data"
    },
    {
     "data": {
      "image/png": "[encoded data removed]",
      "text/plain": [
       "<Figure size 864x432 with 1 Axes>"
      ]
     },
     "metadata": {
      "needs_background": "light"
     },
     "output_type": "display_data"
    }
   ],
   "source": [
    "# Compare all models\n",
    "models = {\n",
    "    'Linear Regression': LinearRegression(),\n",
    "    'Decision Tree': DecisionTreeRegressor(),\n",
    "    'Random Forest': RandomForestRegressor(n_estimators=100),\n",
    "    'Gradient Boosting': GradientBoostingRegressor(),\n",
    "    'AdaBoost': AdaBoostRegressor(n_estimators=100),\n",
    "    'SVR': SVR(),\n",
    "    'Neural Network (TF2)': None  \n",
    "}\n",
    "\n",
    "results = {}\n",
    "\n",
    "x_train_array = np.array(x_train)\n",
    "y_train_array = np.array(y_train).reshape(-1)  \n",
    "x_test_array = np.array(x_test)\n",
    "y_test_array = np.array(y_test).reshape(-1)   \n",
    "\n",
    "print(\"For model comparison:\")\n",
    "print(\"x_train shape:\", x_train_array.shape)\n",
    "print(\"y_train shape:\", y_train_array.shape)\n",
    "print(\"x_test shape:\", x_test_array.shape)\n",
    "print(\"y_test shape:\", y_test_array.shape)\n",
    "\n",
    "\n",
    "for name, model_instance in models.items():\n",
    "    if model_instance is not None: \n",
    "        model_instance.fit(x_train_array, y_train_array)\n",
    "        y_pred = model_instance.predict(x_test_array)\n",
    "        rmse = np.sqrt(mean_squared_error(y_test_array, y_pred))\n",
    "        r2 = r2_score(y_test_array, y_pred)\n",
    "        results[name] = {'RMSE': rmse, 'R²': r2}\n",
    "\n",
    "\n",
    "nn_pred = model.predict(x_test_array).flatten() \n",
    "nn_rmse = np.sqrt(mean_squared_error(y_test_array, nn_pred))\n",
    "nn_r2 = r2_score(y_test_array, nn_pred)\n",
    "results['Neural Network (TF2)'] = {'RMSE': nn_rmse, 'R²': nn_r2}\n",
    "\n",
    "\n",
    "results_df = pd.DataFrame(results).T\n",
    "print(results_df)\n",
    "\n",
    "# comparison of RMSE\n",
    "plt.figure(figsize=(12, 6))\n",
    "results_df['RMSE'].plot(kind='bar', color='skyblue')\n",
    "plt.title('Model Comparison - RMSE (lower is better)')\n",
    "plt.ylabel('RMSE')\n",
    "plt.xticks(rotation=45)\n",
    "plt.tight_layout()\n",
    "plt.show()\n",
    "\n",
    "# comparison of R squared\n",
    "plt.figure(figsize=(12, 6))\n",
    "results_df['R²'].plot(kind='bar', color='lightgreen')\n",
    "plt.title('Model Comparison - R² Score (higher is better)')\n",
    "plt.ylabel('R² Score')\n",
    "plt.xticks(rotation=45)\n",
    "plt.axhline(y=0, color='r', linestyle='-', alpha=0.3)\n",
    "plt.tight_layout()\n",
    "plt.show()"
   ]
  },
  {
   "cell_type": "code",
   "execution_count": 89,
   "id": "6f9fcded",
   "metadata": {},
   "outputs": [
    {
     "name": "stdout",
     "output_type": "stream",
     "text": [
      "Gradient Boosting submission file saved successfully!\n"
     ]
    },
    {
     "name": "stderr",
     "output_type": "stream",
     "text": [
      "C:\\Users\\Uma_pc\\anaconda3\\envs\\tensor\\lib\\site-packages\\sklearn\\base.py:443: UserWarning: X has feature names, but GradientBoostingRegressor was fitted without feature names\n",
      "  warnings.warn(\n"
     ]
    }
   ],
   "source": [
    "original_test = pd.read_csv(\"test_AbJTz2l.csv\")\n",
    "\n",
    "gb_model = GradientBoostingRegressor()\n",
    "gb_model.fit(x_train_array, y_train_array)\n",
    "\n",
    "\n",
    "submission_predictions = gb_model.predict(test.drop('Item_Outlet_Sales', axis=1))\n",
    "\n",
    "\n",
    "submission = pd.DataFrame({\n",
    "    'Item_Identifier': original_test['Item_Identifier'],\n",
    "    'Outlet_Identifier': original_test['Outlet_Identifier'],\n",
    "    'Item_Outlet_Sales': submission_predictions\n",
    "})\n",
    "\n",
    "\n",
    "submission.to_csv('submission_gradient_boosting.csv', index=False)\n",
    "print(\"Gradient Boosting submission file saved successfully!\")"
   ]
  },
  {
   "cell_type": "code",
   "execution_count": 90,
   "id": "719c461b",
   "metadata": {},
   "outputs": [
    {
     "data": {
      "text/plain": [
       "Index(['Item_Identifier', 'Item_Weight', 'Item_Fat_Content', 'Item_Visibility',\n",
       "       'Item_Type', 'Item_MRP', 'Outlet_Identifier',\n",
       "       'Outlet_Establishment_Year', 'Outlet_Size', 'Outlet_Location_Type',\n",
       "       'Outlet_Type'],\n",
       "      dtype='object')"
      ]
     },
     "execution_count": 90,
     "metadata": {},
     "output_type": "execute_result"
    }
   ],
   "source": [
    "original_test = pd.read_csv(\"test_AbJTz2l.csv\")\n",
    "original_test.columns"
   ]
  },
  {
   "cell_type": "code",
   "execution_count": 79,
   "id": "3f2f4360",
   "metadata": {},
   "outputs": [
    {
     "data": {
      "text/plain": [
       "0       958.752\n",
       "1       958.752\n",
       "2       958.752\n",
       "3       958.752\n",
       "4       958.752\n",
       "         ...   \n",
       "5676    958.752\n",
       "5677    958.752\n",
       "5678    958.752\n",
       "5679    958.752\n",
       "5680    958.752\n",
       "Name: Item_Outlet_Sales, Length: 5681, dtype: float64"
      ]
     },
     "execution_count": 79,
     "metadata": {},
     "output_type": "execute_result"
    }
   ],
   "source": [
    "test['Item_Outlet_Sales']"
   ]
  },
  {
   "cell_type": "code",
   "execution_count": 80,
   "id": "a79b811d",
   "metadata": {},
   "outputs": [
    {
     "data": {
      "text/plain": [
       "array([1356.1562098 , 1225.982012  ,  606.59968472, ..., 1430.27114026,\n",
       "       2597.91249674, 1180.13713294])"
      ]
     },
     "execution_count": 80,
     "metadata": {},
     "output_type": "execute_result"
    }
   ],
   "source": [
    "submission_predictions"
   ]
  },
  {
   "cell_type": "code",
   "execution_count": null,
   "id": "bd8d04ee",
   "metadata": {},
   "outputs": [],
   "source": []
  }
 ],
 "metadata": {
  "kernelspec": {
   "display_name": "Python 3 (ipykernel)",
   "language": "python",
   "name": "python3"
  },
  "language_info": {
   "codemirror_mode": {
    "name": "ipython",
    "version": 3
   },
   "file_extension": ".py",
   "mimetype": "text/x-python",
   "name": "python",
   "nbconvert_exporter": "python",
   "pygments_lexer": "ipython3",
   "version": "3.9.12"
  }
 },
 "nbformat": 4,
 "nbformat_minor": 5
}
