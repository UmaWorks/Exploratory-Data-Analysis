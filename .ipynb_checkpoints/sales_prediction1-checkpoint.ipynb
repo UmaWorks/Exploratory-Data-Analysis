{
 "cells": [
  {
   "cell_type": "code",
   "execution_count": 1,
   "id": "87ada86e-511b-4c57-a803-361affc8e7af",
   "metadata": {},
   "outputs": [],
   "source": [
    "import numpy as np\n",
    "import pandas as pd\n",
    "\n",
    "import matplotlib.pyplot as plt\n",
    "import seaborn as sns\n"
   ]
  },
  {
   "cell_type": "code",
   "execution_count": 2,
   "id": "087688cd-90d6-4437-b441-9bcc980edc0d",
   "metadata": {},
   "outputs": [
    {
     "data": {
      "text/html": [
       "<div>\n",
       "<style scoped>\n",
       "    .dataframe tbody tr th:only-of-type {\n",
       "        vertical-align: middle;\n",
       "    }\n",
       "\n",
       "    .dataframe tbody tr th {\n",
       "        vertical-align: top;\n",
       "    }\n",
       "\n",
       "    .dataframe thead th {\n",
       "        text-align: right;\n",
       "    }\n",
       "</style>\n",
       "<table border=\"1\" class=\"dataframe\">\n",
       "  <thead>\n",
       "    <tr style=\"text-align: right;\">\n",
       "      <th></th>\n",
       "      <th>Item_Identifier</th>\n",
       "      <th>Item_Weight</th>\n",
       "      <th>Item_Fat_Content</th>\n",
       "      <th>Item_Visibility</th>\n",
       "      <th>Item_Type</th>\n",
       "      <th>Item_MRP</th>\n",
       "      <th>Outlet_Identifier</th>\n",
       "      <th>Outlet_Establishment_Year</th>\n",
       "      <th>Outlet_Size</th>\n",
       "      <th>Outlet_Location_Type</th>\n",
       "      <th>Outlet_Type</th>\n",
       "      <th>Item_Outlet_Sales</th>\n",
       "    </tr>\n",
       "  </thead>\n",
       "  <tbody>\n",
       "    <tr>\n",
       "      <th>0</th>\n",
       "      <td>FDA15</td>\n",
       "      <td>9.30</td>\n",
       "      <td>Low Fat</td>\n",
       "      <td>0.016047</td>\n",
       "      <td>Dairy</td>\n",
       "      <td>249.8092</td>\n",
       "      <td>OUT049</td>\n",
       "      <td>1999</td>\n",
       "      <td>Medium</td>\n",
       "      <td>Tier 1</td>\n",
       "      <td>Supermarket Type1</td>\n",
       "      <td>3735.1380</td>\n",
       "    </tr>\n",
       "    <tr>\n",
       "      <th>1</th>\n",
       "      <td>DRC01</td>\n",
       "      <td>5.92</td>\n",
       "      <td>Regular</td>\n",
       "      <td>0.019278</td>\n",
       "      <td>Soft Drinks</td>\n",
       "      <td>48.2692</td>\n",
       "      <td>OUT018</td>\n",
       "      <td>2009</td>\n",
       "      <td>Medium</td>\n",
       "      <td>Tier 3</td>\n",
       "      <td>Supermarket Type2</td>\n",
       "      <td>443.4228</td>\n",
       "    </tr>\n",
       "    <tr>\n",
       "      <th>2</th>\n",
       "      <td>FDN15</td>\n",
       "      <td>17.50</td>\n",
       "      <td>Low Fat</td>\n",
       "      <td>0.016760</td>\n",
       "      <td>Meat</td>\n",
       "      <td>141.6180</td>\n",
       "      <td>OUT049</td>\n",
       "      <td>1999</td>\n",
       "      <td>Medium</td>\n",
       "      <td>Tier 1</td>\n",
       "      <td>Supermarket Type1</td>\n",
       "      <td>2097.2700</td>\n",
       "    </tr>\n",
       "    <tr>\n",
       "      <th>3</th>\n",
       "      <td>FDX07</td>\n",
       "      <td>19.20</td>\n",
       "      <td>Regular</td>\n",
       "      <td>0.000000</td>\n",
       "      <td>Fruits and Vegetables</td>\n",
       "      <td>182.0950</td>\n",
       "      <td>OUT010</td>\n",
       "      <td>1998</td>\n",
       "      <td>NaN</td>\n",
       "      <td>Tier 3</td>\n",
       "      <td>Grocery Store</td>\n",
       "      <td>732.3800</td>\n",
       "    </tr>\n",
       "    <tr>\n",
       "      <th>4</th>\n",
       "      <td>NCD19</td>\n",
       "      <td>8.93</td>\n",
       "      <td>Low Fat</td>\n",
       "      <td>0.000000</td>\n",
       "      <td>Household</td>\n",
       "      <td>53.8614</td>\n",
       "      <td>OUT013</td>\n",
       "      <td>1987</td>\n",
       "      <td>High</td>\n",
       "      <td>Tier 3</td>\n",
       "      <td>Supermarket Type1</td>\n",
       "      <td>994.7052</td>\n",
       "    </tr>\n",
       "  </tbody>\n",
       "</table>\n",
       "</div>"
      ],
      "text/plain": [
       "  Item_Identifier  Item_Weight Item_Fat_Content  Item_Visibility  \\\n",
       "0           FDA15         9.30          Low Fat         0.016047   \n",
       "1           DRC01         5.92          Regular         0.019278   \n",
       "2           FDN15        17.50          Low Fat         0.016760   \n",
       "3           FDX07        19.20          Regular         0.000000   \n",
       "4           NCD19         8.93          Low Fat         0.000000   \n",
       "\n",
       "               Item_Type  Item_MRP Outlet_Identifier  \\\n",
       "0                  Dairy  249.8092            OUT049   \n",
       "1            Soft Drinks   48.2692            OUT018   \n",
       "2                   Meat  141.6180            OUT049   \n",
       "3  Fruits and Vegetables  182.0950            OUT010   \n",
       "4              Household   53.8614            OUT013   \n",
       "\n",
       "   Outlet_Establishment_Year Outlet_Size Outlet_Location_Type  \\\n",
       "0                       1999      Medium               Tier 1   \n",
       "1                       2009      Medium               Tier 3   \n",
       "2                       1999      Medium               Tier 1   \n",
       "3                       1998         NaN               Tier 3   \n",
       "4                       1987        High               Tier 3   \n",
       "\n",
       "         Outlet_Type  Item_Outlet_Sales  \n",
       "0  Supermarket Type1          3735.1380  \n",
       "1  Supermarket Type2           443.4228  \n",
       "2  Supermarket Type1          2097.2700  \n",
       "3      Grocery Store           732.3800  \n",
       "4  Supermarket Type1           994.7052  "
      ]
     },
     "execution_count": 2,
     "metadata": {},
     "output_type": "execute_result"
    }
   ],
   "source": [
    "train = pd.read_csv(\"train_v9rqX0R.csv\")\n",
    "\n",
    "test = pd.read_csv(\"test_AbJTz2l.csv\")\n",
    "\n",
    "\n",
    "train = train.copy()\n",
    "test = test.copy()\n",
    "\n",
    "train.head()\n"
   ]
  },
  {
   "cell_type": "code",
   "execution_count": 3,
   "id": "6878360d",
   "metadata": {},
   "outputs": [
    {
     "data": {
      "text/plain": [
       "Index(['Item_Identifier', 'Item_Weight', 'Item_Fat_Content', 'Item_Visibility',\n",
       "       'Item_Type', 'Item_MRP', 'Outlet_Identifier',\n",
       "       'Outlet_Establishment_Year', 'Outlet_Size', 'Outlet_Location_Type',\n",
       "       'Outlet_Type', 'Item_Outlet_Sales'],\n",
       "      dtype='object')"
      ]
     },
     "execution_count": 3,
     "metadata": {},
     "output_type": "execute_result"
    }
   ],
   "source": [
    "train.columns"
   ]
  },
  {
   "cell_type": "markdown",
   "id": "f053d38c",
   "metadata": {},
   "source": [
    "## Item_Weight and Outlet_Size are missing in both train and test. it must  be imputed before modeling"
   ]
  },
  {
   "cell_type": "code",
   "execution_count": 4,
   "id": "52e9427e",
   "metadata": {},
   "outputs": [
    {
     "data": {
      "image/png": "[encoded data removed]",
      "text/plain": [
       "<Figure size 1152x432 with 2 Axes>"
      ]
     },
     "metadata": {
      "needs_background": "light"
     },
     "output_type": "display_data"
    }
   ],
   "source": [
    "\n",
    "missing_train = train.isnull().sum()\n",
    "missing_train = missing_train[missing_train > 0].sort_values(ascending=False)\n",
    "\n",
    "missing_test = test.isnull().sum()\n",
    "missing_test = missing_test[missing_test > 0].sort_values(ascending=False)\n",
    "\n",
    "\n",
    "fig, axes = plt.subplots(1, 2, figsize=(16, 6), sharey=True)\n",
    "\n",
    "# Train\n",
    "axes[0].bar(missing_train.index, missing_train.values, color='tomato')\n",
    "axes[0].set_title('Missing Values in Train Set')\n",
    "axes[0].set_xlabel('Columns')\n",
    "axes[0].set_ylabel('Number of Missing Values')\n",
    "axes[0].tick_params(axis='x', rotation=90)\n",
    "\n",
    "# Test\n",
    "axes[1].bar(missing_test.index, missing_test.values, color='skyblue')\n",
    "axes[1].set_title('Missing Values in Test Set')\n",
    "axes[1].set_xlabel('Columns')\n",
    "axes[1].tick_params(axis='x', rotation=90)\n",
    "\n",
    "plt.tight_layout()\n",
    "plt.show()\n"
   ]
  },
  {
   "cell_type": "markdown",
   "id": "988baa65",
   "metadata": {},
   "source": [
    "## Distribution is right-skewed (long tail): Most items sell below ₹4000, few go beyond ₹10,000."
   ]
  },
  {
   "cell_type": "code",
   "execution_count": 5,
   "id": "f167b017-73cf-4ef3-8a6e-65874c73cd5a",
   "metadata": {},
   "outputs": [
    {
     "data": {
      "image/png": "[encoded data removed]",
      "text/plain": [
       "<Figure size 432x288 with 1 Axes>"
      ]
     },
     "metadata": {
      "needs_background": "light"
     },
     "output_type": "display_data"
    }
   ],
   "source": [
    "plt.hist(train['Item_Outlet_Sales'], bins = 20)\n",
    "plt.title('Target Variable')\n",
    "plt.xlabel('Item Outlet Sales')\n",
    "plt.ylabel('count')\n",
    "plt.show()"
   ]
  },
  {
   "cell_type": "code",
   "execution_count": 6,
   "id": "46654e13",
   "metadata": {},
   "outputs": [
    {
     "data": {
      "image/png": "[encoded data removed]",
      "text/plain": [
       "<Figure size 864x360 with 2 Axes>"
      ]
     },
     "metadata": {
      "needs_background": "light"
     },
     "output_type": "display_data"
    }
   ],
   "source": [
    "import matplotlib.pyplot as plt\n",
    "import numpy as np\n",
    "\n",
    "plt.figure(figsize=(12, 5))\n",
    "\n",
    "\n",
    "plt.subplot(1, 2, 1)\n",
    "plt.hist(train['Item_Outlet_Sales'], bins=30, color='skyblue')\n",
    "plt.title('Original Distribution of Item_Outlet_Sales(target)')\n",
    "plt.xlabel('Sales')\n",
    "plt.ylabel('Frequency')\n",
    "\n",
    "\n",
    "plt.subplot(1, 2, 2)\n",
    "plt.hist(np.log1p(train['Item_Outlet_Sales']), bins=30, color='salmon')\n",
    "plt.title('Log-Transformed Distribution of Item_Outlet_Sales(target)')\n",
    "plt.xlabel('log(1 + Sales)')\n",
    "plt.ylabel('Frequency')\n",
    "\n",
    "plt.tight_layout()\n",
    "plt.show()\n"
   ]
  },
  {
   "cell_type": "markdown",
   "id": "a1ce6199",
   "metadata": {},
   "source": [
    "## Histogram and frequency chart shows uniform representation for Item_Identifier.(Very little variation as most items occur with similar frequency.)\n",
    "\n",
    "## It Might indicate product diversity is balanced in data"
   ]
  },
  {
   "cell_type": "code",
   "execution_count": 7,
   "id": "d3d09c53",
   "metadata": {},
   "outputs": [
    {
     "data": {
      "image/png": "[encoded data removed]",
      "text/plain": [
       "<Figure size 432x288 with 1 Axes>"
      ]
     },
     "metadata": {
      "needs_background": "light"
     },
     "output_type": "display_data"
    }
   ],
   "source": [
    "top_items = train['Item_Identifier'].value_counts().head(10)\n",
    "\n",
    "top_items.plot(kind='bar', color='skyblue')\n",
    "plt.title('Top 10 Most Frequent Items')\n",
    "plt.xlabel('Item Identifier')\n",
    "plt.ylabel('Frequency')\n",
    "plt.xticks(rotation=45)\n",
    "plt.tight_layout()\n",
    "plt.show()\n"
   ]
  },
  {
   "cell_type": "code",
   "execution_count": 8,
   "id": "f3fa4ea7-4c25-437d-9fd2-a7f400b7b2e0",
   "metadata": {},
   "outputs": [
    {
     "data": {
      "image/png": "[encoded data removed]",
      "text/plain": [
       "<Figure size 432x288 with 1 Axes>"
      ]
     },
     "metadata": {
      "needs_background": "light"
     },
     "output_type": "display_data"
    }
   ],
   "source": [
    "train['Item_Identifier'].value_counts().plot.hist()\n",
    "plt.title('Different types of item available in the store')\n",
    "plt.xlabel('Item Identifier')\n",
    "plt.ylabel('Number of Items')\n",
    "plt.legend()\n",
    "plt.show()"
   ]
  },
  {
   "cell_type": "markdown",
   "id": "afd99a77",
   "metadata": {},
   "source": [
    "## Duplicate categories (LF, low fat, reg etc.). it must be cleaned into 'Low Fat' and 'Regular'"
   ]
  },
  {
   "cell_type": "code",
   "execution_count": 9,
   "id": "6f018a97",
   "metadata": {},
   "outputs": [
    {
     "data": {
      "image/png": "[encoded data removed]",
      "text/plain": [
       "<Figure size 864x360 with 2 Axes>"
      ]
     },
     "metadata": {
      "needs_background": "light"
     },
     "output_type": "display_data"
    }
   ],
   "source": [
    "fat_counts = train['Item_Fat_Content'].value_counts()\n",
    "\n",
    "plt.figure(figsize=(12, 5))\n",
    "\n",
    "plt.subplot(1, 2, 1)\n",
    "fat_counts.plot(kind='bar', color='skyblue')\n",
    "plt.title('Bar Chart: Different varieties of fats')\n",
    "plt.xlabel('Fat')\n",
    "plt.ylabel('Number of Items')\n",
    "\n",
    "\n",
    "plt.subplot(1, 2, 2)\n",
    "fat_counts.plot.pie(autopct='%1.1f%%', startangle=140, shadow=True)\n",
    "plt.title('Pie Chart: Fat Content Proportion')\n",
    "plt.ylabel('')  \n",
    "\n",
    "plt.tight_layout()\n",
    "plt.show()\n"
   ]
  },
  {
   "cell_type": "markdown",
   "id": "3dd2f7ba",
   "metadata": {},
   "source": [
    "## Fruits and Vegetables, Snack Foods, and Household items are most frequent.These could indicate high-demand categories and affect sales patterns.\n",
    "\n"
   ]
  },
  {
   "cell_type": "code",
   "execution_count": 10,
   "id": "78e0e046",
   "metadata": {},
   "outputs": [
    {
     "data": {
      "image/png": "[encoded data removed]",
      "text/plain": [
       "<Figure size 432x288 with 1 Axes>"
      ]
     },
     "metadata": {
      "needs_background": "light"
     },
     "output_type": "display_data"
    }
   ],
   "source": [
    "item_type_counts = train['Item_Type'].value_counts()\n",
    "\n",
    "\n",
    "item_type_counts.sort_values(ascending=True).plot(kind='barh', color='coral')\n",
    "plt.title('Different Types of Items in Store')\n",
    "plt.xlabel('Number of Items')\n",
    "plt.ylabel('Item Type')\n",
    "plt.tight_layout()\n",
    "plt.show()\n"
   ]
  },
  {
   "cell_type": "markdown",
   "id": "7d12926d",
   "metadata": {},
   "source": [
    "## Consistent item count across most outlets, except OUT017 and OUT019 (lower counts)"
   ]
  },
  {
   "cell_type": "code",
   "execution_count": 11,
   "id": "d8e9aa6d",
   "metadata": {},
   "outputs": [
    {
     "data": {
      "image/png": "[encoded data removed]",
      "text/plain": [
       "<Figure size 432x288 with 1 Axes>"
      ]
     },
     "metadata": {
      "needs_background": "light"
     },
     "output_type": "display_data"
    }
   ],
   "source": [
    "train['Outlet_Identifier'].value_counts().sort_values().plot(kind='barh', color='lightgreen')\n",
    "plt.title('Number of Items per Outlet Identifier')\n",
    "plt.xlabel('Number of Items')\n",
    "plt.ylabel('Outlet ID')\n",
    "plt.tight_layout()\n",
    "plt.show()\n"
   ]
  },
  {
   "cell_type": "markdown",
   "id": "07d464a1",
   "metadata": {},
   "source": [
    "## Outlet_Size: Many are Medium or Small and some missing."
   ]
  },
  {
   "cell_type": "code",
   "execution_count": 12,
   "id": "13a559a6-c1a6-4ec6-920d-f3ea9d1c78cd",
   "metadata": {},
   "outputs": [
    {
     "data": {
      "image/png": "[encoded data removed]",
      "text/plain": [
       "<Figure size 432x288 with 1 Axes>"
      ]
     },
     "metadata": {
      "needs_background": "light"
     },
     "output_type": "display_data"
    }
   ],
   "source": [
    "train['Outlet_Size'].value_counts(normalize = True)\n",
    "train['Outlet_Size'].value_counts().plot.bar()\n",
    "plt.title('Different types of outlet sizes in the store')\n",
    "plt.xlabel('Item')\n",
    "plt.ylabel('Number of Items')\n",
    "plt.show()"
   ]
  },
  {
   "cell_type": "code",
   "execution_count": 13,
   "id": "3351cf93",
   "metadata": {},
   "outputs": [
    {
     "name": "stdout",
     "output_type": "stream",
     "text": [
      "no of missing outlets 2410\n"
     ]
    }
   ],
   "source": [
    "print(\"no of missing outlets\",train['Outlet_Size'].isnull().sum())"
   ]
  },
  {
   "cell_type": "code",
   "execution_count": 14,
   "id": "9a9d8cfc",
   "metadata": {},
   "outputs": [
    {
     "name": "stdout",
     "output_type": "stream",
     "text": [
      "['OUT010' 'OUT045' 'OUT017']\n"
     ]
    }
   ],
   "source": [
    "missing_outlets = train[train['Outlet_Size'].isnull()]['Outlet_Identifier'].unique()\n",
    "print(missing_outlets)"
   ]
  },
  {
   "cell_type": "code",
   "execution_count": 15,
   "id": "6e1acf6f",
   "metadata": {},
   "outputs": [
    {
     "data": {
      "text/html": [
       "<div>\n",
       "<style scoped>\n",
       "    .dataframe tbody tr th:only-of-type {\n",
       "        vertical-align: middle;\n",
       "    }\n",
       "\n",
       "    .dataframe tbody tr th {\n",
       "        vertical-align: top;\n",
       "    }\n",
       "\n",
       "    .dataframe thead th {\n",
       "        text-align: right;\n",
       "    }\n",
       "</style>\n",
       "<table border=\"1\" class=\"dataframe\">\n",
       "  <thead>\n",
       "    <tr style=\"text-align: right;\">\n",
       "      <th></th>\n",
       "      <th>Outlet_Identifier</th>\n",
       "      <th>Outlet_Type</th>\n",
       "      <th>Outlet_Location_Type</th>\n",
       "    </tr>\n",
       "  </thead>\n",
       "  <tbody>\n",
       "    <tr>\n",
       "      <th>3</th>\n",
       "      <td>OUT010</td>\n",
       "      <td>Grocery Store</td>\n",
       "      <td>Tier 3</td>\n",
       "    </tr>\n",
       "    <tr>\n",
       "      <th>8</th>\n",
       "      <td>OUT045</td>\n",
       "      <td>Supermarket Type1</td>\n",
       "      <td>Tier 2</td>\n",
       "    </tr>\n",
       "    <tr>\n",
       "      <th>9</th>\n",
       "      <td>OUT017</td>\n",
       "      <td>Supermarket Type1</td>\n",
       "      <td>Tier 2</td>\n",
       "    </tr>\n",
       "  </tbody>\n",
       "</table>\n",
       "</div>"
      ],
      "text/plain": [
       "  Outlet_Identifier        Outlet_Type Outlet_Location_Type\n",
       "3            OUT010      Grocery Store               Tier 3\n",
       "8            OUT045  Supermarket Type1               Tier 2\n",
       "9            OUT017  Supermarket Type1               Tier 2"
      ]
     },
     "execution_count": 15,
     "metadata": {},
     "output_type": "execute_result"
    }
   ],
   "source": [
    "train[train['Outlet_Identifier'].isin(missing_outlets)][['Outlet_Identifier', 'Outlet_Type', 'Outlet_Location_Type']].drop_duplicates()"
   ]
  },
  {
   "cell_type": "markdown",
   "id": "ede9aaf9",
   "metadata": {},
   "source": [
    "## out of three ids missing, OUT010 is a Grocery Store in Tier 3 and OUT045 and OUT017 are both Supermarket Type1 in Tier 2"
   ]
  },
  {
   "cell_type": "markdown",
   "id": "50dbea04",
   "metadata": {},
   "source": [
    "## OUT045, OUT017: Supermarket Type1 + Tier 2 :Impute as Small (matches mode).\n",
    "## OUT010: Grocery Store + Tier 3:  Not in summary, but Grocery Store mode is Small. so we can, Impute as Small."
   ]
  },
  {
   "cell_type": "code",
   "execution_count": 16,
   "id": "5ca6aebe",
   "metadata": {},
   "outputs": [
    {
     "data": {
      "text/html": [
       "<div>\n",
       "<style scoped>\n",
       "    .dataframe tbody tr th:only-of-type {\n",
       "        vertical-align: middle;\n",
       "    }\n",
       "\n",
       "    .dataframe tbody tr th {\n",
       "        vertical-align: top;\n",
       "    }\n",
       "\n",
       "    .dataframe thead th {\n",
       "        text-align: right;\n",
       "    }\n",
       "</style>\n",
       "<table border=\"1\" class=\"dataframe\">\n",
       "  <thead>\n",
       "    <tr style=\"text-align: right;\">\n",
       "      <th></th>\n",
       "      <th>Outlet_Type</th>\n",
       "      <th>Outlet_Location_Type</th>\n",
       "      <th>Outlet_Size</th>\n",
       "    </tr>\n",
       "  </thead>\n",
       "  <tbody>\n",
       "    <tr>\n",
       "      <th>0</th>\n",
       "      <td>Grocery Store</td>\n",
       "      <td>Tier 1</td>\n",
       "      <td>Small</td>\n",
       "    </tr>\n",
       "    <tr>\n",
       "      <th>1</th>\n",
       "      <td>Supermarket Type1</td>\n",
       "      <td>Tier 1</td>\n",
       "      <td>Medium</td>\n",
       "    </tr>\n",
       "    <tr>\n",
       "      <th>2</th>\n",
       "      <td>Supermarket Type1</td>\n",
       "      <td>Tier 2</td>\n",
       "      <td>Small</td>\n",
       "    </tr>\n",
       "    <tr>\n",
       "      <th>3</th>\n",
       "      <td>Supermarket Type1</td>\n",
       "      <td>Tier 3</td>\n",
       "      <td>High</td>\n",
       "    </tr>\n",
       "    <tr>\n",
       "      <th>4</th>\n",
       "      <td>Supermarket Type2</td>\n",
       "      <td>Tier 3</td>\n",
       "      <td>Medium</td>\n",
       "    </tr>\n",
       "    <tr>\n",
       "      <th>5</th>\n",
       "      <td>Supermarket Type3</td>\n",
       "      <td>Tier 3</td>\n",
       "      <td>Medium</td>\n",
       "    </tr>\n",
       "  </tbody>\n",
       "</table>\n",
       "</div>"
      ],
      "text/plain": [
       "         Outlet_Type Outlet_Location_Type Outlet_Size\n",
       "0      Grocery Store               Tier 1       Small\n",
       "1  Supermarket Type1               Tier 1      Medium\n",
       "2  Supermarket Type1               Tier 2       Small\n",
       "3  Supermarket Type1               Tier 3        High\n",
       "4  Supermarket Type2               Tier 3      Medium\n",
       "5  Supermarket Type3               Tier 3      Medium"
      ]
     },
     "execution_count": 16,
     "metadata": {},
     "output_type": "execute_result"
    }
   ],
   "source": [
    "ref_outlets = train[train['Outlet_Size'].notnull()]\n",
    "\n",
    "group_summary = (\n",
    "    ref_outlets\n",
    "    .groupby(['Outlet_Type', 'Outlet_Location_Type'])['Outlet_Size']\n",
    "    .agg(lambda x: x.mode().iloc[0])\n",
    "    .reset_index()\n",
    ")\n",
    "\n",
    "group_summary"
   ]
  },
  {
   "cell_type": "code",
   "execution_count": 17,
   "id": "083680e2",
   "metadata": {},
   "outputs": [
    {
     "data": {
      "image/png": "[encoded data removed]",
      "text/plain": [
       "<Figure size 432x288 with 1 Axes>"
      ]
     },
     "metadata": {
      "needs_background": "light"
     },
     "output_type": "display_data"
    }
   ],
   "source": [
    "plt.hist(train['Item_Weight'], bins=30, color='skyblue')\n",
    "plt.title('Distribution of Item Weight')\n",
    "plt.xlabel('Item Weight')\n",
    "plt.ylabel('Frequency')\n",
    "plt.show()"
   ]
  },
  {
   "cell_type": "code",
   "execution_count": 18,
   "id": "6569820b",
   "metadata": {},
   "outputs": [
    {
     "data": {
      "image/png": "[encoded data removed]",
      "text/plain": [
       "<Figure size 864x432 with 1 Axes>"
      ]
     },
     "metadata": {
      "needs_background": "light"
     },
     "output_type": "display_data"
    }
   ],
   "source": [
    "plt.figure(figsize=(12, 6))\n",
    "sns.boxplot(x='Item_Type', y='Item_Weight', data=train)\n",
    "plt.xticks(rotation=90)\n",
    "plt.title('Item Weight Distribution by Item Type')\n",
    "plt.show()\n"
   ]
  },
  {
   "cell_type": "code",
   "execution_count": 19,
   "id": "c77bea9b-07c8-4486-b78d-240aeac23bbe",
   "metadata": {},
   "outputs": [
    {
     "data": {
      "image/png": "[encoded data removed]",
      "text/plain": [
       "<Figure size 432x288 with 1 Axes>"
      ]
     },
     "metadata": {
      "needs_background": "light"
     },
     "output_type": "display_data"
    }
   ],
   "source": [
    "train['Outlet_Location_Type'].value_counts(normalize = True)\n",
    "train['Outlet_Location_Type'].value_counts().plot.bar()\n",
    "plt.title('Different types of outlet location types in the store')\n",
    "plt.xlabel('Item')\n",
    "plt.ylabel('Number of Items')\n",
    "plt.show()"
   ]
  },
  {
   "cell_type": "code",
   "execution_count": 20,
   "id": "e37405cd-55a4-4964-8573-4be96ae95cd3",
   "metadata": {},
   "outputs": [
    {
     "data": {
      "image/png": "[encoded data removed]",
      "text/plain": [
       "<Figure size 432x288 with 1 Axes>"
      ]
     },
     "metadata": {
      "needs_background": "light"
     },
     "output_type": "display_data"
    }
   ],
   "source": [
    "train['Outlet_Type'].value_counts(normalize = True)\n",
    "train['Outlet_Type'].value_counts().plot.bar()\n",
    "plt.title('Different types of outlet types in the store')\n",
    "plt.xlabel('Item')\n",
    "plt.ylabel('Number of Items')\n",
    "plt.show()"
   ]
  },
  {
   "cell_type": "code",
   "execution_count": 21,
   "id": "43047d8d",
   "metadata": {},
   "outputs": [
    {
     "data": {
      "image/png": "[encoded data removed]",
      "text/plain": [
       "<Figure size 864x432 with 1 Axes>"
      ]
     },
     "metadata": {
      "needs_background": "light"
     },
     "output_type": "display_data"
    }
   ],
   "source": [
    "train['Item_Fat_Content'] = train['Item_Fat_Content'].replace({'LF': 'Low Fat', 'reg': 'Regular', 'low fat': 'Low Fat'})\n",
    "Item_Fat_Content = pd.crosstab(train['Item_Fat_Content'], train['Outlet_Identifier'])\n",
    "Item_Fat_Content.plot(kind='bar', figsize=(12, 6))\n",
    "plt.title('Outlet-wise distribution by Fat Content')\n",
    "plt.xlabel('Item Fat Content')\n",
    "plt.ylabel('Number of Items')\n",
    "plt.xticks(rotation=0)\n",
    "plt.legend(title='Outlet')\n",
    "plt.tight_layout()\n",
    "plt.show()\n"
   ]
  },
  {
   "cell_type": "code",
   "execution_count": 22,
   "id": "a255b560",
   "metadata": {},
   "outputs": [
    {
     "data": {
      "image/png": "[encoded data removed]",
      "text/plain": [
       "<Figure size 1008x432 with 1 Axes>"
      ]
     },
     "metadata": {
      "needs_background": "light"
     },
     "output_type": "display_data"
    }
   ],
   "source": [
    "Item_Fat_Content = pd.crosstab(train['Item_Type'], train['Item_Fat_Content'])\n",
    "\n",
    "Item_Fat_Content.plot(kind='bar', figsize=(14, 6), color=['#FFA07A', '#90EE90']) \n",
    "plt.title('Item Type Distribution by Fat Content')\n",
    "plt.xlabel('Item Type')\n",
    "plt.ylabel('Count')\n",
    "plt.xticks(rotation=45, ha='right')\n",
    "plt.legend(title='Fat Content')\n",
    "plt.tight_layout()\n",
    "plt.show()\n"
   ]
  },
  {
   "cell_type": "code",
   "execution_count": 23,
   "id": "c6c1c65b-a9c7-423b-b92f-12a7530cebdf",
   "metadata": {},
   "outputs": [
    {
     "name": "stdout",
     "output_type": "stream",
     "text": [
      "(14204, 12)\n"
     ]
    }
   ],
   "source": [
    "data = pd.concat([train, test])\n",
    "\n",
    "print(data.shape)"
   ]
  },
  {
   "cell_type": "code",
   "execution_count": 24,
   "id": "68f099dc-117e-475d-8b6e-f557c5b08781",
   "metadata": {},
   "outputs": [
    {
     "data": {
      "text/plain": [
       "Item_Identifier               1559\n",
       "Item_Weight                    416\n",
       "Item_Fat_Content                 5\n",
       "Item_Visibility              13006\n",
       "Item_Type                       16\n",
       "Item_MRP                      8052\n",
       "Outlet_Identifier               10\n",
       "Outlet_Establishment_Year        9\n",
       "Outlet_Size                      4\n",
       "Outlet_Location_Type             3\n",
       "Outlet_Type                      4\n",
       "Item_Outlet_Sales             3494\n",
       "dtype: int64"
      ]
     },
     "execution_count": 24,
     "metadata": {},
     "output_type": "execute_result"
    }
   ],
   "source": [
    "data.apply(lambda x: len(x.unique()))"
   ]
  },
  {
   "cell_type": "code",
   "execution_count": 25,
   "id": "6e44d865-e969-4a28-89fd-df69d129cfb1",
   "metadata": {},
   "outputs": [
    {
     "data": {
      "text/plain": [
       "Item_Identifier                 0\n",
       "Item_Weight                  2439\n",
       "Item_Fat_Content                0\n",
       "Item_Visibility                 0\n",
       "Item_Type                       0\n",
       "Item_MRP                        0\n",
       "Outlet_Identifier               0\n",
       "Outlet_Establishment_Year       0\n",
       "Outlet_Size                  4016\n",
       "Outlet_Location_Type            0\n",
       "Outlet_Type                     0\n",
       "Item_Outlet_Sales            5681\n",
       "dtype: int64"
      ]
     },
     "execution_count": 25,
     "metadata": {},
     "output_type": "execute_result"
    }
   ],
   "source": [
    "data.isnull().sum()"
   ]
  },
  {
   "cell_type": "code",
   "execution_count": 26,
   "id": "b46763a2-9f59-40e8-9dc1-284788919e76",
   "metadata": {},
   "outputs": [
    {
     "data": {
      "text/plain": [
       "Item_Identifier                 0\n",
       "Item_Weight                     0\n",
       "Item_Fat_Content                0\n",
       "Item_Visibility                 0\n",
       "Item_Type                       0\n",
       "Item_MRP                        0\n",
       "Outlet_Identifier               0\n",
       "Outlet_Establishment_Year       0\n",
       "Outlet_Size                  4016\n",
       "Outlet_Location_Type            0\n",
       "Outlet_Type                     0\n",
       "Item_Outlet_Sales               0\n",
       "dtype: int64"
      ]
     },
     "execution_count": 26,
     "metadata": {},
     "output_type": "execute_result"
    }
   ],
   "source": [
    "data['Item_Weight'] = data['Item_Weight'].replace(0, np.NaN)\n",
    "item_avg_weight = data.groupby('Item_Identifier')['Item_Weight'].transform('mean')\n",
    "data['Item_Weight'].fillna(item_avg_weight, inplace=True)\n",
    "\n",
    "\n",
    "data['Item_Outlet_Sales'] = data['Item_Outlet_Sales'].replace(0, np.NaN)\n",
    "data['Item_Outlet_Sales'].fillna(data['Item_Outlet_Sales'].mode()[0], inplace = True)\n",
    "\n",
    "data.isnull().sum()"
   ]
  },
  {
   "cell_type": "code",
   "execution_count": 27,
   "id": "f599d93a-57bd-4da6-883b-4647cb713e9a",
   "metadata": {},
   "outputs": [
    {
     "data": {
      "text/plain": [
       "Low Fat    9185\n",
       "Regular    5019\n",
       "Name: Item_Fat_Content, dtype: int64"
      ]
     },
     "execution_count": 27,
     "metadata": {},
     "output_type": "execute_result"
    }
   ],
   "source": [
    "data['Item_Fat_Content'] = data['Item_Fat_Content'].replace({'LF': 'Low Fat', 'reg': 'Regular', 'low fat': 'Low Fat'})\n",
    "data['Item_Fat_Content'].value_counts()"
   ]
  },
  {
   "cell_type": "code",
   "execution_count": 28,
   "id": "1d3c770c-531b-4726-8760-aa5412ab4f98",
   "metadata": {},
   "outputs": [
    {
     "data": {
      "text/plain": [
       "Food              10201\n",
       "Non_Consumable     2686\n",
       "Drinks             1317\n",
       "Name: Item_Identifier, dtype: int64"
      ]
     },
     "execution_count": 28,
     "metadata": {},
     "output_type": "execute_result"
    }
   ],
   "source": [
    "data['Item_Identifier'] = data['Item_Identifier'].apply(lambda x: x[0:2])\n",
    "\n",
    "data['Item_Identifier'] = data['Item_Identifier'].map({'FD':'Food', 'NC':'Non_Consumable', 'DR':'Drinks'})\n",
    "\n",
    "data['Item_Identifier'].value_counts()"
   ]
  },
  {
   "cell_type": "code",
   "execution_count": 29,
   "id": "28112afe",
   "metadata": {},
   "outputs": [],
   "source": [
    "data.loc[data['Outlet_Identifier'] == 'OUT010', 'Outlet_Size'] = 'Small'\n",
    "data.loc[data['Outlet_Identifier'] == 'OUT045', 'Outlet_Size'] = 'Small'\n",
    "data.loc[data['Outlet_Identifier'] == 'OUT017', 'Outlet_Size'] = 'Small'"
   ]
  },
  {
   "cell_type": "code",
   "execution_count": 30,
   "id": "3f89c776",
   "metadata": {},
   "outputs": [
    {
     "data": {
      "text/plain": [
       "array([1999, 2009, 1998, 1987, 1985, 2002, 2007, 1997, 2004], dtype=int64)"
      ]
     },
     "execution_count": 30,
     "metadata": {},
     "output_type": "execute_result"
    }
   ],
   "source": [
    "data['Outlet_Establishment_Year'].unique()"
   ]
  },
  {
   "cell_type": "markdown",
   "id": "3a1fabf1",
   "metadata": {},
   "source": [
    "## Older outlets (especially 28 years) tend to have higher average sales, while some mid-aged outlets (like 15 years) perform poorly. This suggests that store age influences performance, possibly due to factors like customer trust or operational maturity."
   ]
  },
  {
   "cell_type": "code",
   "execution_count": 31,
   "id": "5449c15e",
   "metadata": {},
   "outputs": [
    {
     "data": {
      "image/png": "[encoded data removed]",
      "text/plain": [
       "<Figure size 720x432 with 1 Axes>"
      ]
     },
     "metadata": {
      "needs_background": "light"
     },
     "output_type": "display_data"
    }
   ],
   "source": [
    "data['Outlet_Years'] = 2013 - data['Outlet_Establishment_Year']\n",
    "\n",
    "\n",
    "plt.figure(figsize=(10, 6))\n",
    "data['Outlet_Years'].value_counts().sort_index().plot(kind='bar', color='orchid')\n",
    "plt.title('Distribution of Outlet Age (Years since Establishment)')\n",
    "plt.xlabel('Outlet Age (Years)')\n",
    "plt.ylabel('Number of Outlets')\n",
    "plt.xticks(rotation=0)\n",
    "plt.tight_layout()\n",
    "plt.show()"
   ]
  },
  {
   "cell_type": "markdown",
   "id": "e8b06307",
   "metadata": {},
   "source": [
    "## Most outlets show stable average sales regardless of age, except those aged 15 years, which perform notably worse. "
   ]
  },
  {
   "cell_type": "code",
   "execution_count": 32,
   "id": "91837063",
   "metadata": {},
   "outputs": [
    {
     "data": {
      "image/png": "[encoded data removed]",
      "text/plain": [
       "<Figure size 720x432 with 1 Axes>"
      ]
     },
     "metadata": {
      "needs_background": "light"
     },
     "output_type": "display_data"
    }
   ],
   "source": [
    "avg_sales_by_age = data.groupby('Outlet_Years')['Item_Outlet_Sales'].mean().reset_index()\n",
    "\n",
    "\n",
    "plt.figure(figsize=(10, 6))\n",
    "sns.barplot(data=avg_sales_by_age, x='Outlet_Years', y='Item_Outlet_Sales', color='mediumpurple')\n",
    "plt.title('Average Sales vs. Outlet Age')\n",
    "plt.xlabel('Outlet Age (Years)')\n",
    "plt.ylabel('Average Item Outlet Sales')\n",
    "plt.xticks(rotation=0)\n",
    "plt.tight_layout()\n",
    "plt.show()\n"
   ]
  },
  {
   "cell_type": "code",
   "execution_count": 33,
   "id": "76d489eb-a948-4298-8498-8707da82fe95",
   "metadata": {},
   "outputs": [
    {
     "name": "stdout",
     "output_type": "stream",
     "text": [
      "(14204, 11)\n"
     ]
    }
   ],
   "source": [
    "data = data.drop(['Item_Identifier','Outlet_Establishment_Year'], axis = 1)\n",
    "print(data.shape)"
   ]
  },
  {
   "cell_type": "code",
   "execution_count": 34,
   "id": "3422a910",
   "metadata": {},
   "outputs": [
    {
     "data": {
      "text/plain": [
       "Index(['Item_Weight', 'Item_Fat_Content', 'Item_Visibility', 'Item_Type',\n",
       "       'Item_MRP', 'Outlet_Identifier', 'Outlet_Size', 'Outlet_Location_Type',\n",
       "       'Outlet_Type', 'Item_Outlet_Sales', 'Outlet_Years'],\n",
       "      dtype='object')"
      ]
     },
     "execution_count": 34,
     "metadata": {},
     "output_type": "execute_result"
    }
   ],
   "source": [
    "data.columns"
   ]
  },
  {
   "cell_type": "code",
   "execution_count": 35,
   "id": "690092d4-4975-4c37-97a7-d4b500383a5c",
   "metadata": {},
   "outputs": [
    {
     "data": {
      "text/html": [
       "<div>\n",
       "<style scoped>\n",
       "    .dataframe tbody tr th:only-of-type {\n",
       "        vertical-align: middle;\n",
       "    }\n",
       "\n",
       "    .dataframe tbody tr th {\n",
       "        vertical-align: top;\n",
       "    }\n",
       "\n",
       "    .dataframe thead th {\n",
       "        text-align: right;\n",
       "    }\n",
       "</style>\n",
       "<table border=\"1\" class=\"dataframe\">\n",
       "  <thead>\n",
       "    <tr style=\"text-align: right;\">\n",
       "      <th></th>\n",
       "      <th>Item_Weight</th>\n",
       "      <th>Item_Fat_Content</th>\n",
       "      <th>Item_Visibility</th>\n",
       "      <th>Item_Type</th>\n",
       "      <th>Item_MRP</th>\n",
       "      <th>Outlet_Identifier</th>\n",
       "      <th>Outlet_Size</th>\n",
       "      <th>Outlet_Location_Type</th>\n",
       "      <th>Outlet_Type</th>\n",
       "      <th>Item_Outlet_Sales</th>\n",
       "      <th>Outlet_Years</th>\n",
       "    </tr>\n",
       "  </thead>\n",
       "  <tbody>\n",
       "    <tr>\n",
       "      <th>0</th>\n",
       "      <td>299</td>\n",
       "      <td>0</td>\n",
       "      <td>1097</td>\n",
       "      <td>4</td>\n",
       "      <td>7567</td>\n",
       "      <td>9</td>\n",
       "      <td>1</td>\n",
       "      <td>0</td>\n",
       "      <td>1</td>\n",
       "      <td>2540</td>\n",
       "      <td>4</td>\n",
       "    </tr>\n",
       "    <tr>\n",
       "      <th>1</th>\n",
       "      <td>60</td>\n",
       "      <td>1</td>\n",
       "      <td>1436</td>\n",
       "      <td>14</td>\n",
       "      <td>632</td>\n",
       "      <td>3</td>\n",
       "      <td>1</td>\n",
       "      <td>2</td>\n",
       "      <td>2</td>\n",
       "      <td>422</td>\n",
       "      <td>0</td>\n",
       "    </tr>\n",
       "    <tr>\n",
       "      <th>2</th>\n",
       "      <td>394</td>\n",
       "      <td>0</td>\n",
       "      <td>1172</td>\n",
       "      <td>10</td>\n",
       "      <td>3897</td>\n",
       "      <td>9</td>\n",
       "      <td>1</td>\n",
       "      <td>0</td>\n",
       "      <td>1</td>\n",
       "      <td>1639</td>\n",
       "      <td>4</td>\n",
       "    </tr>\n",
       "    <tr>\n",
       "      <th>3</th>\n",
       "      <td>411</td>\n",
       "      <td>1</td>\n",
       "      <td>0</td>\n",
       "      <td>6</td>\n",
       "      <td>5626</td>\n",
       "      <td>0</td>\n",
       "      <td>2</td>\n",
       "      <td>2</td>\n",
       "      <td>0</td>\n",
       "      <td>670</td>\n",
       "      <td>5</td>\n",
       "    </tr>\n",
       "    <tr>\n",
       "      <th>4</th>\n",
       "      <td>279</td>\n",
       "      <td>0</td>\n",
       "      <td>0</td>\n",
       "      <td>9</td>\n",
       "      <td>848</td>\n",
       "      <td>1</td>\n",
       "      <td>0</td>\n",
       "      <td>2</td>\n",
       "      <td>1</td>\n",
       "      <td>865</td>\n",
       "      <td>7</td>\n",
       "    </tr>\n",
       "    <tr>\n",
       "      <th>...</th>\n",
       "      <td>...</td>\n",
       "      <td>...</td>\n",
       "      <td>...</td>\n",
       "      <td>...</td>\n",
       "      <td>...</td>\n",
       "      <td>...</td>\n",
       "      <td>...</td>\n",
       "      <td>...</td>\n",
       "      <td>...</td>\n",
       "      <td>...</td>\n",
       "      <td>...</td>\n",
       "    </tr>\n",
       "    <tr>\n",
       "      <th>5676</th>\n",
       "      <td>315</td>\n",
       "      <td>1</td>\n",
       "      <td>718</td>\n",
       "      <td>13</td>\n",
       "      <td>3881</td>\n",
       "      <td>8</td>\n",
       "      <td>2</td>\n",
       "      <td>0</td>\n",
       "      <td>1</td>\n",
       "      <td>835</td>\n",
       "      <td>6</td>\n",
       "    </tr>\n",
       "    <tr>\n",
       "      <th>5677</th>\n",
       "      <td>190</td>\n",
       "      <td>1</td>\n",
       "      <td>11820</td>\n",
       "      <td>15</td>\n",
       "      <td>5069</td>\n",
       "      <td>3</td>\n",
       "      <td>1</td>\n",
       "      <td>2</td>\n",
       "      <td>2</td>\n",
       "      <td>835</td>\n",
       "      <td>0</td>\n",
       "    </tr>\n",
       "    <tr>\n",
       "      <th>5678</th>\n",
       "      <td>309</td>\n",
       "      <td>0</td>\n",
       "      <td>8009</td>\n",
       "      <td>8</td>\n",
       "      <td>3196</td>\n",
       "      <td>7</td>\n",
       "      <td>2</td>\n",
       "      <td>1</td>\n",
       "      <td>1</td>\n",
       "      <td>835</td>\n",
       "      <td>3</td>\n",
       "    </tr>\n",
       "    <tr>\n",
       "      <th>5679</th>\n",
       "      <td>372</td>\n",
       "      <td>1</td>\n",
       "      <td>0</td>\n",
       "      <td>3</td>\n",
       "      <td>6626</td>\n",
       "      <td>2</td>\n",
       "      <td>2</td>\n",
       "      <td>1</td>\n",
       "      <td>1</td>\n",
       "      <td>835</td>\n",
       "      <td>1</td>\n",
       "    </tr>\n",
       "    <tr>\n",
       "      <th>5680</th>\n",
       "      <td>303</td>\n",
       "      <td>1</td>\n",
       "      <td>10187</td>\n",
       "      <td>3</td>\n",
       "      <td>1523</td>\n",
       "      <td>7</td>\n",
       "      <td>2</td>\n",
       "      <td>1</td>\n",
       "      <td>1</td>\n",
       "      <td>835</td>\n",
       "      <td>3</td>\n",
       "    </tr>\n",
       "  </tbody>\n",
       "</table>\n",
       "<p>14204 rows × 11 columns</p>\n",
       "</div>"
      ],
      "text/plain": [
       "      Item_Weight  Item_Fat_Content  Item_Visibility  Item_Type  Item_MRP  \\\n",
       "0             299                 0             1097          4      7567   \n",
       "1              60                 1             1436         14       632   \n",
       "2             394                 0             1172         10      3897   \n",
       "3             411                 1                0          6      5626   \n",
       "4             279                 0                0          9       848   \n",
       "...           ...               ...              ...        ...       ...   \n",
       "5676          315                 1              718         13      3881   \n",
       "5677          190                 1            11820         15      5069   \n",
       "5678          309                 0             8009          8      3196   \n",
       "5679          372                 1                0          3      6626   \n",
       "5680          303                 1            10187          3      1523   \n",
       "\n",
       "      Outlet_Identifier  Outlet_Size  Outlet_Location_Type  Outlet_Type  \\\n",
       "0                     9            1                     0            1   \n",
       "1                     3            1                     2            2   \n",
       "2                     9            1                     0            1   \n",
       "3                     0            2                     2            0   \n",
       "4                     1            0                     2            1   \n",
       "...                 ...          ...                   ...          ...   \n",
       "5676                  8            2                     0            1   \n",
       "5677                  3            1                     2            2   \n",
       "5678                  7            2                     1            1   \n",
       "5679                  2            2                     1            1   \n",
       "5680                  7            2                     1            1   \n",
       "\n",
       "      Item_Outlet_Sales  Outlet_Years  \n",
       "0                  2540             4  \n",
       "1                   422             0  \n",
       "2                  1639             4  \n",
       "3                   670             5  \n",
       "4                   865             7  \n",
       "...                 ...           ...  \n",
       "5676                835             6  \n",
       "5677                835             0  \n",
       "5678                835             3  \n",
       "5679                835             1  \n",
       "5680                835             3  \n",
       "\n",
       "[14204 rows x 11 columns]"
      ]
     },
     "execution_count": 35,
     "metadata": {},
     "output_type": "execute_result"
    }
   ],
   "source": [
    "from sklearn.preprocessing import LabelEncoder\n",
    "data.apply(LabelEncoder().fit_transform)"
   ]
  },
  {
   "cell_type": "code",
   "execution_count": 36,
   "id": "5e4f816f-ee1e-4077-a1c1-c4cf559e5875",
   "metadata": {},
   "outputs": [
    {
     "name": "stdout",
     "output_type": "stream",
     "text": [
      "(14204, 43)\n"
     ]
    }
   ],
   "source": [
    "data = pd.get_dummies(data)\n",
    "\n",
    "print(data.shape)"
   ]
  },
  {
   "cell_type": "code",
   "execution_count": 37,
   "id": "3ae97a52-c12c-4875-89bc-c48ef9d174a3",
   "metadata": {},
   "outputs": [
    {
     "name": "stdout",
     "output_type": "stream",
     "text": [
      "(14204, 42)\n",
      "(14204,)\n"
     ]
    }
   ],
   "source": [
    "x = data.drop('Item_Outlet_Sales', axis = 1)\n",
    "y = data.Item_Outlet_Sales\n",
    "\n",
    "print(x.shape)\n",
    "print(y.shape)"
   ]
  },
  {
   "cell_type": "code",
   "execution_count": 38,
   "id": "54eb9343-2807-4349-bf8d-79f412cffb05",
   "metadata": {},
   "outputs": [
    {
     "name": "stdout",
     "output_type": "stream",
     "text": [
      "(8523, 43)\n",
      "(5681, 43)\n"
     ]
    }
   ],
   "source": [
    "train = data.iloc[:8523,:]\n",
    "test = data.iloc[8523:,:]\n",
    "\n",
    "print(train.shape)\n",
    "print(test.shape)"
   ]
  },
  {
   "cell_type": "code",
   "execution_count": 63,
   "id": "937ee223-ccdb-45a9-b23a-c3131866dd2f",
   "metadata": {},
   "outputs": [
    {
     "name": "stdout",
     "output_type": "stream",
     "text": [
      "(9942, 42)\n",
      "(9942,)\n",
      "(4262, 42)\n",
      "(4262,)\n"
     ]
    }
   ],
   "source": [
    "from sklearn.model_selection import train_test_split\n",
    "\n",
    "x_train, x_test, y_train, y_test = train_test_split(x, y, test_size = 0.3)\n",
    "\n",
    "print(x_train.shape)\n",
    "print(y_train.shape)\n",
    "print(x_test.shape)\n",
    "print(y_test.shape)"
   ]
  },
  {
   "cell_type": "code",
   "execution_count": 64,
   "id": "9b846ebf-aa9f-45b3-b22c-2038397e784a",
   "metadata": {},
   "outputs": [
    {
     "name": "stdout",
     "output_type": "stream",
     "text": [
      "predictions [1131.82410006 2807.98126776 2535.59275207 ... 2777.32809583 2270.97766202\n",
      " 1625.61859448]\n",
      "RMSE : 1215.4111980856794\n",
      "Variance score: 0.28\n"
     ]
    }
   ],
   "source": [
    "from sklearn.linear_model import LinearRegression\n",
    "from sklearn.metrics import mean_squared_error\n",
    "from sklearn.metrics import r2_score\n",
    "\n",
    "model = LinearRegression()\n",
    "model.fit(x_train, y_train)\n",
    "\n",
    "y_pred = model.predict(x_test)\n",
    "print(\"predictions\",y_pred)\n",
    "\n",
    "mse = mean_squared_error(y_test, y_pred)\n",
    "print('RMSE :', np.sqrt(mse))\n",
    "print('Variance score: %.2f' % r2_score(y_test, y_pred))\n"
   ]
  },
  {
   "cell_type": "code",
   "execution_count": 65,
   "id": "48d65dad",
   "metadata": {},
   "outputs": [
    {
     "name": "stdout",
     "output_type": "stream",
     "text": [
      "predictions [ 984.53883625 2360.10444219 2129.39579538 ... 2411.94419618 1686.7808438\n",
      " 1154.52220772]\n",
      "RMSE: 1246.9872798908889\n",
      "Variance score (R²): 0.24\n"
     ]
    }
   ],
   "source": [
    "import numpy as np\n",
    "from sklearn.linear_model import LinearRegression\n",
    "from sklearn.metrics import mean_squared_error, r2_score\n",
    "\n",
    "y_train_log = np.log1p(np.ravel(y_train))\n",
    "\n",
    "model = LinearRegression()\n",
    "model.fit(x_train, y_train_log)\n",
    "\n",
    "y_pred_log = model.predict(x_test)\n",
    "\n",
    "y_pred = np.expm1(y_pred_log)\n",
    "\n",
    "y_test = np.ravel(y_test)\n",
    "\n",
    "\n",
    "mse = mean_squared_error(y_test, y_pred)\n",
    "print(\"predictions\",y_pred)\n",
    "print('RMSE:', np.sqrt(mse))\n",
    "print('Variance score (R²): %.2f' % r2_score(y_test, y_pred))\n"
   ]
  },
  {
   "cell_type": "code",
   "execution_count": 66,
   "id": "b93ac384-47a7-493f-8cac-b72b145af227",
   "metadata": {},
   "outputs": [
    {
     "name": "stdout",
     "output_type": "stream",
     "text": [
      "RMSE : 1277.8417923876063\n"
     ]
    }
   ],
   "source": [
    "from sklearn.ensemble import AdaBoostRegressor\n",
    "\n",
    "model= AdaBoostRegressor(n_estimators = 100)\n",
    "model.fit(x_train, y_train)\n",
    "\n",
    "y_pred = model.predict(x_test)\n",
    "\n",
    "\n",
    "mse = mean_squared_error(y_test, y_pred)\n",
    "print(\"RMSE :\", np.sqrt(mse))\n"
   ]
  },
  {
   "cell_type": "code",
   "execution_count": 67,
   "id": "d4acacf3-09a3-48ce-8731-d0d4bae71171",
   "metadata": {},
   "outputs": [
    {
     "name": "stdout",
     "output_type": "stream",
     "text": [
      "[1157.18418543 3374.55093382 2580.08298837 ... 3233.42385497 2368.64418286\n",
      " 1099.09823041]\n",
      "RMSE : 1205.1749453656307\n"
     ]
    }
   ],
   "source": [
    "from sklearn.ensemble import GradientBoostingRegressor\n",
    "\n",
    "model = GradientBoostingRegressor()\n",
    "model.fit(x_train, y_train)\n",
    "\n",
    "\n",
    "y_pred = model.predict(x_test)\n",
    "print(y_pred)\n",
    "\n",
    "print(\"RMSE :\", np.sqrt(((y_test - y_pred)**2).sum()/len(y_test)))"
   ]
  },
  {
   "cell_type": "code",
   "execution_count": 68,
   "id": "58919347-39ac-472d-9115-8c57d543c1a7",
   "metadata": {},
   "outputs": [
    {
     "name": "stdout",
     "output_type": "stream",
     "text": [
      "[ 991.882208 3265.788948 3070.057064 ... 2445.463426 3965.717856\n",
      "  964.71091 ]\n",
      "RMSE : 1272.9053938954487\n",
      "Variance score: 0.21\n",
      "Result : 0.890265813662402\n"
     ]
    }
   ],
   "source": [
    "from sklearn.ensemble import RandomForestRegressor\n",
    "\n",
    "model = RandomForestRegressor(n_estimators = 100 , n_jobs = -1)\n",
    "model.fit(x_train, y_train)\n",
    "\n",
    "y_pred = model.predict(x_test)\n",
    "print(y_pred)\n",
    "\n",
    "mse = mean_squared_error(y_test, y_pred)\n",
    "print(\"RMSE :\",np.sqrt(mse))\n",
    "print('Variance score: %.2f' % r2_score(y_test, y_pred))\n",
    "\n",
    "print(\"Result :\",model.score(x_train, y_train))\n"
   ]
  },
  {
   "cell_type": "code",
   "execution_count": 69,
   "id": "88cfbca4-a62d-41bf-8f88-75cc4579d000",
   "metadata": {},
   "outputs": [
    {
     "name": "stdout",
     "output_type": "stream",
     "text": [
      "[ 739.038  6795.1548  958.752  ...  958.752  6385.022   958.752 ]\n",
      " RMSE :  1698.5792443617124\n"
     ]
    }
   ],
   "source": [
    "from sklearn.tree import DecisionTreeRegressor\n",
    "\n",
    "model = DecisionTreeRegressor()\n",
    "model.fit(x_train, y_train)\n",
    "\n",
    "# predicting the test set results\n",
    "y_pred = model.predict(x_test)\n",
    "print(y_pred)\n",
    "\n",
    "print(\" RMSE : \" , np.sqrt(((y_test - y_pred)**2).sum()/len(y_test)))"
   ]
  },
  {
   "cell_type": "code",
   "execution_count": 70,
   "id": "aea39193-60c8-4287-97ef-d57cdd4b9cb3",
   "metadata": {},
   "outputs": [
    {
     "name": "stdout",
     "output_type": "stream",
     "text": [
      "RMSE : 1583.3814967927972\n"
     ]
    }
   ],
   "source": [
    "from sklearn.svm import SVR\n",
    "\n",
    "model = SVR()\n",
    "model.fit(x_train, y_train)\n",
    "\n",
    "y_pred = model.predict(x_test)\n",
    "\n",
    "mse = mean_squared_error(y_test, y_pred)\n",
    "print(\"RMSE :\", np.sqrt(mse))\n"
   ]
  },
  {
   "cell_type": "code",
   "execution_count": 71,
   "id": "82430fca-7acb-4647-a1de-794c5e85207e",
   "metadata": {},
   "outputs": [
    {
     "name": "stdout",
     "output_type": "stream",
     "text": [
      "(9942, 42)\n",
      "(4262, 42)\n",
      "(1, 9942)\n",
      "(1, 4262)\n"
     ]
    }
   ],
   "source": [
    "import numpy as np\n",
    "\n",
    "x_train = np.asmatrix(x_train)\n",
    "x_test = np.asmatrix(x_test)\n",
    "y_train = np.asmatrix(y_train.T)\n",
    "y_test = np.asmatrix(y_test.T)\n",
    "\n",
    "print(x_train.shape)\n",
    "print(x_test.shape)\n",
    "print(y_train.shape)\n",
    "print(y_test.shape)"
   ]
  },
  {
   "cell_type": "code",
   "execution_count": 72,
   "id": "57d75567",
   "metadata": {},
   "outputs": [
    {
     "name": "stdout",
     "output_type": "stream",
     "text": [
      "TensorFlow version: 2.8.0\n"
     ]
    }
   ],
   "source": [
    "import tensorflow as tf\n",
    "print(\"TensorFlow version:\", tf.__version__)\n"
   ]
  },
  {
   "cell_type": "code",
   "execution_count": null,
   "id": "369a683d-d761-476f-9a61-9535a4bc956e",
   "metadata": {},
   "outputs": [
    {
     "name": "stdout",
     "output_type": "stream",
     "text": [
      "Model: \"sequential_4\"\n",
      "_________________________________________________________________\n",
      " Layer (type)                Output Shape              Param #   \n",
      "=================================================================\n",
      " dense_16 (Dense)            (None, 20)                860       \n",
      "                                                                 \n",
      " dense_17 (Dense)            (None, 15)                315       \n",
      "                                                                 \n",
      " dense_18 (Dense)            (None, 10)                160       \n",
      "                                                                 \n",
      " dense_19 (Dense)            (None, 1)                 11        \n",
      "                                                                 \n",
      "=================================================================\n",
      "Total params: 1,346\n",
      "Trainable params: 1,346\n",
      "Non-trainable params: 0\n",
      "_________________________________________________________________\n",
      "x_train shape: (9942, 42)\n",
      "y_train shape after reshaping: (9942,)\n",
      "Epoch 1/1000\n",
      "311/311 [==============================] - 1s 1ms/step - loss: 5043002.5000 - mae: 1706.8380 - rmse: 2216.8999 - val_loss: 4769079.0000 - val_mae: 1650.2793 - val_rmse: 2150.5378\n",
      "Epoch 2/1000\n",
      "311/311 [==============================] - 0s 942us/step - loss: 4870686.5000 - mae: 1661.0234 - rmse: 2174.0659 - val_loss: 4558297.0000 - val_mae: 1592.7076 - val_rmse: 2101.1592\n",
      "Epoch 3/1000\n",
      "311/311 [==============================] - 0s 960us/step - loss: 4570255.0000 - mae: 1579.6317 - rmse: 2107.0701 - val_loss: 4172500.2500 - val_mae: 1483.7572 - val_rmse: 2007.6924\n",
      "Epoch 4/1000\n",
      "311/311 [==============================] - 0s 943us/step - loss: 4055462.2500 - mae: 1432.8826 - rmse: 1973.5277 - val_loss: 3569985.5000 - val_mae: 1305.8903 - val_rmse: 1852.5637\n",
      "Epoch 5/1000\n",
      "311/311 [==============================] - 0s 952us/step - loss: 3320871.2500 - mae: 1213.2494 - rmse: 1783.8899 - val_loss: 2783235.5000 - val_mae: 1060.1470 - val_rmse: 1629.1902\n",
      "Epoch 6/1000\n",
      "311/311 [==============================] - 0s 934us/step - loss: 2550640.2500 - mae: 1014.3646 - rmse: 1555.6085 - val_loss: 2139095.5000 - val_mae: 929.9437 - val_rmse: 1424.3479\n",
      "Epoch 7/1000\n",
      "311/311 [==============================] - 0s 982us/step - loss: 2037326.7500 - mae: 947.7570 - rmse: 1393.4771 - val_loss: 1815164.7500 - val_mae: 914.5095 - val_rmse: 1314.9686\n",
      "Epoch 8/1000\n",
      "311/311 [==============================] - 0s 951us/step - loss: 1833177.7500 - mae: 953.2440 - rmse: 1325.7593 - val_loss: 1729987.5000 - val_mae: 934.4541 - val_rmse: 1288.3363\n",
      "Epoch 9/1000\n",
      "311/311 [==============================] - 0s 944us/step - loss: 1787536.2500 - mae: 968.7570 - rmse: 1313.7559 - val_loss: 1717170.1250 - val_mae: 948.2130 - val_rmse: 1286.0076\n",
      "Epoch 10/1000\n",
      "311/311 [==============================] - 0s 1ms/step - loss: 1780974.3750 - mae: 976.2402 - rmse: 1311.6537 - val_loss: 1715767.7500 - val_mae: 953.2676 - val_rmse: 1286.3020\n",
      "Epoch 11/1000\n",
      "311/311 [==============================] - 0s 956us/step - loss: 1779618.5000 - mae: 979.4353 - rmse: 1312.5363 - val_loss: 1714802.5000 - val_mae: 954.1973 - val_rmse: 1286.1204\n",
      "Epoch 12/1000\n",
      "311/311 [==============================] - 0s 941us/step - loss: 1778449.5000 - mae: 979.7659 - rmse: 1311.6100 - val_loss: 1713723.8750 - val_mae: 954.0837 - val_rmse: 1285.7460\n",
      "Epoch 13/1000\n",
      "311/311 [==============================] - 0s 1ms/step - loss: 1777375.0000 - mae: 979.9808 - rmse: 1311.8849 - val_loss: 1712585.0000 - val_mae: 953.0419 - val_rmse: 1285.2018\n",
      "Epoch 14/1000\n",
      "311/311 [==============================] - 0s 965us/step - loss: 1776375.2500 - mae: 979.5845 - rmse: 1308.9749 - val_loss: 1711622.6250 - val_mae: 953.0776 - val_rmse: 1284.8774\n",
      "Epoch 15/1000\n",
      "311/311 [==============================] - 0s 978us/step - loss: 1775179.2500 - mae: 978.1580 - rmse: 1308.4475 - val_loss: 1710546.2500 - val_mae: 952.1336 - val_rmse: 1284.3710\n",
      "Epoch 16/1000\n",
      "311/311 [==============================] - 0s 967us/step - loss: 1774120.6250 - mae: 978.7631 - rmse: 1310.0806 - val_loss: 1709702.3750 - val_mae: 953.0740 - val_rmse: 1284.2312\n",
      "Epoch 17/1000\n",
      "311/311 [==============================] - 0s 952us/step - loss: 1773333.1250 - mae: 978.6864 - rmse: 1306.1102 - val_loss: 1708587.8750 - val_mae: 952.0907 - val_rmse: 1283.7004\n",
      "Epoch 18/1000\n",
      "311/311 [==============================] - 0s 961us/step - loss: 1772255.6250 - mae: 978.1209 - rmse: 1308.8158 - val_loss: 1707517.5000 - val_mae: 951.3578 - val_rmse: 1283.2239\n",
      "Epoch 19/1000\n",
      "311/311 [==============================] - 0s 955us/step - loss: 1771012.3750 - mae: 977.6464 - rmse: 1306.2548 - val_loss: 1706528.3750 - val_mae: 951.5570 - val_rmse: 1282.9196\n",
      "Epoch 20/1000\n",
      "311/311 [==============================] - 0s 970us/step - loss: 1769903.0000 - mae: 977.2066 - rmse: 1306.6934 - val_loss: 1705222.7500 - val_mae: 950.9093 - val_rmse: 1282.3707\n",
      "Epoch 21/1000\n",
      "311/311 [==============================] - 0s 1ms/step - loss: 1768537.8750 - mae: 976.5503 - rmse: 1305.1511 - val_loss: 1704201.2500 - val_mae: 951.4951 - val_rmse: 1282.1134\n",
      "Epoch 22/1000\n",
      "311/311 [==============================] - 0s 950us/step - loss: 1767170.3750 - mae: 975.8319 - rmse: 1306.1152 - val_loss: 1703645.8750 - val_mae: 953.7257 - val_rmse: 1282.2771\n",
      "Epoch 23/1000\n",
      "311/311 [==============================] - 0s 971us/step - loss: 1766166.3750 - mae: 977.1681 - rmse: 1305.7911 - val_loss: 1701845.7500 - val_mae: 950.7685 - val_rmse: 1281.1997\n",
      "Epoch 24/1000\n",
      "311/311 [==============================] - 0s 945us/step - loss: 1764828.5000 - mae: 976.0744 - rmse: 1305.7246 - val_loss: 1700748.7500 - val_mae: 950.9688 - val_rmse: 1280.8589\n",
      "Epoch 25/1000\n",
      "311/311 [==============================] - 0s 948us/step - loss: 1763560.0000 - mae: 975.6197 - rmse: 1304.8445 - val_loss: 1699517.0000 - val_mae: 950.4583 - val_rmse: 1280.3583\n",
      "Epoch 26/1000\n",
      "311/311 [==============================] - 0s 936us/step - loss: 1762373.3750 - mae: 975.7979 - rmse: 1306.5281 - val_loss: 1698194.7500 - val_mae: 949.5651 - val_rmse: 1279.7670\n",
      "Epoch 27/1000\n",
      "311/311 [==============================] - 0s 954us/step - loss: 1761122.0000 - mae: 975.6412 - rmse: 1303.7295 - val_loss: 1696891.8750 - val_mae: 948.8143 - val_rmse: 1279.2059\n",
      "Epoch 28/1000\n",
      "311/311 [==============================] - 0s 947us/step - loss: 1759905.0000 - mae: 974.3718 - rmse: 1305.7083 - val_loss: 1695760.5000 - val_mae: 949.2881 - val_rmse: 1278.8926\n",
      "Epoch 29/1000\n",
      "311/311 [==============================] - 0s 939us/step - loss: 1758495.3750 - mae: 973.5446 - rmse: 1302.1866 - val_loss: 1694725.5000 - val_mae: 950.1321 - val_rmse: 1278.6737\n",
      "Epoch 30/1000\n",
      "311/311 [==============================] - 0s 938us/step - loss: 1757117.6250 - mae: 973.7619 - rmse: 1304.2220 - val_loss: 1693275.8750 - val_mae: 948.8815 - val_rmse: 1277.9847\n",
      "Epoch 31/1000\n",
      "311/311 [==============================] - 0s 925us/step - loss: 1755590.6250 - mae: 974.5843 - rmse: 1302.3628 - val_loss: 1691669.3750 - val_mae: 946.6497 - val_rmse: 1277.0853\n",
      "Epoch 32/1000\n",
      "311/311 [==============================] - 0s 946us/step - loss: 1754410.7500 - mae: 972.4019 - rmse: 1300.1949 - val_loss: 1690520.5000 - val_mae: 947.6296 - val_rmse: 1276.8484\n",
      "Epoch 33/1000\n",
      "311/311 [==============================] - 0s 963us/step - loss: 1753008.5000 - mae: 973.7119 - rmse: 1301.7148 - val_loss: 1688956.1250 - val_mae: 945.8016 - val_rmse: 1276.0275\n",
      "Epoch 34/1000\n",
      "311/311 [==============================] - 0s 949us/step - loss: 1751593.7500 - mae: 970.9099 - rmse: 1301.0522 - val_loss: 1687801.1250 - val_mae: 947.3347 - val_rmse: 1275.8701\n",
      "Epoch 35/1000\n",
      "311/311 [==============================] - 0s 952us/step - loss: 1750011.6250 - mae: 971.9504 - rmse: 1298.5088 - val_loss: 1686407.2500 - val_mae: 947.0029 - val_rmse: 1275.3395\n",
      "Epoch 36/1000\n",
      "311/311 [==============================] - 0s 971us/step - loss: 1748381.8750 - mae: 972.8859 - rmse: 1299.6299 - val_loss: 1684639.2500 - val_mae: 943.9608 - val_rmse: 1274.2552\n",
      "Epoch 37/1000\n",
      "311/311 [==============================] - 0s 937us/step - loss: 1747020.2500 - mae: 969.2876 - rmse: 1298.0781 - val_loss: 1683367.0000 - val_mae: 945.3000 - val_rmse: 1274.0315\n",
      "Epoch 38/1000\n"
     ]
    },
    {
     "name": "stdout",
     "output_type": "stream",
     "text": [
      "311/311 [==============================] - 0s 949us/step - loss: 1745479.3750 - mae: 971.7637 - rmse: 1299.5320 - val_loss: 1681812.1250 - val_mae: 944.3147 - val_rmse: 1273.3452\n",
      "Epoch 39/1000\n",
      "311/311 [==============================] - 0s 945us/step - loss: 1744092.8750 - mae: 969.0421 - rmse: 1298.7256 - val_loss: 1680665.2500 - val_mae: 945.7903 - val_rmse: 1273.1929\n",
      "Epoch 40/1000\n",
      "311/311 [==============================] - 0s 944us/step - loss: 1742422.2500 - mae: 969.5012 - rmse: 1295.1808 - val_loss: 1679233.7500 - val_mae: 945.7537 - val_rmse: 1272.6953\n",
      "Epoch 41/1000\n",
      "311/311 [==============================] - 0s 997us/step - loss: 1740870.0000 - mae: 970.6496 - rmse: 1298.1115 - val_loss: 1677390.1250 - val_mae: 943.8467 - val_rmse: 1271.7634\n",
      "Epoch 42/1000\n",
      "311/311 [==============================] - 0s 964us/step - loss: 1739323.8750 - mae: 968.0739 - rmse: 1295.0164 - val_loss: 1676182.1250 - val_mae: 945.0143 - val_rmse: 1271.5387\n",
      "Epoch 43/1000\n",
      "311/311 [==============================] - 0s 979us/step - loss: 1737618.2500 - mae: 969.4159 - rmse: 1297.7664 - val_loss: 1674105.3750 - val_mae: 941.9032 - val_rmse: 1270.3365\n",
      "Epoch 44/1000\n",
      "311/311 [==============================] - 0s 1ms/step - loss: 1735918.1250 - mae: 968.0059 - rmse: 1294.7323 - val_loss: 1672449.6250 - val_mae: 940.7509 - val_rmse: 1269.5945\n",
      "Epoch 45/1000\n",
      "311/311 [==============================] - 0s 938us/step - loss: 1734412.7500 - mae: 966.7375 - rmse: 1295.2628 - val_loss: 1670820.3750 - val_mae: 940.1349 - val_rmse: 1268.9414\n",
      "Epoch 46/1000\n",
      "311/311 [==============================] - 0s 1ms/step - loss: 1732588.6250 - mae: 966.4610 - rmse: 1293.8773 - val_loss: 1669221.5000 - val_mae: 940.4417 - val_rmse: 1268.4420\n",
      "Epoch 47/1000\n",
      "311/311 [==============================] - 0s 1ms/step - loss: 1730714.5000 - mae: 968.3499 - rmse: 1293.0854 - val_loss: 1667439.0000 - val_mae: 937.4962 - val_rmse: 1267.3705\n",
      "Epoch 48/1000\n",
      "311/311 [==============================] - 0s 941us/step - loss: 1729099.7500 - mae: 963.2962 - rmse: 1293.8872 - val_loss: 1666000.2500 - val_mae: 940.4104 - val_rmse: 1267.3342\n",
      "Epoch 49/1000\n",
      "311/311 [==============================] - 0s 986us/step - loss: 1727153.6250 - mae: 966.9484 - rmse: 1289.3304 - val_loss: 1664048.0000 - val_mae: 936.6307 - val_rmse: 1266.0741\n",
      "Epoch 50/1000\n",
      "311/311 [==============================] - 0s 968us/step - loss: 1725902.0000 - mae: 963.7000 - rmse: 1289.6710 - val_loss: 1662376.1250 - val_mae: 937.5607 - val_rmse: 1265.6487\n",
      "Epoch 51/1000\n",
      "311/311 [==============================] - 0s 962us/step - loss: 1723810.6250 - mae: 964.2847 - rmse: 1293.5972 - val_loss: 1660653.0000 - val_mae: 937.2963 - val_rmse: 1265.0189\n",
      "Epoch 52/1000\n",
      "311/311 [==============================] - 0s 966us/step - loss: 1721779.8750 - mae: 964.4452 - rmse: 1289.7297 - val_loss: 1658831.6250 - val_mae: 934.6035 - val_rmse: 1263.9674\n",
      "Epoch 53/1000\n",
      "311/311 [==============================] - 0s 963us/step - loss: 1720255.3750 - mae: 961.0477 - rmse: 1286.3776 - val_loss: 1657468.7500 - val_mae: 938.6776 - val_rmse: 1264.1484\n",
      "Epoch 54/1000\n",
      "311/311 [==============================] - 0s 946us/step - loss: 1718125.3750 - mae: 961.6080 - rmse: 1288.7657 - val_loss: 1655688.7500 - val_mae: 938.2596 - val_rmse: 1263.4719\n",
      "Epoch 55/1000\n",
      "311/311 [==============================] - 0s 977us/step - loss: 1716460.1250 - mae: 963.0634 - rmse: 1285.7651 - val_loss: 1653698.3750 - val_mae: 936.8781 - val_rmse: 1262.5729\n",
      "Epoch 56/1000\n",
      "311/311 [==============================] - 0s 996us/step - loss: 1714422.1250 - mae: 962.2401 - rmse: 1284.2856 - val_loss: 1651607.2500 - val_mae: 934.1687 - val_rmse: 1261.4279\n",
      "Epoch 57/1000\n",
      "311/311 [==============================] - 0s 948us/step - loss: 1712749.5000 - mae: 960.9227 - rmse: 1287.1846 - val_loss: 1649735.1250 - val_mae: 933.6372 - val_rmse: 1260.7008\n",
      "Epoch 58/1000\n",
      "311/311 [==============================] - 0s 949us/step - loss: 1710706.7500 - mae: 959.9686 - rmse: 1284.7935 - val_loss: 1648069.7500 - val_mae: 934.9315 - val_rmse: 1260.3365\n",
      "Epoch 59/1000\n",
      "311/311 [==============================] - 0s 950us/step - loss: 1708639.3750 - mae: 959.8237 - rmse: 1285.8331 - val_loss: 1646058.8750 - val_mae: 933.4299 - val_rmse: 1259.4131\n",
      "Epoch 60/1000\n",
      "311/311 [==============================] - 0s 939us/step - loss: 1706699.6250 - mae: 959.8812 - rmse: 1285.3508 - val_loss: 1644046.3750 - val_mae: 932.1909 - val_rmse: 1258.5269\n",
      "Epoch 61/1000\n",
      "311/311 [==============================] - 0s 959us/step - loss: 1704731.3750 - mae: 957.0034 - rmse: 1282.4623 - val_loss: 1642200.6250 - val_mae: 932.4943 - val_rmse: 1257.9420\n",
      "Epoch 62/1000\n",
      "311/311 [==============================] - 0s 963us/step - loss: 1702492.8750 - mae: 958.6922 - rmse: 1280.7944 - val_loss: 1640048.6250 - val_mae: 929.5011 - val_rmse: 1256.7288\n",
      "Epoch 63/1000\n",
      "311/311 [==============================] - 0s 938us/step - loss: 1700623.0000 - mae: 956.8721 - rmse: 1279.2065 - val_loss: 1638116.2500 - val_mae: 929.8600 - val_rmse: 1256.1235\n",
      "Epoch 64/1000\n",
      "311/311 [==============================] - 0s 934us/step - loss: 1698730.2500 - mae: 955.8991 - rmse: 1280.1637 - val_loss: 1636172.3750 - val_mae: 930.1490 - val_rmse: 1255.5007\n",
      "Epoch 65/1000\n",
      "311/311 [==============================] - 0s 938us/step - loss: 1696252.6250 - mae: 955.4236 - rmse: 1280.2592 - val_loss: 1634247.0000 - val_mae: 930.2766 - val_rmse: 1254.8621\n",
      "Epoch 66/1000\n",
      "311/311 [==============================] - 0s 942us/step - loss: 1694324.0000 - mae: 954.7753 - rmse: 1277.6598 - val_loss: 1632334.1250 - val_mae: 930.5116 - val_rmse: 1254.2445\n",
      "Epoch 67/1000\n",
      "311/311 [==============================] - 0s 990us/step - loss: 1692151.2500 - mae: 955.0018 - rmse: 1276.5189 - val_loss: 1630000.7500 - val_mae: 928.1685 - val_rmse: 1253.0692\n",
      "Epoch 68/1000\n",
      "311/311 [==============================] - 0s 962us/step - loss: 1690075.6250 - mae: 953.6274 - rmse: 1276.9130 - val_loss: 1628209.8750 - val_mae: 929.4636 - val_rmse: 1252.6639\n",
      "Epoch 69/1000\n",
      "311/311 [==============================] - 0s 972us/step - loss: 1687732.7500 - mae: 952.9664 - rmse: 1276.3230 - val_loss: 1626112.8750 - val_mae: 928.8947 - val_rmse: 1251.8555\n",
      "Epoch 70/1000\n",
      "311/311 [==============================] - 0s 954us/step - loss: 1685369.1250 - mae: 953.5868 - rmse: 1277.7618 - val_loss: 1623552.0000 - val_mae: 923.7823 - val_rmse: 1250.1654\n",
      "Epoch 71/1000\n",
      "311/311 [==============================] - 0s 1ms/step - loss: 1683252.0000 - mae: 951.1738 - rmse: 1276.1884 - val_loss: 1621588.1250 - val_mae: 926.5984 - val_rmse: 1249.9414\n",
      "Epoch 72/1000\n",
      "311/311 [==============================] - 0s 973us/step - loss: 1681087.7500 - mae: 950.6096 - rmse: 1273.8910 - val_loss: 1619257.0000 - val_mae: 925.2434 - val_rmse: 1248.9260\n",
      "Epoch 73/1000\n",
      "311/311 [==============================] - 0s 968us/step - loss: 1678939.0000 - mae: 950.0194 - rmse: 1272.0753 - val_loss: 1617527.5000 - val_mae: 926.9769 - val_rmse: 1248.6149\n",
      "Epoch 74/1000\n",
      "311/311 [==============================] - 0s 958us/step - loss: 1676616.3750 - mae: 951.0410 - rmse: 1271.8270 - val_loss: 1614606.6250 - val_mae: 922.0785 - val_rmse: 1246.8379\n",
      "Epoch 75/1000\n",
      "311/311 [==============================] - 0s 945us/step - loss: 1674639.7500 - mae: 947.5191 - rmse: 1269.0188 - val_loss: 1612885.7500 - val_mae: 925.4388 - val_rmse: 1246.7928\n",
      "Epoch 76/1000\n",
      "311/311 [==============================] - 0s 981us/step - loss: 1671894.3750 - mae: 948.4553 - rmse: 1271.9746 - val_loss: 1610199.5000 - val_mae: 924.0944 - val_rmse: 1245.6796\n",
      "Epoch 77/1000\n",
      "311/311 [==============================] - 0s 1ms/step - loss: 1669180.8750 - mae: 946.5217 - rmse: 1270.5288 - val_loss: 1607557.6250 - val_mae: 923.0449 - val_rmse: 1244.6357\n",
      "Epoch 78/1000\n",
      "311/311 [==============================] - 0s 960us/step - loss: 1666802.3750 - mae: 946.5027 - rmse: 1267.2526 - val_loss: 1604961.0000 - val_mae: 922.4303 - val_rmse: 1243.6846\n",
      "Epoch 79/1000\n",
      "311/311 [==============================] - 0s 942us/step - loss: 1663424.7500 - mae: 945.9289 - rmse: 1268.2537 - val_loss: 1601768.8750 - val_mae: 918.5777 - val_rmse: 1242.0073\n",
      "Epoch 80/1000\n"
     ]
    },
    {
     "name": "stdout",
     "output_type": "stream",
     "text": [
      "311/311 [==============================] - 0s 1ms/step - loss: 1660478.8750 - mae: 944.2706 - rmse: 1266.7638 - val_loss: 1598886.2500 - val_mae: 916.4781 - val_rmse: 1240.7257\n",
      "Epoch 81/1000\n",
      "311/311 [==============================] - 0s 939us/step - loss: 1657148.6250 - mae: 942.3730 - rmse: 1263.2844 - val_loss: 1595816.5000 - val_mae: 914.9025 - val_rmse: 1239.5048\n",
      "Epoch 82/1000\n",
      "311/311 [==============================] - 0s 964us/step - loss: 1653749.7500 - mae: 940.0206 - rmse: 1263.5822 - val_loss: 1593230.1250 - val_mae: 916.6452 - val_rmse: 1238.9082\n",
      "Epoch 83/1000\n",
      "311/311 [==============================] - 0s 949us/step - loss: 1651079.1250 - mae: 940.3277 - rmse: 1264.3748 - val_loss: 1590149.8750 - val_mae: 914.0075 - val_rmse: 1237.4293\n",
      "Epoch 84/1000\n",
      "311/311 [==============================] - 0s 931us/step - loss: 1648026.5000 - mae: 938.9502 - rmse: 1258.7977 - val_loss: 1587905.7500 - val_mae: 916.1354 - val_rmse: 1237.0070\n",
      "Epoch 85/1000\n",
      "311/311 [==============================] - 0s 940us/step - loss: 1645275.1250 - mae: 938.2114 - rmse: 1259.0699 - val_loss: 1585384.5000 - val_mae: 916.2825 - val_rmse: 1236.1628\n",
      "Epoch 86/1000\n",
      "311/311 [==============================] - 0s 929us/step - loss: 1642025.8750 - mae: 939.2810 - rmse: 1258.4563 - val_loss: 1581693.3750 - val_mae: 910.9506 - val_rmse: 1234.0385\n",
      "Epoch 87/1000\n",
      "311/311 [==============================] - 0s 936us/step - loss: 1638651.1250 - mae: 933.9811 - rmse: 1258.0638 - val_loss: 1579878.1250 - val_mae: 914.6124 - val_rmse: 1233.9950\n",
      "Epoch 88/1000\n",
      "311/311 [==============================] - 0s 984us/step - loss: 1636581.6250 - mae: 936.5513 - rmse: 1256.5503 - val_loss: 1576160.0000 - val_mae: 909.7158 - val_rmse: 1231.9325\n",
      "Epoch 89/1000\n",
      "311/311 [==============================] - 0s 950us/step - loss: 1633342.2500 - mae: 934.0831 - rmse: 1256.5652 - val_loss: 1573512.1250 - val_mae: 911.1293 - val_rmse: 1231.2235\n",
      "Epoch 90/1000\n",
      "311/311 [==============================] - 0s 978us/step - loss: 1630047.3750 - mae: 934.9072 - rmse: 1254.1548 - val_loss: 1570060.3750 - val_mae: 907.3345 - val_rmse: 1229.4291\n",
      "Epoch 91/1000\n",
      "311/311 [==============================] - 0s 934us/step - loss: 1626983.0000 - mae: 932.8361 - rmse: 1253.7642 - val_loss: 1566977.5000 - val_mae: 904.7187 - val_rmse: 1227.9388\n",
      "Epoch 92/1000\n",
      "311/311 [==============================] - 0s 939us/step - loss: 1623777.6250 - mae: 930.4978 - rmse: 1253.5469 - val_loss: 1564094.3750 - val_mae: 905.9102 - val_rmse: 1227.1224\n",
      "Epoch 93/1000\n",
      "311/311 [==============================] - 0s 937us/step - loss: 1621048.8750 - mae: 931.4295 - rmse: 1250.9232 - val_loss: 1561076.7500 - val_mae: 904.1640 - val_rmse: 1225.7980\n",
      "Epoch 94/1000\n",
      "311/311 [==============================] - 0s 938us/step - loss: 1617699.6250 - mae: 928.5687 - rmse: 1249.4786 - val_loss: 1559020.0000 - val_mae: 907.4028 - val_rmse: 1225.5898\n",
      "Epoch 95/1000\n",
      "311/311 [==============================] - 0s 948us/step - loss: 1614591.5000 - mae: 929.7133 - rmse: 1247.4712 - val_loss: 1555309.7500 - val_mae: 902.1695 - val_rmse: 1223.4789\n",
      "Epoch 96/1000\n",
      "311/311 [==============================] - 0s 984us/step - loss: 1611609.0000 - mae: 927.9946 - rmse: 1245.6285 - val_loss: 1552449.6250 - val_mae: 898.3190 - val_rmse: 1221.8861\n",
      "Epoch 97/1000\n",
      "311/311 [==============================] - 0s 988us/step - loss: 1608426.1250 - mae: 924.4109 - rmse: 1245.0977 - val_loss: 1550324.5000 - val_mae: 904.1735 - val_rmse: 1222.0524\n",
      "Epoch 98/1000\n",
      "311/311 [==============================] - 0s 1ms/step - loss: 1605757.2500 - mae: 925.4151 - rmse: 1243.8286 - val_loss: 1546914.1250 - val_mae: 900.8762 - val_rmse: 1220.3477\n",
      "Epoch 99/1000\n",
      "311/311 [==============================] - 0s 979us/step - loss: 1602648.1250 - mae: 924.7131 - rmse: 1243.9202 - val_loss: 1544300.0000 - val_mae: 900.9625 - val_rmse: 1219.4567\n",
      "Epoch 100/1000\n",
      "311/311 [==============================] - 0s 956us/step - loss: 1599818.7500 - mae: 923.6580 - rmse: 1241.3291 - val_loss: 1541267.7500 - val_mae: 898.7556 - val_rmse: 1218.0613\n",
      "Epoch 101/1000\n",
      "311/311 [==============================] - 0s 980us/step - loss: 1596867.5000 - mae: 921.4458 - rmse: 1241.3666 - val_loss: 1538327.5000 - val_mae: 896.6258 - val_rmse: 1216.7051\n",
      "Epoch 102/1000\n",
      "311/311 [==============================] - 0s 961us/step - loss: 1593827.0000 - mae: 921.2490 - rmse: 1237.0985 - val_loss: 1535885.5000 - val_mae: 897.6604 - val_rmse: 1216.0297\n",
      "Epoch 103/1000\n",
      "311/311 [==============================] - 0s 961us/step - loss: 1590582.1250 - mae: 922.0407 - rmse: 1239.1133 - val_loss: 1532713.5000 - val_mae: 891.9547 - val_rmse: 1214.0424\n",
      "Epoch 104/1000\n",
      "311/311 [==============================] - 0s 1ms/step - loss: 1588360.6250 - mae: 918.8588 - rmse: 1237.6653 - val_loss: 1530105.1250 - val_mae: 893.2556 - val_rmse: 1213.3330\n",
      "Epoch 105/1000\n",
      "311/311 [==============================] - 0s 1ms/step - loss: 1584989.0000 - mae: 916.8156 - rmse: 1239.0939 - val_loss: 1528079.8750 - val_mae: 895.5310 - val_rmse: 1213.0024\n",
      "Epoch 106/1000\n",
      "311/311 [==============================] - 0s 1000us/step - loss: 1583092.7500 - mae: 918.0247 - rmse: 1233.2963 - val_loss: 1524954.7500 - val_mae: 891.4721 - val_rmse: 1211.2811\n",
      "Epoch 107/1000\n",
      "311/311 [==============================] - 0s 1ms/step - loss: 1580314.1250 - mae: 915.5441 - rmse: 1232.8555 - val_loss: 1522940.5000 - val_mae: 893.1423 - val_rmse: 1210.8516\n",
      "Epoch 108/1000\n",
      "311/311 [==============================] - 0s 1ms/step - loss: 1577611.6250 - mae: 916.5354 - rmse: 1230.4037 - val_loss: 1519977.6250 - val_mae: 887.7700 - val_rmse: 1208.9850\n",
      "Epoch 109/1000\n",
      "311/311 [==============================] - 0s 981us/step - loss: 1574626.3750 - mae: 915.0930 - rmse: 1233.3579 - val_loss: 1517678.5000 - val_mae: 886.3680 - val_rmse: 1207.9756\n",
      "Epoch 110/1000\n",
      "311/311 [==============================] - 0s 1ms/step - loss: 1572284.2500 - mae: 911.3768 - rmse: 1234.2786 - val_loss: 1516677.7500 - val_mae: 893.0677 - val_rmse: 1208.6938\n",
      "Epoch 111/1000\n",
      "311/311 [==============================] - 0s 985us/step - loss: 1569821.6250 - mae: 915.9796 - rmse: 1232.1799 - val_loss: 1513206.8750 - val_mae: 884.0796 - val_rmse: 1206.0797\n",
      "Epoch 112/1000\n",
      "311/311 [==============================] - 0s 974us/step - loss: 1567720.8750 - mae: 911.2936 - rmse: 1229.8405 - val_loss: 1510960.3750 - val_mae: 884.0427 - val_rmse: 1205.2916\n",
      "Epoch 113/1000\n",
      "311/311 [==============================] - 0s 1ms/step - loss: 1565509.2500 - mae: 909.7749 - rmse: 1226.6617 - val_loss: 1509811.1250 - val_mae: 889.5809 - val_rmse: 1205.7830\n",
      "Epoch 114/1000\n",
      "311/311 [==============================] - 0s 979us/step - loss: 1563396.5000 - mae: 911.9503 - rmse: 1227.6626 - val_loss: 1506949.6250 - val_mae: 882.2746 - val_rmse: 1203.6401\n",
      "Epoch 115/1000\n",
      "311/311 [==============================] - 0s 956us/step - loss: 1560976.6250 - mae: 908.5090 - rmse: 1227.4094 - val_loss: 1505476.6250 - val_mae: 886.6076 - val_rmse: 1203.8215\n",
      "Epoch 116/1000\n",
      "311/311 [==============================] - 0s 982us/step - loss: 1558760.0000 - mae: 908.7611 - rmse: 1226.8560 - val_loss: 1504141.3750 - val_mae: 887.7887 - val_rmse: 1203.5630\n",
      "Epoch 117/1000\n",
      "311/311 [==============================] - 0s 973us/step - loss: 1557006.3750 - mae: 909.6976 - rmse: 1226.5813 - val_loss: 1501326.7500 - val_mae: 881.2916 - val_rmse: 1201.5470\n",
      "Epoch 118/1000\n",
      "311/311 [==============================] - 0s 952us/step - loss: 1555506.7500 - mae: 906.9998 - rmse: 1223.2837 - val_loss: 1499847.2500 - val_mae: 883.3745 - val_rmse: 1201.3754\n",
      "Epoch 119/1000\n",
      "311/311 [==============================] - 0s 951us/step - loss: 1553719.6250 - mae: 906.8766 - rmse: 1224.0315 - val_loss: 1498384.7500 - val_mae: 883.3423 - val_rmse: 1200.8669\n",
      "Epoch 120/1000\n",
      "311/311 [==============================] - 0s 950us/step - loss: 1551490.6250 - mae: 905.1757 - rmse: 1222.8601 - val_loss: 1497478.8750 - val_mae: 885.2691 - val_rmse: 1200.8745\n",
      "Epoch 121/1000\n",
      "311/311 [==============================] - 0s 981us/step - loss: 1550527.7500 - mae: 906.7290 - rmse: 1219.7355 - val_loss: 1496300.7500 - val_mae: 885.6733 - val_rmse: 1200.5494\n",
      "Epoch 122/1000\n"
     ]
    },
    {
     "name": "stdout",
     "output_type": "stream",
     "text": [
      "311/311 [==============================] - 0s 968us/step - loss: 1548741.2500 - mae: 905.0640 - rmse: 1223.6056 - val_loss: 1494008.5000 - val_mae: 882.3872 - val_rmse: 1199.2281\n",
      "Epoch 123/1000\n",
      "311/311 [==============================] - 0s 1ms/step - loss: 1546720.5000 - mae: 905.9156 - rmse: 1219.3469 - val_loss: 1492253.3750 - val_mae: 877.0881 - val_rmse: 1197.7727\n",
      "Epoch 124/1000\n",
      "311/311 [==============================] - 0s 966us/step - loss: 1545656.7500 - mae: 902.9596 - rmse: 1221.0066 - val_loss: 1491271.0000 - val_mae: 881.1305 - val_rmse: 1198.0964\n",
      "Epoch 125/1000\n",
      "311/311 [==============================] - 0s 987us/step - loss: 1544269.2500 - mae: 904.1971 - rmse: 1220.8185 - val_loss: 1490144.1250 - val_mae: 881.3036 - val_rmse: 1197.7430\n",
      "Epoch 126/1000\n",
      "311/311 [==============================] - 0s 986us/step - loss: 1542881.1250 - mae: 902.9139 - rmse: 1217.9236 - val_loss: 1489248.2500 - val_mae: 881.8323 - val_rmse: 1197.5280\n",
      "Epoch 127/1000\n",
      "311/311 [==============================] - 0s 957us/step - loss: 1541356.3750 - mae: 904.3928 - rmse: 1219.3262 - val_loss: 1487553.1250 - val_mae: 874.2308 - val_rmse: 1195.7246\n",
      "Epoch 128/1000\n",
      "311/311 [==============================] - 0s 938us/step - loss: 1540560.5000 - mae: 902.7189 - rmse: 1218.0389 - val_loss: 1486342.1250 - val_mae: 875.0435 - val_rmse: 1195.4403\n",
      "Epoch 129/1000\n",
      "311/311 [==============================] - 0s 941us/step - loss: 1539344.3750 - mae: 901.2625 - rmse: 1220.0763 - val_loss: 1485287.6250 - val_mae: 875.1057 - val_rmse: 1195.0908\n",
      "Epoch 130/1000\n",
      "311/311 [==============================] - 0s 972us/step - loss: 1538166.5000 - mae: 901.4731 - rmse: 1216.9065 - val_loss: 1484308.3750 - val_mae: 876.4958 - val_rmse: 1194.9832\n",
      "Epoch 131/1000\n",
      "311/311 [==============================] - 0s 1ms/step - loss: 1537148.3750 - mae: 901.6259 - rmse: 1214.6986 - val_loss: 1483376.1250 - val_mae: 874.8565 - val_rmse: 1194.4091\n",
      "Epoch 132/1000\n",
      "311/311 [==============================] - 0s 958us/step - loss: 1536034.0000 - mae: 900.7548 - rmse: 1216.8474 - val_loss: 1482564.5000 - val_mae: 876.6766 - val_rmse: 1194.4304\n",
      "Epoch 133/1000\n",
      "311/311 [==============================] - 0s 1ms/step - loss: 1534970.6250 - mae: 900.9777 - rmse: 1215.8936 - val_loss: 1481857.3750 - val_mae: 872.6025 - val_rmse: 1193.5565\n",
      "Epoch 134/1000\n",
      "311/311 [==============================] - 0s 1ms/step - loss: 1533947.6250 - mae: 899.2402 - rmse: 1215.5815 - val_loss: 1481577.6250 - val_mae: 879.2508 - val_rmse: 1194.5380\n",
      "Epoch 135/1000\n",
      "311/311 [==============================] - 0s 943us/step - loss: 1533808.5000 - mae: 900.2178 - rmse: 1217.0734 - val_loss: 1480491.6250 - val_mae: 877.6536 - val_rmse: 1193.9115\n",
      "Epoch 136/1000\n",
      "311/311 [==============================] - 0s 938us/step - loss: 1532962.0000 - mae: 900.8705 - rmse: 1216.5103 - val_loss: 1479432.0000 - val_mae: 874.9249 - val_rmse: 1193.1229\n",
      "Epoch 137/1000\n",
      "311/311 [==============================] - 0s 953us/step - loss: 1532012.7500 - mae: 899.0281 - rmse: 1214.5312 - val_loss: 1478866.0000 - val_mae: 875.6312 - val_rmse: 1193.0552\n",
      "Epoch 138/1000\n",
      "311/311 [==============================] - 0s 947us/step - loss: 1530760.3750 - mae: 900.1869 - rmse: 1216.9475 - val_loss: 1478382.8750 - val_mae: 871.1389 - val_rmse: 1192.1986\n",
      "Epoch 139/1000\n",
      "311/311 [==============================] - 0s 960us/step - loss: 1530130.6250 - mae: 898.4081 - rmse: 1214.1342 - val_loss: 1477834.0000 - val_mae: 870.7584 - val_rmse: 1191.9661\n",
      "Epoch 140/1000\n",
      "311/311 [==============================] - 0s 954us/step - loss: 1529290.0000 - mae: 896.8676 - rmse: 1215.2930 - val_loss: 1477229.8750 - val_mae: 875.9140 - val_rmse: 1192.5839\n",
      "Epoch 141/1000\n",
      "311/311 [==============================] - 0s 952us/step - loss: 1529120.5000 - mae: 899.3065 - rmse: 1211.1520 - val_loss: 1476452.2500 - val_mae: 873.2124 - val_rmse: 1191.8981\n",
      "Epoch 142/1000\n",
      "311/311 [==============================] - 0s 964us/step - loss: 1528344.3750 - mae: 896.8617 - rmse: 1216.7606 - val_loss: 1477261.2500 - val_mae: 879.3153 - val_rmse: 1193.1895\n",
      "Epoch 143/1000\n",
      "311/311 [==============================] - 0s 1ms/step - loss: 1527743.7500 - mae: 899.3809 - rmse: 1213.0193 - val_loss: 1475520.2500 - val_mae: 872.3431 - val_rmse: 1191.4705\n",
      "Epoch 144/1000\n",
      "311/311 [==============================] - 0s 944us/step - loss: 1527995.5000 - mae: 898.3813 - rmse: 1213.8046 - val_loss: 1475124.5000 - val_mae: 871.5526 - val_rmse: 1191.2212\n",
      "Epoch 145/1000\n",
      "311/311 [==============================] - 0s 941us/step - loss: 1527169.5000 - mae: 896.2451 - rmse: 1215.0332 - val_loss: 1475021.0000 - val_mae: 876.0210 - val_rmse: 1191.9186\n",
      "Epoch 146/1000\n",
      "311/311 [==============================] - 0s 1ms/step - loss: 1526091.7500 - mae: 897.7285 - rmse: 1214.9531 - val_loss: 1474510.3750 - val_mae: 875.4465 - val_rmse: 1191.6660\n",
      "Epoch 147/1000\n",
      "311/311 [==============================] - 0s 943us/step - loss: 1526407.5000 - mae: 897.2546 - rmse: 1213.9648 - val_loss: 1474102.5000 - val_mae: 875.2573 - val_rmse: 1191.5101\n",
      "Epoch 148/1000\n",
      "311/311 [==============================] - 0s 986us/step - loss: 1525577.1250 - mae: 898.0180 - rmse: 1216.7764 - val_loss: 1473454.0000 - val_mae: 871.9539 - val_rmse: 1190.7677\n",
      "Epoch 149/1000\n",
      "311/311 [==============================] - 0s 987us/step - loss: 1525155.5000 - mae: 896.0303 - rmse: 1211.2393 - val_loss: 1474730.6250 - val_mae: 879.1567 - val_rmse: 1192.4165\n",
      "Epoch 150/1000\n",
      "311/311 [==============================] - 0s 927us/step - loss: 1524970.6250 - mae: 897.0687 - rmse: 1214.2349 - val_loss: 1473255.0000 - val_mae: 875.9849 - val_rmse: 1191.3884\n",
      "Epoch 151/1000\n",
      "311/311 [==============================] - 0s 930us/step - loss: 1524632.5000 - mae: 897.7438 - rmse: 1213.3438 - val_loss: 1472363.7500 - val_mae: 871.0436 - val_rmse: 1190.2942\n",
      "Epoch 152/1000\n",
      "311/311 [==============================] - 0s 940us/step - loss: 1524164.0000 - mae: 897.5887 - rmse: 1210.3379 - val_loss: 1472654.7500 - val_mae: 867.8392 - val_rmse: 1189.9066\n",
      "Epoch 153/1000\n",
      "311/311 [==============================] - 0s 955us/step - loss: 1523753.1250 - mae: 894.7316 - rmse: 1211.6448 - val_loss: 1473450.8750 - val_mae: 878.8069 - val_rmse: 1191.9883\n",
      "Epoch 154/1000\n",
      "311/311 [==============================] - 0s 973us/step - loss: 1523338.5000 - mae: 895.9149 - rmse: 1213.2230 - val_loss: 1473538.5000 - val_mae: 879.5079 - val_rmse: 1192.1586\n",
      "Epoch 155/1000\n",
      "311/311 [==============================] - 0s 941us/step - loss: 1523467.5000 - mae: 897.9280 - rmse: 1213.2423 - val_loss: 1471145.3750 - val_mae: 869.9034 - val_rmse: 1189.7482\n",
      "Epoch 156/1000\n",
      "311/311 [==============================] - 0s 976us/step - loss: 1522643.8750 - mae: 896.3810 - rmse: 1211.9684 - val_loss: 1470772.2500 - val_mae: 870.5114 - val_rmse: 1189.7271\n",
      "Epoch 157/1000\n",
      "311/311 [==============================] - 0s 953us/step - loss: 1522317.3750 - mae: 896.3052 - rmse: 1211.9171 - val_loss: 1470508.7500 - val_mae: 870.0913 - val_rmse: 1189.5824\n",
      "Epoch 158/1000\n",
      "311/311 [==============================] - 0s 964us/step - loss: 1522102.7500 - mae: 895.5162 - rmse: 1213.0242 - val_loss: 1470146.3750 - val_mae: 871.1713 - val_rmse: 1189.6384\n",
      "Epoch 159/1000\n",
      "311/311 [==============================] - 0s 973us/step - loss: 1521917.6250 - mae: 895.9548 - rmse: 1209.8392 - val_loss: 1469917.8750 - val_mae: 870.0096 - val_rmse: 1189.3890\n",
      "Epoch 160/1000\n",
      "311/311 [==============================] - 0s 942us/step - loss: 1520977.3750 - mae: 894.5933 - rmse: 1210.4006 - val_loss: 1470937.6250 - val_mae: 877.1418 - val_rmse: 1190.9420\n",
      "Epoch 161/1000\n",
      "311/311 [==============================] - 0s 925us/step - loss: 1520828.6250 - mae: 897.0427 - rmse: 1213.8978 - val_loss: 1469432.2500 - val_mae: 869.2248 - val_rmse: 1189.1198\n",
      "Epoch 162/1000\n",
      "311/311 [==============================] - 0s 975us/step - loss: 1520786.1250 - mae: 894.1799 - rmse: 1209.5110 - val_loss: 1469425.8750 - val_mae: 874.1906 - val_rmse: 1189.9420\n",
      "Epoch 163/1000\n",
      "311/311 [==============================] - 0s 1ms/step - loss: 1520534.7500 - mae: 895.0446 - rmse: 1213.6971 - val_loss: 1469401.8750 - val_mae: 874.9665 - val_rmse: 1190.0786\n",
      "Epoch 164/1000\n"
     ]
    },
    {
     "name": "stdout",
     "output_type": "stream",
     "text": [
      "311/311 [==============================] - 0s 1ms/step - loss: 1520502.0000 - mae: 896.3991 - rmse: 1208.5067 - val_loss: 1468522.5000 - val_mae: 870.0788 - val_rmse: 1188.9722\n",
      "Epoch 165/1000\n",
      "311/311 [==============================] - 0s 953us/step - loss: 1520127.7500 - mae: 894.2285 - rmse: 1208.8335 - val_loss: 1468651.2500 - val_mae: 873.9463 - val_rmse: 1189.6704\n",
      "Epoch 166/1000\n",
      "311/311 [==============================] - 0s 948us/step - loss: 1520004.3750 - mae: 895.8427 - rmse: 1211.1696 - val_loss: 1467977.2500 - val_mae: 870.9835 - val_rmse: 1188.9500\n",
      "Epoch 167/1000\n",
      "311/311 [==============================] - 0s 948us/step - loss: 1519536.6250 - mae: 895.4278 - rmse: 1211.9563 - val_loss: 1467804.5000 - val_mae: 869.3832 - val_rmse: 1188.6407\n",
      "Epoch 168/1000\n",
      "311/311 [==============================] - 0s 1ms/step - loss: 1519826.3750 - mae: 894.5363 - rmse: 1212.1003 - val_loss: 1467989.7500 - val_mae: 873.8704 - val_rmse: 1189.4655\n",
      "Epoch 169/1000\n",
      "311/311 [==============================] - 0s 931us/step - loss: 1519135.1250 - mae: 894.8283 - rmse: 1211.8864 - val_loss: 1467896.5000 - val_mae: 874.1828 - val_rmse: 1189.5001\n",
      "Epoch 170/1000\n",
      "311/311 [==============================] - 0s 929us/step - loss: 1518687.5000 - mae: 895.6527 - rmse: 1212.3933 - val_loss: 1467158.8750 - val_mae: 868.8568 - val_rmse: 1188.3575\n",
      "Epoch 171/1000\n",
      "311/311 [==============================] - 0s 954us/step - loss: 1519115.8750 - mae: 893.9067 - rmse: 1211.9531 - val_loss: 1467405.2500 - val_mae: 873.8775 - val_rmse: 1189.2976\n",
      "Epoch 172/1000\n",
      "311/311 [==============================] - 0s 1ms/step - loss: 1518502.6250 - mae: 895.2065 - rmse: 1209.1794 - val_loss: 1467264.7500 - val_mae: 874.0020 - val_rmse: 1189.2806\n",
      "Epoch 173/1000\n",
      "311/311 [==============================] - 0s 1ms/step - loss: 1518096.8750 - mae: 895.4861 - rmse: 1212.3855 - val_loss: 1466480.3750 - val_mae: 870.8280 - val_rmse: 1188.4766\n",
      "Epoch 174/1000\n",
      "311/311 [==============================] - 0s 1ms/step - loss: 1518608.6250 - mae: 894.0590 - rmse: 1209.3336 - val_loss: 1466663.3750 - val_mae: 873.0550 - val_rmse: 1188.9302\n",
      "Epoch 175/1000\n",
      "311/311 [==============================] - 0s 1ms/step - loss: 1518071.2500 - mae: 894.8978 - rmse: 1210.7207 - val_loss: 1466169.0000 - val_mae: 871.3190 - val_rmse: 1188.4688\n",
      "Epoch 176/1000\n",
      "311/311 [==============================] - 0s 1ms/step - loss: 1517381.0000 - mae: 894.7861 - rmse: 1208.8367 - val_loss: 1466301.2500 - val_mae: 867.1596 - val_rmse: 1187.8245\n",
      "Epoch 177/1000\n",
      "311/311 [==============================] - 0s 1ms/step - loss: 1517853.2500 - mae: 893.5321 - rmse: 1212.8127 - val_loss: 1466720.7500 - val_mae: 874.7522 - val_rmse: 1189.2670\n",
      "Epoch 178/1000\n",
      "311/311 [==============================] - 0s 1ms/step - loss: 1517257.0000 - mae: 893.9221 - rmse: 1210.5638 - val_loss: 1466318.5000 - val_mae: 874.0140 - val_rmse: 1189.0114\n",
      "Epoch 179/1000\n",
      "311/311 [==============================] - 0s 1ms/step - loss: 1517304.2500 - mae: 894.7388 - rmse: 1210.2915 - val_loss: 1465439.1250 - val_mae: 870.4744 - val_rmse: 1188.1028\n",
      "Epoch 180/1000\n",
      "311/311 [==============================] - 0s 932us/step - loss: 1517414.2500 - mae: 896.0135 - rmse: 1209.7521 - val_loss: 1465666.2500 - val_mae: 866.8911 - val_rmse: 1187.5873\n",
      "Epoch 181/1000\n",
      "311/311 [==============================] - 0s 945us/step - loss: 1517470.5000 - mae: 892.8101 - rmse: 1206.8777 - val_loss: 1465205.7500 - val_mae: 871.2784 - val_rmse: 1188.1753\n",
      "Epoch 182/1000\n",
      "311/311 [==============================] - 0s 937us/step - loss: 1516784.7500 - mae: 894.0745 - rmse: 1211.4135 - val_loss: 1465297.6250 - val_mae: 872.4828 - val_rmse: 1188.4249\n",
      "Epoch 183/1000\n",
      "311/311 [==============================] - 0s 926us/step - loss: 1516209.2500 - mae: 892.8423 - rmse: 1211.1124 - val_loss: 1467209.7500 - val_mae: 877.4084 - val_rmse: 1189.9620\n",
      "Epoch 184/1000\n",
      "311/311 [==============================] - 0s 936us/step - loss: 1517121.2500 - mae: 895.2788 - rmse: 1210.7426 - val_loss: 1464862.1250 - val_mae: 871.6305 - val_rmse: 1188.1467\n",
      "Epoch 185/1000\n",
      "311/311 [==============================] - 0s 931us/step - loss: 1516225.1250 - mae: 894.4415 - rmse: 1209.5283 - val_loss: 1464664.5000 - val_mae: 871.3015 - val_rmse: 1188.0265\n",
      "Epoch 186/1000\n",
      "311/311 [==============================] - 0s 961us/step - loss: 1516340.6250 - mae: 893.7065 - rmse: 1208.7668 - val_loss: 1464463.8750 - val_mae: 870.8203 - val_rmse: 1187.8806\n",
      "Epoch 187/1000\n",
      "311/311 [==============================] - 0s 968us/step - loss: 1516011.0000 - mae: 893.5871 - rmse: 1209.6586 - val_loss: 1465045.2500 - val_mae: 873.7054 - val_rmse: 1188.5941\n",
      "Epoch 188/1000\n",
      "311/311 [==============================] - 0s 1ms/step - loss: 1516094.8750 - mae: 894.4293 - rmse: 1211.1038 - val_loss: 1464232.7500 - val_mae: 870.9360 - val_rmse: 1187.8403\n",
      "Epoch 189/1000\n",
      "311/311 [==============================] - 0s 938us/step - loss: 1514763.2500 - mae: 895.5297 - rmse: 1208.7336 - val_loss: 1466007.5000 - val_mae: 863.2759 - val_rmse: 1187.1927\n",
      "Epoch 190/1000\n",
      "311/311 [==============================] - 0s 957us/step - loss: 1515849.7500 - mae: 894.0657 - rmse: 1209.0463 - val_loss: 1466003.5000 - val_mae: 863.0811 - val_rmse: 1187.1676\n",
      "Epoch 191/1000\n",
      "311/311 [==============================] - 0s 940us/step - loss: 1515648.1250 - mae: 891.2229 - rmse: 1208.5927 - val_loss: 1464219.2500 - val_mae: 872.5540 - val_rmse: 1188.1359\n",
      "Epoch 192/1000\n",
      "311/311 [==============================] - 0s 942us/step - loss: 1515448.2500 - mae: 894.7430 - rmse: 1211.5714 - val_loss: 1463765.2500 - val_mae: 867.5627 - val_rmse: 1187.1310\n",
      "Epoch 193/1000\n",
      "311/311 [==============================] - 0s 930us/step - loss: 1515156.3750 - mae: 893.8794 - rmse: 1210.2310 - val_loss: 1464006.8750 - val_mae: 865.9729 - val_rmse: 1186.9514\n",
      "Epoch 194/1000\n",
      "311/311 [==============================] - 0s 942us/step - loss: 1515105.6250 - mae: 892.3267 - rmse: 1209.0259 - val_loss: 1463979.6250 - val_mae: 872.8136 - val_rmse: 1188.1208\n",
      "Epoch 195/1000\n",
      "311/311 [==============================] - 0s 939us/step - loss: 1515596.6250 - mae: 893.8907 - rmse: 1207.6714 - val_loss: 1463337.0000 - val_mae: 870.3411 - val_rmse: 1187.4739\n",
      "Epoch 196/1000\n",
      "311/311 [==============================] - 0s 938us/step - loss: 1515077.5000 - mae: 893.9147 - rmse: 1210.1871 - val_loss: 1463222.0000 - val_mae: 870.3998 - val_rmse: 1187.4515\n",
      "Epoch 197/1000\n",
      "311/311 [==============================] - 0s 956us/step - loss: 1514730.8750 - mae: 893.7009 - rmse: 1211.3221 - val_loss: 1463333.5000 - val_mae: 866.6115 - val_rmse: 1186.8440\n",
      "Epoch 198/1000\n",
      "311/311 [==============================] - 0s 948us/step - loss: 1515239.6250 - mae: 893.1138 - rmse: 1211.6071 - val_loss: 1462984.5000 - val_mae: 870.1177 - val_rmse: 1187.3313\n",
      "Epoch 199/1000\n",
      "311/311 [==============================] - 0s 955us/step - loss: 1514878.1250 - mae: 893.6837 - rmse: 1212.9531 - val_loss: 1462889.7500 - val_mae: 867.5235 - val_rmse: 1186.8561\n",
      "Epoch 200/1000\n",
      "311/311 [==============================] - 0s 942us/step - loss: 1514330.6250 - mae: 892.8013 - rmse: 1209.7382 - val_loss: 1462860.1250 - val_mae: 867.0923 - val_rmse: 1186.7773\n",
      "Epoch 201/1000\n",
      "311/311 [==============================] - 0s 940us/step - loss: 1514760.6250 - mae: 892.7429 - rmse: 1207.3484 - val_loss: 1462688.6250 - val_mae: 867.5294 - val_rmse: 1186.7972\n",
      "Epoch 202/1000\n",
      "311/311 [==============================] - 0s 933us/step - loss: 1515145.0000 - mae: 892.8456 - rmse: 1207.5503 - val_loss: 1462490.2500 - val_mae: 868.7294 - val_rmse: 1186.9363\n",
      "Epoch 203/1000\n",
      "311/311 [==============================] - 0s 957us/step - loss: 1514003.0000 - mae: 893.2400 - rmse: 1208.7506 - val_loss: 1462493.0000 - val_mae: 870.1225 - val_rmse: 1187.1857\n",
      "Epoch 204/1000\n",
      "311/311 [==============================] - 0s 956us/step - loss: 1514209.0000 - mae: 894.4696 - rmse: 1208.8734 - val_loss: 1462936.7500 - val_mae: 865.2936 - val_rmse: 1186.5221\n",
      "Epoch 205/1000\n",
      "311/311 [==============================] - 0s 956us/step - loss: 1514683.1250 - mae: 891.8305 - rmse: 1207.8538 - val_loss: 1462202.6250 - val_mae: 868.0773 - val_rmse: 1186.7428\n",
      "Epoch 206/1000\n"
     ]
    },
    {
     "name": "stdout",
     "output_type": "stream",
     "text": [
      "311/311 [==============================] - 0s 969us/step - loss: 1514225.7500 - mae: 892.3389 - rmse: 1208.6097 - val_loss: 1462873.6250 - val_mae: 872.8271 - val_rmse: 1187.8043\n",
      "Epoch 207/1000\n",
      "311/311 [==============================] - 0s 937us/step - loss: 1514011.7500 - mae: 894.2102 - rmse: 1210.7299 - val_loss: 1462085.8750 - val_mae: 867.3554 - val_rmse: 1186.5878\n",
      "Epoch 208/1000\n",
      "311/311 [==============================] - 0s 956us/step - loss: 1514446.0000 - mae: 892.8777 - rmse: 1208.9916 - val_loss: 1462085.7500 - val_mae: 870.4819 - val_rmse: 1187.1339\n",
      "Epoch 209/1000\n",
      "311/311 [==============================] - 0s 970us/step - loss: 1513561.7500 - mae: 892.5062 - rmse: 1207.1788 - val_loss: 1462385.3750 - val_mae: 872.1094 - val_rmse: 1187.5272\n",
      "Epoch 210/1000\n",
      "311/311 [==============================] - 0s 1ms/step - loss: 1514061.2500 - mae: 892.9781 - rmse: 1208.7201 - val_loss: 1461929.0000 - val_mae: 870.6127 - val_rmse: 1187.1095\n",
      "Epoch 211/1000\n",
      "311/311 [==============================] - 0s 980us/step - loss: 1513439.2500 - mae: 895.0487 - rmse: 1209.7781 - val_loss: 1462144.3750 - val_mae: 865.4329 - val_rmse: 1186.2986\n",
      "Epoch 212/1000\n",
      "311/311 [==============================] - 0s 1ms/step - loss: 1513730.3750 - mae: 891.3073 - rmse: 1207.2281 - val_loss: 1461894.5000 - val_mae: 871.1938 - val_rmse: 1187.2102\n",
      "Epoch 213/1000\n",
      "311/311 [==============================] - 0s 1ms/step - loss: 1513713.0000 - mae: 893.9993 - rmse: 1209.6647 - val_loss: 1461723.6250 - val_mae: 866.2342 - val_rmse: 1186.2952\n",
      "Epoch 214/1000\n",
      "311/311 [==============================] - 0s 965us/step - loss: 1513927.8750 - mae: 892.8971 - rmse: 1209.9681 - val_loss: 1462485.8750 - val_mae: 863.9444 - val_rmse: 1186.1805\n",
      "Epoch 215/1000\n",
      "311/311 [==============================] - 0s 938us/step - loss: 1513887.7500 - mae: 892.6008 - rmse: 1208.0793 - val_loss: 1461364.6250 - val_mae: 867.1204 - val_rmse: 1186.3287\n",
      "Epoch 216/1000\n",
      "311/311 [==============================] - 0s 955us/step - loss: 1513846.2500 - mae: 892.7954 - rmse: 1209.6642 - val_loss: 1461197.8750 - val_mae: 867.9370 - val_rmse: 1186.4136\n",
      "Epoch 217/1000\n",
      "311/311 [==============================] - 0s 962us/step - loss: 1512875.5000 - mae: 893.3578 - rmse: 1210.8267 - val_loss: 1462123.6250 - val_mae: 864.0444 - val_rmse: 1186.0841\n",
      "Epoch 218/1000\n",
      "311/311 [==============================] - 0s 964us/step - loss: 1513618.0000 - mae: 891.3327 - rmse: 1209.0719 - val_loss: 1461537.0000 - val_mae: 871.5455 - val_rmse: 1187.1732\n",
      "Epoch 219/1000\n",
      "311/311 [==============================] - 0s 1ms/step - loss: 1512866.7500 - mae: 892.9067 - rmse: 1210.1781 - val_loss: 1461265.1250 - val_mae: 870.7661 - val_rmse: 1186.9467\n",
      "Epoch 220/1000\n",
      "311/311 [==============================] - 0s 1ms/step - loss: 1512976.2500 - mae: 893.8129 - rmse: 1207.4476 - val_loss: 1461060.1250 - val_mae: 866.4122 - val_rmse: 1186.1208\n",
      "Epoch 221/1000\n",
      "311/311 [==============================] - 0s 995us/step - loss: 1513196.3750 - mae: 892.2973 - rmse: 1206.8147 - val_loss: 1460806.0000 - val_mae: 868.1615 - val_rmse: 1186.3402\n",
      "Epoch 222/1000\n",
      "311/311 [==============================] - 0s 949us/step - loss: 1513077.8750 - mae: 891.0495 - rmse: 1211.3309 - val_loss: 1461519.7500 - val_mae: 872.4099 - val_rmse: 1187.3344\n",
      "Epoch 223/1000\n",
      "311/311 [==============================] - 0s 946us/step - loss: 1511989.6250 - mae: 894.0598 - rmse: 1209.5847 - val_loss: 1461171.1250 - val_mae: 864.9656 - val_rmse: 1185.9263\n",
      "Epoch 224/1000\n",
      "311/311 [==============================] - 0s 947us/step - loss: 1512689.5000 - mae: 891.3632 - rmse: 1207.2710 - val_loss: 1460779.0000 - val_mae: 870.3191 - val_rmse: 1186.7200\n",
      "Epoch 225/1000\n",
      "311/311 [==============================] - 0s 954us/step - loss: 1513019.5000 - mae: 892.9842 - rmse: 1207.0829 - val_loss: 1460716.7500 - val_mae: 865.7285 - val_rmse: 1185.8970\n",
      "Epoch 226/1000\n",
      "311/311 [==============================] - 0s 958us/step - loss: 1512624.0000 - mae: 891.4691 - rmse: 1210.6021 - val_loss: 1460798.6250 - val_mae: 870.9916 - val_rmse: 1186.8484\n",
      "Epoch 227/1000\n",
      "311/311 [==============================] - 0s 941us/step - loss: 1512746.7500 - mae: 892.0203 - rmse: 1208.4685 - val_loss: 1460577.6250 - val_mae: 870.3514 - val_rmse: 1186.6619\n",
      "Epoch 228/1000\n",
      "311/311 [==============================] - 0s 944us/step - loss: 1512695.0000 - mae: 892.1656 - rmse: 1209.4174 - val_loss: 1461012.6250 - val_mae: 872.0992 - val_rmse: 1187.1243\n",
      "Epoch 229/1000\n",
      "311/311 [==============================] - 0s 939us/step - loss: 1513083.0000 - mae: 892.6602 - rmse: 1209.1123 - val_loss: 1460982.5000 - val_mae: 872.1607 - val_rmse: 1187.1307\n",
      "Epoch 230/1000\n",
      "311/311 [==============================] - 0s 938us/step - loss: 1512163.6250 - mae: 892.8033 - rmse: 1208.9659 - val_loss: 1460681.8750 - val_mae: 871.4843 - val_rmse: 1186.9102\n",
      "Epoch 231/1000\n",
      "311/311 [==============================] - 0s 942us/step - loss: 1512191.6250 - mae: 893.4516 - rmse: 1209.5446 - val_loss: 1460231.1250 - val_mae: 865.6412 - val_rmse: 1185.7346\n",
      "Epoch 232/1000\n",
      "311/311 [==============================] - 0s 961us/step - loss: 1512568.2500 - mae: 891.3350 - rmse: 1207.0897 - val_loss: 1460038.8750 - val_mae: 869.4286 - val_rmse: 1186.3298\n",
      "Epoch 233/1000\n",
      "311/311 [==============================] - 0s 945us/step - loss: 1512400.8750 - mae: 892.6377 - rmse: 1210.4373 - val_loss: 1459931.1250 - val_mae: 869.2156 - val_rmse: 1186.2587\n",
      "Epoch 234/1000\n",
      "311/311 [==============================] - 0s 945us/step - loss: 1512481.6250 - mae: 892.5855 - rmse: 1207.3348 - val_loss: 1459733.0000 - val_mae: 867.4937 - val_rmse: 1185.8918\n",
      "Epoch 235/1000\n",
      "311/311 [==============================] - 0s 936us/step - loss: 1511536.3750 - mae: 890.9185 - rmse: 1208.7144 - val_loss: 1460778.8750 - val_mae: 872.6417 - val_rmse: 1187.1626\n",
      "Epoch 236/1000\n",
      "311/311 [==============================] - 0s 952us/step - loss: 1512194.2500 - mae: 893.8988 - rmse: 1209.9537 - val_loss: 1459570.1250 - val_mae: 867.6383 - val_rmse: 1185.8658\n",
      "Epoch 237/1000\n",
      "311/311 [==============================] - 0s 938us/step - loss: 1511986.0000 - mae: 891.4376 - rmse: 1210.7898 - val_loss: 1459491.1250 - val_mae: 867.6331 - val_rmse: 1185.8380\n",
      "Epoch 238/1000\n",
      "311/311 [==============================] - 0s 949us/step - loss: 1511531.0000 - mae: 892.5184 - rmse: 1207.6241 - val_loss: 1459429.5000 - val_mae: 867.3234 - val_rmse: 1185.7668\n",
      "Epoch 239/1000\n",
      "311/311 [==============================] - 0s 957us/step - loss: 1511846.2500 - mae: 891.4842 - rmse: 1205.6935 - val_loss: 1459564.8750 - val_mae: 869.5728 - val_rmse: 1186.2123\n",
      "Epoch 240/1000\n",
      "311/311 [==============================] - 0s 936us/step - loss: 1512314.2500 - mae: 891.9289 - rmse: 1206.8735 - val_loss: 1459779.2500 - val_mae: 870.7000 - val_rmse: 1186.4904\n",
      "Epoch 241/1000\n",
      "311/311 [==============================] - 0s 966us/step - loss: 1511314.3750 - mae: 892.7927 - rmse: 1208.0640 - val_loss: 1459299.3750 - val_mae: 866.0361 - val_rmse: 1185.5092\n",
      "Epoch 242/1000\n",
      "311/311 [==============================] - 0s 980us/step - loss: 1512065.0000 - mae: 891.9336 - rmse: 1209.6395 - val_loss: 1459165.6250 - val_mae: 866.3333 - val_rmse: 1185.5155\n",
      "Epoch 243/1000\n",
      "311/311 [==============================] - 0s 999us/step - loss: 1511493.3750 - mae: 891.0612 - rmse: 1207.2056 - val_loss: 1459602.3750 - val_mae: 870.7176 - val_rmse: 1186.4447\n",
      "Epoch 244/1000\n",
      "311/311 [==============================] - 0s 933us/step - loss: 1511589.1250 - mae: 891.5012 - rmse: 1209.0591 - val_loss: 1460515.6250 - val_mae: 873.1832 - val_rmse: 1187.2021\n",
      "Epoch 245/1000\n",
      "311/311 [==============================] - 0s 960us/step - loss: 1511758.3750 - mae: 892.1066 - rmse: 1207.3033 - val_loss: 1459092.8750 - val_mae: 869.1608 - val_rmse: 1185.9990\n",
      "Epoch 246/1000\n",
      "311/311 [==============================] - 0s 1ms/step - loss: 1511888.2500 - mae: 892.0307 - rmse: 1211.4774 - val_loss: 1458867.3750 - val_mae: 867.9289 - val_rmse: 1185.7045\n",
      "Epoch 247/1000\n",
      "311/311 [==============================] - 0s 1ms/step - loss: 1511349.2500 - mae: 892.0727 - rmse: 1209.9657 - val_loss: 1458925.0000 - val_mae: 868.8439 - val_rmse: 1185.8920\n",
      "Epoch 248/1000\n"
     ]
    },
    {
     "name": "stdout",
     "output_type": "stream",
     "text": [
      "311/311 [==============================] - 0s 939us/step - loss: 1511542.5000 - mae: 891.2627 - rmse: 1209.0830 - val_loss: 1459227.6250 - val_mae: 870.4297 - val_rmse: 1186.2800\n",
      "Epoch 249/1000\n",
      "311/311 [==============================] - 0s 935us/step - loss: 1511232.0000 - mae: 891.9404 - rmse: 1207.8525 - val_loss: 1458669.3750 - val_mae: 866.9221 - val_rmse: 1185.4696\n",
      "Epoch 250/1000\n",
      "311/311 [==============================] - 0s 925us/step - loss: 1511557.0000 - mae: 891.5424 - rmse: 1206.2837 - val_loss: 1458598.2500 - val_mae: 866.9317 - val_rmse: 1185.4498\n",
      "Epoch 251/1000\n",
      "311/311 [==============================] - 0s 961us/step - loss: 1511229.6250 - mae: 892.1723 - rmse: 1208.5422 - val_loss: 1458542.1250 - val_mae: 866.3551 - val_rmse: 1185.3307\n",
      "Epoch 252/1000\n",
      "311/311 [==============================] - 0s 950us/step - loss: 1511032.5000 - mae: 891.6075 - rmse: 1207.0090 - val_loss: 1458515.0000 - val_mae: 866.1122 - val_rmse: 1185.2826\n",
      "Epoch 253/1000\n",
      "311/311 [==============================] - 0s 962us/step - loss: 1510499.8750 - mae: 890.7210 - rmse: 1206.1492 - val_loss: 1459169.0000 - val_mae: 871.1129 - val_rmse: 1186.3992\n",
      "Epoch 254/1000\n",
      "311/311 [==============================] - 0s 966us/step - loss: 1511034.8750 - mae: 891.3860 - rmse: 1207.2876 - val_loss: 1462027.7500 - val_mae: 876.3859 - val_rmse: 1188.3549\n",
      "Epoch 255/1000\n",
      "311/311 [==============================] - 0s 981us/step - loss: 1510832.8750 - mae: 893.0158 - rmse: 1208.2787 - val_loss: 1458301.0000 - val_mae: 867.8131 - val_rmse: 1185.5187\n",
      "Epoch 256/1000\n",
      "311/311 [==============================] - 0s 944us/step - loss: 1511535.5000 - mae: 891.3707 - rmse: 1205.8722 - val_loss: 1458197.3750 - val_mae: 867.3483 - val_rmse: 1185.4031\n",
      "Epoch 257/1000\n",
      "311/311 [==============================] - 0s 934us/step - loss: 1510523.3750 - mae: 890.6141 - rmse: 1205.9686 - val_loss: 1458858.6250 - val_mae: 870.8517 - val_rmse: 1186.2561\n",
      "Epoch 258/1000\n",
      "311/311 [==============================] - 0s 965us/step - loss: 1511159.8750 - mae: 891.7810 - rmse: 1210.3826 - val_loss: 1458042.6250 - val_mae: 867.3987 - val_rmse: 1185.3594\n",
      "Epoch 259/1000\n",
      "311/311 [==============================] - 0s 951us/step - loss: 1511212.7500 - mae: 892.3607 - rmse: 1210.9728 - val_loss: 1458083.5000 - val_mae: 868.1811 - val_rmse: 1185.5187\n",
      "Epoch 260/1000\n",
      "311/311 [==============================] - 0s 966us/step - loss: 1510757.2500 - mae: 891.9316 - rmse: 1207.2679 - val_loss: 1458121.0000 - val_mae: 864.8737 - val_rmse: 1184.9596\n",
      "Epoch 261/1000\n",
      "311/311 [==============================] - 0s 968us/step - loss: 1511434.2500 - mae: 890.5517 - rmse: 1207.4265 - val_loss: 1457981.2500 - val_mae: 868.3842 - val_rmse: 1185.5223\n",
      "Epoch 262/1000\n",
      "311/311 [==============================] - 0s 941us/step - loss: 1510620.2500 - mae: 891.3633 - rmse: 1206.5819 - val_loss: 1457846.6250 - val_mae: 865.8871 - val_rmse: 1185.0421\n",
      "Epoch 263/1000\n",
      "311/311 [==============================] - 0s 933us/step - loss: 1510875.3750 - mae: 890.3022 - rmse: 1206.2388 - val_loss: 1458293.2500 - val_mae: 870.1335 - val_rmse: 1185.9482\n",
      "Epoch 264/1000\n",
      "311/311 [==============================] - 0s 949us/step - loss: 1510495.5000 - mae: 892.5759 - rmse: 1206.4366 - val_loss: 1457673.0000 - val_mae: 866.9552 - val_rmse: 1185.1742\n",
      "Epoch 265/1000\n",
      "311/311 [==============================] - 0s 929us/step - loss: 1510088.2500 - mae: 889.9312 - rmse: 1208.3906 - val_loss: 1459409.1250 - val_mae: 872.9486 - val_rmse: 1186.8490\n",
      "Epoch 266/1000\n",
      "311/311 [==============================] - 0s 954us/step - loss: 1510802.8750 - mae: 893.0327 - rmse: 1209.0565 - val_loss: 1457592.0000 - val_mae: 867.3577 - val_rmse: 1185.2260\n",
      "Epoch 267/1000\n",
      "311/311 [==============================] - 0s 939us/step - loss: 1510088.3750 - mae: 890.3608 - rmse: 1207.8152 - val_loss: 1458671.3750 - val_mae: 871.6216 - val_rmse: 1186.3615\n",
      "Epoch 268/1000\n",
      "311/311 [==============================] - 0s 937us/step - loss: 1510616.8750 - mae: 891.7241 - rmse: 1207.5350 - val_loss: 1457509.0000 - val_mae: 865.6219 - val_rmse: 1184.8992\n",
      "Epoch 269/1000\n",
      "311/311 [==============================] - 0s 943us/step - loss: 1510029.2500 - mae: 890.2852 - rmse: 1209.8531 - val_loss: 1457677.5000 - val_mae: 868.9920 - val_rmse: 1185.5508\n",
      "Epoch 270/1000\n",
      "311/311 [==============================] - 0s 965us/step - loss: 1509830.5000 - mae: 891.8087 - rmse: 1208.3157 - val_loss: 1457590.6250 - val_mae: 864.3116 - val_rmse: 1184.7068\n",
      "Epoch 271/1000\n",
      "311/311 [==============================] - 0s 952us/step - loss: 1510276.2500 - mae: 891.0792 - rmse: 1208.8969 - val_loss: 1457741.6250 - val_mae: 863.5068 - val_rmse: 1184.6270\n",
      "Epoch 272/1000\n",
      "311/311 [==============================] - 0s 963us/step - loss: 1510028.3750 - mae: 890.9324 - rmse: 1209.8452 - val_loss: 1457184.0000 - val_mae: 866.2516 - val_rmse: 1184.9036\n",
      "Epoch 273/1000\n",
      "311/311 [==============================] - 0s 935us/step - loss: 1510385.0000 - mae: 891.3217 - rmse: 1207.6594 - val_loss: 1457126.3750 - val_mae: 866.0718 - val_rmse: 1184.8555\n",
      "Epoch 274/1000\n",
      "311/311 [==============================] - 0s 952us/step - loss: 1510095.8750 - mae: 891.0621 - rmse: 1206.7434 - val_loss: 1457086.3750 - val_mae: 866.9979 - val_rmse: 1185.0070\n",
      "Epoch 275/1000\n",
      "311/311 [==============================] - 0s 966us/step - loss: 1510320.3750 - mae: 891.0903 - rmse: 1205.9440 - val_loss: 1457029.5000 - val_mae: 866.6308 - val_rmse: 1184.9274\n",
      "Epoch 276/1000\n",
      "311/311 [==============================] - 0s 961us/step - loss: 1509764.3750 - mae: 890.8080 - rmse: 1209.8756 - val_loss: 1457117.5000 - val_mae: 868.0328 - val_rmse: 1185.2059\n",
      "Epoch 277/1000\n",
      "311/311 [==============================] - 0s 993us/step - loss: 1509570.0000 - mae: 891.5781 - rmse: 1206.0468 - val_loss: 1456915.6250 - val_mae: 866.2011 - val_rmse: 1184.8206\n",
      "Epoch 278/1000\n",
      "311/311 [==============================] - 0s 982us/step - loss: 1510045.3750 - mae: 889.2889 - rmse: 1206.9194 - val_loss: 1458942.7500 - val_mae: 873.0713 - val_rmse: 1186.7513\n",
      "Epoch 279/1000\n",
      "311/311 [==============================] - 0s 991us/step - loss: 1509889.8750 - mae: 891.0203 - rmse: 1207.1924 - val_loss: 1457940.0000 - val_mae: 871.1460 - val_rmse: 1186.0588\n",
      "Epoch 280/1000\n",
      "311/311 [==============================] - 0s 982us/step - loss: 1509072.0000 - mae: 892.3645 - rmse: 1203.9094 - val_loss: 1457486.3750 - val_mae: 862.5586 - val_rmse: 1184.4097\n",
      "Epoch 281/1000\n",
      "311/311 [==============================] - 0s 963us/step - loss: 1509895.1250 - mae: 889.2908 - rmse: 1209.7986 - val_loss: 1457649.0000 - val_mae: 870.6926 - val_rmse: 1185.8834\n",
      "Epoch 282/1000\n",
      "311/311 [==============================] - 0s 932us/step - loss: 1509976.7500 - mae: 891.2530 - rmse: 1208.3752 - val_loss: 1456613.2500 - val_mae: 866.7122 - val_rmse: 1184.8145\n",
      "Epoch 283/1000\n",
      "311/311 [==============================] - 0s 935us/step - loss: 1509641.0000 - mae: 891.0114 - rmse: 1209.8821 - val_loss: 1456562.8750 - val_mae: 866.1475 - val_rmse: 1184.7045\n",
      "Epoch 284/1000\n",
      "311/311 [==============================] - 0s 928us/step - loss: 1508779.6250 - mae: 888.7207 - rmse: 1206.0647 - val_loss: 1459611.1250 - val_mae: 874.5251 - val_rmse: 1187.2661\n",
      "Epoch 285/1000\n",
      "311/311 [==============================] - 0s 955us/step - loss: 1509736.0000 - mae: 891.6680 - rmse: 1207.2853 - val_loss: 1457370.0000 - val_mae: 870.4331 - val_rmse: 1185.7513\n",
      "Epoch 286/1000\n",
      "311/311 [==============================] - 0s 960us/step - loss: 1509276.1250 - mae: 890.3496 - rmse: 1204.9548 - val_loss: 1458696.1250 - val_mae: 873.1818 - val_rmse: 1186.7094\n",
      "Epoch 287/1000\n",
      "311/311 [==============================] - 0s 963us/step - loss: 1509267.8750 - mae: 891.6288 - rmse: 1205.8086 - val_loss: 1456493.3750 - val_mae: 864.2575 - val_rmse: 1184.3644\n",
      "Epoch 288/1000\n",
      "311/311 [==============================] - 0s 951us/step - loss: 1509567.3750 - mae: 889.7006 - rmse: 1207.4408 - val_loss: 1456500.5000 - val_mae: 867.9744 - val_rmse: 1185.0190\n",
      "Epoch 289/1000\n",
      "311/311 [==============================] - 0s 978us/step - loss: 1509465.6250 - mae: 889.5349 - rmse: 1207.8667 - val_loss: 1458606.1250 - val_mae: 873.2150 - val_rmse: 1186.6958\n",
      "Epoch 290/1000\n"
     ]
    },
    {
     "name": "stdout",
     "output_type": "stream",
     "text": [
      "311/311 [==============================] - 0s 949us/step - loss: 1508703.1250 - mae: 892.0776 - rmse: 1204.8838 - val_loss: 1457122.1250 - val_mae: 861.8499 - val_rmse: 1184.1871\n",
      "Epoch 291/1000\n",
      "311/311 [==============================] - 0s 942us/step - loss: 1508824.1250 - mae: 890.4266 - rmse: 1204.6884 - val_loss: 1456636.2500 - val_mae: 862.8900 - val_rmse: 1184.1946\n",
      "Epoch 292/1000\n",
      "311/311 [==============================] - 0s 949us/step - loss: 1509004.2500 - mae: 889.2484 - rmse: 1206.1732 - val_loss: 1456312.8750 - val_mae: 868.0594 - val_rmse: 1184.9797\n",
      "Epoch 293/1000\n",
      "311/311 [==============================] - 0s 931us/step - loss: 1508987.0000 - mae: 890.0843 - rmse: 1207.3270 - val_loss: 1456694.0000 - val_mae: 869.5245 - val_rmse: 1185.3772\n",
      "Epoch 294/1000\n",
      "311/311 [==============================] - 0s 959us/step - loss: 1508381.3750 - mae: 891.7073 - rmse: 1207.5885 - val_loss: 1456641.3750 - val_mae: 862.2074 - val_rmse: 1184.0898\n",
      "Epoch 295/1000\n",
      "311/311 [==============================] - 0s 958us/step - loss: 1508707.6250 - mae: 889.1815 - rmse: 1207.1198 - val_loss: 1456548.1250 - val_mae: 869.3484 - val_rmse: 1185.3011\n",
      "Epoch 296/1000\n",
      "311/311 [==============================] - 0s 949us/step - loss: 1508642.2500 - mae: 890.5206 - rmse: 1208.2202 - val_loss: 1456555.8750 - val_mae: 869.4993 - val_rmse: 1185.3340\n",
      "Epoch 297/1000\n",
      "311/311 [==============================] - 0s 962us/step - loss: 1508338.6250 - mae: 890.1733 - rmse: 1207.9211 - val_loss: 1455946.7500 - val_mae: 867.3095 - val_rmse: 1184.7329\n",
      "Epoch 298/1000\n",
      "311/311 [==============================] - 0s 939us/step - loss: 1508876.0000 - mae: 890.2766 - rmse: 1207.0593 - val_loss: 1456068.8750 - val_mae: 868.0699 - val_rmse: 1184.9166\n",
      "Epoch 299/1000\n",
      "311/311 [==============================] - 0s 941us/step - loss: 1508615.6250 - mae: 890.2935 - rmse: 1206.2190 - val_loss: 1455997.2500 - val_mae: 868.0159 - val_rmse: 1184.8839\n",
      "Epoch 300/1000\n",
      "311/311 [==============================] - 0s 929us/step - loss: 1508866.6250 - mae: 890.2615 - rmse: 1207.8229 - val_loss: 1456008.1250 - val_mae: 868.2343 - val_rmse: 1184.9283\n",
      "Epoch 301/1000\n",
      "311/311 [==============================] - 0s 923us/step - loss: 1508987.2500 - mae: 889.8926 - rmse: 1208.9922 - val_loss: 1455627.1250 - val_mae: 866.4166 - val_rmse: 1184.4731\n",
      "Epoch 302/1000\n",
      "311/311 [==============================] - 0s 941us/step - loss: 1508700.5000 - mae: 889.4158 - rmse: 1205.6486 - val_loss: 1456586.7500 - val_mae: 870.1454 - val_rmse: 1185.4805\n",
      "Epoch 303/1000\n",
      "311/311 [==============================] - 0s 938us/step - loss: 1508886.0000 - mae: 891.2354 - rmse: 1207.5383 - val_loss: 1455633.7500 - val_mae: 867.0461 - val_rmse: 1184.5977\n",
      "Epoch 304/1000\n",
      "311/311 [==============================] - 0s 948us/step - loss: 1508067.8750 - mae: 890.1603 - rmse: 1207.5753 - val_loss: 1455751.1250 - val_mae: 863.0695 - val_rmse: 1183.9470\n",
      "Epoch 305/1000\n",
      "311/311 [==============================] - 0s 957us/step - loss: 1508382.6250 - mae: 889.7521 - rmse: 1207.6389 - val_loss: 1455605.7500 - val_mae: 867.4427 - val_rmse: 1184.6647\n",
      "Epoch 306/1000\n",
      "311/311 [==============================] - 0s 937us/step - loss: 1508200.3750 - mae: 889.6054 - rmse: 1209.5562 - val_loss: 1455846.3750 - val_mae: 868.5518 - val_rmse: 1184.9480\n",
      "Epoch 307/1000\n",
      "311/311 [==============================] - 0s 942us/step - loss: 1508579.8750 - mae: 890.6758 - rmse: 1207.0778 - val_loss: 1455873.7500 - val_mae: 868.7507 - val_rmse: 1184.9974\n",
      "Epoch 308/1000\n",
      "311/311 [==============================] - 0s 971us/step - loss: 1508308.6250 - mae: 890.2708 - rmse: 1207.2609 - val_loss: 1455570.6250 - val_mae: 867.8480 - val_rmse: 1184.7346\n",
      "Epoch 309/1000\n",
      "311/311 [==============================] - 0s 933us/step - loss: 1508261.1250 - mae: 889.7190 - rmse: 1208.0974 - val_loss: 1455275.5000 - val_mae: 866.4796 - val_rmse: 1184.3916\n",
      "Epoch 310/1000\n",
      "311/311 [==============================] - 0s 930us/step - loss: 1507972.0000 - mae: 890.2389 - rmse: 1208.3849 - val_loss: 1455150.3750 - val_mae: 865.9247 - val_rmse: 1184.2509\n",
      "Epoch 311/1000\n",
      "311/311 [==============================] - 0s 1ms/step - loss: 1508263.7500 - mae: 888.7488 - rmse: 1205.7667 - val_loss: 1455085.8750 - val_mae: 865.2559 - val_rmse: 1184.1134\n",
      "Epoch 312/1000\n",
      "311/311 [==============================] - 0s 948us/step - loss: 1508707.2500 - mae: 890.9131 - rmse: 1204.7054 - val_loss: 1455077.2500 - val_mae: 866.1275 - val_rmse: 1184.2670\n",
      "Epoch 313/1000\n",
      "311/311 [==============================] - 0s 972us/step - loss: 1507898.1250 - mae: 888.5034 - rmse: 1205.3910 - val_loss: 1455616.3750 - val_mae: 868.7197 - val_rmse: 1184.9196\n",
      "Epoch 314/1000\n",
      "311/311 [==============================] - 0s 962us/step - loss: 1508668.5000 - mae: 891.1044 - rmse: 1206.0745 - val_loss: 1455121.0000 - val_mae: 867.0283 - val_rmse: 1184.4475\n",
      "Epoch 315/1000\n",
      "311/311 [==============================] - 0s 966us/step - loss: 1507701.8750 - mae: 889.7319 - rmse: 1206.2417 - val_loss: 1454923.2500 - val_mae: 864.8577 - val_rmse: 1184.0029\n",
      "Epoch 316/1000\n",
      "311/311 [==============================] - 0s 930us/step - loss: 1507955.3750 - mae: 889.6695 - rmse: 1208.6906 - val_loss: 1455244.6250 - val_mae: 867.9249 - val_rmse: 1184.6577\n",
      "Epoch 317/1000\n",
      "311/311 [==============================] - 0s 947us/step - loss: 1507629.3750 - mae: 890.0060 - rmse: 1207.0321 - val_loss: 1454892.6250 - val_mae: 863.4537 - val_rmse: 1183.7528\n",
      "Epoch 318/1000\n",
      "311/311 [==============================] - 0s 946us/step - loss: 1508017.8750 - mae: 889.3353 - rmse: 1207.5730 - val_loss: 1454716.2500 - val_mae: 864.4894 - val_rmse: 1183.8716\n",
      "Epoch 319/1000\n",
      "311/311 [==============================] - 0s 942us/step - loss: 1508321.5000 - mae: 889.8975 - rmse: 1206.5387 - val_loss: 1454781.2500 - val_mae: 863.5161 - val_rmse: 1183.7312\n",
      "Epoch 320/1000\n",
      "311/311 [==============================] - 0s 923us/step - loss: 1507636.6250 - mae: 888.9982 - rmse: 1206.0187 - val_loss: 1454935.7500 - val_mae: 867.3410 - val_rmse: 1184.4591\n",
      "Epoch 321/1000\n",
      "311/311 [==============================] - 0s 978us/step - loss: 1507469.0000 - mae: 889.7283 - rmse: 1207.3870 - val_loss: 1454685.8750 - val_mae: 866.2576 - val_rmse: 1184.1816\n",
      "Epoch 322/1000\n",
      "311/311 [==============================] - 0s 968us/step - loss: 1507547.8750 - mae: 888.3083 - rmse: 1205.6630 - val_loss: 1456568.1250 - val_mae: 871.5391 - val_rmse: 1185.7850\n",
      "Epoch 323/1000\n",
      "311/311 [==============================] - 0s 955us/step - loss: 1507911.7500 - mae: 889.7014 - rmse: 1206.4559 - val_loss: 1455658.8750 - val_mae: 869.7887 - val_rmse: 1185.1561\n",
      "Epoch 324/1000\n",
      "311/311 [==============================] - 0s 929us/step - loss: 1507499.1250 - mae: 890.2226 - rmse: 1207.3246 - val_loss: 1454553.5000 - val_mae: 866.2960 - val_rmse: 1184.1492\n",
      "Epoch 325/1000\n",
      "311/311 [==============================] - 0s 939us/step - loss: 1507126.6250 - mae: 888.1720 - rmse: 1208.5239 - val_loss: 1455942.0000 - val_mae: 870.5304 - val_rmse: 1185.3914\n",
      "Epoch 326/1000\n",
      "311/311 [==============================] - 0s 929us/step - loss: 1507630.5000 - mae: 890.2496 - rmse: 1206.9529 - val_loss: 1454337.6250 - val_mae: 864.6067 - val_rmse: 1183.7794\n",
      "Epoch 327/1000\n",
      "311/311 [==============================] - 0s 935us/step - loss: 1507363.5000 - mae: 890.8634 - rmse: 1206.4043 - val_loss: 1454887.0000 - val_mae: 861.5428 - val_rmse: 1183.4512\n",
      "Epoch 328/1000\n",
      "311/311 [==============================] - 0s 932us/step - loss: 1508096.3750 - mae: 888.4077 - rmse: 1205.7747 - val_loss: 1454356.0000 - val_mae: 866.0731 - val_rmse: 1184.0520\n",
      "Epoch 329/1000\n",
      "311/311 [==============================] - 0s 945us/step - loss: 1507240.6250 - mae: 888.5441 - rmse: 1205.5565 - val_loss: 1455599.2500 - val_mae: 870.0687 - val_rmse: 1185.2015\n",
      "Epoch 330/1000\n",
      "311/311 [==============================] - 0s 924us/step - loss: 1507708.5000 - mae: 889.9050 - rmse: 1205.7781 - val_loss: 1454344.1250 - val_mae: 862.8898 - val_rmse: 1183.4988\n",
      "Epoch 331/1000\n",
      "311/311 [==============================] - 0s 938us/step - loss: 1507529.6250 - mae: 889.5869 - rmse: 1205.4816 - val_loss: 1454710.3750 - val_mae: 868.0421 - val_rmse: 1184.5342\n",
      "Epoch 332/1000\n"
     ]
    },
    {
     "name": "stdout",
     "output_type": "stream",
     "text": [
      "311/311 [==============================] - 0s 969us/step - loss: 1507570.5000 - mae: 889.6464 - rmse: 1206.8154 - val_loss: 1454122.6250 - val_mae: 863.9665 - val_rmse: 1183.6158\n",
      "Epoch 333/1000\n",
      "311/311 [==============================] - 0s 928us/step - loss: 1507346.3750 - mae: 888.7836 - rmse: 1206.9401 - val_loss: 1454081.0000 - val_mae: 865.4999 - val_rmse: 1183.8694\n",
      "Epoch 334/1000\n",
      "311/311 [==============================] - 0s 927us/step - loss: 1506955.1250 - mae: 889.1456 - rmse: 1206.2804 - val_loss: 1454369.5000 - val_mae: 867.2071 - val_rmse: 1184.2767\n",
      "Epoch 335/1000\n",
      "311/311 [==============================] - 0s 938us/step - loss: 1506180.6250 - mae: 887.3679 - rmse: 1207.0873 - val_loss: 1457987.6250 - val_mae: 874.2111 - val_rmse: 1186.8008\n",
      "Epoch 336/1000\n",
      "311/311 [==============================] - 0s 944us/step - loss: 1507885.2500 - mae: 890.5626 - rmse: 1207.1389 - val_loss: 1454258.2500 - val_mae: 867.1031 - val_rmse: 1184.2241\n",
      "Epoch 337/1000\n",
      "311/311 [==============================] - 0s 947us/step - loss: 1507034.2500 - mae: 889.3075 - rmse: 1205.8988 - val_loss: 1454422.6250 - val_mae: 867.7834 - val_rmse: 1184.4072\n",
      "Epoch 338/1000\n",
      "311/311 [==============================] - 0s 936us/step - loss: 1507445.8750 - mae: 889.0090 - rmse: 1206.9547 - val_loss: 1455045.1250 - val_mae: 869.4383 - val_rmse: 1184.9252\n",
      "Epoch 339/1000\n",
      "311/311 [==============================] - 0s 947us/step - loss: 1506312.3750 - mae: 888.8308 - rmse: 1207.5729 - val_loss: 1454281.7500 - val_mae: 867.4693 - val_rmse: 1184.3107\n",
      "Epoch 340/1000\n",
      "311/311 [==============================] - 0s 980us/step - loss: 1506829.0000 - mae: 888.9138 - rmse: 1208.5009 - val_loss: 1454159.1250 - val_mae: 867.2493 - val_rmse: 1184.2288\n",
      "Epoch 341/1000\n",
      "311/311 [==============================] - 0s 948us/step - loss: 1506846.6250 - mae: 889.3887 - rmse: 1206.5906 - val_loss: 1453835.1250 - val_mae: 866.0239 - val_rmse: 1183.9026\n",
      "Epoch 342/1000\n",
      "311/311 [==============================] - 0s 968us/step - loss: 1506497.3750 - mae: 889.2625 - rmse: 1206.9850 - val_loss: 1453765.1250 - val_mae: 862.7242 - val_rmse: 1183.3054\n",
      "Epoch 343/1000\n",
      "311/311 [==============================] - 0s 937us/step - loss: 1506674.0000 - mae: 888.7515 - rmse: 1204.6725 - val_loss: 1453568.1250 - val_mae: 863.3528 - val_rmse: 1183.3519\n",
      "Epoch 344/1000\n",
      "311/311 [==============================] - 0s 935us/step - loss: 1507313.6250 - mae: 887.9867 - rmse: 1205.6517 - val_loss: 1453899.0000 - val_mae: 867.1597 - val_rmse: 1184.1445\n",
      "Epoch 345/1000\n",
      "311/311 [==============================] - 0s 1ms/step - loss: 1506299.2500 - mae: 889.3683 - rmse: 1206.1083 - val_loss: 1453474.3750 - val_mae: 865.6288 - val_rmse: 1183.7339\n",
      "Epoch 346/1000\n",
      "311/311 [==============================] - 0s 940us/step - loss: 1506374.0000 - mae: 889.3132 - rmse: 1205.2344 - val_loss: 1453265.2500 - val_mae: 864.5320 - val_rmse: 1183.4769\n",
      "Epoch 347/1000\n",
      "311/311 [==============================] - 0s 1ms/step - loss: 1506247.5000 - mae: 887.4340 - rmse: 1204.2943 - val_loss: 1454228.1250 - val_mae: 868.6127 - val_rmse: 1184.5428\n",
      "Epoch 348/1000\n",
      "311/311 [==============================] - 0s 935us/step - loss: 1506332.5000 - mae: 889.9493 - rmse: 1206.9734 - val_loss: 1453431.7500 - val_mae: 861.1611 - val_rmse: 1182.9648\n",
      "Epoch 349/1000\n",
      "311/311 [==============================] - 0s 937us/step - loss: 1506044.8750 - mae: 887.5916 - rmse: 1206.8735 - val_loss: 1453018.2500 - val_mae: 864.8577 - val_rmse: 1183.4709\n",
      "Epoch 350/1000\n",
      "311/311 [==============================] - 0s 932us/step - loss: 1506158.6250 - mae: 887.7920 - rmse: 1207.6213 - val_loss: 1452991.6250 - val_mae: 865.4238 - val_rmse: 1183.5638\n",
      "Epoch 351/1000\n",
      "311/311 [==============================] - 0s 929us/step - loss: 1505953.7500 - mae: 888.7307 - rmse: 1205.1327 - val_loss: 1452897.1250 - val_mae: 865.2009 - val_rmse: 1183.5065\n",
      "Epoch 352/1000\n",
      "311/311 [==============================] - 0s 982us/step - loss: 1505949.7500 - mae: 887.1157 - rmse: 1205.5674 - val_loss: 1453486.1250 - val_mae: 867.5622 - val_rmse: 1184.1384\n",
      "Epoch 353/1000\n",
      "311/311 [==============================] - 0s 956us/step - loss: 1505904.6250 - mae: 888.3752 - rmse: 1203.7122 - val_loss: 1452904.5000 - val_mae: 865.9918 - val_rmse: 1183.6630\n",
      "Epoch 354/1000\n",
      "311/311 [==============================] - 0s 930us/step - loss: 1505808.2500 - mae: 887.6042 - rmse: 1206.1538 - val_loss: 1455194.6250 - val_mae: 871.1191 - val_rmse: 1185.3877\n",
      "Epoch 355/1000\n",
      "311/311 [==============================] - 0s 980us/step - loss: 1505634.5000 - mae: 889.6554 - rmse: 1206.0311 - val_loss: 1452496.5000 - val_mae: 861.3174 - val_rmse: 1182.7223\n",
      "Epoch 356/1000\n",
      "311/311 [==============================] - 0s 971us/step - loss: 1506012.8750 - mae: 888.5635 - rmse: 1206.2793 - val_loss: 1452256.7500 - val_mae: 863.5350 - val_rmse: 1183.0355\n",
      "Epoch 357/1000\n",
      "311/311 [==============================] - 0s 963us/step - loss: 1505783.3750 - mae: 887.1147 - rmse: 1205.8448 - val_loss: 1452171.8750 - val_mae: 863.6206 - val_rmse: 1183.0261\n",
      "Epoch 358/1000\n",
      "311/311 [==============================] - 0s 938us/step - loss: 1504661.2500 - mae: 888.1478 - rmse: 1206.9197 - val_loss: 1452294.7500 - val_mae: 860.8354 - val_rmse: 1182.5935\n",
      "Epoch 359/1000\n",
      "311/311 [==============================] - 0s 946us/step - loss: 1505434.1250 - mae: 886.2733 - rmse: 1204.9460 - val_loss: 1452829.1250 - val_mae: 867.0251 - val_rmse: 1183.8734\n",
      "Epoch 360/1000\n",
      "311/311 [==============================] - 0s 933us/step - loss: 1505451.1250 - mae: 888.0062 - rmse: 1207.0259 - val_loss: 1452049.7500 - val_mae: 864.5291 - val_rmse: 1183.1689\n",
      "Epoch 361/1000\n",
      "311/311 [==============================] - 0s 937us/step - loss: 1505122.3750 - mae: 888.2031 - rmse: 1206.8934 - val_loss: 1451834.3750 - val_mae: 861.6380 - val_rmse: 1182.5934\n",
      "Epoch 362/1000\n",
      "311/311 [==============================] - 0s 935us/step - loss: 1505044.2500 - mae: 887.3016 - rmse: 1205.4061 - val_loss: 1451858.1250 - val_mae: 860.7624 - val_rmse: 1182.4580\n",
      "Epoch 363/1000\n",
      "311/311 [==============================] - 0s 950us/step - loss: 1504667.8750 - mae: 886.5699 - rmse: 1204.6556 - val_loss: 1451988.8750 - val_mae: 865.2739 - val_rmse: 1183.3010\n",
      "Epoch 364/1000\n",
      "311/311 [==============================] - 0s 944us/step - loss: 1505053.3750 - mae: 887.2476 - rmse: 1206.3427 - val_loss: 1452202.6250 - val_mae: 866.1732 - val_rmse: 1183.5461\n",
      "Epoch 365/1000\n",
      "311/311 [==============================] - 0s 936us/step - loss: 1504622.3750 - mae: 887.7470 - rmse: 1205.6569 - val_loss: 1451662.5000 - val_mae: 860.3954 - val_rmse: 1182.3495\n",
      "Epoch 366/1000\n",
      "311/311 [==============================] - 0s 940us/step - loss: 1504399.1250 - mae: 886.2487 - rmse: 1203.6316 - val_loss: 1451794.0000 - val_mae: 865.3216 - val_rmse: 1183.2643\n",
      "Epoch 367/1000\n",
      "311/311 [==============================] - 0s 931us/step - loss: 1504620.8750 - mae: 887.2632 - rmse: 1205.9321 - val_loss: 1451627.8750 - val_mae: 865.0091 - val_rmse: 1183.1583\n",
      "Epoch 368/1000\n",
      "311/311 [==============================] - 0s 952us/step - loss: 1504590.8750 - mae: 887.1590 - rmse: 1203.9175 - val_loss: 1451434.0000 - val_mae: 864.6298 - val_rmse: 1183.0317\n",
      "Epoch 369/1000\n",
      "311/311 [==============================] - 0s 938us/step - loss: 1504567.2500 - mae: 886.8806 - rmse: 1205.9094 - val_loss: 1451091.7500 - val_mae: 863.2846 - val_rmse: 1182.6807\n",
      "Epoch 370/1000\n",
      "311/311 [==============================] - 0s 938us/step - loss: 1504145.0000 - mae: 885.9870 - rmse: 1205.8558 - val_loss: 1451625.0000 - val_mae: 865.7556 - val_rmse: 1183.3074\n",
      "Epoch 371/1000\n",
      "311/311 [==============================] - 0s 972us/step - loss: 1504256.5000 - mae: 887.8994 - rmse: 1203.8773 - val_loss: 1451198.8750 - val_mae: 859.5086 - val_rmse: 1182.0713\n",
      "Epoch 372/1000\n",
      "311/311 [==============================] - 0s 1ms/step - loss: 1503682.2500 - mae: 886.9667 - rmse: 1205.2986 - val_loss: 1450901.8750 - val_mae: 863.3013 - val_rmse: 1182.6392\n",
      "Epoch 373/1000\n",
      "311/311 [==============================] - 0s 1ms/step - loss: 1503794.0000 - mae: 887.0841 - rmse: 1205.4147 - val_loss: 1450692.2500 - val_mae: 861.0640 - val_rmse: 1182.1849\n",
      "Epoch 374/1000\n"
     ]
    },
    {
     "name": "stdout",
     "output_type": "stream",
     "text": [
      "311/311 [==============================] - 0s 974us/step - loss: 1503481.0000 - mae: 884.8944 - rmse: 1207.9463 - val_loss: 1451860.3750 - val_mae: 866.8983 - val_rmse: 1183.6167\n",
      "Epoch 375/1000\n",
      "311/311 [==============================] - 0s 1ms/step - loss: 1503492.2500 - mae: 888.1121 - rmse: 1207.6185 - val_loss: 1451298.7500 - val_mae: 857.8804 - val_rmse: 1181.8599\n",
      "Epoch 376/1000\n",
      "311/311 [==============================] - 0s 1ms/step - loss: 1503862.3750 - mae: 885.4023 - rmse: 1205.3140 - val_loss: 1450563.3750 - val_mae: 863.2261 - val_rmse: 1182.5360\n",
      "Epoch 377/1000\n",
      "311/311 [==============================] - 0s 1ms/step - loss: 1503214.0000 - mae: 886.6433 - rmse: 1205.3832 - val_loss: 1450419.2500 - val_mae: 860.0427 - val_rmse: 1181.9347\n",
      "Epoch 378/1000\n",
      "311/311 [==============================] - 0s 1ms/step - loss: 1503144.3750 - mae: 886.4390 - rmse: 1204.2098 - val_loss: 1450285.7500 - val_mae: 860.2275 - val_rmse: 1181.9355\n",
      "Epoch 379/1000\n",
      "311/311 [==============================] - 0s 974us/step - loss: 1502998.2500 - mae: 885.9182 - rmse: 1207.8960 - val_loss: 1450169.0000 - val_mae: 860.8622 - val_rmse: 1182.0105\n",
      "Epoch 380/1000\n",
      "311/311 [==============================] - 0s 990us/step - loss: 1502898.2500 - mae: 884.4749 - rmse: 1205.5360 - val_loss: 1451128.6250 - val_mae: 866.0297 - val_rmse: 1183.2649\n",
      "Epoch 381/1000\n",
      "311/311 [==============================] - 0s 961us/step - loss: 1502708.8750 - mae: 887.3285 - rmse: 1204.4174 - val_loss: 1450011.0000 - val_mae: 862.2826 - val_rmse: 1182.2227\n",
      "Epoch 382/1000\n",
      "311/311 [==============================] - 0s 943us/step - loss: 1502439.1250 - mae: 885.8000 - rmse: 1204.8845 - val_loss: 1449875.0000 - val_mae: 861.6483 - val_rmse: 1182.0759\n",
      "Epoch 383/1000\n",
      "311/311 [==============================] - 0s 924us/step - loss: 1502084.2500 - mae: 885.0310 - rmse: 1203.5992 - val_loss: 1453963.7500 - val_mae: 870.9675 - val_rmse: 1185.1807\n",
      "Epoch 384/1000\n",
      "311/311 [==============================] - 0s 955us/step - loss: 1502983.0000 - mae: 886.3147 - rmse: 1205.0833 - val_loss: 1450565.3750 - val_mae: 865.2945 - val_rmse: 1182.9794\n",
      "Epoch 385/1000\n",
      "311/311 [==============================] - 0s 940us/step - loss: 1502069.2500 - mae: 885.5694 - rmse: 1205.6573 - val_loss: 1450143.8750 - val_mae: 864.3332 - val_rmse: 1182.6655\n",
      "Epoch 386/1000\n",
      "311/311 [==============================] - 0s 930us/step - loss: 1502309.6250 - mae: 886.2107 - rmse: 1204.1016 - val_loss: 1449425.2500 - val_mae: 860.7335 - val_rmse: 1181.7889\n",
      "Epoch 387/1000\n",
      "311/311 [==============================] - 0s 942us/step - loss: 1502042.2500 - mae: 885.1681 - rmse: 1202.1265 - val_loss: 1449942.7500 - val_mae: 864.1556 - val_rmse: 1182.5834\n",
      "Epoch 388/1000\n",
      "311/311 [==============================] - 0s 1ms/step - loss: 1501866.8750 - mae: 886.2079 - rmse: 1205.0441 - val_loss: 1449233.2500 - val_mae: 860.5913 - val_rmse: 1181.7219\n",
      "Epoch 389/1000\n",
      "311/311 [==============================] - 0s 976us/step - loss: 1501690.3750 - mae: 885.1524 - rmse: 1204.3815 - val_loss: 1449510.5000 - val_mae: 863.2195 - val_rmse: 1182.2941\n",
      "Epoch 390/1000\n",
      "311/311 [==============================] - 0s 934us/step - loss: 1501368.1250 - mae: 885.7586 - rmse: 1205.0300 - val_loss: 1449107.1250 - val_mae: 858.8414 - val_rmse: 1181.3929\n",
      "Epoch 391/1000\n",
      "311/311 [==============================] - 0s 931us/step - loss: 1501271.6250 - mae: 884.0673 - rmse: 1204.0424 - val_loss: 1449629.6250 - val_mae: 864.1511 - val_rmse: 1182.5143\n",
      "Epoch 392/1000\n",
      "311/311 [==============================] - 0s 955us/step - loss: 1501359.8750 - mae: 885.7410 - rmse: 1205.1234 - val_loss: 1448991.1250 - val_mae: 862.0011 - val_rmse: 1181.9180\n",
      "Epoch 393/1000\n",
      "311/311 [==============================] - 0s 937us/step - loss: 1501216.5000 - mae: 884.1425 - rmse: 1204.5435 - val_loss: 1448951.0000 - val_mae: 862.1530 - val_rmse: 1181.9337\n",
      "Epoch 394/1000\n",
      "311/311 [==============================] - 0s 983us/step - loss: 1500910.2500 - mae: 884.1790 - rmse: 1206.0732 - val_loss: 1449635.2500 - val_mae: 864.6729 - val_rmse: 1182.6328\n",
      "Epoch 395/1000\n",
      "311/311 [==============================] - 0s 989us/step - loss: 1501566.5000 - mae: 885.9951 - rmse: 1204.2838 - val_loss: 1448828.8750 - val_mae: 862.4673 - val_rmse: 1181.9700\n",
      "Epoch 396/1000\n",
      "311/311 [==============================] - 0s 928us/step - loss: 1500799.5000 - mae: 885.3221 - rmse: 1203.2399 - val_loss: 1448540.1250 - val_mae: 858.2673 - val_rmse: 1181.1461\n",
      "Epoch 397/1000\n",
      "311/311 [==============================] - 0s 933us/step - loss: 1501401.3750 - mae: 884.0839 - rmse: 1202.0533 - val_loss: 1448298.6250 - val_mae: 859.3423 - val_rmse: 1181.2501\n",
      "Epoch 398/1000\n",
      "311/311 [==============================] - 0s 930us/step - loss: 1500733.1250 - mae: 883.7459 - rmse: 1204.0052 - val_loss: 1450233.2500 - val_mae: 866.3787 - val_rmse: 1183.1881\n",
      "Epoch 399/1000\n",
      "311/311 [==============================] - 0s 933us/step - loss: 1500509.0000 - mae: 884.1304 - rmse: 1204.0741 - val_loss: 1449376.7500 - val_mae: 864.7933 - val_rmse: 1182.6187\n",
      "Epoch 400/1000\n",
      "311/311 [==============================] - 0s 928us/step - loss: 1500258.7500 - mae: 885.5463 - rmse: 1204.3044 - val_loss: 1448008.5000 - val_mae: 858.5029 - val_rmse: 1181.0315\n",
      "Epoch 401/1000\n",
      "311/311 [==============================] - 0s 930us/step - loss: 1500247.3750 - mae: 884.9282 - rmse: 1204.6785 - val_loss: 1448116.6250 - val_mae: 857.2139 - val_rmse: 1180.8557\n",
      "Epoch 402/1000\n",
      "311/311 [==============================] - 0s 935us/step - loss: 1500620.7500 - mae: 883.0508 - rmse: 1202.9019 - val_loss: 1448029.1250 - val_mae: 861.4470 - val_rmse: 1181.5713\n",
      "Epoch 403/1000\n",
      "311/311 [==============================] - 0s 927us/step - loss: 1499908.5000 - mae: 884.6030 - rmse: 1205.1183 - val_loss: 1447887.7500 - val_mae: 861.2903 - val_rmse: 1181.5117\n",
      "Epoch 404/1000\n",
      "311/311 [==============================] - 0s 956us/step - loss: 1500041.5000 - mae: 884.0540 - rmse: 1201.1948 - val_loss: 1448230.5000 - val_mae: 862.8284 - val_rmse: 1181.9205\n",
      "Epoch 405/1000\n",
      "311/311 [==============================] - 0s 952us/step - loss: 1499639.0000 - mae: 883.7667 - rmse: 1202.5975 - val_loss: 1447739.5000 - val_mae: 861.5109 - val_rmse: 1181.5244\n",
      "Epoch 406/1000\n",
      "311/311 [==============================] - 0s 934us/step - loss: 1499091.8750 - mae: 884.8455 - rmse: 1202.8923 - val_loss: 1447363.0000 - val_mae: 857.6846 - val_rmse: 1180.7397\n",
      "Epoch 407/1000\n",
      "311/311 [==============================] - 0s 937us/step - loss: 1499241.5000 - mae: 883.0139 - rmse: 1202.6459 - val_loss: 1447293.1250 - val_mae: 860.0938 - val_rmse: 1181.1461\n",
      "Epoch 408/1000\n",
      "311/311 [==============================] - 0s 958us/step - loss: 1499349.7500 - mae: 883.9687 - rmse: 1202.4559 - val_loss: 1447282.8750 - val_mae: 860.6303 - val_rmse: 1181.2562\n",
      "Epoch 409/1000\n",
      "311/311 [==============================] - 0s 941us/step - loss: 1498801.3750 - mae: 882.3157 - rmse: 1203.7673 - val_loss: 1448737.0000 - val_mae: 864.7644 - val_rmse: 1182.5110\n",
      "Epoch 410/1000\n",
      "311/311 [==============================] - 0s 937us/step - loss: 1498747.7500 - mae: 884.7293 - rmse: 1203.2034 - val_loss: 1446819.3750 - val_mae: 858.1318 - val_rmse: 1180.6912\n",
      "Epoch 411/1000\n",
      "311/311 [==============================] - 0s 929us/step - loss: 1498850.1250 - mae: 882.3606 - rmse: 1204.1395 - val_loss: 1447257.0000 - val_mae: 861.6295 - val_rmse: 1181.4695\n",
      "Epoch 412/1000\n",
      "311/311 [==============================] - 0s 1ms/step - loss: 1498362.8750 - mae: 882.8751 - rmse: 1201.4326 - val_loss: 1447186.1250 - val_mae: 861.6240 - val_rmse: 1181.4445\n",
      "Epoch 413/1000\n",
      "311/311 [==============================] - 0s 927us/step - loss: 1498162.5000 - mae: 883.2471 - rmse: 1203.0394 - val_loss: 1446652.3750 - val_mae: 859.8891 - val_rmse: 1180.9738\n",
      "Epoch 414/1000\n",
      "311/311 [==============================] - 0s 993us/step - loss: 1498397.0000 - mae: 882.8157 - rmse: 1202.1859 - val_loss: 1446384.6250 - val_mae: 857.7004 - val_rmse: 1180.4939\n",
      "Epoch 415/1000\n",
      "311/311 [==============================] - 0s 939us/step - loss: 1498296.7500 - mae: 883.6851 - rmse: 1204.9335 - val_loss: 1446412.0000 - val_mae: 856.1487 - val_rmse: 1180.2581\n",
      "Epoch 416/1000\n"
     ]
    },
    {
     "name": "stdout",
     "output_type": "stream",
     "text": [
      "311/311 [==============================] - 0s 933us/step - loss: 1498058.6250 - mae: 883.5302 - rmse: 1201.4199 - val_loss: 1446198.6250 - val_mae: 856.5745 - val_rmse: 1180.2714\n",
      "Epoch 417/1000\n",
      "311/311 [==============================] - 0s 938us/step - loss: 1497791.6250 - mae: 882.7206 - rmse: 1201.3586 - val_loss: 1446404.6250 - val_mae: 855.2202 - val_rmse: 1180.1080\n",
      "Epoch 418/1000\n",
      "311/311 [==============================] - 0s 945us/step - loss: 1498807.2500 - mae: 881.4033 - rmse: 1203.6469 - val_loss: 1446267.6250 - val_mae: 860.0612 - val_rmse: 1180.9052\n",
      "Epoch 419/1000\n",
      "311/311 [==============================] - 0s 938us/step - loss: 1497265.3750 - mae: 883.1996 - rmse: 1203.5558 - val_loss: 1445800.6250 - val_mae: 857.0783 - val_rmse: 1180.2446\n",
      "Epoch 420/1000\n",
      "311/311 [==============================] - 0s 969us/step - loss: 1497088.6250 - mae: 880.9921 - rmse: 1204.6963 - val_loss: 1447875.3750 - val_mae: 864.3428 - val_rmse: 1182.2614\n",
      "Epoch 421/1000\n",
      "311/311 [==============================] - 0s 949us/step - loss: 1497708.5000 - mae: 884.0482 - rmse: 1204.0162 - val_loss: 1445850.0000 - val_mae: 859.5247 - val_rmse: 1180.7196\n",
      "Epoch 422/1000\n",
      "311/311 [==============================] - 0s 1ms/step - loss: 1497210.5000 - mae: 882.6028 - rmse: 1199.6174 - val_loss: 1445536.8750 - val_mae: 856.4166 - val_rmse: 1180.0704\n",
      "Epoch 423/1000\n",
      "311/311 [==============================] - 0s 953us/step - loss: 1496567.5000 - mae: 880.1327 - rmse: 1202.3403 - val_loss: 1446915.5000 - val_mae: 862.8768 - val_rmse: 1181.6976\n",
      "Epoch 424/1000\n",
      "311/311 [==============================] - 0s 942us/step - loss: 1497117.1250 - mae: 883.8871 - rmse: 1203.4946 - val_loss: 1445339.6250 - val_mae: 856.0128 - val_rmse: 1179.9481\n",
      "Epoch 425/1000\n",
      "311/311 [==============================] - 0s 944us/step - loss: 1496581.8750 - mae: 882.0939 - rmse: 1199.2052 - val_loss: 1445190.5000 - val_mae: 856.4852 - val_rmse: 1179.9948\n",
      "Epoch 426/1000\n",
      "311/311 [==============================] - 0s 941us/step - loss: 1496792.3750 - mae: 881.8666 - rmse: 1202.3612 - val_loss: 1445140.2500 - val_mae: 857.9780 - val_rmse: 1180.2483\n",
      "Epoch 427/1000\n",
      "311/311 [==============================] - 0s 941us/step - loss: 1496189.6250 - mae: 882.0444 - rmse: 1200.6886 - val_loss: 1445198.3750 - val_mae: 854.7816 - val_rmse: 1179.7172\n",
      "Epoch 428/1000\n",
      "311/311 [==============================] - 0s 929us/step - loss: 1495899.3750 - mae: 880.4151 - rmse: 1201.2792 - val_loss: 1446368.3750 - val_mae: 862.3750 - val_rmse: 1181.4661\n",
      "Epoch 429/1000\n",
      "311/311 [==============================] - 0s 936us/step - loss: 1496703.2500 - mae: 882.6422 - rmse: 1203.7759 - val_loss: 1445004.7500 - val_mae: 858.6463 - val_rmse: 1180.3335\n",
      "Epoch 430/1000\n",
      "311/311 [==============================] - 0s 938us/step - loss: 1496287.5000 - mae: 881.1943 - rmse: 1201.7419 - val_loss: 1445035.1250 - val_mae: 859.2845 - val_rmse: 1180.4755\n",
      "Epoch 431/1000\n",
      "311/311 [==============================] - 0s 926us/step - loss: 1495798.0000 - mae: 882.0141 - rmse: 1202.1230 - val_loss: 1444672.3750 - val_mae: 857.7789 - val_rmse: 1180.0833\n",
      "Epoch 432/1000\n",
      "311/311 [==============================] - 0s 932us/step - loss: 1495978.7500 - mae: 881.0031 - rmse: 1201.4817 - val_loss: 1446791.5000 - val_mae: 863.6381 - val_rmse: 1181.8798\n",
      "Epoch 433/1000\n",
      "311/311 [==============================] - 0s 951us/step - loss: 1494488.2500 - mae: 880.0876 - rmse: 1199.4233 - val_loss: 1448699.1250 - val_mae: 866.4612 - val_rmse: 1183.0753\n",
      "Epoch 434/1000\n",
      "311/311 [==============================] - 0s 929us/step - loss: 1494197.1250 - mae: 882.9829 - rmse: 1200.8494 - val_loss: 1444447.5000 - val_mae: 855.1724 - val_rmse: 1179.5455\n",
      "Epoch 435/1000\n",
      "311/311 [==============================] - 0s 932us/step - loss: 1495283.1250 - mae: 880.3800 - rmse: 1201.2036 - val_loss: 1445367.8750 - val_mae: 861.1151 - val_rmse: 1180.9468\n",
      "Epoch 436/1000\n",
      "311/311 [==============================] - 0s 938us/step - loss: 1494884.2500 - mae: 880.6616 - rmse: 1202.7480 - val_loss: 1445195.0000 - val_mae: 860.8714 - val_rmse: 1180.8479\n",
      "Epoch 437/1000\n",
      "311/311 [==============================] - 0s 938us/step - loss: 1495465.1250 - mae: 881.2827 - rmse: 1201.4934 - val_loss: 1444671.5000 - val_mae: 859.6791 - val_rmse: 1180.4583\n",
      "Epoch 438/1000\n",
      "311/311 [==============================] - 0s 930us/step - loss: 1495646.5000 - mae: 881.4992 - rmse: 1202.3682 - val_loss: 1444637.2500 - val_mae: 859.7747 - val_rmse: 1180.4744\n",
      "Epoch 439/1000\n",
      "311/311 [==============================] - 0s 982us/step - loss: 1495095.2500 - mae: 880.2241 - rmse: 1201.6901 - val_loss: 1445980.5000 - val_mae: 862.8267 - val_rmse: 1181.5038\n",
      "Epoch 440/1000\n",
      "311/311 [==============================] - 0s 935us/step - loss: 1495196.7500 - mae: 882.8293 - rmse: 1202.5253 - val_loss: 1443832.2500 - val_mae: 855.0457 - val_rmse: 1179.3606\n",
      "Epoch 441/1000\n",
      "311/311 [==============================] - 0s 961us/step - loss: 1495159.6250 - mae: 880.3884 - rmse: 1201.7296 - val_loss: 1444034.3750 - val_mae: 858.3773 - val_rmse: 1180.0266\n",
      "Epoch 442/1000\n",
      "311/311 [==============================] - 0s 973us/step - loss: 1495007.8750 - mae: 880.7584 - rmse: 1199.4829 - val_loss: 1444223.6250 - val_mae: 859.3257 - val_rmse: 1180.2758\n",
      "Epoch 443/1000\n",
      "311/311 [==============================] - 0s 954us/step - loss: 1494800.3750 - mae: 880.8859 - rmse: 1199.9817 - val_loss: 1443637.3750 - val_mae: 857.3159 - val_rmse: 1179.7107\n",
      "Epoch 444/1000\n",
      "311/311 [==============================] - 0s 929us/step - loss: 1494405.8750 - mae: 881.3171 - rmse: 1202.1053 - val_loss: 1443730.3750 - val_mae: 853.7715 - val_rmse: 1179.1019\n",
      "Epoch 445/1000\n",
      "311/311 [==============================] - 0s 926us/step - loss: 1495259.6250 - mae: 880.0579 - rmse: 1200.1051 - val_loss: 1444988.6250 - val_mae: 861.5710 - val_rmse: 1180.9629\n",
      "Epoch 446/1000\n",
      "311/311 [==============================] - 0s 994us/step - loss: 1494076.0000 - mae: 881.7462 - rmse: 1199.2322 - val_loss: 1443366.5000 - val_mae: 854.9763 - val_rmse: 1179.1935\n",
      "Epoch 447/1000\n",
      "311/311 [==============================] - 0s 935us/step - loss: 1493890.5000 - mae: 880.3605 - rmse: 1201.0824 - val_loss: 1443452.6250 - val_mae: 857.7401 - val_rmse: 1179.7377\n",
      "Epoch 448/1000\n",
      "311/311 [==============================] - 0s 998us/step - loss: 1494278.3750 - mae: 881.0441 - rmse: 1199.8870 - val_loss: 1443171.0000 - val_mae: 856.0479 - val_rmse: 1179.3350\n",
      "Epoch 449/1000\n",
      "311/311 [==============================] - 0s 934us/step - loss: 1494489.2500 - mae: 880.1121 - rmse: 1201.4082 - val_loss: 1444388.0000 - val_mae: 860.7793 - val_rmse: 1180.6331\n",
      "Epoch 450/1000\n",
      "311/311 [==============================] - 0s 929us/step - loss: 1494196.3750 - mae: 880.9625 - rmse: 1201.3276 - val_loss: 1443008.8750 - val_mae: 855.3838 - val_rmse: 1179.1691\n",
      "Epoch 451/1000\n",
      "311/311 [==============================] - 0s 939us/step - loss: 1494274.0000 - mae: 880.5759 - rmse: 1199.4128 - val_loss: 1443105.7500 - val_mae: 857.2304 - val_rmse: 1179.5348\n",
      "Epoch 452/1000\n",
      "311/311 [==============================] - 0s 937us/step - loss: 1493482.0000 - mae: 880.3052 - rmse: 1199.6847 - val_loss: 1443449.8750 - val_mae: 858.8193 - val_rmse: 1179.9465\n",
      "Epoch 453/1000\n",
      "311/311 [==============================] - 0s 940us/step - loss: 1493568.6250 - mae: 880.0972 - rmse: 1201.0831 - val_loss: 1443227.2500 - val_mae: 858.2795 - val_rmse: 1179.7715\n",
      "Epoch 454/1000\n",
      "311/311 [==============================] - 0s 927us/step - loss: 1493620.8750 - mae: 881.1549 - rmse: 1202.6273 - val_loss: 1442769.1250 - val_mae: 855.2766 - val_rmse: 1179.0692\n",
      "Epoch 455/1000\n",
      "311/311 [==============================] - 0s 937us/step - loss: 1493179.1250 - mae: 878.9446 - rmse: 1201.2004 - val_loss: 1444778.5000 - val_mae: 862.1014 - val_rmse: 1181.0220\n",
      "Epoch 456/1000\n",
      "311/311 [==============================] - 0s 961us/step - loss: 1493157.8750 - mae: 880.5486 - rmse: 1200.8765 - val_loss: 1444473.3750 - val_mae: 861.6305 - val_rmse: 1180.8352\n",
      "Epoch 457/1000\n",
      "311/311 [==============================] - 0s 960us/step - loss: 1493297.1250 - mae: 880.9753 - rmse: 1201.2224 - val_loss: 1443245.8750 - val_mae: 858.9456 - val_rmse: 1179.9021\n",
      "Epoch 458/1000\n"
     ]
    },
    {
     "name": "stdout",
     "output_type": "stream",
     "text": [
      "311/311 [==============================] - 0s 941us/step - loss: 1493261.3750 - mae: 879.9283 - rmse: 1202.4742 - val_loss: 1443939.8750 - val_mae: 860.7809 - val_rmse: 1180.5051\n",
      "Epoch 459/1000\n",
      "311/311 [==============================] - 0s 933us/step - loss: 1493270.2500 - mae: 880.7696 - rmse: 1199.2139 - val_loss: 1442868.7500 - val_mae: 858.2994 - val_rmse: 1179.6787\n",
      "Epoch 460/1000\n",
      "311/311 [==============================] - 0s 934us/step - loss: 1493013.3750 - mae: 880.7419 - rmse: 1201.9899 - val_loss: 1442415.7500 - val_mae: 855.6888 - val_rmse: 1179.0328\n",
      "Epoch 461/1000\n",
      "311/311 [==============================] - 0s 929us/step - loss: 1492931.8750 - mae: 881.0888 - rmse: 1203.2985 - val_loss: 1442378.3750 - val_mae: 854.8046 - val_rmse: 1178.8656\n",
      "Epoch 462/1000\n",
      "311/311 [==============================] - 0s 925us/step - loss: 1493494.8750 - mae: 878.9964 - rmse: 1200.5398 - val_loss: 1442660.2500 - val_mae: 857.8853 - val_rmse: 1179.5133\n",
      "Epoch 463/1000\n",
      "311/311 [==============================] - 0s 963us/step - loss: 1493323.5000 - mae: 880.4376 - rmse: 1198.7251 - val_loss: 1443135.2500 - val_mae: 859.4921 - val_rmse: 1179.9933\n",
      "Epoch 464/1000\n",
      "311/311 [==============================] - 0s 933us/step - loss: 1492239.7500 - mae: 881.7310 - rmse: 1202.5229 - val_loss: 1444191.1250 - val_mae: 849.9117 - val_rmse: 1178.6381\n",
      "Epoch 465/1000\n",
      "311/311 [==============================] - 0s 928us/step - loss: 1492686.1250 - mae: 878.6467 - rmse: 1201.0392 - val_loss: 1442883.0000 - val_mae: 859.1302 - val_rmse: 1179.8424\n",
      "Epoch 466/1000\n",
      "311/311 [==============================] - 0s 937us/step - loss: 1492265.2500 - mae: 881.4581 - rmse: 1201.4031 - val_loss: 1442629.2500 - val_mae: 852.2861 - val_rmse: 1178.5006\n",
      "Epoch 467/1000\n",
      "311/311 [==============================] - 0s 928us/step - loss: 1492830.3750 - mae: 879.5294 - rmse: 1200.4242 - val_loss: 1442141.2500 - val_mae: 856.7583 - val_rmse: 1179.1481\n",
      "Epoch 468/1000\n",
      "311/311 [==============================] - 0s 931us/step - loss: 1492125.3750 - mae: 880.9971 - rmse: 1201.8448 - val_loss: 1443121.7500 - val_mae: 851.0960 - val_rmse: 1178.4647\n",
      "Epoch 469/1000\n",
      "311/311 [==============================] - 0s 940us/step - loss: 1492967.1250 - mae: 879.5804 - rmse: 1201.7776 - val_loss: 1442004.0000 - val_mae: 856.4705 - val_rmse: 1179.0446\n",
      "Epoch 470/1000\n",
      "311/311 [==============================] - 0s 936us/step - loss: 1492555.2500 - mae: 879.1144 - rmse: 1199.3639 - val_loss: 1442444.5000 - val_mae: 858.5594 - val_rmse: 1179.5900\n",
      "Epoch 471/1000\n",
      "311/311 [==============================] - 0s 933us/step - loss: 1492772.2500 - mae: 880.8329 - rmse: 1202.0546 - val_loss: 1441838.7500 - val_mae: 856.0731 - val_rmse: 1178.9197\n",
      "Epoch 472/1000\n",
      "311/311 [==============================] - 0s 932us/step - loss: 1492367.2500 - mae: 880.1143 - rmse: 1200.5082 - val_loss: 1441807.2500 - val_mae: 856.0590 - val_rmse: 1178.9000\n",
      "Epoch 473/1000\n",
      "311/311 [==============================] - 0s 974us/step - loss: 1492821.6250 - mae: 880.0306 - rmse: 1198.5742 - val_loss: 1441920.3750 - val_mae: 857.1995 - val_rmse: 1179.1616\n",
      "Epoch 474/1000\n",
      "311/311 [==============================] - 0s 933us/step - loss: 1492204.3750 - mae: 880.7374 - rmse: 1201.1747 - val_loss: 1441726.1250 - val_mae: 854.4337 - val_rmse: 1178.5735\n",
      "Epoch 475/1000\n",
      "311/311 [==============================] - 0s 965us/step - loss: 1491989.5000 - mae: 879.9821 - rmse: 1200.7594 - val_loss: 1441609.0000 - val_mae: 855.4819 - val_rmse: 1178.7333\n",
      "Epoch 476/1000\n",
      "311/311 [==============================] - 0s 970us/step - loss: 1491695.1250 - mae: 879.9135 - rmse: 1199.6090 - val_loss: 1441891.1250 - val_mae: 857.5771 - val_rmse: 1179.2216\n",
      "Epoch 477/1000\n",
      "311/311 [==============================] - 0s 935us/step - loss: 1492265.0000 - mae: 880.7728 - rmse: 1197.5494 - val_loss: 1441588.3750 - val_mae: 854.2858 - val_rmse: 1178.4980\n",
      "Epoch 478/1000\n",
      "311/311 [==============================] - 0s 948us/step - loss: 1491973.5000 - mae: 879.1365 - rmse: 1200.3556 - val_loss: 1442043.3750 - val_mae: 858.4304 - val_rmse: 1179.4441\n",
      "Epoch 479/1000\n",
      "311/311 [==============================] - 0s 928us/step - loss: 1491671.1250 - mae: 880.1091 - rmse: 1197.5399 - val_loss: 1441521.3750 - val_mae: 856.1894 - val_rmse: 1178.8278\n",
      "Epoch 480/1000\n",
      "311/311 [==============================] - 0s 1ms/step - loss: 1491195.3750 - mae: 881.0836 - rmse: 1199.3678 - val_loss: 1442925.3750 - val_mae: 850.5964 - val_rmse: 1178.2982\n",
      "Epoch 481/1000\n",
      "311/311 [==============================] - 0s 979us/step - loss: 1492167.7500 - mae: 879.1445 - rmse: 1199.7139 - val_loss: 1441519.5000 - val_mae: 856.6406 - val_rmse: 1178.9102\n",
      "Epoch 482/1000\n",
      "311/311 [==============================] - 0s 1ms/step - loss: 1491925.6250 - mae: 879.5461 - rmse: 1198.9014 - val_loss: 1441680.8750 - val_mae: 857.6620 - val_rmse: 1179.1650\n",
      "Epoch 483/1000\n",
      "311/311 [==============================] - 0s 945us/step - loss: 1491832.2500 - mae: 880.3996 - rmse: 1199.5361 - val_loss: 1441389.3750 - val_mae: 856.2861 - val_rmse: 1178.7990\n",
      "Epoch 484/1000\n",
      "311/311 [==============================] - 0s 938us/step - loss: 1491493.6250 - mae: 880.0018 - rmse: 1200.5334 - val_loss: 1441576.3750 - val_mae: 852.9913 - val_rmse: 1178.2496\n",
      "Epoch 485/1000\n",
      "311/311 [==============================] - 0s 960us/step - loss: 1492012.7500 - mae: 879.6099 - rmse: 1202.6490 - val_loss: 1441220.3750 - val_mae: 855.9006 - val_rmse: 1178.6764\n",
      "Epoch 486/1000\n",
      "311/311 [==============================] - 0s 933us/step - loss: 1491135.6250 - mae: 880.1959 - rmse: 1200.0304 - val_loss: 1441326.2500 - val_mae: 853.7237 - val_rmse: 1178.2976\n",
      "Epoch 487/1000\n",
      "311/311 [==============================] - 0s 933us/step - loss: 1491278.5000 - mae: 879.5859 - rmse: 1198.3252 - val_loss: 1441171.0000 - val_mae: 854.8677 - val_rmse: 1178.4521\n",
      "Epoch 488/1000\n",
      "311/311 [==============================] - 0s 963us/step - loss: 1491097.2500 - mae: 880.6415 - rmse: 1200.2780 - val_loss: 1441709.8750 - val_mae: 852.2354 - val_rmse: 1178.1562\n",
      "Epoch 489/1000\n",
      "311/311 [==============================] - 0s 963us/step - loss: 1491131.3750 - mae: 878.7343 - rmse: 1199.1089 - val_loss: 1442689.1250 - val_mae: 860.6600 - val_rmse: 1180.0853\n",
      "Epoch 490/1000\n",
      "311/311 [==============================] - 0s 951us/step - loss: 1490623.7500 - mae: 880.8400 - rmse: 1200.2150 - val_loss: 1441909.2500 - val_mae: 851.7441 - val_rmse: 1178.1301\n",
      "Epoch 491/1000\n",
      "311/311 [==============================] - 0s 976us/step - loss: 1491356.8750 - mae: 878.8947 - rmse: 1201.6678 - val_loss: 1441207.3750 - val_mae: 856.6511 - val_rmse: 1178.7975\n",
      "Epoch 492/1000\n",
      "311/311 [==============================] - 0s 938us/step - loss: 1491247.2500 - mae: 880.0354 - rmse: 1201.5237 - val_loss: 1441187.6250 - val_mae: 856.8154 - val_rmse: 1178.8252\n",
      "Epoch 493/1000\n",
      "311/311 [==============================] - 0s 945us/step - loss: 1491087.6250 - mae: 880.3802 - rmse: 1198.9836 - val_loss: 1441018.2500 - val_mae: 855.1930 - val_rmse: 1178.4575\n",
      "Epoch 494/1000\n",
      "311/311 [==============================] - 0s 940us/step - loss: 1490591.5000 - mae: 878.7386 - rmse: 1197.7885 - val_loss: 1442394.2500 - val_mae: 860.3591 - val_rmse: 1179.9337\n",
      "Epoch 495/1000\n",
      "311/311 [==============================] - 0s 932us/step - loss: 1490722.7500 - mae: 882.0697 - rmse: 1199.6202 - val_loss: 1441919.3750 - val_mae: 851.4727 - val_rmse: 1178.0898\n",
      "Epoch 496/1000\n",
      "311/311 [==============================] - 0s 936us/step - loss: 1491250.3750 - mae: 878.6210 - rmse: 1199.9497 - val_loss: 1441020.6250 - val_mae: 856.6196 - val_rmse: 1178.7382\n",
      "Epoch 497/1000\n",
      "311/311 [==============================] - 0s 940us/step - loss: 1490521.1250 - mae: 878.7647 - rmse: 1199.3372 - val_loss: 1442425.6250 - val_mae: 860.5509 - val_rmse: 1179.9885\n",
      "Epoch 498/1000\n",
      "311/311 [==============================] - 0s 930us/step - loss: 1490022.7500 - mae: 881.3920 - rmse: 1199.1212 - val_loss: 1441098.2500 - val_mae: 853.2719 - val_rmse: 1178.1256\n",
      "Epoch 499/1000\n",
      "311/311 [==============================] - 0s 940us/step - loss: 1490814.6250 - mae: 878.6882 - rmse: 1199.4550 - val_loss: 1441581.5000 - val_mae: 858.8356 - val_rmse: 1179.3514\n",
      "Epoch 500/1000\n"
     ]
    },
    {
     "name": "stdout",
     "output_type": "stream",
     "text": [
      "311/311 [==============================] - 0s 950us/step - loss: 1491127.3750 - mae: 880.8075 - rmse: 1201.9058 - val_loss: 1440901.2500 - val_mae: 854.1468 - val_rmse: 1178.2118\n",
      "Epoch 501/1000\n",
      "311/311 [==============================] - 0s 973us/step - loss: 1490734.3750 - mae: 879.0508 - rmse: 1199.7236 - val_loss: 1441319.3750 - val_mae: 858.2350 - val_rmse: 1179.1394\n",
      "Epoch 502/1000\n",
      "311/311 [==============================] - 0s 935us/step - loss: 1490499.0000 - mae: 880.4862 - rmse: 1198.2321 - val_loss: 1440757.5000 - val_mae: 855.1376 - val_rmse: 1178.3484\n",
      "Epoch 503/1000\n",
      "311/311 [==============================] - 0s 945us/step - loss: 1490713.1250 - mae: 879.0281 - rmse: 1198.4904 - val_loss: 1440876.7500 - val_mae: 854.3682 - val_rmse: 1178.2339\n",
      "Epoch 504/1000\n",
      "311/311 [==============================] - 0s 942us/step - loss: 1490326.2500 - mae: 880.7373 - rmse: 1202.0980 - val_loss: 1440801.8750 - val_mae: 856.6657 - val_rmse: 1178.6688\n",
      "Epoch 505/1000\n",
      "311/311 [==============================] - 0s 934us/step - loss: 1490624.6250 - mae: 879.5776 - rmse: 1201.4701 - val_loss: 1440701.6250 - val_mae: 856.1616 - val_rmse: 1178.5342\n",
      "Epoch 506/1000\n",
      "311/311 [==============================] - 0s 947us/step - loss: 1490804.5000 - mae: 880.7225 - rmse: 1200.4656 - val_loss: 1440644.7500 - val_mae: 854.8733 - val_rmse: 1178.2638\n",
      "Epoch 507/1000\n",
      "311/311 [==============================] - 0s 943us/step - loss: 1491275.5000 - mae: 878.8770 - rmse: 1200.5339 - val_loss: 1441710.7500 - val_mae: 859.5307 - val_rmse: 1179.5273\n",
      "Epoch 508/1000\n",
      "311/311 [==============================] - 0s 930us/step - loss: 1490740.0000 - mae: 879.9958 - rmse: 1200.7701 - val_loss: 1440657.1250 - val_mae: 856.2676 - val_rmse: 1178.5356\n",
      "Epoch 509/1000\n",
      "311/311 [==============================] - 0s 973us/step - loss: 1490371.5000 - mae: 879.6833 - rmse: 1199.2440 - val_loss: 1440713.2500 - val_mae: 856.4191 - val_rmse: 1178.5697\n",
      "Epoch 510/1000\n",
      "311/311 [==============================] - 0s 957us/step - loss: 1490107.6250 - mae: 880.3639 - rmse: 1201.3274 - val_loss: 1441179.7500 - val_mae: 852.3874 - val_rmse: 1177.9789\n",
      "Epoch 511/1000\n",
      "311/311 [==============================] - 0s 933us/step - loss: 1490686.2500 - mae: 878.7336 - rmse: 1200.2161 - val_loss: 1440634.7500 - val_mae: 856.5336 - val_rmse: 1178.5721\n",
      "Epoch 512/1000\n",
      "311/311 [==============================] - 0s 933us/step - loss: 1490868.3750 - mae: 880.3616 - rmse: 1197.8302 - val_loss: 1441542.8750 - val_mae: 859.5072 - val_rmse: 1179.4766\n",
      "Epoch 513/1000\n",
      "311/311 [==============================] - 0s 945us/step - loss: 1490440.1250 - mae: 880.9235 - rmse: 1198.1638 - val_loss: 1440872.8750 - val_mae: 853.1751 - val_rmse: 1178.0112\n",
      "Epoch 514/1000\n",
      "311/311 [==============================] - 0s 1ms/step - loss: 1490379.3750 - mae: 879.4090 - rmse: 1199.7435 - val_loss: 1440460.6250 - val_mae: 855.1837 - val_rmse: 1178.2446\n",
      "Epoch 515/1000\n",
      "311/311 [==============================] - 0s 957us/step - loss: 1490219.7500 - mae: 879.7255 - rmse: 1199.8505 - val_loss: 1441582.7500 - val_mae: 859.7120 - val_rmse: 1179.5271\n",
      "Epoch 516/1000\n",
      "311/311 [==============================] - 0s 1ms/step - loss: 1488973.6250 - mae: 881.0018 - rmse: 1199.3354 - val_loss: 1441521.8750 - val_mae: 851.5773 - val_rmse: 1177.9486\n",
      "Epoch 517/1000\n",
      "311/311 [==============================] - 0s 944us/step - loss: 1490304.1250 - mae: 878.9659 - rmse: 1199.0062 - val_loss: 1440457.8750 - val_mae: 855.5115 - val_rmse: 1178.3077\n",
      "Epoch 518/1000\n",
      "311/311 [==============================] - 0s 942us/step - loss: 1489836.6250 - mae: 879.9567 - rmse: 1199.2600 - val_loss: 1440635.6250 - val_mae: 853.7457 - val_rmse: 1178.0300\n",
      "Epoch 519/1000\n",
      "311/311 [==============================] - 0s 965us/step - loss: 1490245.6250 - mae: 879.7395 - rmse: 1199.3235 - val_loss: 1440698.0000 - val_mae: 853.3985 - val_rmse: 1177.9844\n",
      "Epoch 520/1000\n",
      "311/311 [==============================] - 0s 962us/step - loss: 1490271.1250 - mae: 878.7096 - rmse: 1197.6594 - val_loss: 1443524.7500 - val_mae: 863.0780 - val_rmse: 1180.8657\n",
      "Epoch 521/1000\n",
      "311/311 [==============================] - 0s 937us/step - loss: 1490058.0000 - mae: 880.1656 - rmse: 1202.4696 - val_loss: 1441391.0000 - val_mae: 859.5311 - val_rmse: 1179.4181\n",
      "Epoch 522/1000\n",
      "311/311 [==============================] - 0s 933us/step - loss: 1489964.1250 - mae: 880.8952 - rmse: 1201.7065 - val_loss: 1440751.7500 - val_mae: 857.8793 - val_rmse: 1178.8716\n",
      "Epoch 523/1000\n",
      "311/311 [==============================] - 0s 985us/step - loss: 1489891.1250 - mae: 880.7007 - rmse: 1200.0049 - val_loss: 1441291.7500 - val_mae: 851.8194 - val_rmse: 1177.9117\n",
      "Epoch 524/1000\n",
      "311/311 [==============================] - 0s 980us/step - loss: 1490307.6250 - mae: 878.9516 - rmse: 1201.2297 - val_loss: 1440394.1250 - val_mae: 856.1918 - val_rmse: 1178.4124\n",
      "Epoch 525/1000\n",
      "311/311 [==============================] - 0s 975us/step - loss: 1488901.3750 - mae: 880.8055 - rmse: 1202.0571 - val_loss: 1442892.0000 - val_mae: 849.7739 - val_rmse: 1178.1045\n",
      "Epoch 526/1000\n",
      "311/311 [==============================] - 0s 946us/step - loss: 1489703.7500 - mae: 877.6841 - rmse: 1197.4746 - val_loss: 1441491.7500 - val_mae: 859.9579 - val_rmse: 1179.5432\n",
      "Epoch 527/1000\n",
      "311/311 [==============================] - 0s 954us/step - loss: 1489644.2500 - mae: 880.7344 - rmse: 1198.1642 - val_loss: 1440299.3750 - val_mae: 855.7841 - val_rmse: 1178.2983\n",
      "Epoch 528/1000\n",
      "311/311 [==============================] - 0s 967us/step - loss: 1489595.5000 - mae: 878.6067 - rmse: 1197.6947 - val_loss: 1442682.6250 - val_mae: 862.0641 - val_rmse: 1180.3627\n",
      "Epoch 529/1000\n",
      "311/311 [==============================] - 0s 940us/step - loss: 1490357.5000 - mae: 881.0624 - rmse: 1196.9586 - val_loss: 1440306.2500 - val_mae: 856.1972 - val_rmse: 1178.3837\n",
      "Epoch 530/1000\n",
      "311/311 [==============================] - 0s 958us/step - loss: 1489400.1250 - mae: 880.1191 - rmse: 1199.3613 - val_loss: 1440248.5000 - val_mae: 854.8566 - val_rmse: 1178.1045\n",
      "Epoch 531/1000\n",
      "311/311 [==============================] - 0s 953us/step - loss: 1489934.2500 - mae: 879.4222 - rmse: 1198.2649 - val_loss: 1440759.7500 - val_mae: 858.2792 - val_rmse: 1178.9495\n",
      "Epoch 532/1000\n",
      "311/311 [==============================] - 0s 938us/step - loss: 1488083.7500 - mae: 881.1226 - rmse: 1200.7203 - val_loss: 1441121.1250 - val_mae: 852.0164 - val_rmse: 1177.8789\n",
      "Epoch 533/1000\n",
      "311/311 [==============================] - 0s 946us/step - loss: 1490275.6250 - mae: 878.6498 - rmse: 1197.1196 - val_loss: 1440257.6250 - val_mae: 856.3502 - val_rmse: 1178.3987\n",
      "Epoch 534/1000\n",
      "311/311 [==============================] - 0s 942us/step - loss: 1489226.1250 - mae: 880.7257 - rmse: 1200.2434 - val_loss: 1441366.8750 - val_mae: 851.6316 - val_rmse: 1177.8896\n",
      "Epoch 535/1000\n",
      "311/311 [==============================] - 0s 972us/step - loss: 1488876.8750 - mae: 878.2524 - rmse: 1200.3739 - val_loss: 1440669.2500 - val_mae: 858.2254 - val_rmse: 1178.9110\n",
      "Epoch 536/1000\n",
      "311/311 [==============================] - 0s 991us/step - loss: 1489532.8750 - mae: 880.0518 - rmse: 1198.3389 - val_loss: 1440341.1250 - val_mae: 857.0021 - val_rmse: 1178.5535\n",
      "Epoch 537/1000\n",
      "311/311 [==============================] - 0s 940us/step - loss: 1489873.3750 - mae: 880.3650 - rmse: 1199.6935 - val_loss: 1440183.7500 - val_mae: 855.5737 - val_rmse: 1178.2137\n",
      "Epoch 538/1000\n",
      "311/311 [==============================] - 0s 960us/step - loss: 1489362.1250 - mae: 878.0416 - rmse: 1199.3043 - val_loss: 1441486.5000 - val_mae: 860.1752 - val_rmse: 1179.5665\n",
      "Epoch 539/1000\n",
      "311/311 [==============================] - 0s 954us/step - loss: 1490141.0000 - mae: 881.5489 - rmse: 1200.3312 - val_loss: 1440167.5000 - val_mae: 856.3468 - val_rmse: 1178.3615\n",
      "Epoch 540/1000\n",
      "311/311 [==============================] - 0s 952us/step - loss: 1489757.0000 - mae: 879.8095 - rmse: 1199.3712 - val_loss: 1440367.5000 - val_mae: 857.5745 - val_rmse: 1178.6753\n",
      "Epoch 541/1000\n",
      "311/311 [==============================] - 0s 942us/step - loss: 1489156.1250 - mae: 880.1060 - rmse: 1199.3844 - val_loss: 1441162.5000 - val_mae: 851.8456 - val_rmse: 1177.8448\n",
      "Epoch 542/1000\n"
     ]
    },
    {
     "name": "stdout",
     "output_type": "stream",
     "text": [
      "311/311 [==============================] - 0s 955us/step - loss: 1489693.7500 - mae: 879.2901 - rmse: 1198.8071 - val_loss: 1440409.7500 - val_mae: 857.7630 - val_rmse: 1178.7157\n",
      "Epoch 543/1000\n",
      "311/311 [==============================] - 0s 958us/step - loss: 1489936.6250 - mae: 880.0169 - rmse: 1198.7927 - val_loss: 1440134.8750 - val_mae: 856.5474 - val_rmse: 1178.3804\n",
      "Epoch 544/1000\n",
      "311/311 [==============================] - 0s 965us/step - loss: 1489164.7500 - mae: 879.3696 - rmse: 1196.2301 - val_loss: 1440926.8750 - val_mae: 859.3414 - val_rmse: 1179.2146\n",
      "Epoch 545/1000\n",
      "311/311 [==============================] - 0s 938us/step - loss: 1489470.0000 - mae: 880.3810 - rmse: 1199.0192 - val_loss: 1440499.8750 - val_mae: 858.3309 - val_rmse: 1178.8656\n",
      "Epoch 546/1000\n",
      "311/311 [==============================] - 0s 941us/step - loss: 1489549.1250 - mae: 880.3727 - rmse: 1197.3556 - val_loss: 1440228.7500 - val_mae: 857.3166 - val_rmse: 1178.5742\n",
      "Epoch 547/1000\n",
      "311/311 [==============================] - 0s 1ms/step - loss: 1489380.7500 - mae: 879.4380 - rmse: 1198.6372 - val_loss: 1440060.7500 - val_mae: 856.5318 - val_rmse: 1178.3567\n",
      "Epoch 548/1000\n",
      "311/311 [==============================] - 0s 948us/step - loss: 1488986.5000 - mae: 880.1799 - rmse: 1199.7655 - val_loss: 1440097.1250 - val_mae: 854.3468 - val_rmse: 1177.9385\n",
      "Epoch 549/1000\n",
      "311/311 [==============================] - 0s 1ms/step - loss: 1488877.6250 - mae: 878.4371 - rmse: 1198.6742 - val_loss: 1443190.7500 - val_mae: 863.1995 - val_rmse: 1180.7717\n",
      "Epoch 550/1000\n",
      "311/311 [==============================] - 0s 977us/step - loss: 1488967.3750 - mae: 881.5382 - rmse: 1201.1816 - val_loss: 1440431.6250 - val_mae: 853.0767 - val_rmse: 1177.8137\n",
      "Epoch 551/1000\n",
      "311/311 [==============================] - 0s 932us/step - loss: 1490059.3750 - mae: 879.2927 - rmse: 1198.6516 - val_loss: 1440257.5000 - val_mae: 857.5416 - val_rmse: 1178.6205\n",
      "Epoch 552/1000\n",
      "311/311 [==============================] - 0s 936us/step - loss: 1489691.6250 - mae: 880.6707 - rmse: 1198.0011 - val_loss: 1440030.6250 - val_mae: 856.6426 - val_rmse: 1178.3676\n",
      "Epoch 553/1000\n",
      "311/311 [==============================] - 0s 954us/step - loss: 1489067.7500 - mae: 877.9543 - rmse: 1199.3544 - val_loss: 1443011.5000 - val_mae: 863.0174 - val_rmse: 1180.6742\n",
      "Epoch 554/1000\n",
      "311/311 [==============================] - 0s 976us/step - loss: 1489252.0000 - mae: 881.0807 - rmse: 1200.6095 - val_loss: 1439938.7500 - val_mae: 854.9150 - val_rmse: 1177.9916\n",
      "Epoch 555/1000\n",
      "311/311 [==============================] - 0s 944us/step - loss: 1489086.8750 - mae: 879.8907 - rmse: 1198.7072 - val_loss: 1440526.3750 - val_mae: 852.7362 - val_rmse: 1177.7803\n",
      "Epoch 556/1000\n",
      "311/311 [==============================] - 0s 953us/step - loss: 1489075.3750 - mae: 879.2859 - rmse: 1198.8810 - val_loss: 1440919.5000 - val_mae: 859.6021 - val_rmse: 1179.2614\n",
      "Epoch 557/1000\n",
      "311/311 [==============================] - 0s 975us/step - loss: 1488430.5000 - mae: 879.8190 - rmse: 1198.4779 - val_loss: 1439931.7500 - val_mae: 855.2209 - val_rmse: 1178.0426\n",
      "Epoch 558/1000\n",
      "311/311 [==============================] - 0s 982us/step - loss: 1489592.0000 - mae: 880.0016 - rmse: 1197.5812 - val_loss: 1439941.2500 - val_mae: 856.4215 - val_rmse: 1178.2898\n",
      "Epoch 559/1000\n",
      "311/311 [==============================] - 0s 970us/step - loss: 1489287.5000 - mae: 878.9460 - rmse: 1197.7482 - val_loss: 1440294.3750 - val_mae: 858.1017 - val_rmse: 1178.7419\n",
      "Epoch 560/1000\n",
      "311/311 [==============================] - 0s 956us/step - loss: 1489216.8750 - mae: 880.6176 - rmse: 1196.7408 - val_loss: 1439947.8750 - val_mae: 854.6069 - val_rmse: 1177.9301\n",
      "Epoch 561/1000\n",
      "311/311 [==============================] - 0s 957us/step - loss: 1489134.0000 - mae: 879.1727 - rmse: 1202.2070 - val_loss: 1440216.3750 - val_mae: 857.7606 - val_rmse: 1178.6458\n",
      "Epoch 562/1000\n",
      "311/311 [==============================] - 0s 952us/step - loss: 1488369.1250 - mae: 880.3173 - rmse: 1198.8009 - val_loss: 1440157.7500 - val_mae: 853.5671 - val_rmse: 1177.8071\n",
      "Epoch 563/1000\n",
      "311/311 [==============================] - 0s 937us/step - loss: 1489217.3750 - mae: 879.3859 - rmse: 1197.9843 - val_loss: 1439932.6250 - val_mae: 856.6600 - val_rmse: 1178.3269\n",
      "Epoch 564/1000\n",
      "311/311 [==============================] - 0s 964us/step - loss: 1489365.7500 - mae: 880.4610 - rmse: 1200.5724 - val_loss: 1439953.0000 - val_mae: 854.2667 - val_rmse: 1177.8655\n",
      "Epoch 565/1000\n",
      "311/311 [==============================] - 0s 946us/step - loss: 1489218.7500 - mae: 879.4053 - rmse: 1200.5956 - val_loss: 1439816.0000 - val_mae: 856.0509 - val_rmse: 1178.1619\n",
      "Epoch 566/1000\n",
      "311/311 [==============================] - 0s 954us/step - loss: 1489244.8750 - mae: 880.0754 - rmse: 1199.3895 - val_loss: 1440714.6250 - val_mae: 859.5103 - val_rmse: 1179.1793\n",
      "Epoch 567/1000\n",
      "311/311 [==============================] - 0s 940us/step - loss: 1489030.8750 - mae: 880.1262 - rmse: 1199.5435 - val_loss: 1440094.2500 - val_mae: 857.9238 - val_rmse: 1178.6399\n",
      "Epoch 568/1000\n",
      "311/311 [==============================] - 0s 949us/step - loss: 1489267.2500 - mae: 880.4270 - rmse: 1200.0236 - val_loss: 1439768.8750 - val_mae: 856.0203 - val_rmse: 1178.1423\n",
      "Epoch 569/1000\n",
      "311/311 [==============================] - 0s 979us/step - loss: 1488611.7500 - mae: 879.7526 - rmse: 1200.3710 - val_loss: 1439832.0000 - val_mae: 854.6623 - val_rmse: 1177.8917\n",
      "Epoch 570/1000\n",
      "311/311 [==============================] - 0s 944us/step - loss: 1489986.7500 - mae: 879.4463 - rmse: 1198.6987 - val_loss: 1439798.7500 - val_mae: 854.6035 - val_rmse: 1177.8698\n",
      "Epoch 571/1000\n",
      "311/311 [==============================] - 0s 956us/step - loss: 1488184.1250 - mae: 879.2657 - rmse: 1200.7690 - val_loss: 1441094.1250 - val_mae: 860.2457 - val_rmse: 1179.4388\n",
      "Epoch 572/1000\n",
      "311/311 [==============================] - 0s 982us/step - loss: 1488751.2500 - mae: 881.0466 - rmse: 1199.1820 - val_loss: 1440012.1250 - val_mae: 853.6451 - val_rmse: 1177.7627\n",
      "Epoch 573/1000\n",
      "311/311 [==============================] - 0s 958us/step - loss: 1488742.7500 - mae: 879.3386 - rmse: 1202.2213 - val_loss: 1439751.8750 - val_mae: 856.3654 - val_rmse: 1178.1973\n",
      "Epoch 574/1000\n",
      "311/311 [==============================] - 0s 1ms/step - loss: 1488679.0000 - mae: 879.8302 - rmse: 1197.4043 - val_loss: 1439814.2500 - val_mae: 856.8412 - val_rmse: 1178.3142\n",
      "Epoch 575/1000\n",
      "311/311 [==============================] - 0s 938us/step - loss: 1489157.6250 - mae: 879.7783 - rmse: 1198.4326 - val_loss: 1440581.5000 - val_mae: 859.3564 - val_rmse: 1179.0898\n",
      "Epoch 576/1000\n",
      "311/311 [==============================] - 0s 969us/step - loss: 1488404.8750 - mae: 879.6712 - rmse: 1197.1910 - val_loss: 1439737.7500 - val_mae: 856.1849 - val_rmse: 1178.1528\n",
      "Epoch 577/1000\n",
      "311/311 [==============================] - 0s 968us/step - loss: 1488606.7500 - mae: 880.0881 - rmse: 1202.0426 - val_loss: 1439714.8750 - val_mae: 855.2141 - val_rmse: 1177.9552\n",
      "Epoch 578/1000\n",
      "311/311 [==============================] - 0s 941us/step - loss: 1488888.1250 - mae: 880.6277 - rmse: 1199.8176 - val_loss: 1440069.0000 - val_mae: 853.2842 - val_rmse: 1177.7144\n",
      "Epoch 579/1000\n",
      "311/311 [==============================] - 0s 956us/step - loss: 1488827.7500 - mae: 878.8921 - rmse: 1199.2894 - val_loss: 1440196.5000 - val_mae: 858.4532 - val_rmse: 1178.7684\n",
      "Epoch 580/1000\n",
      "311/311 [==============================] - 0s 964us/step - loss: 1488972.5000 - mae: 880.1858 - rmse: 1196.1040 - val_loss: 1439760.8750 - val_mae: 856.7697 - val_rmse: 1178.2772\n",
      "Epoch 581/1000\n",
      "311/311 [==============================] - 0s 1ms/step - loss: 1488492.1250 - mae: 879.4486 - rmse: 1201.2662 - val_loss: 1439901.6250 - val_mae: 857.4510 - val_rmse: 1178.4584\n",
      "Epoch 582/1000\n",
      "311/311 [==============================] - 0s 942us/step - loss: 1488245.6250 - mae: 879.5407 - rmse: 1198.5833 - val_loss: 1441069.8750 - val_mae: 860.4960 - val_rmse: 1179.4779\n",
      "Epoch 583/1000\n",
      "311/311 [==============================] - 0s 1ms/step - loss: 1488466.0000 - mae: 879.3533 - rmse: 1201.8658 - val_loss: 1441054.0000 - val_mae: 860.5225 - val_rmse: 1179.4899\n",
      "Epoch 584/1000\n"
     ]
    },
    {
     "name": "stdout",
     "output_type": "stream",
     "text": [
      "311/311 [==============================] - 0s 948us/step - loss: 1488962.1250 - mae: 880.7516 - rmse: 1200.3584 - val_loss: 1440115.6250 - val_mae: 858.4921 - val_rmse: 1178.7622\n",
      "Epoch 585/1000\n",
      "311/311 [==============================] - 0s 937us/step - loss: 1488876.6250 - mae: 879.7290 - rmse: 1199.0702 - val_loss: 1440195.3750 - val_mae: 858.7297 - val_rmse: 1178.8303\n",
      "Epoch 586/1000\n",
      "311/311 [==============================] - 0s 961us/step - loss: 1488775.3750 - mae: 879.6397 - rmse: 1199.1232 - val_loss: 1440641.5000 - val_mae: 859.7413 - val_rmse: 1179.1873\n",
      "Epoch 587/1000\n",
      "311/311 [==============================] - 0s 930us/step - loss: 1489088.7500 - mae: 880.5193 - rmse: 1200.2557 - val_loss: 1439652.5000 - val_mae: 856.5704 - val_rmse: 1178.1987\n",
      "Epoch 588/1000\n",
      "311/311 [==============================] - 0s 948us/step - loss: 1488419.3750 - mae: 879.3652 - rmse: 1198.0067 - val_loss: 1439605.6250 - val_mae: 856.1385 - val_rmse: 1178.0951\n",
      "Epoch 589/1000\n",
      "311/311 [==============================] - 0s 954us/step - loss: 1488685.0000 - mae: 879.1939 - rmse: 1198.2968 - val_loss: 1440847.7500 - val_mae: 860.1768 - val_rmse: 1179.3378\n",
      "Epoch 590/1000\n",
      "311/311 [==============================] - 0s 980us/step - loss: 1488200.0000 - mae: 879.8925 - rmse: 1198.8209 - val_loss: 1439601.0000 - val_mae: 854.9528 - val_rmse: 1177.8566\n",
      "Epoch 591/1000\n",
      "311/311 [==============================] - 0s 983us/step - loss: 1488704.2500 - mae: 880.1391 - rmse: 1199.5978 - val_loss: 1439872.7500 - val_mae: 853.5022 - val_rmse: 1177.6777\n",
      "Epoch 592/1000\n",
      "311/311 [==============================] - 0s 940us/step - loss: 1488721.1250 - mae: 878.8583 - rmse: 1197.3953 - val_loss: 1441677.1250 - val_mae: 861.6934 - val_rmse: 1179.9398\n",
      "Epoch 593/1000\n",
      "311/311 [==============================] - 0s 938us/step - loss: 1488683.8750 - mae: 880.7644 - rmse: 1199.5403 - val_loss: 1439475.6250 - val_mae: 855.5605 - val_rmse: 1177.9386\n",
      "Epoch 594/1000\n",
      "311/311 [==============================] - 0s 942us/step - loss: 1488701.1250 - mae: 878.9070 - rmse: 1199.8168 - val_loss: 1440952.6250 - val_mae: 860.5260 - val_rmse: 1179.4528\n",
      "Epoch 595/1000\n",
      "311/311 [==============================] - 0s 956us/step - loss: 1489406.2500 - mae: 879.9033 - rmse: 1196.9015 - val_loss: 1439742.8750 - val_mae: 857.6683 - val_rmse: 1178.4482\n",
      "Epoch 596/1000\n",
      "311/311 [==============================] - 0s 921us/step - loss: 1488566.5000 - mae: 880.0112 - rmse: 1203.0834 - val_loss: 1440222.1250 - val_mae: 859.0295 - val_rmse: 1178.8923\n",
      "Epoch 597/1000\n",
      "311/311 [==============================] - 0s 936us/step - loss: 1488562.3750 - mae: 879.2173 - rmse: 1199.1564 - val_loss: 1440980.2500 - val_mae: 860.5704 - val_rmse: 1179.4575\n",
      "Epoch 598/1000\n",
      "311/311 [==============================] - 0s 928us/step - loss: 1488479.3750 - mae: 879.6093 - rmse: 1200.1700 - val_loss: 1442085.8750 - val_mae: 862.3057 - val_rmse: 1180.1841\n",
      "Epoch 599/1000\n",
      "311/311 [==============================] - 0s 941us/step - loss: 1489423.8750 - mae: 881.2126 - rmse: 1199.6726 - val_loss: 1439443.3750 - val_mae: 855.3590 - val_rmse: 1177.8779\n",
      "Epoch 600/1000\n",
      "311/311 [==============================] - 0s 941us/step - loss: 1487669.2500 - mae: 878.9007 - rmse: 1197.6111 - val_loss: 1440106.2500 - val_mae: 858.7762 - val_rmse: 1178.8109\n",
      "Epoch 601/1000\n",
      "311/311 [==============================] - 0s 941us/step - loss: 1488688.8750 - mae: 880.5107 - rmse: 1199.8634 - val_loss: 1439421.2500 - val_mae: 855.9336 - val_rmse: 1178.0038\n",
      "Epoch 602/1000\n",
      "311/311 [==============================] - 0s 945us/step - loss: 1488097.6250 - mae: 878.5620 - rmse: 1198.0533 - val_loss: 1441251.1250 - val_mae: 861.1335 - val_rmse: 1179.6820\n",
      "Epoch 603/1000\n",
      "311/311 [==============================] - 0s 956us/step - loss: 1487944.7500 - mae: 881.5430 - rmse: 1197.8152 - val_loss: 1439881.6250 - val_mae: 853.2245 - val_rmse: 1177.6271\n",
      "Epoch 604/1000\n",
      "311/311 [==============================] - 0s 972us/step - loss: 1488014.3750 - mae: 877.8130 - rmse: 1197.4454 - val_loss: 1441919.2500 - val_mae: 862.1964 - val_rmse: 1180.1162\n",
      "Epoch 605/1000\n",
      "311/311 [==============================] - 0s 953us/step - loss: 1487855.3750 - mae: 881.8759 - rmse: 1198.6296 - val_loss: 1441692.6250 - val_mae: 850.3705 - val_rmse: 1177.7458\n",
      "Epoch 606/1000\n",
      "311/311 [==============================] - 0s 936us/step - loss: 1488623.0000 - mae: 879.1942 - rmse: 1198.9598 - val_loss: 1439655.7500 - val_mae: 853.6953 - val_rmse: 1177.6367\n",
      "Epoch 607/1000\n",
      "311/311 [==============================] - 0s 942us/step - loss: 1486777.8750 - mae: 877.8521 - rmse: 1197.0297 - val_loss: 1442274.8750 - val_mae: 862.7252 - val_rmse: 1180.3573\n",
      "Epoch 608/1000\n",
      "311/311 [==============================] - 0s 948us/step - loss: 1489595.5000 - mae: 881.9933 - rmse: 1196.9825 - val_loss: 1439421.8750 - val_mae: 854.7678 - val_rmse: 1177.7662\n",
      "Epoch 609/1000\n",
      "311/311 [==============================] - 0s 960us/step - loss: 1488692.3750 - mae: 879.0768 - rmse: 1198.6348 - val_loss: 1439723.7500 - val_mae: 858.0070 - val_rmse: 1178.5188\n",
      "Epoch 610/1000\n",
      "311/311 [==============================] - 0s 936us/step - loss: 1488287.7500 - mae: 880.2450 - rmse: 1199.0714 - val_loss: 1439397.0000 - val_mae: 856.5450 - val_rmse: 1178.1082\n",
      "Epoch 611/1000\n",
      "311/311 [==============================] - 0s 934us/step - loss: 1488699.5000 - mae: 879.7512 - rmse: 1196.0266 - val_loss: 1439351.0000 - val_mae: 855.1852 - val_rmse: 1177.8146\n",
      "Epoch 612/1000\n",
      "311/311 [==============================] - 0s 937us/step - loss: 1488047.5000 - mae: 878.5779 - rmse: 1198.2021 - val_loss: 1440189.6250 - val_mae: 859.1957 - val_rmse: 1178.9110\n",
      "Epoch 613/1000\n",
      "311/311 [==============================] - 0s 936us/step - loss: 1488122.7500 - mae: 881.3505 - rmse: 1198.5436 - val_loss: 1439823.6250 - val_mae: 853.0840 - val_rmse: 1177.5818\n",
      "Epoch 614/1000\n",
      "311/311 [==============================] - 0s 936us/step - loss: 1488603.2500 - mae: 879.3269 - rmse: 1199.9894 - val_loss: 1439760.8750 - val_mae: 853.2294 - val_rmse: 1177.5826\n",
      "Epoch 615/1000\n",
      "311/311 [==============================] - 0s 1ms/step - loss: 1488530.6250 - mae: 878.9642 - rmse: 1199.9418 - val_loss: 1439360.3750 - val_mae: 855.9469 - val_rmse: 1177.9589\n",
      "Epoch 616/1000\n",
      "311/311 [==============================] - 0s 934us/step - loss: 1488025.3750 - mae: 879.6510 - rmse: 1198.7921 - val_loss: 1440659.2500 - val_mae: 860.2405 - val_rmse: 1179.2825\n",
      "Epoch 617/1000\n",
      "311/311 [==============================] - 0s 1ms/step - loss: 1488337.5000 - mae: 879.6073 - rmse: 1199.5820 - val_loss: 1439955.6250 - val_mae: 858.7613 - val_rmse: 1178.7388\n",
      "Epoch 618/1000\n",
      "152/311 [=============>................] - ETA: 0s - loss: 1481019.0000 - mae: 876.3120 - rmse: 1194.6401"
     ]
    }
   ],
   "source": [
    "from tensorflow.keras.models import Sequential\n",
    "from tensorflow.keras.layers import Dense\n",
    "from tensorflow.keras.optimizers import Adam\n",
    "from tensorflow.keras.callbacks import TensorBoard\n",
    "from tensorflow.keras.callbacks import EarlyStopping\n",
    "import datetime\n",
    "\n",
    "import tensorflow.keras.backend as K\n",
    "\n",
    "def rmse(y_true, y_pred):\n",
    "    return K.sqrt(K.mean(K.square(y_pred - y_true)))\n",
    "\n",
    "input_dim = x_train.shape[1]\n",
    "\n",
    "\n",
    "early_stopping = EarlyStopping(\n",
    "    monitor='val_rmse',\n",
    "    patience=5,\n",
    "    restore_best_weights=True,\n",
    "    mode='min'  #minimize RMSE\n",
    ")\n",
    "model = Sequential([\n",
    "    Dense(20, activation='relu', input_shape=(input_dim,)),\n",
    "    Dense(15, activation='relu'),\n",
    "    Dense(10, activation='relu'),\n",
    "    Dense(1)\n",
    "])\n",
    "\n",
    "model.compile(optimizer=Adam(learning_rate=0.0001),\n",
    "              loss='mse',\n",
    "              metrics=['mae', rmse])\n",
    "\n",
    "model.summary()\n",
    "\n",
    "\n",
    "log_dir = \"logs/fit/\" + datetime.datetime.now().strftime(\"%Y%m%d-%H%M%S\")\n",
    "tensorboard_callback = TensorBoard(log_dir=log_dir, histogram_freq=1)\n",
    "\n",
    "y_train_array = np.array(y_train).reshape(-1)  \n",
    "y_test_array = np.array(y_test).reshape(-1)   \n",
    "\n",
    "\n",
    "print(\"x_train shape:\", x_train.shape)\n",
    "print(\"y_train shape after reshaping:\", y_train_array.shape)\n",
    "\n",
    "history = model.fit(\n",
    "    x_train, y_train_array,\n",
    "    epochs=1000,\n",
    "    batch_size=32,\n",
    "    validation_data=(x_test, y_test_array),\n",
    "    callbacks=[tensorboard_callback, early_stopping],\n",
    "    verbose=1\n",
    ")"
   ]
  },
  {
   "cell_type": "code",
   "execution_count": null,
   "id": "a8d86437-1cdc-4a13-8d5a-44e5b310af6a",
   "metadata": {},
   "outputs": [],
   "source": [
    "from sklearn.metrics import mean_squared_error, r2_score\n",
    "import numpy as np\n",
    "\n",
    "y_pred = model.predict(x_test, verbose=0)\n",
    "\n",
    "\n",
    "y_pred = y_pred.flatten()\n",
    "\n",
    "y_true = y_test_array.flatten()\n",
    "\n",
    "rmse = np.sqrt(mean_squared_error(y_true, y_pred))\n",
    "r2 = r2_score(y_true, y_pred)\n",
    "\n",
    "print(\"TensorFlow Model RMSE:\", rmse)\n",
    "print(\"TensorFlow Model R² Score:\", r2)\n"
   ]
  },
  {
   "cell_type": "code",
   "execution_count": 75,
   "id": "474593e6-cc83-45fe-bd32-6758287e2a15",
   "metadata": {},
   "outputs": [
    {
     "data": {
      "image/png": "[encoded data removed]",
      "text/plain": [
       "<Figure size 864x360 with 2 Axes>"
      ]
     },
     "metadata": {
      "needs_background": "light"
     },
     "output_type": "display_data"
    }
   ],
   "source": [
    "plt.figure(figsize=(12, 5))\n",
    "\n",
    "\n",
    "plt.subplot(1, 2, 1)\n",
    "plt.plot(history.history['loss'])\n",
    "plt.plot(history.history['val_loss'])\n",
    "plt.title('Model Loss')\n",
    "plt.ylabel('Loss')\n",
    "plt.xlabel('Epoch')\n",
    "plt.legend(['Train', 'Validation'], loc='upper right')\n",
    "\n",
    "# training & validation mean absolute error\n",
    "plt.subplot(1, 2, 2)\n",
    "plt.plot(history.history['mae'])\n",
    "plt.plot(history.history['val_mae'])\n",
    "plt.title('Model Mean Absolute Error')\n",
    "plt.ylabel('MAE')\n",
    "plt.xlabel('Epoch')\n",
    "plt.legend(['Train', 'Validation'], loc='upper right')\n",
    "\n",
    "plt.tight_layout()\n",
    "plt.show()\n"
   ]
  },
  {
   "cell_type": "code",
   "execution_count": 76,
   "id": "e760e092",
   "metadata": {},
   "outputs": [
    {
     "name": "stdout",
     "output_type": "stream",
     "text": [
      "For model comparison:\n",
      "x_train shape: (9942, 42)\n",
      "y_train shape: (9942,)\n",
      "x_test shape: (4262, 42)\n",
      "y_test shape: (4262,)\n",
      "                             RMSE        R²\n",
      "Linear Regression     1215.411198  0.280191\n",
      "Decision Tree         1706.516570 -0.419030\n",
      "Random Forest         1266.245823  0.218720\n",
      "Gradient Boosting     1204.729949  0.292787\n",
      "AdaBoost              1307.113867  0.167475\n",
      "SVR                   1583.381497 -0.221636\n",
      "Neural Network (TF2)  1290.382300  0.188652\n"
     ]
    },
    {
     "data": {
      "image/png": "[encoded data removed]",
      "text/plain": [
       "<Figure size 864x432 with 1 Axes>"
      ]
     },
     "metadata": {
      "needs_background": "light"
     },
     "output_type": "display_data"
    },
    {
     "data": {
      "image/png": "[encoded data removed]",
      "text/plain": [
       "<Figure size 864x432 with 1 Axes>"
      ]
     },
     "metadata": {
      "needs_background": "light"
     },
     "output_type": "display_data"
    }
   ],
   "source": [
    "# Compare all models\n",
    "models = {\n",
    "    'Linear Regression': LinearRegression(),\n",
    "    'Decision Tree': DecisionTreeRegressor(),\n",
    "    'Random Forest': RandomForestRegressor(n_estimators=100),\n",
    "    'Gradient Boosting': GradientBoostingRegressor(),\n",
    "    'AdaBoost': AdaBoostRegressor(n_estimators=100),\n",
    "    'SVR': SVR(),\n",
    "    'Neural Network (TF2)': None  \n",
    "}\n",
    "\n",
    "results = {}\n",
    "\n",
    "x_train_array = np.array(x_train)\n",
    "y_train_array = np.array(y_train).reshape(-1)  \n",
    "x_test_array = np.array(x_test)\n",
    "y_test_array = np.array(y_test).reshape(-1)   \n",
    "\n",
    "print(\"For model comparison:\")\n",
    "print(\"x_train shape:\", x_train_array.shape)\n",
    "print(\"y_train shape:\", y_train_array.shape)\n",
    "print(\"x_test shape:\", x_test_array.shape)\n",
    "print(\"y_test shape:\", y_test_array.shape)\n",
    "\n",
    "\n",
    "for name, model_instance in models.items():\n",
    "    if model_instance is not None: \n",
    "        model_instance.fit(x_train_array, y_train_array)\n",
    "        y_pred = model_instance.predict(x_test_array)\n",
    "        rmse = np.sqrt(mean_squared_error(y_test_array, y_pred))\n",
    "        r2 = r2_score(y_test_array, y_pred)\n",
    "        results[name] = {'RMSE': rmse, 'R²': r2}\n",
    "\n",
    "\n",
    "nn_pred = model.predict(x_test_array).flatten() \n",
    "nn_rmse = np.sqrt(mean_squared_error(y_test_array, nn_pred))\n",
    "nn_r2 = r2_score(y_test_array, nn_pred)\n",
    "results['Neural Network (TF2)'] = {'RMSE': nn_rmse, 'R²': nn_r2}\n",
    "\n",
    "\n",
    "results_df = pd.DataFrame(results).T\n",
    "print(results_df)\n",
    "\n",
    "# comparison of RMSE\n",
    "plt.figure(figsize=(12, 6))\n",
    "results_df['RMSE'].plot(kind='bar', color='skyblue')\n",
    "plt.title('Model Comparison - RMSE (lower is better)')\n",
    "plt.ylabel('RMSE')\n",
    "plt.xticks(rotation=45)\n",
    "plt.tight_layout()\n",
    "plt.show()\n",
    "\n",
    "# comparison of R squared\n",
    "plt.figure(figsize=(12, 6))\n",
    "results_df['R²'].plot(kind='bar', color='lightgreen')\n",
    "plt.title('Model Comparison - R² Score (higher is better)')\n",
    "plt.ylabel('R² Score')\n",
    "plt.xticks(rotation=45)\n",
    "plt.axhline(y=0, color='r', linestyle='-', alpha=0.3)\n",
    "plt.tight_layout()\n",
    "plt.show()"
   ]
  },
  {
   "cell_type": "code",
   "execution_count": 77,
   "id": "6f9fcded",
   "metadata": {},
   "outputs": [
    {
     "name": "stdout",
     "output_type": "stream",
     "text": [
      "Gradient Boosting submission file saved successfully!\n"
     ]
    },
    {
     "name": "stderr",
     "output_type": "stream",
     "text": [
      "C:\\Users\\Uma_pc\\anaconda3\\envs\\tensor\\lib\\site-packages\\sklearn\\base.py:443: UserWarning: X has feature names, but GradientBoostingRegressor was fitted without feature names\n",
      "  warnings.warn(\n"
     ]
    }
   ],
   "source": [
    "original_test = pd.read_csv(\"test_AbJTz2l.csv\")\n",
    "\n",
    "gb_model = GradientBoostingRegressor()\n",
    "gb_model.fit(x_train_array, y_train_array)\n",
    "\n",
    "\n",
    "submission_predictions = gb_model.predict(test.drop('Item_Outlet_Sales', axis=1))\n",
    "\n",
    "\n",
    "submission = pd.DataFrame({\n",
    "    'Item_Identifier': original_test['Item_Identifier'],\n",
    "    'Outlet_Identifier': original_test['Outlet_Identifier'],\n",
    "    'Item_Outlet_Sales': submission_predictions\n",
    "})\n",
    "\n",
    "\n",
    "submission.to_csv('submission_gradient_boosting.csv', index=False)\n",
    "print(\"Gradient Boosting submission file saved successfully!\")"
   ]
  },
  {
   "cell_type": "code",
   "execution_count": 78,
   "id": "719c461b",
   "metadata": {},
   "outputs": [
    {
     "data": {
      "text/plain": [
       "Index(['Item_Identifier', 'Item_Weight', 'Item_Fat_Content', 'Item_Visibility',\n",
       "       'Item_Type', 'Item_MRP', 'Outlet_Identifier',\n",
       "       'Outlet_Establishment_Year', 'Outlet_Size', 'Outlet_Location_Type',\n",
       "       'Outlet_Type'],\n",
       "      dtype='object')"
      ]
     },
     "execution_count": 78,
     "metadata": {},
     "output_type": "execute_result"
    }
   ],
   "source": [
    "original_test = pd.read_csv(\"test_AbJTz2l.csv\")\n",
    "original_test.columns"
   ]
  },
  {
   "cell_type": "code",
   "execution_count": 79,
   "id": "3f2f4360",
   "metadata": {},
   "outputs": [
    {
     "data": {
      "text/plain": [
       "0       958.752\n",
       "1       958.752\n",
       "2       958.752\n",
       "3       958.752\n",
       "4       958.752\n",
       "         ...   \n",
       "5676    958.752\n",
       "5677    958.752\n",
       "5678    958.752\n",
       "5679    958.752\n",
       "5680    958.752\n",
       "Name: Item_Outlet_Sales, Length: 5681, dtype: float64"
      ]
     },
     "execution_count": 79,
     "metadata": {},
     "output_type": "execute_result"
    }
   ],
   "source": [
    "test['Item_Outlet_Sales']"
   ]
  },
  {
   "cell_type": "code",
   "execution_count": 80,
   "id": "a79b811d",
   "metadata": {},
   "outputs": [
    {
     "data": {
      "text/plain": [
       "array([1356.1562098 , 1225.982012  ,  606.59968472, ..., 1430.27114026,\n",
       "       2597.91249674, 1180.13713294])"
      ]
     },
     "execution_count": 80,
     "metadata": {},
     "output_type": "execute_result"
    }
   ],
   "source": [
    "submission_predictions"
   ]
  },
  {
   "cell_type": "code",
   "execution_count": null,
   "id": "bd8d04ee",
   "metadata": {},
   "outputs": [],
   "source": []
  }
 ],
 "metadata": {
  "kernelspec": {
   "display_name": "Python 3 (ipykernel)",
   "language": "python",
   "name": "python3"
  },
  "language_info": {
   "codemirror_mode": {
    "name": "ipython",
    "version": 3
   },
   "file_extension": ".py",
   "mimetype": "text/x-python",
   "name": "python",
   "nbconvert_exporter": "python",
   "pygments_lexer": "ipython3",
   "version": "3.9.12"
  }
 },
 "nbformat": 4,
 "nbformat_minor": 5
}
