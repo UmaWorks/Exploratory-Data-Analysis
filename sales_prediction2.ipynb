{
 "cells": [
  {
   "cell_type": "code",
   "execution_count": 16,
   "id": "87ada86e-511b-4c57-a803-361affc8e7af",
   "metadata": {},
   "outputs": [],
   "source": [
    "import numpy as np\n",
    "import pandas as pd\n",
    "import matplotlib.pyplot as plt\n",
    "import seaborn as sns\n",
    "from sklearn.preprocessing import StandardScaler, LabelEncoder\n",
    "from sklearn.model_selection import KFold, cross_val_score, GridSearchCV\n",
    "from sklearn.ensemble import GradientBoostingRegressor, RandomForestRegressor\n",
    "from sklearn.metrics import mean_squared_error, r2_score\n",
    "import xgboost as xgb\n",
    "from sklearn.pipeline import Pipeline"
   ]
  },
  {
   "cell_type": "code",
   "execution_count": 17,
   "id": "087688cd-90d6-4437-b441-9bcc980edc0d",
   "metadata": {},
   "outputs": [],
   "source": [
    "def load_data(train_path, test_path):\n",
    "    train = pd.read_csv(train_path)\n",
    "    test = pd.read_csv(test_path)\n",
    "    print(f\"Training data shape: {train.shape}\")\n",
    "    print(f\"Test data shape: {test.shape}\")\n",
    "    return train, test"
   ]
  },
  {
   "cell_type": "code",
   "execution_count": 18,
   "id": "33f29181",
   "metadata": {},
   "outputs": [],
   "source": [
    "def preprocess_data(train, test):\n",
    "    \"\"\"Preprocess data with advanced missing value handling and feature engineering\"\"\"\n",
    "    # Create copies to avoid warnings\n",
    "    train_processed = train.copy()\n",
    "    test_processed = test.copy()\n",
    "    \n",
    "    # Combine for preprocessing to ensure consistent transformations\n",
    "    combined = pd.concat([train_processed, test_processed], ignore_index=True)\n",
    "    \n",
    "    # ---- MISSING VALUES HANDLING ----\n",
    "    \n",
    "    # 1. Item_Weight - Missing in ~17% of records\n",
    "    # Use weight of same item identifier\n",
    "    item_avg_weight = combined.pivot_table(values='Item_Weight', index='Item_Identifier')\n",
    "    missing_weight = combined['Item_Weight'].isna()\n",
    "    \n",
    "    for idx in combined[missing_weight].index:\n",
    "        item = combined.loc[idx, 'Item_Identifier']\n",
    "        if item in item_avg_weight.index:\n",
    "            combined.loc[idx, 'Item_Weight'] = item_avg_weight.loc[item]\n",
    "        else:\n",
    "            # If still no match, use average weight for the item type\n",
    "            item_type = combined.loc[idx, 'Item_Type']\n",
    "            combined.loc[idx, 'Item_Weight'] = combined[combined['Item_Type'] == item_type]['Item_Weight'].mean()\n",
    "    \n",
    "    # 2. Outlet_Size - Missing in ~28% of records\n",
    "    # Impute based on Outlet_Type correlation\n",
    "    outlet_size_by_type = combined.pivot_table(\n",
    "        values='Outlet_Size',\n",
    "        columns='Outlet_Type',\n",
    "        aggfunc=lambda x: x.mode().iloc[0] if len(x.mode()) > 0 else np.nan\n",
    "    )\n",
    "    \n",
    "    missing_size = combined['Outlet_Size'].isna()\n",
    "    for idx in combined[missing_size].index:\n",
    "        outlet_type = combined.loc[idx, 'Outlet_Type']\n",
    "        combined.loc[idx, 'Outlet_Size'] = outlet_size_by_type[outlet_type]\n",
    "    \n",
    "    # ---- FEATURE CLEANING ----\n",
    "    \n",
    "    # 1. Item_Fat_Content standardization\n",
    "    fat_content_map = {\n",
    "        'LF': 'Low Fat',\n",
    "        'low fat': 'Low Fat',\n",
    "        'reg': 'Regular'\n",
    "    }\n",
    "    combined['Item_Fat_Content'] = combined['Item_Fat_Content'].replace(fat_content_map)\n",
    "    \n",
    "    # 2. Extract Item Category from Item_Identifier and create new feature\n",
    "    combined['Item_Category'] = combined['Item_Identifier'].str.slice(0, 2)\n",
    "    category_map = {\n",
    "        'FD': 'Food',\n",
    "        'NC': 'Non-Consumable',\n",
    "        'DR': 'Drinks'\n",
    "    }\n",
    "    combined['Item_Category'] = combined['Item_Category'].map(category_map)\n",
    "    \n",
    "    # 3. Set Item_Fat_Content for Non-Consumable as 'None'\n",
    "    combined.loc[combined['Item_Category'] == 'Non-Consumable', 'Item_Fat_Content'] = 'None'\n",
    "    \n",
    "    # ---- FEATURE ENGINEERING ----\n",
    "    \n",
    "    # 1. Item visibility - Replace 0 with mean of same item type\n",
    "    zero_visibility = combined['Item_Visibility'] == 0\n",
    "    for idx in combined[zero_visibility].index:\n",
    "        item_type = combined.loc[idx, 'Item_Type']\n",
    "        visibility_mean = combined[\n",
    "            (combined['Item_Type'] == item_type) & \n",
    "            (combined['Item_Visibility'] > 0)\n",
    "        ]['Item_Visibility'].mean()\n",
    "        \n",
    "        if not np.isnan(visibility_mean):\n",
    "            combined.loc[idx, 'Item_Visibility'] = visibility_mean\n",
    "        else:\n",
    "            combined.loc[idx, 'Item_Visibility'] = combined[combined['Item_Visibility'] > 0]['Item_Visibility'].mean()\n",
    "    \n",
    "    # 2. Log transform Item_Visibility to handle skewness\n",
    "    combined['Item_Visibility_Log'] = np.log1p(combined['Item_Visibility'])\n",
    "    \n",
    "    # 3. Create Item_MRP price segments\n",
    "    combined['Item_MRP_Segment'] = pd.qcut(\n",
    "        combined['Item_MRP'], \n",
    "        q=4, \n",
    "        labels=['Budget', 'Economy', 'Premium', 'Luxury']\n",
    "    )\n",
    "    \n",
    "    # 4. Years of operation\n",
    "    combined['Outlet_Years'] = 2013 - combined['Outlet_Establishment_Year']\n",
    "    \n",
    "    # 5. Price per unit weight\n",
    "    combined['Price_Per_Unit_Weight'] = combined['Item_MRP'] / combined['Item_Weight']\n",
    "    \n",
    "    # 6. Item visibility to MRP ratio\n",
    "    combined['Visibility_to_MRP_Ratio'] = combined['Item_Visibility'] / combined['Item_MRP']\n",
    "    \n",
    "    # 7. Interaction features\n",
    "    combined['Item_Type_X_Outlet_Type'] = combined['Item_Type'] + '_' + combined['Outlet_Type']\n",
    "    combined['Item_Category_X_Outlet_Type'] = combined['Item_Category'] + '_' + combined['Outlet_Type']\n",
    "    combined['Item_Fat_Content_X_Item_Category'] = combined['Item_Fat_Content'] + '_' + combined['Item_Category']\n",
    "    \n",
    "    # 8. Location and Outlet Type Combination\n",
    "    combined['Location_X_Type'] = combined['Outlet_Location_Type'] + '_' + combined['Outlet_Type']\n",
    "    \n",
    "    # 9. Outlet identifier average sales (target encoding - careful with leakage!)\n",
    "    # Only calculate from training data\n",
    "    if 'Item_Outlet_Sales' in train.columns:\n",
    "        outlet_avg_sales = train.groupby('Outlet_Identifier')['Item_Outlet_Sales'].transform('mean')\n",
    "        outlet_map = train.groupby('Outlet_Identifier')['Item_Outlet_Sales'].mean().to_dict()\n",
    "        \n",
    "        # Apply to both train and test\n",
    "        combined['Outlet_Avg_Sales'] = combined['Outlet_Identifier'].map(outlet_map)\n",
    "        \n",
    "        # For items not in the map (should be rare), use global average\n",
    "        combined['Outlet_Avg_Sales'].fillna(train['Item_Outlet_Sales'].mean(), inplace=True)\n",
    "    \n",
    "    # ---- ENCODING CATEGORICAL VARIABLES ----\n",
    "    \n",
    "    # Columns to encode\n",
    "    cat_cols = ['Item_Fat_Content', 'Item_Type', 'Outlet_Identifier', 'Outlet_Size', \n",
    "                'Outlet_Location_Type', 'Outlet_Type', 'Item_MRP_Segment', \n",
    "                'Item_Category']\n",
    "    \n",
    "    # Apply one-hot encoding\n",
    "    combined = pd.get_dummies(combined, columns=cat_cols, drop_first=True)\n",
    "    \n",
    "    # ---- DROP UNNECESSARY COLUMNS ----\n",
    "    cols_to_drop = ['Item_Identifier', 'Outlet_Establishment_Year', 'Item_Type_X_Outlet_Type',\n",
    "                    'Item_Category_X_Outlet_Type', 'Item_Fat_Content_X_Item_Category', 'Location_X_Type']\n",
    "    combined.drop(cols_to_drop, axis=1, inplace=True)\n",
    "    \n",
    "    # Split back into train and test\n",
    "    train_processed = combined.iloc[:len(train)]\n",
    "    test_processed = combined.iloc[len(train):]\n",
    "    \n",
    "    # Ensure test has the same columns as train (in case of missing categories)\n",
    "    if 'Item_Outlet_Sales' in test_processed.columns:\n",
    "        test_processed.drop('Item_Outlet_Sales', axis=1, inplace=True)\n",
    "    \n",
    "    return train_processed, test_processed\n"
   ]
  },
  {
   "cell_type": "code",
   "execution_count": 19,
   "id": "bb684d9b",
   "metadata": {},
   "outputs": [],
   "source": [
    "def train_xgboost_model(X_train, y_train, X_test):\n",
    "    \"\"\"Train XGBoost model with optimized parameters\"\"\"\n",
    "    # Define XGBoost model with tuned parameters\n",
    "    xgb_model = xgb.XGBRegressor(\n",
    "        n_estimators=500,\n",
    "        learning_rate=0.01,\n",
    "        max_depth=5,\n",
    "        min_child_weight=1,\n",
    "        subsample=0.8,\n",
    "        colsample_bytree=0.8,\n",
    "        gamma=0,\n",
    "        reg_alpha=0.001,\n",
    "        reg_lambda=1,\n",
    "        objective='reg:squarederror',\n",
    "        random_state=42\n",
    "    )\n",
    "    \n",
    "    # Fit model\n",
    "    xgb_model.fit(\n",
    "        X_train, y_train,\n",
    "        eval_set=[(X_train, y_train)],\n",
    "        verbose=100,\n",
    "        early_stopping_rounds=50\n",
    "    )\n",
    "    \n",
    "    # Make predictions\n",
    "    predictions = xgb_model.predict(X_test)\n",
    "    \n",
    "    # Return model and predictions\n",
    "    return xgb_model, predictions\n"
   ]
  },
  {
   "cell_type": "code",
   "execution_count": 20,
   "id": "5c5fc7fc",
   "metadata": {},
   "outputs": [],
   "source": [
    "def train_gradient_boosting_model(X_train, y_train, X_test):\n",
    "    \"\"\"Train Gradient Boosting model with optimized parameters\"\"\"\n",
    "    # Define GBM\n",
    "    gb_model = GradientBoostingRegressor(\n",
    "        n_estimators=200,\n",
    "        learning_rate=0.05,\n",
    "        max_depth=4,\n",
    "        min_samples_split=5,\n",
    "        min_samples_leaf=4,\n",
    "        subsample=0.8,\n",
    "        random_state=42\n",
    "    )\n",
    "    \n",
    "    # Fit model\n",
    "    gb_model.fit(X_train, y_train)\n",
    "    \n",
    "    # Make predictions\n",
    "    predictions = gb_model.predict(X_test)\n",
    "    \n",
    "    # Return model and predictions\n",
    "    return gb_model, predictions\n"
   ]
  },
  {
   "cell_type": "code",
   "execution_count": 21,
   "id": "f167b017-73cf-4ef3-8a6e-65874c73cd5a",
   "metadata": {},
   "outputs": [],
   "source": [
    "def train_random_forest_model(X_train, y_train, X_test):\n",
    "    \"\"\"Train Random Forest model with optimized parameters\"\"\"\n",
    "    # Define RF\n",
    "    rf_model = RandomForestRegressor(\n",
    "        n_estimators=300,\n",
    "        max_depth=15,\n",
    "        min_samples_split=2,\n",
    "        min_samples_leaf=1,\n",
    "        max_features='sqrt',\n",
    "        random_state=42,\n",
    "        n_jobs=-1\n",
    "    )\n",
    "    \n",
    "    # Fit model\n",
    "    rf_model.fit(X_train, y_train)\n",
    "    \n",
    "    # Make predictions\n",
    "    predictions = rf_model.predict(X_test)\n",
    "    \n",
    "    # Return model and predictions\n",
    "    return rf_model, predictions\n"
   ]
  },
  {
   "cell_type": "code",
   "execution_count": 22,
   "id": "3d1a9673-03f4-4ec0-869d-69db7f002f84",
   "metadata": {},
   "outputs": [],
   "source": [
    "def evaluate_model(model, X, y, cv=5):\n",
    "    \"\"\"Evaluate model using cross-validation\"\"\"\n",
    "    # Define cross-validation strategy\n",
    "    kf = KFold(n_splits=cv, shuffle=True, random_state=42)\n",
    "    \n",
    "    # Evaluate using RMSE\n",
    "    rmse_scores = -cross_val_score(\n",
    "        model, X, y, \n",
    "        scoring='neg_root_mean_squared_error',\n",
    "        cv=kf,\n",
    "        n_jobs=-1\n",
    "    )\n",
    "    \n",
    "    print(f\"Cross-validation RMSE: {rmse_scores.mean():.2f} ± {rmse_scores.std():.2f}\")\n",
    "    return rmse_scores.mean()\n",
    "\n",
    "def create_ensemble_prediction(predictions_list, weights=None):\n",
    "    \"\"\"Create weighted ensemble of multiple model predictions\"\"\"\n",
    "    if weights is None:\n",
    "        # Use equal weights if not specified\n",
    "        weights = [1/len(predictions_list)] * len(predictions_list)\n",
    "    \n",
    "    # Ensure weights sum to 1\n",
    "    weights = np.array(weights) / sum(weights)\n",
    "    \n",
    "    # Create weighted prediction\n",
    "    ensemble_prediction = np.zeros_like(predictions_list[0])\n",
    "    for pred, weight in zip(predictions_list, weights):\n",
    "        ensemble_prediction += weight * pred\n",
    "    \n",
    "    return ensemble_prediction\n"
   ]
  },
  {
   "cell_type": "code",
   "execution_count": 23,
   "id": "f3fa4ea7-4c25-437d-9fd2-a7f400b7b2e0",
   "metadata": {},
   "outputs": [],
   "source": [
    "def main():\n",
    "    # 1. Load data\n",
    "    train, test = load_data(\"train_v9rqX0R.csv\", \"test_AbJTz2l.csv\")\n",
    "    \n",
    "    # Save a copy of original test for submission\n",
    "    original_test = test.copy()\n",
    "    \n",
    "    # 2. Preprocess data\n",
    "    print(\"Preprocessing data...\")\n",
    "    train_processed, test_processed = preprocess_data(train, test)\n",
    "    \n",
    "    # 3. Prepare training data\n",
    "    X_train = train_processed.drop('Item_Outlet_Sales', axis=1)\n",
    "    y_train = train_processed['Item_Outlet_Sales']\n",
    "    X_test = test_processed\n",
    "    \n",
    "    # 4. Scale features\n",
    "    scaler = StandardScaler()\n",
    "    X_train_scaled = scaler.fit_transform(X_train)\n",
    "    X_test_scaled = scaler.transform(X_test)\n",
    "    \n",
    "    # 5. Train models\n",
    "    print(\"Training XGBoost model...\")\n",
    "    xgb_model, xgb_preds = train_xgboost_model(X_train_scaled, y_train, X_test_scaled)\n",
    "    \n",
    "    print(\"Training Gradient Boosting model...\")\n",
    "    gb_model, gb_preds = train_gradient_boosting_model(X_train_scaled, y_train, X_test_scaled)\n",
    "    \n",
    "    print(\"Training Random Forest model...\")\n",
    "    rf_model, rf_preds = train_random_forest_model(X_train_scaled, y_train, X_test_scaled)\n",
    "    \n",
    "    # 6. Evaluate models with cross-validation\n",
    "    print(\"\\nModel Evaluation:\")\n",
    "    xgb_rmse = evaluate_model(xgb_model, X_train_scaled, y_train)\n",
    "    gb_rmse = evaluate_model(gb_model, X_train_scaled, y_train)\n",
    "    rf_rmse = evaluate_model(rf_model, X_train_scaled, y_train)\n",
    "    \n",
    "    # 7. Create ensemble prediction\n",
    "    # Calculate weights based on inverse of RMSE\n",
    "    inverse_rmse = [1/xgb_rmse, 1/gb_rmse, 1/rf_rmse]\n",
    "    weights = [w/sum(inverse_rmse) for w in inverse_rmse]\n",
    "    \n",
    "    print(f\"\\nUsing ensemble weights: XGBoost={weights[0]:.2f}, GBM={weights[1]:.2f}, RF={weights[2]:.2f}\")\n",
    "    \n",
    "    ensemble_preds = create_ensemble_prediction(\n",
    "        [xgb_preds, gb_preds, rf_preds],\n",
    "        weights=weights\n",
    "    )\n",
    "    \n",
    "    # 8. Create submission file\n",
    "    submission = pd.DataFrame({\n",
    "        'Item_Identifier': original_test['Item_Identifier'],\n",
    "        'Outlet_Identifier': original_test['Outlet_Identifier'],\n",
    "        'Item_Outlet_Sales': ensemble_preds\n",
    "    })\n",
    "    \n",
    "    # 9. Save submission\n",
    "    submission.to_csv('ensemble_submission.csv', index=False)\n",
    "    print(\"\\nSubmission file saved as 'ensemble_submission.csv'\")\n",
    "    \n",
    "    # 10. Feature importance analysis\n",
    "    plt.figure(figsize=(12, 10))\n",
    "    feature_importance = pd.DataFrame({\n",
    "        'Feature': X_train.columns,\n",
    "        'Importance': xgb_model.feature_importances_\n",
    "    }).sort_values('Importance', ascending=False).head(20)\n",
    "    \n",
    "    sns.barplot(x='Importance', y='Feature', data=feature_importance)\n",
    "    plt.title('Top 20 Features by Importance (XGBoost)')\n",
    "    plt.tight_layout()\n",
    "    plt.savefig('feature_importance.png')\n",
    "    plt.close()\n",
    "    \n",
    "    print(\"Feature importance plot saved as 'feature_importance.png'\")\n",
    "    \n",
    "    return {\n",
    "        'xgb_model': xgb_model,\n",
    "        'gb_model': gb_model,\n",
    "        'rf_model': rf_model,\n",
    "        'ensemble_preds': ensemble_preds,\n",
    "        'submission': submission\n",
    "    }\n"
   ]
  },
  {
   "cell_type": "code",
   "execution_count": 24,
   "id": "d6876b9f-f3e2-461f-92b7-d6c263ddc373",
   "metadata": {},
   "outputs": [
    {
     "name": "stdout",
     "output_type": "stream",
     "text": [
      "Training data shape: (8523, 12)\n",
      "Test data shape: (5681, 11)\n",
      "Preprocessing data...\n"
     ]
    },
    {
     "ename": "ValueError",
     "evalue": "Incompatible indexer with Series",
     "output_type": "error",
     "traceback": [
      "\u001b[1;31m---------------------------------------------------------------------------\u001b[0m",
      "\u001b[1;31mValueError\u001b[0m                                Traceback (most recent call last)",
      "Input \u001b[1;32mIn [24]\u001b[0m, in \u001b[0;36m<cell line: 1>\u001b[1;34m()\u001b[0m\n\u001b[0;32m      1\u001b[0m \u001b[38;5;28;01mif\u001b[39;00m \u001b[38;5;18m__name__\u001b[39m \u001b[38;5;241m==\u001b[39m \u001b[38;5;124m\"\u001b[39m\u001b[38;5;124m__main__\u001b[39m\u001b[38;5;124m\"\u001b[39m:\n\u001b[1;32m----> 2\u001b[0m     \u001b[43mmain\u001b[49m\u001b[43m(\u001b[49m\u001b[43m)\u001b[49m\n",
      "Input \u001b[1;32mIn [23]\u001b[0m, in \u001b[0;36mmain\u001b[1;34m()\u001b[0m\n\u001b[0;32m      8\u001b[0m \u001b[38;5;66;03m# 2. Preprocess data\u001b[39;00m\n\u001b[0;32m      9\u001b[0m \u001b[38;5;28mprint\u001b[39m(\u001b[38;5;124m\"\u001b[39m\u001b[38;5;124mPreprocessing data...\u001b[39m\u001b[38;5;124m\"\u001b[39m)\n\u001b[1;32m---> 10\u001b[0m train_processed, test_processed \u001b[38;5;241m=\u001b[39m \u001b[43mpreprocess_data\u001b[49m\u001b[43m(\u001b[49m\u001b[43mtrain\u001b[49m\u001b[43m,\u001b[49m\u001b[43m \u001b[49m\u001b[43mtest\u001b[49m\u001b[43m)\u001b[49m\n\u001b[0;32m     12\u001b[0m \u001b[38;5;66;03m# 3. Prepare training data\u001b[39;00m\n\u001b[0;32m     13\u001b[0m X_train \u001b[38;5;241m=\u001b[39m train_processed\u001b[38;5;241m.\u001b[39mdrop(\u001b[38;5;124m'\u001b[39m\u001b[38;5;124mItem_Outlet_Sales\u001b[39m\u001b[38;5;124m'\u001b[39m, axis\u001b[38;5;241m=\u001b[39m\u001b[38;5;241m1\u001b[39m)\n",
      "Input \u001b[1;32mIn [18]\u001b[0m, in \u001b[0;36mpreprocess_data\u001b[1;34m(train, test)\u001b[0m\n\u001b[0;32m     18\u001b[0m item \u001b[38;5;241m=\u001b[39m combined\u001b[38;5;241m.\u001b[39mloc[idx, \u001b[38;5;124m'\u001b[39m\u001b[38;5;124mItem_Identifier\u001b[39m\u001b[38;5;124m'\u001b[39m]\n\u001b[0;32m     19\u001b[0m \u001b[38;5;28;01mif\u001b[39;00m item \u001b[38;5;129;01min\u001b[39;00m item_avg_weight\u001b[38;5;241m.\u001b[39mindex:\n\u001b[1;32m---> 20\u001b[0m     combined\u001b[38;5;241m.\u001b[39mloc[idx, \u001b[38;5;124m'\u001b[39m\u001b[38;5;124mItem_Weight\u001b[39m\u001b[38;5;124m'\u001b[39m] \u001b[38;5;241m=\u001b[39m item_avg_weight\u001b[38;5;241m.\u001b[39mloc[item]\n\u001b[0;32m     21\u001b[0m \u001b[38;5;28;01melse\u001b[39;00m:\n\u001b[0;32m     22\u001b[0m     \u001b[38;5;66;03m# If still no match, use average weight for the item type\u001b[39;00m\n\u001b[0;32m     23\u001b[0m     item_type \u001b[38;5;241m=\u001b[39m combined\u001b[38;5;241m.\u001b[39mloc[idx, \u001b[38;5;124m'\u001b[39m\u001b[38;5;124mItem_Type\u001b[39m\u001b[38;5;124m'\u001b[39m]\n",
      "File \u001b[1;32m~\\anaconda3\\envs\\tensor\\lib\\site-packages\\pandas\\core\\indexing.py:716\u001b[0m, in \u001b[0;36m_LocationIndexer.__setitem__\u001b[1;34m(self, key, value)\u001b[0m\n\u001b[0;32m    713\u001b[0m \u001b[38;5;28mself\u001b[39m\u001b[38;5;241m.\u001b[39m_has_valid_setitem_indexer(key)\n\u001b[0;32m    715\u001b[0m iloc \u001b[38;5;241m=\u001b[39m \u001b[38;5;28mself\u001b[39m \u001b[38;5;28;01mif\u001b[39;00m \u001b[38;5;28mself\u001b[39m\u001b[38;5;241m.\u001b[39mname \u001b[38;5;241m==\u001b[39m \u001b[38;5;124m\"\u001b[39m\u001b[38;5;124miloc\u001b[39m\u001b[38;5;124m\"\u001b[39m \u001b[38;5;28;01melse\u001b[39;00m \u001b[38;5;28mself\u001b[39m\u001b[38;5;241m.\u001b[39mobj\u001b[38;5;241m.\u001b[39miloc\n\u001b[1;32m--> 716\u001b[0m \u001b[43miloc\u001b[49m\u001b[38;5;241;43m.\u001b[39;49m\u001b[43m_setitem_with_indexer\u001b[49m\u001b[43m(\u001b[49m\u001b[43mindexer\u001b[49m\u001b[43m,\u001b[49m\u001b[43m \u001b[49m\u001b[43mvalue\u001b[49m\u001b[43m,\u001b[49m\u001b[43m \u001b[49m\u001b[38;5;28;43mself\u001b[39;49m\u001b[38;5;241;43m.\u001b[39;49m\u001b[43mname\u001b[49m\u001b[43m)\u001b[49m\n",
      "File \u001b[1;32m~\\anaconda3\\envs\\tensor\\lib\\site-packages\\pandas\\core\\indexing.py:1688\u001b[0m, in \u001b[0;36m_iLocIndexer._setitem_with_indexer\u001b[1;34m(self, indexer, value, name)\u001b[0m\n\u001b[0;32m   1685\u001b[0m \u001b[38;5;66;03m# align and set the values\u001b[39;00m\n\u001b[0;32m   1686\u001b[0m \u001b[38;5;28;01mif\u001b[39;00m take_split_path:\n\u001b[0;32m   1687\u001b[0m     \u001b[38;5;66;03m# We have to operate column-wise\u001b[39;00m\n\u001b[1;32m-> 1688\u001b[0m     \u001b[38;5;28;43mself\u001b[39;49m\u001b[38;5;241;43m.\u001b[39;49m\u001b[43m_setitem_with_indexer_split_path\u001b[49m\u001b[43m(\u001b[49m\u001b[43mindexer\u001b[49m\u001b[43m,\u001b[49m\u001b[43m \u001b[49m\u001b[43mvalue\u001b[49m\u001b[43m,\u001b[49m\u001b[43m \u001b[49m\u001b[43mname\u001b[49m\u001b[43m)\u001b[49m\n\u001b[0;32m   1689\u001b[0m \u001b[38;5;28;01melse\u001b[39;00m:\n\u001b[0;32m   1690\u001b[0m     \u001b[38;5;28mself\u001b[39m\u001b[38;5;241m.\u001b[39m_setitem_single_block(indexer, value, name)\n",
      "File \u001b[1;32m~\\anaconda3\\envs\\tensor\\lib\\site-packages\\pandas\\core\\indexing.py:1709\u001b[0m, in \u001b[0;36m_iLocIndexer._setitem_with_indexer_split_path\u001b[1;34m(self, indexer, value, name)\u001b[0m\n\u001b[0;32m   1706\u001b[0m \u001b[38;5;28;01mif\u001b[39;00m (\u001b[38;5;28misinstance\u001b[39m(value, ABCSeries) \u001b[38;5;129;01mand\u001b[39;00m name \u001b[38;5;241m!=\u001b[39m \u001b[38;5;124m\"\u001b[39m\u001b[38;5;124miloc\u001b[39m\u001b[38;5;124m\"\u001b[39m) \u001b[38;5;129;01mor\u001b[39;00m \u001b[38;5;28misinstance\u001b[39m(value, \u001b[38;5;28mdict\u001b[39m):\n\u001b[0;32m   1707\u001b[0m     \u001b[38;5;28;01mfrom\u001b[39;00m \u001b[38;5;21;01mpandas\u001b[39;00m \u001b[38;5;28;01mimport\u001b[39;00m Series\n\u001b[1;32m-> 1709\u001b[0m     value \u001b[38;5;241m=\u001b[39m \u001b[38;5;28;43mself\u001b[39;49m\u001b[38;5;241;43m.\u001b[39;49m\u001b[43m_align_series\u001b[49m\u001b[43m(\u001b[49m\u001b[43mindexer\u001b[49m\u001b[43m,\u001b[49m\u001b[43m \u001b[49m\u001b[43mSeries\u001b[49m\u001b[43m(\u001b[49m\u001b[43mvalue\u001b[49m\u001b[43m)\u001b[49m\u001b[43m)\u001b[49m\n\u001b[0;32m   1711\u001b[0m \u001b[38;5;66;03m# Ensure we have something we can iterate over\u001b[39;00m\n\u001b[0;32m   1712\u001b[0m info_axis \u001b[38;5;241m=\u001b[39m indexer[\u001b[38;5;241m1\u001b[39m]\n",
      "File \u001b[1;32m~\\anaconda3\\envs\\tensor\\lib\\site-packages\\pandas\\core\\indexing.py:2148\u001b[0m, in \u001b[0;36m_iLocIndexer._align_series\u001b[1;34m(self, indexer, ser, multiindex_indexer)\u001b[0m\n\u001b[0;32m   2144\u001b[0m         \u001b[38;5;28;01mreturn\u001b[39;00m ser\u001b[38;5;241m.\u001b[39m_values\u001b[38;5;241m.\u001b[39mcopy()\n\u001b[0;32m   2146\u001b[0m     \u001b[38;5;28;01mreturn\u001b[39;00m ser\u001b[38;5;241m.\u001b[39mreindex(ax)\u001b[38;5;241m.\u001b[39m_values\n\u001b[1;32m-> 2148\u001b[0m \u001b[38;5;28;01mraise\u001b[39;00m \u001b[38;5;167;01mValueError\u001b[39;00m(\u001b[38;5;124m\"\u001b[39m\u001b[38;5;124mIncompatible indexer with Series\u001b[39m\u001b[38;5;124m\"\u001b[39m)\n",
      "\u001b[1;31mValueError\u001b[0m: Incompatible indexer with Series"
     ]
    }
   ],
   "source": [
    "if __name__ == \"__main__\":\n",
    "    main()"
   ]
  },
  {
   "cell_type": "code",
   "execution_count": 8,
   "id": "3f9b3b99-28cc-4f79-a620-4d9e58d3b433",
   "metadata": {},
   "outputs": [
    {
     "data": {
      "image/png": "[encoded data removed]",
      "text/plain": [
       "<Figure size 432x288 with 1 Axes>"
      ]
     },
     "metadata": {
      "needs_background": "light"
     },
     "output_type": "display_data"
    }
   ],
   "source": [
    "train['Item_Type'].value_counts(normalize = True)\n",
    "train['Item_Type'].value_counts().plot.bar()\n",
    "plt.title('Different types of item available in the store')\n",
    "plt.xlabel('Item')\n",
    "plt.ylabel('Number of Items')\n",
    "plt.show()"
   ]
  },
  {
   "cell_type": "code",
   "execution_count": 9,
   "id": "14a8a2a8-a428-4db7-b7e9-0d21d26478cd",
   "metadata": {},
   "outputs": [
    {
     "data": {
      "text/plain": [
       "OUT027    935\n",
       "OUT013    932\n",
       "OUT049    930\n",
       "OUT046    930\n",
       "OUT035    930\n",
       "OUT045    929\n",
       "OUT018    928\n",
       "OUT017    926\n",
       "OUT010    555\n",
       "OUT019    528\n",
       "Name: Outlet_Identifier, dtype: int64"
      ]
     },
     "execution_count": 9,
     "metadata": {},
     "output_type": "execute_result"
    }
   ],
   "source": [
    "train['Outlet_Identifier'].value_counts()\n"
   ]
  },
  {
   "cell_type": "code",
   "execution_count": 10,
   "id": "00c6e1a5-4560-46eb-bc2c-270f9e296237",
   "metadata": {},
   "outputs": [
    {
     "data": {
      "image/png": "[encoded data removed]",
      "text/plain": [
       "<Figure size 432x288 with 1 Axes>"
      ]
     },
     "metadata": {
      "needs_background": "light"
     },
     "output_type": "display_data"
    }
   ],
   "source": [
    "train['Outlet_Identifier'].value_counts(normalize = True)\n",
    "train['Outlet_Identifier'].value_counts().plot.bar()\n",
    "plt.title('Different types of outlet identifier in the store')\n",
    "plt.xlabel('Item')\n",
    "plt.ylabel('Number of Items')\n",
    "plt.show()"
   ]
  },
  {
   "cell_type": "code",
   "execution_count": 11,
   "id": "ecc4e685-1351-4a50-8440-19e0fdf36272",
   "metadata": {},
   "outputs": [
    {
     "data": {
      "text/plain": [
       "Medium    2793\n",
       "Small     2388\n",
       "High       932\n",
       "Name: Outlet_Size, dtype: int64"
      ]
     },
     "execution_count": 11,
     "metadata": {},
     "output_type": "execute_result"
    }
   ],
   "source": [
    "train['Outlet_Size'].value_counts()\n"
   ]
  },
  {
   "cell_type": "code",
   "execution_count": 12,
   "id": "13a559a6-c1a6-4ec6-920d-f3ea9d1c78cd",
   "metadata": {},
   "outputs": [
    {
     "data": {
      "image/png": "[encoded data removed]",
      "text/plain": [
       "<Figure size 432x288 with 1 Axes>"
      ]
     },
     "metadata": {
      "needs_background": "light"
     },
     "output_type": "display_data"
    }
   ],
   "source": [
    "train['Outlet_Size'].value_counts(normalize = True)\n",
    "train['Outlet_Size'].value_counts().plot.bar()\n",
    "plt.title('Different types of outlet sizes in the store')\n",
    "plt.xlabel('Item')\n",
    "plt.ylabel('Number of Items')\n",
    "plt.show()"
   ]
  },
  {
   "cell_type": "code",
   "execution_count": 13,
   "id": "c77bea9b-07c8-4486-b78d-240aeac23bbe",
   "metadata": {},
   "outputs": [
    {
     "data": {
      "image/png": "[encoded data removed]",
      "text/plain": [
       "<Figure size 432x288 with 1 Axes>"
      ]
     },
     "metadata": {
      "needs_background": "light"
     },
     "output_type": "display_data"
    }
   ],
   "source": [
    "train['Outlet_Location_Type'].value_counts(normalize = True)\n",
    "train['Outlet_Location_Type'].value_counts().plot.bar()\n",
    "plt.title('Different types of outlet location types in the store')\n",
    "plt.xlabel('Item')\n",
    "plt.ylabel('Number of Items')\n",
    "plt.show()"
   ]
  },
  {
   "cell_type": "code",
   "execution_count": 14,
   "id": "e37405cd-55a4-4964-8573-4be96ae95cd3",
   "metadata": {},
   "outputs": [
    {
     "data": {
      "image/png": "[encoded data removed]",
      "text/plain": [
       "<Figure size 432x288 with 1 Axes>"
      ]
     },
     "metadata": {
      "needs_background": "light"
     },
     "output_type": "display_data"
    }
   ],
   "source": [
    "train['Outlet_Type'].value_counts(normalize = True)\n",
    "train['Outlet_Type'].value_counts().plot.bar()\n",
    "plt.title('Different types of outlet types in the store')\n",
    "plt.xlabel('Item')\n",
    "plt.ylabel('Number of Items')\n",
    "plt.show()"
   ]
  },
  {
   "cell_type": "code",
   "execution_count": 15,
   "id": "381223df-bc29-4836-87e3-db0a8a9c27fd",
   "metadata": {},
   "outputs": [
    {
     "data": {
      "text/plain": [
       "<AxesSubplot:xlabel='Item_Fat_Content'>"
      ]
     },
     "execution_count": 15,
     "metadata": {},
     "output_type": "execute_result"
    },
    {
     "data": {
      "image/png": "[encoded data removed]",
      "text/plain": [
       "<Figure size 792x792 with 1 Axes>"
      ]
     },
     "metadata": {
      "needs_background": "light"
     },
     "output_type": "display_data"
    }
   ],
   "source": [
    "Item_Fat_Content = pd.crosstab(train['Item_Fat_Content'],train['Outlet_Identifier'])\n",
    "Item_Fat_Content.div(Item_Fat_Content.sum(1).astype(float), axis=0).plot(kind=\"bar\", stacked=True, figsize=(11, 11))"
   ]
  },
  {
   "cell_type": "code",
   "execution_count": 16,
   "id": "57470565-7ca5-4a9d-b9ee-7485a2e7f52e",
   "metadata": {},
   "outputs": [
    {
     "data": {
      "text/plain": [
       "<AxesSubplot:xlabel='Item_Type'>"
      ]
     },
     "execution_count": 16,
     "metadata": {},
     "output_type": "execute_result"
    },
    {
     "data": {
      "image/png": "[encoded data removed]",
      "text/plain": [
       "<Figure size 936x936 with 1 Axes>"
      ]
     },
     "metadata": {
      "needs_background": "light"
     },
     "output_type": "display_data"
    }
   ],
   "source": [
    "Item_Type = pd.crosstab(train['Item_Type'], train['Item_Fat_Content'])\n",
    "Item_Type.div(Item_Type.sum(1).astype(float), axis=0).plot(kind=\"bar\", stacked=True, figsize=(13, 13))\n"
   ]
  },
  {
   "cell_type": "code",
   "execution_count": 17,
   "id": "c6c1c65b-a9c7-423b-b92f-12a7530cebdf",
   "metadata": {},
   "outputs": [
    {
     "name": "stdout",
     "output_type": "stream",
     "text": [
      "(14204, 12)\n"
     ]
    }
   ],
   "source": [
    "\n",
    "data = pd.concat([train, test])\n",
    "\n",
    "print(data.shape)"
   ]
  },
  {
   "cell_type": "code",
   "execution_count": 18,
   "id": "68f099dc-117e-475d-8b6e-f557c5b08781",
   "metadata": {},
   "outputs": [
    {
     "data": {
      "text/plain": [
       "Item_Identifier               1559\n",
       "Item_Weight                    416\n",
       "Item_Fat_Content                 5\n",
       "Item_Visibility              13006\n",
       "Item_Type                       16\n",
       "Item_MRP                      8052\n",
       "Outlet_Identifier               10\n",
       "Outlet_Establishment_Year        9\n",
       "Outlet_Size                      4\n",
       "Outlet_Location_Type             3\n",
       "Outlet_Type                      4\n",
       "Item_Outlet_Sales             3494\n",
       "dtype: int64"
      ]
     },
     "execution_count": 18,
     "metadata": {},
     "output_type": "execute_result"
    }
   ],
   "source": [
    "data.apply(lambda x: len(x.unique()))"
   ]
  },
  {
   "cell_type": "code",
   "execution_count": 19,
   "id": "6e44d865-e969-4a28-89fd-df69d129cfb1",
   "metadata": {},
   "outputs": [
    {
     "data": {
      "text/plain": [
       "Item_Identifier                 0\n",
       "Item_Weight                  2439\n",
       "Item_Fat_Content                0\n",
       "Item_Visibility                 0\n",
       "Item_Type                       0\n",
       "Item_MRP                        0\n",
       "Outlet_Identifier               0\n",
       "Outlet_Establishment_Year       0\n",
       "Outlet_Size                  4016\n",
       "Outlet_Location_Type            0\n",
       "Outlet_Type                     0\n",
       "Item_Outlet_Sales            5681\n",
       "dtype: int64"
      ]
     },
     "execution_count": 19,
     "metadata": {},
     "output_type": "execute_result"
    }
   ],
   "source": [
    "data.isnull().sum()"
   ]
  },
  {
   "cell_type": "code",
   "execution_count": 20,
   "id": "b46763a2-9f59-40e8-9dc1-284788919e76",
   "metadata": {},
   "outputs": [
    {
     "data": {
      "text/plain": [
       "Item_Identifier              0\n",
       "Item_Weight                  0\n",
       "Item_Fat_Content             0\n",
       "Item_Visibility              0\n",
       "Item_Type                    0\n",
       "Item_MRP                     0\n",
       "Outlet_Identifier            0\n",
       "Outlet_Establishment_Year    0\n",
       "Outlet_Size                  0\n",
       "Outlet_Location_Type         0\n",
       "Outlet_Type                  0\n",
       "Item_Outlet_Sales            0\n",
       "dtype: int64"
      ]
     },
     "execution_count": 20,
     "metadata": {},
     "output_type": "execute_result"
    }
   ],
   "source": [
    "data['Item_Weight'] = data['Item_Weight'].replace(0, np.NaN)\n",
    "data['Item_Weight'].fillna(data['Item_Weight'].mean(), inplace = True)\n",
    "\n",
    "data['Outlet_Size'].fillna(data['Outlet_Size'].mode()[0], inplace = True)\n",
    "\n",
    "data['Item_Outlet_Sales'] = data['Item_Outlet_Sales'].replace(0, np.NaN)\n",
    "data['Item_Outlet_Sales'].fillna(data['Item_Outlet_Sales'].mode()[0], inplace = True)\n",
    "\n",
    "data.isnull().sum()"
   ]
  },
  {
   "cell_type": "code",
   "execution_count": 21,
   "id": "f599d93a-57bd-4da6-883b-4647cb713e9a",
   "metadata": {},
   "outputs": [
    {
     "data": {
      "text/plain": [
       "Low Fat    9185\n",
       "Regular    5019\n",
       "Name: Item_Fat_Content, dtype: int64"
      ]
     },
     "execution_count": 21,
     "metadata": {},
     "output_type": "execute_result"
    }
   ],
   "source": [
    "data['Item_Fat_Content'] = data['Item_Fat_Content'].replace({'LF': 'Low Fat', 'reg': 'Regular', 'low fat': 'Low Fat'})\n",
    "data['Item_Fat_Content'].value_counts()"
   ]
  },
  {
   "cell_type": "code",
   "execution_count": 22,
   "id": "1d3c770c-531b-4726-8760-aa5412ab4f98",
   "metadata": {},
   "outputs": [
    {
     "data": {
      "text/plain": [
       "Food              10201\n",
       "Non_Consumable     2686\n",
       "Drinks             1317\n",
       "Name: Item_Identifier, dtype: int64"
      ]
     },
     "execution_count": 22,
     "metadata": {},
     "output_type": "execute_result"
    }
   ],
   "source": [
    "data['Item_Identifier'] = data['Item_Identifier'].apply(lambda x: x[0:2])\n",
    "\n",
    "data['Item_Identifier'] = data['Item_Identifier'].map({'FD':'Food', 'NC':'Non_Consumable', 'DR':'Drinks'})\n",
    "\n",
    "data['Item_Identifier'].value_counts()"
   ]
  },
  {
   "cell_type": "code",
   "execution_count": 23,
   "id": "fc63f1ee-5dea-4337-bfd5-3dfc7c808863",
   "metadata": {},
   "outputs": [
    {
     "data": {
      "text/plain": [
       "28    2439\n",
       "26    1553\n",
       "14    1550\n",
       "16    1550\n",
       "9     1550\n",
       "11    1548\n",
       "4     1546\n",
       "6     1543\n",
       "15     925\n",
       "Name: Outlet_Years, dtype: int64"
      ]
     },
     "execution_count": 23,
     "metadata": {},
     "output_type": "execute_result"
    }
   ],
   "source": [
    "data['Outlet_Years'] = 2013 - data['Outlet_Establishment_Year']\n",
    "data['Outlet_Years'].value_counts()"
   ]
  },
  {
   "cell_type": "code",
   "execution_count": 24,
   "id": "76d489eb-a948-4298-8498-8707da82fe95",
   "metadata": {},
   "outputs": [],
   "source": [
    "data = data.drop('Item_Identifier', axis = 1)\n",
    "\n",
    "print(data.shape)"
   ]
  },
  {
   "cell_type": "code",
   "execution_count": 25,
   "id": "54e5c3d5-a7b0-4577-a861-0217d25efdc1",
   "metadata": {},
   "outputs": [
    {
     "data": {
      "text/plain": [
       "Supermarket Type1    9294\n",
       "Grocery Store        1805\n",
       "Supermarket Type3    1559\n",
       "Supermarket Type2    1546\n",
       "Name: Outlet_Type, dtype: int64"
      ]
     },
     "execution_count": 25,
     "metadata": {},
     "output_type": "execute_result"
    }
   ],
   "source": [
    "data['Outlet_Type'].value_counts()"
   ]
  },
  {
   "cell_type": "code",
   "execution_count": 26,
   "id": "d316897f-6a8c-466f-84cf-80cc59c2a181",
   "metadata": {},
   "outputs": [],
   "source": [
    "#!pip install scikit-learn"
   ]
  },
  {
   "cell_type": "code",
   "execution_count": 27,
   "id": "690092d4-4975-4c37-97a7-d4b500383a5c",
   "metadata": {},
   "outputs": [
    {
     "data": {
      "text/html": [
       "<div>\n",
       "<style scoped>\n",
       "    .dataframe tbody tr th:only-of-type {\n",
       "        vertical-align: middle;\n",
       "    }\n",
       "\n",
       "    .dataframe tbody tr th {\n",
       "        vertical-align: top;\n",
       "    }\n",
       "\n",
       "    .dataframe thead th {\n",
       "        text-align: right;\n",
       "    }\n",
       "</style>\n",
       "<table border=\"1\" class=\"dataframe\">\n",
       "  <thead>\n",
       "    <tr style=\"text-align: right;\">\n",
       "      <th></th>\n",
       "      <th>Item_Identifier</th>\n",
       "      <th>Item_Weight</th>\n",
       "      <th>Item_Fat_Content</th>\n",
       "      <th>Item_Visibility</th>\n",
       "      <th>Item_Type</th>\n",
       "      <th>Item_MRP</th>\n",
       "      <th>Outlet_Identifier</th>\n",
       "      <th>Outlet_Establishment_Year</th>\n",
       "      <th>Outlet_Size</th>\n",
       "      <th>Outlet_Location_Type</th>\n",
       "      <th>Outlet_Type</th>\n",
       "      <th>Item_Outlet_Sales</th>\n",
       "      <th>Outlet_Years</th>\n",
       "    </tr>\n",
       "  </thead>\n",
       "  <tbody>\n",
       "    <tr>\n",
       "      <th>0</th>\n",
       "      <td>1</td>\n",
       "      <td>284</td>\n",
       "      <td>0</td>\n",
       "      <td>1097</td>\n",
       "      <td>4</td>\n",
       "      <td>7567</td>\n",
       "      <td>9</td>\n",
       "      <td>4</td>\n",
       "      <td>1</td>\n",
       "      <td>0</td>\n",
       "      <td>1</td>\n",
       "      <td>2540</td>\n",
       "      <td>4</td>\n",
       "    </tr>\n",
       "    <tr>\n",
       "      <th>1</th>\n",
       "      <td>0</td>\n",
       "      <td>57</td>\n",
       "      <td>1</td>\n",
       "      <td>1436</td>\n",
       "      <td>14</td>\n",
       "      <td>632</td>\n",
       "      <td>3</td>\n",
       "      <td>8</td>\n",
       "      <td>1</td>\n",
       "      <td>2</td>\n",
       "      <td>2</td>\n",
       "      <td>422</td>\n",
       "      <td>0</td>\n",
       "    </tr>\n",
       "    <tr>\n",
       "      <th>2</th>\n",
       "      <td>1</td>\n",
       "      <td>376</td>\n",
       "      <td>0</td>\n",
       "      <td>1172</td>\n",
       "      <td>10</td>\n",
       "      <td>3897</td>\n",
       "      <td>9</td>\n",
       "      <td>4</td>\n",
       "      <td>1</td>\n",
       "      <td>0</td>\n",
       "      <td>1</td>\n",
       "      <td>1639</td>\n",
       "      <td>4</td>\n",
       "    </tr>\n",
       "    <tr>\n",
       "      <th>3</th>\n",
       "      <td>1</td>\n",
       "      <td>393</td>\n",
       "      <td>1</td>\n",
       "      <td>0</td>\n",
       "      <td>6</td>\n",
       "      <td>5626</td>\n",
       "      <td>0</td>\n",
       "      <td>3</td>\n",
       "      <td>1</td>\n",
       "      <td>2</td>\n",
       "      <td>0</td>\n",
       "      <td>670</td>\n",
       "      <td>5</td>\n",
       "    </tr>\n",
       "    <tr>\n",
       "      <th>4</th>\n",
       "      <td>2</td>\n",
       "      <td>265</td>\n",
       "      <td>0</td>\n",
       "      <td>0</td>\n",
       "      <td>9</td>\n",
       "      <td>848</td>\n",
       "      <td>1</td>\n",
       "      <td>1</td>\n",
       "      <td>0</td>\n",
       "      <td>2</td>\n",
       "      <td>1</td>\n",
       "      <td>865</td>\n",
       "      <td>7</td>\n",
       "    </tr>\n",
       "    <tr>\n",
       "      <th>...</th>\n",
       "      <td>...</td>\n",
       "      <td>...</td>\n",
       "      <td>...</td>\n",
       "      <td>...</td>\n",
       "      <td>...</td>\n",
       "      <td>...</td>\n",
       "      <td>...</td>\n",
       "      <td>...</td>\n",
       "      <td>...</td>\n",
       "      <td>...</td>\n",
       "      <td>...</td>\n",
       "      <td>...</td>\n",
       "      <td>...</td>\n",
       "    </tr>\n",
       "    <tr>\n",
       "      <th>5676</th>\n",
       "      <td>1</td>\n",
       "      <td>298</td>\n",
       "      <td>1</td>\n",
       "      <td>718</td>\n",
       "      <td>13</td>\n",
       "      <td>3881</td>\n",
       "      <td>8</td>\n",
       "      <td>2</td>\n",
       "      <td>2</td>\n",
       "      <td>0</td>\n",
       "      <td>1</td>\n",
       "      <td>835</td>\n",
       "      <td>6</td>\n",
       "    </tr>\n",
       "    <tr>\n",
       "      <th>5677</th>\n",
       "      <td>1</td>\n",
       "      <td>180</td>\n",
       "      <td>1</td>\n",
       "      <td>11820</td>\n",
       "      <td>15</td>\n",
       "      <td>5069</td>\n",
       "      <td>3</td>\n",
       "      <td>8</td>\n",
       "      <td>1</td>\n",
       "      <td>2</td>\n",
       "      <td>2</td>\n",
       "      <td>835</td>\n",
       "      <td>0</td>\n",
       "    </tr>\n",
       "    <tr>\n",
       "      <th>5678</th>\n",
       "      <td>2</td>\n",
       "      <td>293</td>\n",
       "      <td>0</td>\n",
       "      <td>8009</td>\n",
       "      <td>8</td>\n",
       "      <td>3196</td>\n",
       "      <td>7</td>\n",
       "      <td>5</td>\n",
       "      <td>1</td>\n",
       "      <td>1</td>\n",
       "      <td>1</td>\n",
       "      <td>835</td>\n",
       "      <td>3</td>\n",
       "    </tr>\n",
       "    <tr>\n",
       "      <th>5679</th>\n",
       "      <td>1</td>\n",
       "      <td>354</td>\n",
       "      <td>1</td>\n",
       "      <td>0</td>\n",
       "      <td>3</td>\n",
       "      <td>6626</td>\n",
       "      <td>2</td>\n",
       "      <td>7</td>\n",
       "      <td>1</td>\n",
       "      <td>1</td>\n",
       "      <td>1</td>\n",
       "      <td>835</td>\n",
       "      <td>1</td>\n",
       "    </tr>\n",
       "    <tr>\n",
       "      <th>5680</th>\n",
       "      <td>1</td>\n",
       "      <td>288</td>\n",
       "      <td>1</td>\n",
       "      <td>10187</td>\n",
       "      <td>3</td>\n",
       "      <td>1523</td>\n",
       "      <td>7</td>\n",
       "      <td>5</td>\n",
       "      <td>1</td>\n",
       "      <td>1</td>\n",
       "      <td>1</td>\n",
       "      <td>835</td>\n",
       "      <td>3</td>\n",
       "    </tr>\n",
       "  </tbody>\n",
       "</table>\n",
       "<p>14204 rows × 13 columns</p>\n",
       "</div>"
      ],
      "text/plain": [
       "      Item_Identifier  Item_Weight  Item_Fat_Content  Item_Visibility  \\\n",
       "0                   1          284                 0             1097   \n",
       "1                   0           57                 1             1436   \n",
       "2                   1          376                 0             1172   \n",
       "3                   1          393                 1                0   \n",
       "4                   2          265                 0                0   \n",
       "...               ...          ...               ...              ...   \n",
       "5676                1          298                 1              718   \n",
       "5677                1          180                 1            11820   \n",
       "5678                2          293                 0             8009   \n",
       "5679                1          354                 1                0   \n",
       "5680                1          288                 1            10187   \n",
       "\n",
       "      Item_Type  Item_MRP  Outlet_Identifier  Outlet_Establishment_Year  \\\n",
       "0             4      7567                  9                          4   \n",
       "1            14       632                  3                          8   \n",
       "2            10      3897                  9                          4   \n",
       "3             6      5626                  0                          3   \n",
       "4             9       848                  1                          1   \n",
       "...         ...       ...                ...                        ...   \n",
       "5676         13      3881                  8                          2   \n",
       "5677         15      5069                  3                          8   \n",
       "5678          8      3196                  7                          5   \n",
       "5679          3      6626                  2                          7   \n",
       "5680          3      1523                  7                          5   \n",
       "\n",
       "      Outlet_Size  Outlet_Location_Type  Outlet_Type  Item_Outlet_Sales  \\\n",
       "0               1                     0            1               2540   \n",
       "1               1                     2            2                422   \n",
       "2               1                     0            1               1639   \n",
       "3               1                     2            0                670   \n",
       "4               0                     2            1                865   \n",
       "...           ...                   ...          ...                ...   \n",
       "5676            2                     0            1                835   \n",
       "5677            1                     2            2                835   \n",
       "5678            1                     1            1                835   \n",
       "5679            1                     1            1                835   \n",
       "5680            1                     1            1                835   \n",
       "\n",
       "      Outlet_Years  \n",
       "0                4  \n",
       "1                0  \n",
       "2                4  \n",
       "3                5  \n",
       "4                7  \n",
       "...            ...  \n",
       "5676             6  \n",
       "5677             0  \n",
       "5678             3  \n",
       "5679             1  \n",
       "5680             3  \n",
       "\n",
       "[14204 rows x 13 columns]"
      ]
     },
     "execution_count": 27,
     "metadata": {},
     "output_type": "execute_result"
    }
   ],
   "source": [
    "# label encoding\n",
    "\n",
    "from sklearn.preprocessing import LabelEncoder\n",
    "\n",
    "data.apply(LabelEncoder().fit_transform)"
   ]
  },
  {
   "cell_type": "code",
   "execution_count": 28,
   "id": "5e4f816f-ee1e-4077-a1c1-c4cf559e5875",
   "metadata": {},
   "outputs": [
    {
     "name": "stdout",
     "output_type": "stream",
     "text": [
      "(14204, 47)\n"
     ]
    }
   ],
   "source": [
    "data = pd.get_dummies(data)\n",
    "\n",
    "print(data.shape)"
   ]
  },
  {
   "cell_type": "code",
   "execution_count": 29,
   "id": "3ae97a52-c12c-4875-89bc-c48ef9d174a3",
   "metadata": {},
   "outputs": [
    {
     "name": "stdout",
     "output_type": "stream",
     "text": [
      "(14204, 46)\n",
      "(14204,)\n"
     ]
    }
   ],
   "source": [
    "x = data.drop('Item_Outlet_Sales', axis = 1)\n",
    "y = data.Item_Outlet_Sales\n",
    "\n",
    "print(x.shape)\n",
    "print(y.shape)"
   ]
  },
  {
   "cell_type": "code",
   "execution_count": 30,
   "id": "54eb9343-2807-4349-bf8d-79f412cffb05",
   "metadata": {},
   "outputs": [
    {
     "name": "stdout",
     "output_type": "stream",
     "text": [
      "(8523, 47)\n",
      "(5681, 47)\n"
     ]
    }
   ],
   "source": [
    "train = data.iloc[:8523,:]\n",
    "test = data.iloc[8523:,:]\n",
    "\n",
    "print(train.shape)\n",
    "print(test.shape)"
   ]
  },
  {
   "cell_type": "code",
   "execution_count": 31,
   "id": "937ee223-ccdb-45a9-b23a-c3131866dd2f",
   "metadata": {},
   "outputs": [
    {
     "name": "stdout",
     "output_type": "stream",
     "text": [
      "(9942, 46)\n",
      "(9942,)\n",
      "(4262, 46)\n",
      "(4262,)\n"
     ]
    }
   ],
   "source": [
    "from sklearn.model_selection import train_test_split\n",
    "\n",
    "x_train, x_test, y_train, y_test = train_test_split(x, y, test_size = 0.3)\n",
    "\n",
    "print(x_train.shape)\n",
    "print(y_train.shape)\n",
    "print(x_test.shape)\n",
    "print(y_test.shape)"
   ]
  },
  {
   "cell_type": "code",
   "execution_count": 32,
   "id": "9b846ebf-aa9f-45b3-b22c-2038397e784a",
   "metadata": {},
   "outputs": [
    {
     "name": "stdout",
     "output_type": "stream",
     "text": [
      "[2016.  976. 2304. ... 1552. -224. 1120.]\n",
      "RMSE : 1239.1110271320476\n",
      "Variance score: 0.29\n"
     ]
    }
   ],
   "source": [
    "from sklearn.linear_model import LinearRegression\n",
    "from sklearn.metrics import mean_squared_error\n",
    "from sklearn.metrics import r2_score\n",
    "\n",
    "model = LinearRegression()\n",
    "model.fit(x_train, y_train)\n",
    "\n",
    "y_pred = model.predict(x_test)\n",
    "print(y_pred)\n",
    "\n",
    "mse = mean_squared_error(y_test, y_pred)\n",
    "print('RMSE :', np.sqrt(mse))\n",
    "print('Variance score: %.2f' % r2_score(y_test, y_pred))\n"
   ]
  },
  {
   "cell_type": "code",
   "execution_count": 33,
   "id": "b93ac384-47a7-493f-8cac-b72b145af227",
   "metadata": {},
   "outputs": [
    {
     "name": "stdout",
     "output_type": "stream",
     "text": [
      "RMSE : 1349.9742814911579\n"
     ]
    }
   ],
   "source": [
    "from sklearn.ensemble import AdaBoostRegressor\n",
    "\n",
    "model= AdaBoostRegressor(n_estimators = 100)\n",
    "model.fit(x_train, y_train)\n",
    "\n",
    "y_pred = model.predict(x_test)\n",
    "\n",
    "\n",
    "mse = mean_squared_error(y_test, y_pred)\n",
    "print(\"RMSE :\", np.sqrt(mse))\n"
   ]
  },
  {
   "cell_type": "code",
   "execution_count": 34,
   "id": "d4acacf3-09a3-48ce-8731-d0d4bae71171",
   "metadata": {},
   "outputs": [
    {
     "name": "stdout",
     "output_type": "stream",
     "text": [
      "[2007.6538692   918.97508051 2140.05840882 ... 1591.87764216  512.84025094\n",
      " 1056.40921751]\n",
      "RMSE : 1229.2986982643645\n"
     ]
    }
   ],
   "source": [
    "from sklearn.ensemble import GradientBoostingRegressor\n",
    "\n",
    "model = GradientBoostingRegressor()\n",
    "model.fit(x_train, y_train)\n",
    "\n",
    "\n",
    "y_pred = model.predict(x_test)\n",
    "print(y_pred)\n",
    "\n",
    "print(\"RMSE :\", np.sqrt(((y_test - y_pred)**2).sum()/len(y_test)))"
   ]
  },
  {
   "cell_type": "code",
   "execution_count": 35,
   "id": "58919347-39ac-472d-9115-8c57d543c1a7",
   "metadata": {},
   "outputs": [
    {
     "name": "stdout",
     "output_type": "stream",
     "text": [
      "[2433.811926  776.036506 1907.110862 ... 1300.800092  429.747268\n",
      " 1122.585406]\n",
      "RMSE : 1301.130552476125\n",
      "Variance score: 0.21\n",
      "Result : 0.8872988573193896\n"
     ]
    }
   ],
   "source": [
    "from sklearn.ensemble import RandomForestRegressor\n",
    "\n",
    "model = RandomForestRegressor(n_estimators = 100 , n_jobs = -1)\n",
    "model.fit(x_train, y_train)\n",
    "\n",
    "y_pred = model.predict(x_test)\n",
    "print(y_pred)\n",
    "\n",
    "mse = mean_squared_error(y_test, y_pred)\n",
    "print(\"RMSE :\",np.sqrt(mse))\n",
    "print('Variance score: %.2f' % r2_score(y_test, y_pred))\n",
    "\n",
    "print(\"Result :\",model.score(x_train, y_train))\n"
   ]
  },
  {
   "cell_type": "code",
   "execution_count": 36,
   "id": "88cfbca4-a62d-41bf-8f88-75cc4579d000",
   "metadata": {},
   "outputs": [
    {
     "name": "stdout",
     "output_type": "stream",
     "text": [
      "[2864.2716  679.116   958.752  ... 2403.538   126.502   958.752 ]\n",
      " RMSE :  1800.2328611577723\n"
     ]
    }
   ],
   "source": [
    "from sklearn.tree import DecisionTreeRegressor\n",
    "\n",
    "model = DecisionTreeRegressor()\n",
    "model.fit(x_train, y_train)\n",
    "\n",
    "# predicting the test set results\n",
    "y_pred = model.predict(x_test)\n",
    "print(y_pred)\n",
    "\n",
    "print(\" RMSE : \" , np.sqrt(((y_test - y_pred)**2).sum()/len(y_test)))"
   ]
  },
  {
   "cell_type": "code",
   "execution_count": 37,
   "id": "aea39193-60c8-4287-97ef-d57cdd4b9cb3",
   "metadata": {},
   "outputs": [
    {
     "name": "stdout",
     "output_type": "stream",
     "text": [
      "RMSE : 1647.5102626712187\n"
     ]
    }
   ],
   "source": [
    "from sklearn.svm import SVR\n",
    "\n",
    "model = SVR()\n",
    "model.fit(x_train, y_train)\n",
    "\n",
    "y_pred = model.predict(x_test)\n",
    "\n",
    "mse = mean_squared_error(y_test, y_pred)\n",
    "print(\"RMSE :\", np.sqrt(mse))\n"
   ]
  },
  {
   "cell_type": "code",
   "execution_count": 38,
   "id": "82430fca-7acb-4647-a1de-794c5e85207e",
   "metadata": {},
   "outputs": [
    {
     "name": "stdout",
     "output_type": "stream",
     "text": [
      "(9942, 46)\n",
      "(4262, 46)\n",
      "(1, 9942)\n",
      "(1, 4262)\n"
     ]
    }
   ],
   "source": [
    "import numpy as np\n",
    "\n",
    "x_train = np.asmatrix(x_train)\n",
    "x_test = np.asmatrix(x_test)\n",
    "y_train = np.asmatrix(y_train.T)\n",
    "y_test = np.asmatrix(y_test.T)\n",
    "\n",
    "print(x_train.shape)\n",
    "print(x_test.shape)\n",
    "print(y_train.shape)\n",
    "print(y_test.shape)"
   ]
  },
  {
   "cell_type": "code",
   "execution_count": 40,
   "id": "57d75567",
   "metadata": {},
   "outputs": [
    {
     "name": "stdout",
     "output_type": "stream",
     "text": [
      "TensorFlow version: 2.8.0\n"
     ]
    }
   ],
   "source": [
    "import tensorflow as tf\n",
    "print(\"TensorFlow version:\", tf.__version__)\n"
   ]
  },
  {
   "cell_type": "code",
   "execution_count": 43,
   "id": "369a683d-d761-476f-9a61-9535a4bc956e",
   "metadata": {},
   "outputs": [
    {
     "name": "stdout",
     "output_type": "stream",
     "text": [
      "Model: \"sequential_2\"\n",
      "_________________________________________________________________\n",
      " Layer (type)                Output Shape              Param #   \n",
      "=================================================================\n",
      " dense_8 (Dense)             (None, 20)                940       \n",
      "                                                                 \n",
      " dense_9 (Dense)             (None, 15)                315       \n",
      "                                                                 \n",
      " dense_10 (Dense)            (None, 10)                160       \n",
      "                                                                 \n",
      " dense_11 (Dense)            (None, 1)                 11        \n",
      "                                                                 \n",
      "=================================================================\n",
      "Total params: 1,426\n",
      "Trainable params: 1,426\n",
      "Non-trainable params: 0\n",
      "_________________________________________________________________\n",
      "x_train shape: (9942, 46)\n",
      "y_train shape after reshaping: (9942,)\n",
      "Epoch 1/100\n",
      "311/311 [==============================] - 2s 3ms/step - loss: 4794680.0000 - mae: 1647.0764 - val_loss: 4580485.5000 - val_mae: 1560.4470\n",
      "Epoch 2/100\n",
      "311/311 [==============================] - 1s 2ms/step - loss: 4030760.2500 - mae: 1407.0355 - val_loss: 3717533.7500 - val_mae: 1283.7054\n",
      "Epoch 3/100\n",
      "311/311 [==============================] - 1s 2ms/step - loss: 3131198.2500 - mae: 1096.8435 - val_loss: 2797669.5000 - val_mae: 945.3403\n",
      "Epoch 4/100\n",
      "311/311 [==============================] - 1s 2ms/step - loss: 2390883.0000 - mae: 923.0939 - val_loss: 2255325.5000 - val_mae: 982.8273\n",
      "Epoch 5/100\n",
      "311/311 [==============================] - 1s 2ms/step - loss: 2100549.5000 - mae: 1010.9013 - val_loss: 2134130.2500 - val_mae: 1058.9153\n",
      "Epoch 6/100\n",
      "311/311 [==============================] - 1s 3ms/step - loss: 2060068.3750 - mae: 1055.9581 - val_loss: 2120626.7500 - val_mae: 1082.4458\n",
      "Epoch 7/100\n",
      "311/311 [==============================] - 1s 2ms/step - loss: 2054008.0000 - mae: 1068.8105 - val_loss: 2115282.5000 - val_mae: 1082.3719\n",
      "Epoch 8/100\n",
      "311/311 [==============================] - 1s 2ms/step - loss: 2048851.3750 - mae: 1067.1510 - val_loss: 2109890.0000 - val_mae: 1079.1447\n",
      "Epoch 9/100\n",
      "311/311 [==============================] - 1s 2ms/step - loss: 2043312.6250 - mae: 1064.2283 - val_loss: 2102816.5000 - val_mae: 1085.7830\n",
      "Epoch 10/100\n",
      "311/311 [==============================] - 1s 2ms/step - loss: 2036800.6250 - mae: 1065.9420 - val_loss: 2095832.2500 - val_mae: 1077.5804\n",
      "Epoch 11/100\n",
      "311/311 [==============================] - 1s 2ms/step - loss: 2029180.3750 - mae: 1063.3820 - val_loss: 2087755.1250 - val_mae: 1072.8237\n",
      "Epoch 12/100\n",
      "311/311 [==============================] - 1s 2ms/step - loss: 2019478.6250 - mae: 1061.8024 - val_loss: 2084619.6250 - val_mae: 1050.8541\n",
      "Epoch 13/100\n",
      "311/311 [==============================] - 1s 3ms/step - loss: 2010748.7500 - mae: 1056.9723 - val_loss: 2070236.1250 - val_mae: 1055.5858\n",
      "Epoch 14/100\n",
      "311/311 [==============================] - 1s 2ms/step - loss: 1999946.1250 - mae: 1053.1567 - val_loss: 2054523.3750 - val_mae: 1062.9646\n",
      "Epoch 15/100\n",
      "311/311 [==============================] - 1s 2ms/step - loss: 1986987.0000 - mae: 1047.7662 - val_loss: 2039835.1250 - val_mae: 1062.1539\n",
      "Epoch 16/100\n",
      "311/311 [==============================] - 1s 2ms/step - loss: 1972560.7500 - mae: 1047.6403 - val_loss: 2024632.5000 - val_mae: 1052.0939\n",
      "Epoch 17/100\n",
      "311/311 [==============================] - 1s 2ms/step - loss: 1956342.3750 - mae: 1039.8401 - val_loss: 2006354.3750 - val_mae: 1050.0493\n",
      "Epoch 18/100\n",
      "311/311 [==============================] - 1s 2ms/step - loss: 1938233.3750 - mae: 1035.7952 - val_loss: 1986742.3750 - val_mae: 1046.9131\n",
      "Epoch 19/100\n",
      "311/311 [==============================] - 1s 2ms/step - loss: 1919771.5000 - mae: 1031.3939 - val_loss: 1966169.7500 - val_mae: 1038.7455\n",
      "Epoch 20/100\n",
      "311/311 [==============================] - 1s 2ms/step - loss: 1899993.6250 - mae: 1022.6110 - val_loss: 1945903.3750 - val_mae: 1026.5334\n",
      "Epoch 21/100\n",
      "311/311 [==============================] - 1s 2ms/step - loss: 1879197.3750 - mae: 1014.2236 - val_loss: 1923181.7500 - val_mae: 1032.8165\n",
      "Epoch 22/100\n",
      "311/311 [==============================] - 1s 2ms/step - loss: 1859069.2500 - mae: 1007.8766 - val_loss: 1902082.2500 - val_mae: 1021.9366\n",
      "Epoch 23/100\n",
      "311/311 [==============================] - 1s 2ms/step - loss: 1840261.1250 - mae: 1001.8694 - val_loss: 1882554.6250 - val_mae: 1007.6501\n",
      "Epoch 24/100\n",
      "311/311 [==============================] - 1s 2ms/step - loss: 1822277.7500 - mae: 994.4317 - val_loss: 1864915.5000 - val_mae: 996.8999\n",
      "Epoch 25/100\n",
      "311/311 [==============================] - 1s 2ms/step - loss: 1805968.5000 - mae: 987.9207 - val_loss: 1847068.2500 - val_mae: 995.9901\n",
      "Epoch 26/100\n",
      "311/311 [==============================] - 1s 2ms/step - loss: 1792026.6250 - mae: 980.5210 - val_loss: 1832031.0000 - val_mae: 993.2583\n",
      "Epoch 27/100\n",
      "311/311 [==============================] - 1s 2ms/step - loss: 1779424.8750 - mae: 975.6838 - val_loss: 1819801.2500 - val_mae: 986.5986\n",
      "Epoch 28/100\n",
      "311/311 [==============================] - 1s 2ms/step - loss: 1768513.2500 - mae: 969.7479 - val_loss: 1809666.2500 - val_mae: 979.7380\n",
      "Epoch 29/100\n",
      "311/311 [==============================] - 1s 2ms/step - loss: 1760602.7500 - mae: 965.5787 - val_loss: 1801139.8750 - val_mae: 979.6177\n",
      "Epoch 30/100\n",
      "311/311 [==============================] - 1s 2ms/step - loss: 1753596.6250 - mae: 963.5969 - val_loss: 1796675.5000 - val_mae: 965.6165\n",
      "Epoch 31/100\n",
      "311/311 [==============================] - 1s 2ms/step - loss: 1749228.8750 - mae: 961.3229 - val_loss: 1788818.5000 - val_mae: 973.9495\n",
      "Epoch 32/100\n",
      "311/311 [==============================] - 1s 2ms/step - loss: 1744659.8750 - mae: 958.4686 - val_loss: 1784753.1250 - val_mae: 974.4730\n",
      "Epoch 33/100\n",
      "311/311 [==============================] - 1s 2ms/step - loss: 1741809.7500 - mae: 962.3408 - val_loss: 1789760.0000 - val_mae: 956.2688\n",
      "Epoch 34/100\n",
      "311/311 [==============================] - 1s 2ms/step - loss: 1740298.2500 - mae: 958.0089 - val_loss: 1781910.1250 - val_mae: 962.3411\n",
      "Epoch 35/100\n",
      "311/311 [==============================] - 1s 2ms/step - loss: 1738143.8750 - mae: 958.4536 - val_loss: 1776817.0000 - val_mae: 970.4145\n",
      "Epoch 36/100\n",
      "311/311 [==============================] - 1s 2ms/step - loss: 1736364.3750 - mae: 959.3645 - val_loss: 1775317.6250 - val_mae: 968.8593\n",
      "Epoch 37/100\n",
      "311/311 [==============================] - 1s 2ms/step - loss: 1734835.0000 - mae: 958.7659 - val_loss: 1776713.0000 - val_mae: 962.8359\n",
      "Epoch 38/100\n",
      "311/311 [==============================] - 1s 3ms/step - loss: 1733899.6250 - mae: 958.2661 - val_loss: 1772435.3750 - val_mae: 975.1981\n",
      "Epoch 39/100\n",
      "311/311 [==============================] - 1s 3ms/step - loss: 1733188.2500 - mae: 958.5099 - val_loss: 1771309.5000 - val_mae: 972.2813\n",
      "Epoch 40/100\n",
      "311/311 [==============================] - 1s 3ms/step - loss: 1731971.8750 - mae: 958.2922 - val_loss: 1770358.2500 - val_mae: 973.5753\n",
      "Epoch 41/100\n",
      "311/311 [==============================] - 1s 2ms/step - loss: 1731230.1250 - mae: 959.4222 - val_loss: 1772367.5000 - val_mae: 963.9515\n",
      "Epoch 42/100\n",
      "311/311 [==============================] - 1s 2ms/step - loss: 1731034.3750 - mae: 957.8206 - val_loss: 1769668.7500 - val_mae: 967.6299\n",
      "Epoch 43/100\n",
      "311/311 [==============================] - 1s 2ms/step - loss: 1730815.8750 - mae: 959.0469 - val_loss: 1768368.5000 - val_mae: 969.7671\n",
      "Epoch 44/100\n",
      "311/311 [==============================] - 1s 2ms/step - loss: 1730683.7500 - mae: 959.5366 - val_loss: 1768396.1250 - val_mae: 967.3444\n",
      "Epoch 45/100\n",
      "311/311 [==============================] - 1s 2ms/step - loss: 1728782.8750 - mae: 958.9590 - val_loss: 1767980.7500 - val_mae: 966.7283\n",
      "Epoch 46/100\n",
      "311/311 [==============================] - 1s 2ms/step - loss: 1728680.7500 - mae: 958.7982 - val_loss: 1766261.5000 - val_mae: 970.2369\n",
      "Epoch 47/100\n",
      "311/311 [==============================] - 1s 3ms/step - loss: 1727624.1250 - mae: 958.9233 - val_loss: 1769196.0000 - val_mae: 962.9184\n",
      "Epoch 48/100\n",
      "311/311 [==============================] - 1s 2ms/step - loss: 1727855.1250 - mae: 958.5787 - val_loss: 1766710.1250 - val_mae: 965.4691\n",
      "Epoch 49/100\n",
      "311/311 [==============================] - 1s 2ms/step - loss: 1726707.8750 - mae: 958.5659 - val_loss: 1765637.7500 - val_mae: 966.3132\n",
      "Epoch 50/100\n",
      "311/311 [==============================] - 1s 2ms/step - loss: 1725810.8750 - mae: 957.7262 - val_loss: 1763807.6250 - val_mae: 970.9863\n",
      "Epoch 51/100\n",
      "311/311 [==============================] - 1s 2ms/step - loss: 1725605.6250 - mae: 958.8890 - val_loss: 1764356.2500 - val_mae: 966.4068\n",
      "Epoch 52/100\n",
      "311/311 [==============================] - 1s 2ms/step - loss: 1725097.3750 - mae: 957.6231 - val_loss: 1762973.1250 - val_mae: 968.7725\n",
      "Epoch 53/100\n",
      "311/311 [==============================] - 1s 2ms/step - loss: 1724439.7500 - mae: 958.3744 - val_loss: 1763785.1250 - val_mae: 965.0924\n",
      "Epoch 54/100\n",
      "311/311 [==============================] - 1s 2ms/step - loss: 1724379.1250 - mae: 957.3176 - val_loss: 1761485.3750 - val_mae: 971.6758\n",
      "Epoch 55/100\n",
      "311/311 [==============================] - 1s 2ms/step - loss: 1723880.2500 - mae: 959.0490 - val_loss: 1762054.7500 - val_mae: 966.0643\n",
      "Epoch 56/100\n",
      "311/311 [==============================] - 1s 2ms/step - loss: 1723764.8750 - mae: 958.2845 - val_loss: 1760763.8750 - val_mae: 968.0219\n",
      "Epoch 57/100\n",
      "311/311 [==============================] - 1s 2ms/step - loss: 1721402.2500 - mae: 958.7532 - val_loss: 1779703.8750 - val_mae: 953.0054\n",
      "Epoch 58/100\n",
      "311/311 [==============================] - 1s 2ms/step - loss: 1723172.6250 - mae: 956.3713 - val_loss: 1760439.2500 - val_mae: 965.5978\n",
      "Epoch 59/100\n",
      "311/311 [==============================] - 1s 2ms/step - loss: 1721043.5000 - mae: 957.0295 - val_loss: 1759418.0000 - val_mae: 966.7126\n",
      "Epoch 60/100\n",
      "311/311 [==============================] - 1s 2ms/step - loss: 1720697.7500 - mae: 957.3907 - val_loss: 1759675.0000 - val_mae: 964.6163\n",
      "Epoch 61/100\n",
      "311/311 [==============================] - 1s 2ms/step - loss: 1720147.6250 - mae: 957.2230 - val_loss: 1758588.7500 - val_mae: 965.5958\n",
      "Epoch 62/100\n",
      "311/311 [==============================] - 1s 2ms/step - loss: 1719870.0000 - mae: 957.6400 - val_loss: 1758999.2500 - val_mae: 963.5577\n",
      "Epoch 63/100\n",
      "311/311 [==============================] - 1s 3ms/step - loss: 1719533.5000 - mae: 956.3218 - val_loss: 1757360.1250 - val_mae: 965.5703\n",
      "Epoch 64/100\n",
      "311/311 [==============================] - 1s 2ms/step - loss: 1718945.6250 - mae: 956.9949 - val_loss: 1755979.5000 - val_mae: 971.9307\n",
      "Epoch 65/100\n",
      "311/311 [==============================] - 1s 3ms/step - loss: 1719633.0000 - mae: 957.4336 - val_loss: 1755555.7500 - val_mae: 967.6276\n",
      "Epoch 66/100\n",
      "311/311 [==============================] - 1s 3ms/step - loss: 1718669.1250 - mae: 956.5981 - val_loss: 1760247.5000 - val_mae: 958.9704\n",
      "Epoch 67/100\n",
      "311/311 [==============================] - 1s 2ms/step - loss: 1717240.7500 - mae: 956.5513 - val_loss: 1755241.1250 - val_mae: 964.6157\n",
      "Epoch 68/100\n",
      "311/311 [==============================] - 1s 2ms/step - loss: 1716701.7500 - mae: 956.1021 - val_loss: 1754288.6250 - val_mae: 974.4047\n",
      "Epoch 69/100\n",
      "311/311 [==============================] - 1s 2ms/step - loss: 1715130.6250 - mae: 955.9269 - val_loss: 1753079.5000 - val_mae: 970.1698\n",
      "Epoch 70/100\n",
      "311/311 [==============================] - 1s 2ms/step - loss: 1715650.5000 - mae: 956.2221 - val_loss: 1756507.0000 - val_mae: 959.7675\n",
      "Epoch 71/100\n",
      "311/311 [==============================] - 1s 2ms/step - loss: 1714792.5000 - mae: 955.3876 - val_loss: 1751925.2500 - val_mae: 968.9942\n",
      "Epoch 72/100\n",
      "311/311 [==============================] - 1s 2ms/step - loss: 1714626.5000 - mae: 956.1201 - val_loss: 1753611.1250 - val_mae: 961.6474\n",
      "Epoch 73/100\n",
      "311/311 [==============================] - 1s 2ms/step - loss: 1713910.6250 - mae: 955.7077 - val_loss: 1751885.0000 - val_mae: 963.5505\n",
      "Epoch 74/100\n",
      "311/311 [==============================] - 1s 3ms/step - loss: 1713530.7500 - mae: 955.8030 - val_loss: 1750659.1250 - val_mae: 965.2596\n",
      "Epoch 75/100\n",
      "311/311 [==============================] - 1s 2ms/step - loss: 1712639.2500 - mae: 954.2099 - val_loss: 1750474.2500 - val_mae: 974.0639\n",
      "Epoch 76/100\n",
      "311/311 [==============================] - 1s 2ms/step - loss: 1712731.6250 - mae: 955.8237 - val_loss: 1750228.5000 - val_mae: 962.9269\n",
      "Epoch 77/100\n",
      "311/311 [==============================] - 1s 2ms/step - loss: 1711678.6250 - mae: 955.4144 - val_loss: 1749300.3750 - val_mae: 963.5776\n",
      "Epoch 78/100\n",
      "311/311 [==============================] - 1s 2ms/step - loss: 1710547.2500 - mae: 953.7387 - val_loss: 1747908.3750 - val_mae: 967.0339\n",
      "Epoch 79/100\n",
      "311/311 [==============================] - 1s 2ms/step - loss: 1710587.0000 - mae: 956.0421 - val_loss: 1750995.3750 - val_mae: 958.7587\n",
      "Epoch 80/100\n",
      "311/311 [==============================] - 1s 2ms/step - loss: 1709293.1250 - mae: 955.9981 - val_loss: 1754815.0000 - val_mae: 954.9460\n",
      "Epoch 81/100\n",
      "311/311 [==============================] - 1s 2ms/step - loss: 1711004.8750 - mae: 953.9244 - val_loss: 1748736.0000 - val_mae: 959.7297\n",
      "Epoch 82/100\n",
      "311/311 [==============================] - 1s 2ms/step - loss: 1708038.7500 - mae: 954.2438 - val_loss: 1746248.8750 - val_mae: 963.0714\n",
      "Epoch 83/100\n",
      "311/311 [==============================] - 1s 2ms/step - loss: 1707930.8750 - mae: 954.9796 - val_loss: 1753195.3750 - val_mae: 954.3502\n",
      "Epoch 84/100\n",
      "311/311 [==============================] - 1s 2ms/step - loss: 1705756.6250 - mae: 951.7311 - val_loss: 1750215.0000 - val_mae: 983.0015\n",
      "Epoch 85/100\n",
      "311/311 [==============================] - 1s 2ms/step - loss: 1708167.8750 - mae: 955.2928 - val_loss: 1743879.8750 - val_mae: 964.7371\n",
      "Epoch 86/100\n",
      "311/311 [==============================] - 1s 2ms/step - loss: 1705378.7500 - mae: 953.9451 - val_loss: 1745582.2500 - val_mae: 959.1255\n",
      "Epoch 87/100\n",
      "311/311 [==============================] - 1s 2ms/step - loss: 1704454.1250 - mae: 950.7744 - val_loss: 1749350.1250 - val_mae: 983.9252\n",
      "Epoch 88/100\n",
      "311/311 [==============================] - 1s 2ms/step - loss: 1705127.7500 - mae: 952.6956 - val_loss: 1744568.6250 - val_mae: 976.6472\n",
      "Epoch 89/100\n",
      "311/311 [==============================] - 1s 3ms/step - loss: 1706240.7500 - mae: 955.4048 - val_loss: 1741703.7500 - val_mae: 962.8693\n",
      "Epoch 90/100\n",
      "311/311 [==============================] - 1s 3ms/step - loss: 1703114.6250 - mae: 952.3069 - val_loss: 1740608.0000 - val_mae: 966.1423\n",
      "Epoch 91/100\n",
      "311/311 [==============================] - 1s 3ms/step - loss: 1703467.0000 - mae: 952.8302 - val_loss: 1740019.8750 - val_mae: 966.4420\n",
      "Epoch 92/100\n",
      "311/311 [==============================] - 1s 2ms/step - loss: 1702789.7500 - mae: 953.0405 - val_loss: 1739434.1250 - val_mae: 964.3998\n",
      "Epoch 93/100\n",
      "311/311 [==============================] - 1s 3ms/step - loss: 1701877.7500 - mae: 952.5109 - val_loss: 1743227.8750 - val_mae: 955.6903\n",
      "Epoch 94/100\n",
      "311/311 [==============================] - 1s 2ms/step - loss: 1701862.6250 - mae: 952.4693 - val_loss: 1743827.3750 - val_mae: 954.4373\n",
      "Epoch 95/100\n",
      "311/311 [==============================] - 1s 2ms/step - loss: 1699726.0000 - mae: 951.5370 - val_loss: 1738026.7500 - val_mae: 961.5436\n",
      "Epoch 96/100\n",
      "311/311 [==============================] - 1s 2ms/step - loss: 1700192.1250 - mae: 951.7527 - val_loss: 1736917.2500 - val_mae: 963.9530\n",
      "Epoch 97/100\n",
      "311/311 [==============================] - 1s 2ms/step - loss: 1700013.2500 - mae: 952.6160 - val_loss: 1740853.2500 - val_mae: 954.7840\n",
      "Epoch 98/100\n",
      "311/311 [==============================] - 1s 2ms/step - loss: 1698176.8750 - mae: 950.0179 - val_loss: 1740706.2500 - val_mae: 979.4683\n",
      "Epoch 99/100\n",
      "311/311 [==============================] - 1s 2ms/step - loss: 1698625.3750 - mae: 952.1210 - val_loss: 1734920.0000 - val_mae: 963.5826\n",
      "Epoch 100/100\n",
      "311/311 [==============================] - 1s 2ms/step - loss: 1698088.1250 - mae: 951.8412 - val_loss: 1735332.8750 - val_mae: 959.0758\n"
     ]
    }
   ],
   "source": [
    "from tensorflow.keras.models import Sequential\n",
    "from tensorflow.keras.layers import Dense\n",
    "from tensorflow.keras.optimizers import Adam\n",
    "from tensorflow.keras.callbacks import TensorBoard\n",
    "import datetime\n",
    "\n",
    "input_dim = x_train.shape[1]\n",
    "\n",
    "\n",
    "model = Sequential([\n",
    "    Dense(20, activation='relu', input_shape=(input_dim,)),\n",
    "    Dense(15, activation='relu'),\n",
    "    Dense(10, activation='relu'),\n",
    "    Dense(1)\n",
    "])\n",
    "\n",
    "model.compile(optimizer=Adam(learning_rate=0.0001), \n",
    "              loss='mse',\n",
    "              metrics=['mae'])\n",
    "\n",
    "\n",
    "model.summary()\n",
    "\n",
    "\n",
    "log_dir = \"logs/fit/\" + datetime.datetime.now().strftime(\"%Y%m%d-%H%M%S\")\n",
    "tensorboard_callback = TensorBoard(log_dir=log_dir, histogram_freq=1)\n",
    "\n",
    "y_train_array = np.array(y_train).reshape(-1)  \n",
    "y_test_array = np.array(y_test).reshape(-1)   \n",
    "\n",
    "\n",
    "print(\"x_train shape:\", x_train.shape)\n",
    "print(\"y_train shape after reshaping:\", y_train_array.shape)\n",
    "\n",
    "# Train the model\n",
    "history = model.fit(\n",
    "    x_train, y_train_array,\n",
    "    epochs=100,\n",
    "    batch_size=32,\n",
    "    validation_data=(x_test, y_test_array),\n",
    "    callbacks=[tensorboard_callback],\n",
    "    verbose=1\n",
    ")"
   ]
  },
  {
   "cell_type": "code",
   "execution_count": 44,
   "id": "a8d86437-1cdc-4a13-8d5a-44e5b310af6a",
   "metadata": {},
   "outputs": [
    {
     "name": "stdout",
     "output_type": "stream",
     "text": [
      "TensorFlow 2.0 Model RMSE: 1317.3202514401823\n",
      "TensorFlow 2.0 Model R² Score: 0.1934291060594312\n"
     ]
    }
   ],
   "source": [
    "\n",
    "y_pred = model.predict(x_test)\n",
    "\n",
    "\n",
    "y_pred = y_pred.flatten() \n",
    "\n",
    "\n",
    "mse = mean_squared_error(y_test_array, y_pred)\n",
    "print(\"TensorFlow 2.0 Model RMSE:\", np.sqrt(mse))\n",
    "print(\"TensorFlow 2.0 Model R² Score:\", r2_score(y_test_array, y_pred))\n"
   ]
  },
  {
   "cell_type": "code",
   "execution_count": 45,
   "id": "474593e6-cc83-45fe-bd32-6758287e2a15",
   "metadata": {},
   "outputs": [
    {
     "data": {
      "image/png": "[encoded data removed]",
      "text/plain": [
       "<Figure size 864x360 with 2 Axes>"
      ]
     },
     "metadata": {
      "needs_background": "light"
     },
     "output_type": "display_data"
    }
   ],
   "source": [
    "\n",
    "plt.figure(figsize=(12, 5))\n",
    "\n",
    "\n",
    "plt.subplot(1, 2, 1)\n",
    "plt.plot(history.history['loss'])\n",
    "plt.plot(history.history['val_loss'])\n",
    "plt.title('Model Loss')\n",
    "plt.ylabel('Loss')\n",
    "plt.xlabel('Epoch')\n",
    "plt.legend(['Train', 'Validation'], loc='upper right')\n",
    "\n",
    "# training & validation mean absolute error\n",
    "plt.subplot(1, 2, 2)\n",
    "plt.plot(history.history['mae'])\n",
    "plt.plot(history.history['val_mae'])\n",
    "plt.title('Model Mean Absolute Error')\n",
    "plt.ylabel('MAE')\n",
    "plt.xlabel('Epoch')\n",
    "plt.legend(['Train', 'Validation'], loc='upper right')\n",
    "\n",
    "plt.tight_layout()\n",
    "plt.show()\n"
   ]
  },
  {
   "cell_type": "code",
   "execution_count": 47,
   "id": "e760e092",
   "metadata": {},
   "outputs": [
    {
     "name": "stdout",
     "output_type": "stream",
     "text": [
      "For model comparison:\n",
      "x_train shape: (9942, 46)\n",
      "y_train shape: (9942,)\n",
      "x_test shape: (4262, 46)\n",
      "y_test shape: (4262,)\n",
      "                             RMSE        R²\n",
      "Linear Regression     1239.111027  0.286358\n",
      "Decision Tree         1775.167001 -0.464665\n",
      "Random Forest         1298.417516  0.216411\n",
      "Gradient Boosting     1229.025905  0.297928\n",
      "AdaBoost              1295.397944  0.220051\n",
      "SVR                   1647.510263 -0.261584\n",
      "Neural Network (TF2)  1317.320251  0.193429\n"
     ]
    },
    {
     "data": {
      "image/png": "[encoded data removed]",
      "text/plain": [
       "<Figure size 864x432 with 1 Axes>"
      ]
     },
     "metadata": {
      "needs_background": "light"
     },
     "output_type": "display_data"
    },
    {
     "data": {
      "image/png": "[encoded data removed]",
      "text/plain": [
       "<Figure size 864x432 with 1 Axes>"
      ]
     },
     "metadata": {
      "needs_background": "light"
     },
     "output_type": "display_data"
    }
   ],
   "source": [
    "# Compare all models\n",
    "models = {\n",
    "    'Linear Regression': LinearRegression(),\n",
    "    'Decision Tree': DecisionTreeRegressor(),\n",
    "    'Random Forest': RandomForestRegressor(n_estimators=100),\n",
    "    'Gradient Boosting': GradientBoostingRegressor(),\n",
    "    'AdaBoost': AdaBoostRegressor(n_estimators=100),\n",
    "    'SVR': SVR(),\n",
    "    'Neural Network (TF2)': None  \n",
    "}\n",
    "\n",
    "results = {}\n",
    "\n",
    "x_train_array = np.array(x_train)\n",
    "y_train_array = np.array(y_train).reshape(-1)  \n",
    "x_test_array = np.array(x_test)\n",
    "y_test_array = np.array(y_test).reshape(-1)   \n",
    "\n",
    "print(\"For model comparison:\")\n",
    "print(\"x_train shape:\", x_train_array.shape)\n",
    "print(\"y_train shape:\", y_train_array.shape)\n",
    "print(\"x_test shape:\", x_test_array.shape)\n",
    "print(\"y_test shape:\", y_test_array.shape)\n",
    "\n",
    "\n",
    "for name, model_instance in models.items():\n",
    "    if model_instance is not None: \n",
    "        model_instance.fit(x_train_array, y_train_array)\n",
    "        y_pred = model_instance.predict(x_test_array)\n",
    "        rmse = np.sqrt(mean_squared_error(y_test_array, y_pred))\n",
    "        r2 = r2_score(y_test_array, y_pred)\n",
    "        results[name] = {'RMSE': rmse, 'R²': r2}\n",
    "\n",
    "\n",
    "nn_pred = model.predict(x_test_array).flatten() \n",
    "nn_rmse = np.sqrt(mean_squared_error(y_test_array, nn_pred))\n",
    "nn_r2 = r2_score(y_test_array, nn_pred)\n",
    "results['Neural Network (TF2)'] = {'RMSE': nn_rmse, 'R²': nn_r2}\n",
    "\n",
    "\n",
    "results_df = pd.DataFrame(results).T\n",
    "print(results_df)\n",
    "\n",
    "# comparison of RMSE\n",
    "plt.figure(figsize=(12, 6))\n",
    "results_df['RMSE'].plot(kind='bar', color='skyblue')\n",
    "plt.title('Model Comparison - RMSE (lower is better)')\n",
    "plt.ylabel('RMSE')\n",
    "plt.xticks(rotation=45)\n",
    "plt.tight_layout()\n",
    "plt.show()\n",
    "\n",
    "# comparison of R squared\n",
    "plt.figure(figsize=(12, 6))\n",
    "results_df['R²'].plot(kind='bar', color='lightgreen')\n",
    "plt.title('Model Comparison - R² Score (higher is better)')\n",
    "plt.ylabel('R² Score')\n",
    "plt.xticks(rotation=45)\n",
    "plt.axhline(y=0, color='r', linestyle='-', alpha=0.3)\n",
    "plt.tight_layout()\n",
    "plt.show()"
   ]
  },
  {
   "cell_type": "code",
   "execution_count": 51,
   "id": "6f9fcded",
   "metadata": {},
   "outputs": [
    {
     "name": "stdout",
     "output_type": "stream",
     "text": [
      "Gradient Boosting submission file saved successfully!\n"
     ]
    },
    {
     "name": "stderr",
     "output_type": "stream",
     "text": [
      "C:\\Users\\Uma_pc\\anaconda3\\envs\\tensor\\lib\\site-packages\\sklearn\\base.py:443: UserWarning: X has feature names, but GradientBoostingRegressor was fitted without feature names\n",
      "  warnings.warn(\n"
     ]
    }
   ],
   "source": [
    "original_test = pd.read_csv(\"test_AbJTz2l.csv\")\n",
    "\n",
    "gb_model = GradientBoostingRegressor()\n",
    "gb_model.fit(x_train_array, y_train_array)\n",
    "\n",
    "\n",
    "submission_predictions = gb_model.predict(test.drop('Item_Outlet_Sales', axis=1))\n",
    "\n",
    "\n",
    "submission = pd.DataFrame({\n",
    "    'Item_Identifier': original_test['Item_Identifier'],\n",
    "    'Outlet_Identifier': original_test['Outlet_Identifier'],\n",
    "    'Item_Outlet_Sales': submission_predictions\n",
    "})\n",
    "\n",
    "\n",
    "submission.to_csv('submission_gradient_boosting.csv', index=False)\n",
    "print(\"Gradient Boosting submission file saved successfully!\")"
   ]
  },
  {
   "cell_type": "code",
   "execution_count": 54,
   "id": "719c461b",
   "metadata": {},
   "outputs": [
    {
     "data": {
      "text/plain": [
       "Index(['Item_Identifier', 'Item_Weight', 'Item_Fat_Content', 'Item_Visibility',\n",
       "       'Item_Type', 'Item_MRP', 'Outlet_Identifier',\n",
       "       'Outlet_Establishment_Year', 'Outlet_Size', 'Outlet_Location_Type',\n",
       "       'Outlet_Type'],\n",
       "      dtype='object')"
      ]
     },
     "execution_count": 54,
     "metadata": {},
     "output_type": "execute_result"
    }
   ],
   "source": [
    "original_test = pd.read_csv(\"test_AbJTz2l.csv\")\n",
    "original_test.columns"
   ]
  },
  {
   "cell_type": "code",
   "execution_count": 56,
   "id": "3f2f4360",
   "metadata": {},
   "outputs": [
    {
     "data": {
      "text/plain": [
       "0       958.752\n",
       "1       958.752\n",
       "2       958.752\n",
       "3       958.752\n",
       "4       958.752\n",
       "         ...   \n",
       "5676    958.752\n",
       "5677    958.752\n",
       "5678    958.752\n",
       "5679    958.752\n",
       "5680    958.752\n",
       "Name: Item_Outlet_Sales, Length: 5681, dtype: float64"
      ]
     },
     "execution_count": 56,
     "metadata": {},
     "output_type": "execute_result"
    }
   ],
   "source": [
    "test['Item_Outlet_Sales']"
   ]
  },
  {
   "cell_type": "code",
   "execution_count": 58,
   "id": "a79b811d",
   "metadata": {},
   "outputs": [
    {
     "data": {
      "text/plain": [
       "array([1376.46194657, 1190.84800291,  683.74870041, ..., 1469.50753496,\n",
       "       2564.99208202, 1150.43227855])"
      ]
     },
     "execution_count": 58,
     "metadata": {},
     "output_type": "execute_result"
    }
   ],
   "source": [
    "submission_predictions"
   ]
  },
  {
   "cell_type": "code",
   "execution_count": null,
   "id": "bd8d04ee",
   "metadata": {},
   "outputs": [],
   "source": []
  }
 ],
 "metadata": {
  "kernelspec": {
   "display_name": "Python 3 (ipykernel)",
   "language": "python",
   "name": "python3"
  },
  "language_info": {
   "codemirror_mode": {
    "name": "ipython",
    "version": 3
   },
   "file_extension": ".py",
   "mimetype": "text/x-python",
   "name": "python",
   "nbconvert_exporter": "python",
   "pygments_lexer": "ipython3",
   "version": "3.9.12"
  }
 },
 "nbformat": 4,
 "nbformat_minor": 5
}
